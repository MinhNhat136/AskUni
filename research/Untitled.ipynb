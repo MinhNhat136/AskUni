{
 "cells": [
  {
   "cell_type": "code",
   "execution_count": 1,
   "id": "8f01e2e0-838b-4cfd-9e0f-9213cb291195",
   "metadata": {},
   "outputs": [],
   "source": [
    "import os\n",
    "import glob\n",
    "from dotenv import load_dotenv\n",
    "import json\n",
    "import gradio as gr\n",
    "from openai import OpenAI"
   ]
  },
  {
   "cell_type": "code",
   "execution_count": 2,
   "id": "d02307d9-cae8-4944-84b4-58550f0ec3dd",
   "metadata": {},
   "outputs": [],
   "source": [
    "from langchain.document_loaders import DirectoryLoader, TextLoader\n",
    "from langchain.text_splitter import RecursiveCharacterTextSplitter\n",
    "from langchain_openai import OpenAIEmbeddings, ChatOpenAI\n",
    "from langchain_chroma import Chroma\n",
    "from langchain_core.output_parsers import StrOutputParser\n",
    "\n",
    "import numpy as np\n",
    "from sklearn.manifold import TSNE\n",
    "import plotly.graph_objects as go"
   ]
  },
  {
   "cell_type": "code",
   "execution_count": 3,
   "id": "9d51be20-92a4-4988-befa-6b4bd321cb2d",
   "metadata": {},
   "outputs": [],
   "source": [
    "MODEL_GPT = \"gpt-4o\"\n",
    "MODEL_QWEN3b = 'qwen2.5:3b'\n",
    "MODEL_QWEN7b = 'qwen2.5'\n",
    "MODEL_LLAMA  = 'llama3.2'\n",
    "db_name = \"..\\\\vector_db\""
   ]
  },
  {
   "cell_type": "code",
   "execution_count": 4,
   "id": "e3b34d66-4e53-4648-9a10-2432f4a44581",
   "metadata": {},
   "outputs": [],
   "source": [
    "load_dotenv()\n",
    "os.environ['OPENAI_API_KEY'] = os.getenv('OPENAI_API_KEY')\n",
    "openai = OpenAI()"
   ]
  },
  {
   "cell_type": "code",
   "execution_count": null,
   "id": "5413f7a5",
   "metadata": {},
   "outputs": [],
   "source": [
    "import fitz\n",
    "\n",
    "def pdf_to_md(pdf_path, output_md_path):\n",
    "    \"\"\"\n",
    "    Converts a PDF file to a Markdown (.md) file.\n",
    "\n",
    "    Args:\n",
    "        pdf_path (str): Path to the input PDF file.\n",
    "        output_md_path (str): Path to the output Markdown file.\n",
    "    \"\"\"\n",
    "    header = (\"CHƯƠNG\", \"1.\", \"2.\", \"3.\", \"4.\", \"5.\", \"6.\", \"7.\", \"8.\", \"9.\")#, \"a)\", \"b)\", \"c)\", \"d)\", \"đ)\", \"e)\")\n",
    "    try:\n",
    "        pdf_document = fitz.open(pdf_path)\n",
    "\n",
    "        with open(output_md_path, 'w', encoding='utf-8') as md_file:\n",
    "            for page_number in range(len(pdf_document)):\n",
    "                page = pdf_document.load_page(page_number)  # Load page\n",
    "                text = page.get_text(\"text\")  # Extract text\n",
    "                lines = text.split('\\n')\n",
    "\n",
    "                paragraph = []\n",
    "                prev_line = \"start\"\n",
    "                for i in range(len(lines)):\n",
    "                    line = lines[i].strip()\n",
    "                    if line == \"\" and prev_line == \"\":\n",
    "                        continue\n",
    "                    elif line == \"\" and prev_line != \"\":\n",
    "                        paragraph.append(line)\n",
    "                    elif line.startswith(header):\n",
    "                        paragraph.append(\"\")\n",
    "                        paragraph.append(line)\n",
    "                    else:\n",
    "                        paragraph.append(line)\n",
    "                    prev_line = line\n",
    "\n",
    "                text = \"\\n\".join(paragraph)\n",
    "\n",
    "                md_file.write(text)\n",
    "                md_file.write(\"\\n\\n---\\n\\n\")  \n",
    "\n",
    "        print(f\"Markdown file created at: {output_md_path}\")\n",
    "\n",
    "    except Exception as e:\n",
    "        print(f\"An error occurred: {e}\")\n",
    "\n",
    "pdf_path = \"../knowledge-base/document/qcdt_2023_upload.pdf\" \n",
    "output_md_path = \"../knowledge-base/document/qcdt_2023_upload.md\"  \n",
    "\n",
    "pdf_to_md(pdf_path, output_md_path)\n"
   ]
  },
  {
   "cell_type": "code",
   "execution_count": 5,
   "id": "cf944c2d-e84b-45ae-8971-f5d4f6229b1a",
   "metadata": {},
   "outputs": [],
   "source": [
    "folders = glob.glob(\"../knowledge-base/*\")\n",
    "\n",
    "text_loader_kwargs = {'encoding': 'utf-8'}\n",
    "\n",
    "documents = []\n",
    "for folder in folders:\n",
    "    doc_type = os.path.basename(folder)\n",
    "    loader = DirectoryLoader(folder, glob=\"**/*.md\", loader_cls=TextLoader, loader_kwargs=text_loader_kwargs)\n",
    "    folder_docs = loader.load()\n",
    "    for doc in folder_docs:\n",
    "        doc.metadata[\"doc_type\"] = doc_type\n",
    "        documents.append(doc)"
   ]
  },
  {
   "cell_type": "code",
   "execution_count": 6,
   "id": "53331a54-63a5-447f-ba0d-c62961dde223",
   "metadata": {},
   "outputs": [],
   "source": [
    "text_splitter = RecursiveCharacterTextSplitter(chunk_size=1000, chunk_overlap=200)\n",
    "chunks = text_splitter.split_documents(documents)\n"
   ]
  },
  {
   "cell_type": "code",
   "execution_count": 7,
   "id": "e4db869a-325c-44f5-9459-9162e5b1d91d",
   "metadata": {},
   "outputs": [],
   "source": [
    "embeddings = OpenAIEmbeddings()"
   ]
  },
  {
   "cell_type": "code",
   "execution_count": 8,
   "id": "624a050f",
   "metadata": {},
   "outputs": [],
   "source": [
    "import pandas as pd\n",
    "df = pd.DataFrame([d.page_content for d in chunks], columns=[\"text\"])"
   ]
  },
  {
   "cell_type": "code",
   "execution_count": 9,
   "id": "7dd98821-36eb-4321-81d4-250aa0e434f1",
   "metadata": {},
   "outputs": [],
   "source": [
    "if os.path.exists(db_name):\n",
    "    Chroma(persist_directory=db_name, embedding_function=embeddings).delete_collection()"
   ]
  },
  {
   "cell_type": "code",
   "execution_count": 10,
   "id": "c028a60c",
   "metadata": {},
   "outputs": [],
   "source": [
    "import string\n",
    "from collections import defaultdict\n",
    "import math\n",
    "\n",
    "def preprocess(text):\n",
    "    text = text.lower()\n",
    "    text = text.translate(str.maketrans('', '', string.punctuation))\n",
    "    return text.split()\n",
    "\n",
    "def build_inverted_index(documents):\n",
    "    inverted_index = defaultdict(list)\n",
    "    for doc_id, doc in enumerate(documents):\n",
    "        words = preprocess(doc)\n",
    "        for word in set(words):  \n",
    "            inverted_index[word].append(doc_id)\n",
    "    return inverted_index\n",
    "\n",
    "def compute_tf_idf(documents, inverted_index):\n",
    "    tf_idf = defaultdict(lambda: defaultdict(float))\n",
    "    total_documents = len(documents)\n",
    "    \n",
    "    for doc_id, doc in enumerate(documents):\n",
    "        words = preprocess(doc)\n",
    "        word_count = len(words)\n",
    "        word_freq = defaultdict(int)\n",
    "        for word in words:\n",
    "            word_freq[word] += 1\n",
    "        \n",
    "        for word, count in word_freq.items():\n",
    "            tf = count / word_count\n",
    "            idf = math.log(total_documents / (1 + len(inverted_index[word])))  \n",
    "            tf_idf[doc_id][word] = tf * idf\n",
    "    return tf_idf\n",
    "\n",
    "def search(query, inverted_index, tf_idf, documents):\n",
    "    query_words = preprocess(query)\n",
    "    doc_scores = defaultdict(float)\n",
    "    \n",
    "    for word in query_words:\n",
    "        if word in inverted_index:\n",
    "            for doc_id in inverted_index[word]:\n",
    "                doc_scores[doc_id] += tf_idf[doc_id].get(word, 0)\n",
    "    \n",
    "    sorted_docs = sorted(doc_scores.items(), key=lambda x: x[1], reverse=True)\n",
    "    \n",
    "    return [(doc_id, documents[doc_id], score) for doc_id, score in sorted_docs]\n"
   ]
  },
  {
   "cell_type": "code",
   "execution_count": 11,
   "id": "89d982d3",
   "metadata": {},
   "outputs": [],
   "source": [
    "documents_search = [doc.page_content for doc in chunks]"
   ]
  },
  {
   "cell_type": "code",
   "execution_count": 12,
   "id": "5efff0c9-b965-4ed9-8d86-5b6f79868ec0",
   "metadata": {},
   "outputs": [
    {
     "name": "stdout",
     "output_type": "stream",
     "text": [
      "Vectorstore: 118 documents\n"
     ]
    }
   ],
   "source": [
    "vectorstore = Chroma.from_documents(documents=chunks, embedding=embeddings, persist_directory=db_name)\n",
    "print(f\"Vectorstore: {vectorstore._collection.count()} documents\")"
   ]
  },
  {
   "cell_type": "code",
   "execution_count": 13,
   "id": "674ac9f1-1ea6-4c5b-9e3a-08e848c5679a",
   "metadata": {},
   "outputs": [
    {
     "name": "stdout",
     "output_type": "stream",
     "text": [
      "The vectors have 1,536 dimensions\n"
     ]
    }
   ],
   "source": [
    "collection = vectorstore._collection\n",
    "sample_embedding = collection.get(limit=1, include=[\"embeddings\"])[\"embeddings\"][0]\n",
    "dimensions = len(sample_embedding)\n",
    "print(f\"The vectors have {dimensions:,} dimensions\")"
   ]
  },
  {
   "cell_type": "code",
   "execution_count": 14,
   "id": "9c4fbea2-51c8-4c50-9a0e-80f11fa29c22",
   "metadata": {},
   "outputs": [],
   "source": [
    "result = collection.get(include=['embeddings', 'documents', 'metadatas'])\n",
    "vectors = np.array(result['embeddings'])\n",
    "documents = result['documents']\n",
    "doc_types = [metadata['doc_type'] for metadata in result['metadatas']]\n",
    "colors = [['blue', 'green'][['document', 'question answer'].index(t)] for t in doc_types]"
   ]
  },
  {
   "cell_type": "code",
   "execution_count": 15,
   "id": "90c60853-bcae-4768-9745-6162dab5893c",
   "metadata": {},
   "outputs": [
    {
     "data": {
      "application/vnd.plotly.v1+json": {
       "config": {
        "plotlyServerURL": "https://plot.ly"
       },
       "data": [
        {
         "hoverinfo": "text",
         "marker": {
          "color": [
           "blue",
           "blue",
           "blue",
           "blue",
           "blue",
           "blue",
           "blue",
           "blue",
           "blue",
           "blue",
           "blue",
           "blue",
           "blue",
           "blue",
           "blue",
           "blue",
           "blue",
           "blue",
           "blue",
           "blue",
           "blue",
           "blue",
           "blue",
           "blue",
           "blue",
           "blue",
           "blue",
           "blue",
           "blue",
           "blue",
           "blue",
           "blue",
           "blue",
           "blue",
           "blue",
           "blue",
           "blue",
           "blue",
           "blue",
           "blue",
           "blue",
           "blue",
           "blue",
           "blue",
           "blue",
           "blue",
           "blue",
           "blue",
           "blue",
           "blue",
           "blue",
           "blue",
           "blue",
           "blue",
           "blue",
           "blue",
           "blue",
           "blue",
           "blue",
           "blue",
           "blue",
           "blue",
           "blue",
           "blue",
           "blue",
           "blue",
           "blue",
           "blue",
           "blue",
           "blue",
           "blue",
           "blue",
           "blue",
           "blue",
           "blue",
           "blue",
           "blue",
           "blue",
           "blue",
           "blue",
           "blue",
           "blue",
           "blue",
           "blue",
           "blue",
           "blue",
           "blue",
           "blue",
           "blue",
           "blue",
           "blue",
           "blue",
           "blue",
           "blue",
           "blue",
           "blue",
           "blue",
           "blue",
           "blue",
           "green",
           "green",
           "green",
           "green",
           "green",
           "green",
           "green",
           "green",
           "green",
           "green",
           "green",
           "green",
           "green",
           "green",
           "green",
           "green",
           "green",
           "green",
           "green"
          ],
          "opacity": 0.8,
          "size": 5
         },
         "mode": "markers",
         "text": [
          "Type: document<br>Text: **BỘ** **GIÁO** **DỤC** **VÀ** **ĐÀO** **TẠO** **ĐẠI** **HỌC**\n**BÁCH** **KHOA** **HÀ** **NỘI**\n\n**Q...",
          "Type: document<br>Text: CHƯƠNG I NHỮNG QUY ĐỊNH\nCHUNG..................................................................1\nĐiề...",
          "Type: document<br>Text: lũy...................................................6 Điều 8. Chuyển\ncơ sở đào tạo\nkhác..............",
          "Type: document<br>Text: 14. Đăng ký tốt nghiệp đại\nhọc.........................................................................",
          "Type: document<br>Text: Điều 21. Đăng ký học tập chương trình kỹ\nsư............................................................",
          "Type: document<br>Text: sĩ.........................................................17 Điều 28.\nHọc bổ sung, miễn học và công...",
          "Type: document<br>Text: Điều 35. Gia hạn thời gian học tập, thôi\nhọc...........................................................",
          "Type: document<br>Text: ii...",
          "Type: document<br>Text: Điều 38. Tiểu luận tổng quan và chuyên đề tiến sĩ\n.....................................................",
          "Type: document<br>Text: cứu..............................27 CHƯƠNG VI TỔ CHỨC THỰC\nHIỆN........................................",
          "Type: document<br>Text: BỘ GIÁO DỤC VÀ ĐÀO TẠO\n\n**ĐẠI** **HỌC** **BÁCH** **KHOA** **HÀ** **NỘI**\n\n**CỘNG** **HÒA** **XÃ** **...",
          "Type: document<br>Text: 2\\. Quy chế này áp dụng cho sinh viên đại học, học viên của chương\ntrình thạc sĩ và nghiên cứu sinh ...",
          "Type: document<br>Text: 1\\. Ngành đào tạo (sau đây gọi tắt là ngành) là một lĩnh vực chuyên\nmôn rộng, có mã số trong Danh mụ...",
          "Type: document<br>Text: 2 Quy chế tuyển sinh và đào tạo trình độ thạc sĩ, ban hành theo Thông\ntư số 23/2021/TT-BGDĐT ngày 30...",
          "Type: document<br>Text: 4 Danh mục thống kê ngành đào tạo của giáo dục đại học ban hành theo\nThông tư số 09/2022/TT-BGDĐT ng...",
          "Type: document<br>Text: 4\\. Chương trình ELITECH (từ viết tắt của cụm từ Elite Technology\nProgram) là CTĐT chất lượng cao (t...",
          "Type: document<br>Text: 5\\. Thời gian và khối lượng học tập chuẩn đối với các CTĐT theo hình\nthức chính quy không kể các môn...",
          "Type: document<br>Text: 6 Chương trình đào tạo cử nhân-kỹ sư tích hợp là chương trình được\nthiết kế một cách tổng thể, liên ...",
          "Type: document<br>Text: 2\\. Lịch đăng ký học tập, thời khóa biểu, lịch thi và kế hoạch xét\ncông nhận tốt nghiệp trong năm họ...",
          "Type: document<br>Text: b\\) Đối với sinh viên học liên thông đã được miễn trừ khối lượng tín\nchỉ tích lũy, thời gian thiết k...",
          "Type: document<br>Text: d\\) Đối với người học các CTĐT đại học và thuộc diện đối tượng ưu tiên\ntheo quy định tại Quy chế tuy...",
          "Type: document<br>Text: 2\\. Học phần là đơn vị cấu thành chương trình học tập và được thực\nhiện trọn vẹn trong một học kỳ. M...",
          "Type: document<br>Text: 5\\. Học phần tương đương và học phần thay thế\n\na\\) Người học được tùy chọn học một học phần tương đư...",
          "Type: document<br>Text: 2\\. Điểm quá trình được đánh giá qua thi giữa kỳ, kiểm tra thường kỳ,\nkết hợp thi giữa kỳ và kiểm tr...",
          "Type: document<br>Text: 4\\. Hình thức đánh giá trực tuyến được áp dụng khi đảm bảo trung thực,\ncông bằng và khách quan như đ...",
          "Type: document<br>Text: ||\n||\n||\n||\n||\n\n7\\. Người học có thể đăng ký học lại học phần đã có điểm đạt để cải\nthiện điểm trung...",
          "Type: document<br>Text: **Điều** **6.** **Hoãn** **thi,** **miễn** **thi,** **phúc** **tra**\n**và** **khiếu** **nại** **điểm...",
          "Type: document<br>Text: 3\\. Người học không dự thi giữa kỳ do bị ốm, tai nạn hoặc vì lý do\nchính đáng được giảng viên bố trí...",
          "Type: document<br>Text: 1\\. Số TC tích lũy là tổng số TC của các học phần có điểm đạt kể từ\nđầu khóa kể cả các học phần được...",
          "Type: document<br>Text: 2\\. Học viên thạc sĩ không thể tiếp tục học tập tại ĐHBK Hà Nội vì lý\ndo chuyển nơi cư trú hoặc chuy...",
          "Type: document<br>Text: **Điều** **9.** **Học** **phí**\n\n1\\. Người học có nghĩa vụ nộp học phí đầy đủ và đúng thời hạn theo ...",
          "Type: document<br>Text: 4\\. Sinh viên, học viên có đơn đề nghị thôi học, nghỉ học tạm thời\nhoặc chuyển cơ sở đào tạo trong k...",
          "Type: document<br>Text: a\\) Đăng ký học phần: sinh viên chọn đăng ký những học phần dự tính sẽ\nhọc trong học kỳ tiếp. Sinh v...",
          "Type: document<br>Text: 2\\. Số lượng TC đăng ký:\n\na\\) Sinh viên không thuộc diện cảnh báo học tập theo quy định tại\nkhoản 1 ...",
          "Type: document<br>Text: 4\\. Đối với học phần có giờ lên lớp, chỉ mở lớp khi có tối thiểu 20\nsinh viên đăng ký học. Các trườn...",
          "Type: document<br>Text: 1\\. Kết quả học tập của người học đã tích lũy từ một trình độ đào tạo\nkhác, một CTĐT khác hoặc từ mộ...",
          "Type: document<br>Text: 9\n\nCTĐT theo hình thức VLVH tại đơn vị liên kết, việc đánh giá ĐATN được\nphép thực hiện tại đơn vị l...",
          "Type: document<br>Text: 1\\. Kết thúc mỗi học kỳ, sinh viên tham gia khảo sát lấy ý kiến phản\nhồi về các điều kiện bảo đảm ch...",
          "Type: document<br>Text: a\\) Số TC tích lũy (số TCTL).\n\nb\\) Tổng số TC của các học phần đã học nhưng chưa đạt từ đầu khóa (số...",
          "Type: document<br>Text: **Điều** **13.** **Đồ** **án/khóa** **luận** **tốt** **nghiệp**\n**đại** **học**\n\nCác học phần tốt ng...",
          "Type: document<br>Text: 3\\. Kết quả ĐATN được đánh giá như sau:\n\na\\) Điểm quá trình của ĐATN được tính bằng trung bình cộng ...",
          "Type: document<br>Text: e\\) Các điểm của người hướng dẫn, phản biện và thành viên hội đồng\nđánh giá ĐATN được phép cho lẻ tớ...",
          "Type: document<br>Text: b\\) Đạt chuẩn ngoại ngữ đầu ra.\n\nc\\) Điểm trung bình tích lũy toàn khóa (tính theo các học phần đăng...",
          "Type: document<br>Text: 6\\. Sinh viên không tốt nghiệp được quyền đề nghị cấp chứng nhận với\ncác học phần đã tích lũy trong ...",
          "Type: document<br>Text: b\\) Sinh viên bị Hội đồng kỷ luật của ĐHBK Hà Nội đề nghị áp dụng mức\nkỷ luật từ cảnh cáo trở lên.\n\n...",
          "Type: document<br>Text: c\\) Thời gian nghỉ học tạm thời do sinh viên được điều động vào lực\nlượng vũ trang (là thời gian đượ...",
          "Type: document<br>Text: 3\\. Tự nguyện thôi học: Sinh viên thấy không có đủ điều kiện hoặc\nkhông muốn tiếp tục học tại ĐHBK H...",
          "Type: document<br>Text: d\\) Không bị cảnh báo học tập hoặc bị xét thi hành kỷ luật;\n\n2\\. Không cho phép chuyển CTĐT đối với ...",
          "Type: document<br>Text: 5\\. Sinh viên từ trường khác muốn chuyển tới học tại ĐHBK Hà Nội phải\nđáp ứng điều kiện trúng tuyển ...",
          "Type: document<br>Text: 2\\. Sinh viên được đăng ký học chương trình thứ hai sớm nhất khi đã\nđược xếp trình độ năm thứ hai củ...",
          "Type: document<br>Text: 6\\. Sinh viên chỉ được xét tốt nghiệp chương trình thứ hai, nếu có đủ\nđiều kiện tốt nghiệp ở chương ...",
          "Type: document<br>Text: c\\) Áp dụng cảnh báo học tập mức 3 đối với sinh viên có số TC nợ đọng\ntừ đầu khóa lớn hơn 24.\n\nd\\) S...",
          "Type: document<br>Text: 3\\. Buộc thôi học là hình thức áp dụng đối với những sinh viên có kết\nquả học tập rất kém, cụ thể tr...",
          "Type: document<br>Text: 15\n\n2\\. Sinh viên thi hộ hoặc nhờ người thi hộ đều bị kỷ luật ở mức đình\nchỉ học tập 01 năm đối với ...",
          "Type: document<br>Text: 2\\. Quy trình đăng ký học tập thực hiện theo khoản 1 Điều 10 của Quy\nchế này.\n\n3\\. Trong quá trình h...",
          "Type: document<br>Text: 4\\. Việc đánh giá kết quả thực hiện ĐATN KS được thực hiện theo khoản\n3 Điều 13 của Quy chế này. Đồ ...",
          "Type: document<br>Text: b\\) Đã nộp đồ án tốt nghiệp cho thư viện theo quy cách của bản đồ án\ndo ĐHBK Hà Nội quy định.\n\nc\\) Đ...",
          "Type: document<br>Text: **Điều** **24.** **Điểm** **trung** **bình** **toàn** **khóa** **và**\n**hạng** **tốt** **nghiệp** **...",
          "Type: document<br>Text: b\\) Học viên bị Hội đồng kỷ luật của ĐHBK Hà Nội đề nghị áp dụng mức\nkỷ luật từ cảnh cáo trở lên.\n\n*...",
          "Type: document<br>Text: 17\n\nvượt quá 2 học kỳ chính; thời gian nghỉ trên 2 học kỳ được tính vào\nthời gian học chậm tiến độ.\n...",
          "Type: document<br>Text: 6\\. Học viên thấy không có đủ điều kiện hoặc không muốn tiếp tục học\ntại ĐHBK Hà Nội có thể làm đơn ...",
          "Type: document<br>Text: **CHƯƠNG** **IV** **ĐÀO** **TẠO** **THẠC** **SĨ**\n\n**Điều** **27.** **Đăng** **ký** **học** **tập** ...",
          "Type: document<br>Text: 18\n\n3\\. Đối với các học phần được giảng dạy trên lớp, quy mô lớp học phần\ntối thiểu là 20 học viên. ...",
          "Type: document<br>Text: b\\) Danh mục các học phần bổ sung và số TC được xác định khi xét hồ sơ\nđăng ký dự tuyển dựa trên việ...",
          "Type: document<br>Text: c\\) Học viên học chương trình tích hợp Cử nhân - Thạc sĩ khoa học của\nĐHBK Hà Nội được đăng ký học t...",
          "Type: document<br>Text: 19\n\n**Điều** **29.** **Đăng** **ký** **đề** **tài** **luận** **văn**\n**thạc** **sĩ**\n\n1\\. Đăng ký đề...",
          "Type: document<br>Text: **Điều** **30.** **Điều** **kiện** **được** **bảo** **vệ** **luận**\n**văn** **thạc** **sĩ**\n\nHọc viê...",
          "Type: document<br>Text: **Điều** **31.** **Điểm** **luận** **văn** **thạc** **sĩ**\n\n1\\. Điểm luận văn thạc sĩ là điểm bảo vệ...",
          "Type: document<br>Text: 20\n\nnghiệm thu, hoặc đề tài nghiên cứu đã được nghiệm thu do người hướng\ndẫn chủ trì và học viên là ...",
          "Type: document<br>Text: 2\\. Trong trường hợp luận văn bảo vệ lần thứ hai vẫn không đạt yêu\ncầu, nếu học viên có nguyện vọng ...",
          "Type: document<br>Text: 1\\. Học viên có đủ các điều kiện sau đây thì được xét công nhận tốt\nnghiệp:\n\na\\) Luận văn đạt yêu cầ...",
          "Type: document<br>Text: ||\n||\n||\n||\n\n3\\. Học viên đạt đủ điều kiện tốt nghiệp được Giám đốc ĐHBK Hà Nội ra\nquyết định công n...",
          "Type: document<br>Text: 2\\. Học viên bị ốm hoặc tai nạn buộc phải điều trị trong thời gian\ndài, hoặc nghỉ thai sản theo quy ...",
          "Type: document<br>Text: 4\\. Học viên phải nộp đơn đề nghị trở lại học chậm nhất 1 tuần trước\nkhi bắt đầu học kỳ mới. Đối với...",
          "Type: document<br>Text: 3\\. Học viên bị buộc thôi học trong các trường hợp sau đây:\n\na\\) Học viên học chậm tiến độ quá thời ...",
          "Type: document<br>Text: 2\\. Căn cứ kế hoạch học tập chuẩn toàn khóa của CTĐT tiến sĩ, NCS xây\ndựng kế hoạch chi tiết theo từ...",
          "Type: document<br>Text: 1\\. Các học phần bổ sung nhằm hỗ trợ NCS có đủ kiến thức, trình độ\nchuyên môn để thực hiện đề tài ng...",
          "Type: document<br>Text: a\\) Mỗi NCS phải hoàn thành tối thiểu 8 TC tương ứng 3-4 học phần tiến\nsĩ.\n\nb\\) NCS phải thực hiện q...",
          "Type: document<br>Text: **Điều** **38.** **Tiểu** **luận** **tổng** **quan** **và** **chuyên**\n**đề** **tiến** **sĩ**\n\n1\\. T...",
          "Type: document<br>Text: b\\) NCS phải hoàn thành Tiểu luận tổng quan với kết quả đạt yêu cầu\ntrong vòng 12 tháng kể từ khi có...",
          "Type: document<br>Text: b\\) NCS phải đăng ký thực hiện các chuyên đề tiến sĩ. Tên của chuyên\nđề do NCS đề xuất và phải được ...",
          "Type: document<br>Text: 2\\. Quyển thuyết minh Luận án tiến sĩ phải đáp ứng quy định về hình\nthức, cách trình bày luận án; số...",
          "Type: document<br>Text: c\\) Tuân thủ các quy định khác của Luật sở hữu trí tuệ.\n\n**Điều** **40.** **Điều** **kiện** **được**...",
          "Type: document<br>Text: c\\) Tổng điểm của tất cả các công trình nghiên cứu trong khoản b mục 1\ncủa Điều này phải đạt từ 2,0 ...",
          "Type: document<br>Text: 2\\. Điều kiện để NCS được bảo vệ luận án ở Hội đồng đánh giá luận án\ncấp Đại học (bảo vệ luận án cấp...",
          "Type: document<br>Text: b\\) Hội đồng đánh giá luận án cấp cơ sở (sau đây gọi tắt là hội đồng\ncấp cơ sở) do Hiệu trưởng trườn...",
          "Type: document<br>Text: đ) Trong vòng 20 ngày sau khi kết thúc đánh giá luận án cấp cơ sở, NCS\nphải hoàn thành đầy đủ việc s...",
          "Type: document<br>Text: b\\) Hội đồng đánh giá luận án cấp Đại học do Giám đốc ĐHBK Hà Nội ra\nquyết định thành lập có 7 thành...",
          "Type: document<br>Text: 26\n\nd\\) Luận án được đánh giá bằng hình thức bỏ phiếu (tán thành hoặc\nkhông tán thành), luận án khôn...",
          "Type: document<br>Text: **Điều** **42.** **Đánh** **giá** **lại** **luận** **án** **tiến**\n**sĩ**\n\n1\\. Trong trường hợp Hội ...",
          "Type: document<br>Text: 3\\. Trong trường hợp luận án bảo vệ lần thứ hai vẫn không đạt yêu cầu,\nĐHBK Hà Nội không tổ chức bảo...",
          "Type: document<br>Text: d\\) Đã nộp Thư viện Quốc gia Việt Nam và Thư viện Tạ Quang Bửu của\nĐHBK Hà Nội (cả bản in và file pd...",
          "Type: document<br>Text: 27\n\nbằng tiến sĩ cho nghiên cứu sinh được thực hiện trong thời hạn 30 ngày\nlàm việc kể từ ngày quyết...",
          "Type: document<br>Text: 4\\. Giám đốc ĐHBK Hà Nội xem xét, quyết định cho phép NCS được rút\nngắn thời gian học tập tối đa khô...",
          "Type: document<br>Text: **Điều** **45.** **Công** **nhận** **và** **chuyển** **đổi** **kết**\n**quả** **học** **tập,** **nghi...",
          "Type: document<br>Text: 28\n\nphù hợp với nội dung, yêu cầu của CTĐT, được thực hiện trên cơ sở đề\nxuất của Tiểu ban xét tuyển...",
          "Type: document<br>Text: 2\\. Đối với các khoá tuyển sinh có quyết định công nhận NCS trong\nkhoảng thời gian từ ngày 15 tháng ...",
          "Type: document<br>Text: 3\\. Đối với các khoá tuyển sinh đã có quyết định công nhận NCS trước\nngày 18 tháng 5 năm 2017, ĐHBK ...",
          "Type: document<br>Text: 29\n\nb\\) Khoản 2 Điều 18 (về việc học cùng lúc hai chương trình) được áp\ndụng với các khóa tuyển sinh...",
          "Type: question answer<br>Text: Ban Công tác Sinh viên sẽ tiếp nhận và giải đáp thắc mắc của sinh viên tại địa chỉ nào?: Chỉ tại các...",
          "Type: question answer<br>Text: Một môn học có trọng số KT(0,4)-T(0,6) nghĩa là môn học đó có *: Trọng số của điểm kiểm tra giữa kỳ ...",
          "Type: question answer<br>Text: Phương pháp quản lý chi tiêu 50-20-30 với sinh viên?: 50% Nhu cầu thiết yếu, 20% Tiết kiệm, 30% Sở ...",
          "Type: question answer<br>Text: Sinh viên bắt đầu được xem xét chuyển ngành từ khi nào?: Sau khi hoàn thành năm thứ nhất\n\nTrong các...",
          "Type: question answer<br>Text: Sinh viên sẽ bị xem xét buộc thôi học nếu?: Bị cảnh cáo học tập mức 3 lần thứ hai\n\nĐiều kiện xét tuy...",
          "Type: question answer<br>Text: Khi nào sinh viên phải hoàn toàn tự đăng ký lớp?: Bắt đầu từ học kỳ thứ 3\n\nCách thức đánh giá điểm r...",
          "Type: question answer<br>Text: Các bước đăng ký mới hoặc reset lại mật khẩu bị mất là: *: Truy cập ctt.hust.edu.vn – Chọn “Đăng nhậ...",
          "Type: question answer<br>Text: Đối tượng được xét học bổng Trần Đại Nghĩa là những ai: *: Sinh viên có hoàn cảnh khó khăn, có nghị ...",
          "Type: question answer<br>Text: Điều kiện được xét học bổng loại A là gì: *: GPA từ 3.6, điểm rèn luyện từ 90.\n\nTheo định hướng cu...",
          "Type: question answer<br>Text: Điểm rèn luyện được xếp loại theo cách nào dưới đây?: Xuất sắc, Tốt, Khá, Trung bình, Yếu, Kém\n\nĐiểm...",
          "Type: question answer<br>Text: Một môn học có trọng số KT(0.3)-T(0.7) và có điểm thi giữa kỳ (đã cộng) là 9đ, điểm thi cuối kỳ là 8...",
          "Type: question answer<br>Text: Ưu điểm nào sau đây là đặc trưng của chương trình đào tạo theo tín chỉ?: Sinh viên có thể tự lập kế ...",
          "Type: question answer<br>Text: Điều kiện cần để đạt học bổng loại A là gì?: GPA≥3,6 ĐRL≥90\n\nĐịa chỉ bạn cần đến để được hỗ t...",
          "Type: question answer<br>Text: Sinh viên được xếp hạng trình độ năm thứ nhất căn cứ số tín chỉ tích lũy như thế nào?: Trình độ năm ...",
          "Type: question answer<br>Text: Học đại học có khác gì so với THPT: Cần có kỹ năng làm việc độc lập: Cần có khả năng tự đọc - tự học...",
          "Type: question answer<br>Text: Mục chấm điểm rèn luyện có 2 cột điểm SV chấm và điểm GV chấm, vậy điểm chốt tính theo điểm nào?: Cộ...",
          "Type: question answer<br>Text: Các màu nhãn sách tại Trung tâm truyền thông và tri thức số là:: Màu trắng: sách đọc tại các phòng.:...",
          "Type: question answer<br>Text: Học bổng Trần Đại Nghĩa dành cho sinh viên có hoàn cảnh kinh tế khó khăn, có nghị lực vươn lên trong...",
          "Type: question answer<br>Text: Đâu là trang tra cứu OPAC:: http://libopac.hust.edu.vn/\n\nGPA và CPA có nghĩa là gì ?: GPA là điểm tr..."
         ],
         "type": "scatter3d",
         "x": [
          92.59345,
          -17.094608,
          -28.407356,
          -24.20148,
          -18.01152,
          -8.824519,
          -23.328588,
          -43.51192,
          5.347431,
          88.87958,
          83.39641,
          34.024506,
          11.288498,
          20.898891,
          37.867683,
          -20.24987,
          11.492139,
          49.246857,
          -49.003296,
          -8.553697,
          12.711019,
          -82.4724,
          -93.741325,
          -110.06757,
          -88.013245,
          -97.2931,
          -67.01707,
          -81.10609,
          9.866673,
          -60.344448,
          -2.8721128,
          1.8602,
          28.979229,
          17.301765,
          14.306731,
          65.0168,
          75.32993,
          59.737774,
          -92.088715,
          45.00249,
          -102.3502,
          38.79328,
          10.953373,
          11.594146,
          6.710702,
          26.577711,
          -34.44468,
          68.961296,
          -26.865183,
          48.31421,
          -55.032703,
          7.160826,
          -8.2790575,
          42.06509,
          -43.77803,
          -60.719566,
          -35.879513,
          20.137524,
          0.6544481,
          36.427032,
          -30.70519,
          -38.416252,
          30.202463,
          35.552,
          45.46742,
          -26.663294,
          -27.417183,
          -51.3673,
          -58.61143,
          -31.975092,
          -54.881927,
          -15.546404,
          12.247859,
          15.621554,
          -28.731762,
          -44.133186,
          -46.179073,
          -56.34276,
          11.036613,
          -30.207344,
          -23.568468,
          -4.0278664,
          -27.537706,
          -55.405556,
          -32.93458,
          38.289795,
          -41.64601,
          33.50052,
          1.9170969,
          -4.260626,
          -11.475979,
          8.614111,
          83.0309,
          -34.899235,
          84.85144,
          89.996895,
          9.824209,
          0.6794351,
          -11.444191,
          1.6752889,
          -35.564537,
          55.890434,
          47.260677,
          71.68912,
          27.15977,
          19.099728,
          78.29821,
          72.01601,
          38.53907,
          22.634033,
          69.611534,
          96.19181,
          26.550673,
          59.29523,
          -54.965378,
          -24.996967,
          58.628353,
          -78.40631
         ],
         "y": [
          -42.371777,
          -45.040115,
          -46.937786,
          42.24878,
          31.3773,
          12.983735,
          85.24074,
          57.849915,
          -56.899624,
          -4.5169473,
          -61.461754,
          -97.03306,
          -95.216446,
          -85.60731,
          9.107914,
          -114.970146,
          16.59154,
          -73.84635,
          19.051147,
          -5.633926,
          42.117504,
          45.310627,
          37.7828,
          -17.053991,
          -10.18654,
          15.20089,
          8.004215,
          -9.276578,
          6.3374095,
          65.754814,
          24.999752,
          16.357073,
          15.413066,
          43.365124,
          39.20895,
          44.731667,
          63.722794,
          -64.2627,
          -0.9791355,
          35.31432,
          18.995352,
          -85.63363,
          -91.087685,
          38.19898,
          84.93044,
          96.88693,
          40.65805,
          37.873302,
          13.555016,
          32.485348,
          4.206209,
          68.095825,
          59.75072,
          53.64055,
          60.258785,
          44.045467,
          31.48105,
          12.945742,
          80.65214,
          84.337944,
          42.392933,
          83.2609,
          47.70857,
          69.58874,
          -34.977062,
          13.95037,
          -16.231619,
          -28.496988,
          -17.127724,
          -9.290793,
          9.743343,
          56.341694,
          104.987114,
          70.00265,
          4.8616195,
          -13.199536,
          -77.79459,
          -36.90193,
          -36.479034,
          -80.712296,
          -87.12689,
          -63.29625,
          -50.63368,
          -58.45791,
          -39.66444,
          -41.897106,
          -53.941933,
          -24.46326,
          -18.289312,
          -23.885979,
          -45.21317,
          -58.748295,
          42.743996,
          -11.758992,
          62.704517,
          36.696007,
          -59.9121,
          91.48956,
          -16.871386,
          -31.258863,
          -78.55115,
          9.3130045,
          9.565837,
          -16.562328,
          -36.375435,
          -51.60211,
          -12.479224,
          0.8859455,
          -22.790798,
          -31.237238,
          -28.785517,
          -9.924081,
          -12.5055685,
          -47.970848,
          90.81465,
          -44.711872,
          -18.865435,
          -39.420673
         ],
         "z": [
          28.11235,
          -16.337875,
          -39.715126,
          -4.326711,
          13.77299,
          51.13588,
          1.6477611,
          84.61305,
          8.357845,
          59.54988,
          19.077394,
          -10.193413,
          -18.255766,
          -50.004227,
          -15.484745,
          -23.868992,
          -11.868659,
          10.525344,
          -24.258987,
          -13.382533,
          -16.708641,
          -50.704178,
          -31.344078,
          27.541332,
          35.58788,
          4.2508335,
          6.1691923,
          -0.54235756,
          108.15228,
          -16.130753,
          -45.705795,
          -71.57396,
          -60.84275,
          -82.1384,
          78.9515,
          -18.152025,
          -31.632904,
          -25.714426,
          -33.98134,
          13.926549,
          47.459953,
          52.531643,
          31.914635,
          33.44616,
          63.17076,
          11.635979,
          -83.60404,
          -53.424015,
          -93.46803,
          -92.95032,
          -67.500084,
          -79.23086,
          -52.704636,
          58.445644,
          20.721615,
          31.545692,
          46.55662,
          25.710968,
          39.1472,
          30.439001,
          -47.766865,
          -52.10227,
          -46.247795,
          -35.61485,
          10.594813,
          88.27112,
          92.99714,
          101.46298,
          78.76696,
          65.172134,
          49.63503,
          52.280884,
          38.233147,
          6.327563,
          -33.335308,
          -25.699617,
          -53.621403,
          -10.769693,
          90.795685,
          49.039986,
          73.28446,
          89.30275,
          79.642654,
          60.36057,
          52.114475,
          61.71244,
          31.55922,
          45.23628,
          26.739933,
          52.822075,
          36.82723,
          53.286037,
          40.497795,
          11.293408,
          10.050173,
          8.547735,
          -43.49883,
          -31.74419,
          -59.277668,
          -107.12189,
          -4.670668,
          42.86585,
          79.67585,
          -9.612783,
          -71.400795,
          -89.33814,
          -60.919598,
          -30.03981,
          -35.70478,
          -17.392279,
          -37.892563,
          -20.344337,
          -90.776726,
          -63.614536,
          52.226955,
          -91.22593,
          -84.0599,
          -62.283665
         ]
        }
       ],
       "layout": {
        "height": 700,
        "margin": {
         "b": 10,
         "l": 10,
         "r": 20,
         "t": 40
        },
        "scene": {
         "xaxis": {
          "title": {
           "text": "x"
          }
         },
         "yaxis": {
          "title": {
           "text": "y"
          }
         },
         "zaxis": {
          "title": {
           "text": "z"
          }
         }
        },
        "template": {
         "data": {
          "bar": [
           {
            "error_x": {
             "color": "#2a3f5f"
            },
            "error_y": {
             "color": "#2a3f5f"
            },
            "marker": {
             "line": {
              "color": "#E5ECF6",
              "width": 0.5
             },
             "pattern": {
              "fillmode": "overlay",
              "size": 10,
              "solidity": 0.2
             }
            },
            "type": "bar"
           }
          ],
          "barpolar": [
           {
            "marker": {
             "line": {
              "color": "#E5ECF6",
              "width": 0.5
             },
             "pattern": {
              "fillmode": "overlay",
              "size": 10,
              "solidity": 0.2
             }
            },
            "type": "barpolar"
           }
          ],
          "carpet": [
           {
            "aaxis": {
             "endlinecolor": "#2a3f5f",
             "gridcolor": "white",
             "linecolor": "white",
             "minorgridcolor": "white",
             "startlinecolor": "#2a3f5f"
            },
            "baxis": {
             "endlinecolor": "#2a3f5f",
             "gridcolor": "white",
             "linecolor": "white",
             "minorgridcolor": "white",
             "startlinecolor": "#2a3f5f"
            },
            "type": "carpet"
           }
          ],
          "choropleth": [
           {
            "colorbar": {
             "outlinewidth": 0,
             "ticks": ""
            },
            "type": "choropleth"
           }
          ],
          "contour": [
           {
            "colorbar": {
             "outlinewidth": 0,
             "ticks": ""
            },
            "colorscale": [
             [
              0,
              "#0d0887"
             ],
             [
              0.1111111111111111,
              "#46039f"
             ],
             [
              0.2222222222222222,
              "#7201a8"
             ],
             [
              0.3333333333333333,
              "#9c179e"
             ],
             [
              0.4444444444444444,
              "#bd3786"
             ],
             [
              0.5555555555555556,
              "#d8576b"
             ],
             [
              0.6666666666666666,
              "#ed7953"
             ],
             [
              0.7777777777777778,
              "#fb9f3a"
             ],
             [
              0.8888888888888888,
              "#fdca26"
             ],
             [
              1,
              "#f0f921"
             ]
            ],
            "type": "contour"
           }
          ],
          "contourcarpet": [
           {
            "colorbar": {
             "outlinewidth": 0,
             "ticks": ""
            },
            "type": "contourcarpet"
           }
          ],
          "heatmap": [
           {
            "colorbar": {
             "outlinewidth": 0,
             "ticks": ""
            },
            "colorscale": [
             [
              0,
              "#0d0887"
             ],
             [
              0.1111111111111111,
              "#46039f"
             ],
             [
              0.2222222222222222,
              "#7201a8"
             ],
             [
              0.3333333333333333,
              "#9c179e"
             ],
             [
              0.4444444444444444,
              "#bd3786"
             ],
             [
              0.5555555555555556,
              "#d8576b"
             ],
             [
              0.6666666666666666,
              "#ed7953"
             ],
             [
              0.7777777777777778,
              "#fb9f3a"
             ],
             [
              0.8888888888888888,
              "#fdca26"
             ],
             [
              1,
              "#f0f921"
             ]
            ],
            "type": "heatmap"
           }
          ],
          "heatmapgl": [
           {
            "colorbar": {
             "outlinewidth": 0,
             "ticks": ""
            },
            "colorscale": [
             [
              0,
              "#0d0887"
             ],
             [
              0.1111111111111111,
              "#46039f"
             ],
             [
              0.2222222222222222,
              "#7201a8"
             ],
             [
              0.3333333333333333,
              "#9c179e"
             ],
             [
              0.4444444444444444,
              "#bd3786"
             ],
             [
              0.5555555555555556,
              "#d8576b"
             ],
             [
              0.6666666666666666,
              "#ed7953"
             ],
             [
              0.7777777777777778,
              "#fb9f3a"
             ],
             [
              0.8888888888888888,
              "#fdca26"
             ],
             [
              1,
              "#f0f921"
             ]
            ],
            "type": "heatmapgl"
           }
          ],
          "histogram": [
           {
            "marker": {
             "pattern": {
              "fillmode": "overlay",
              "size": 10,
              "solidity": 0.2
             }
            },
            "type": "histogram"
           }
          ],
          "histogram2d": [
           {
            "colorbar": {
             "outlinewidth": 0,
             "ticks": ""
            },
            "colorscale": [
             [
              0,
              "#0d0887"
             ],
             [
              0.1111111111111111,
              "#46039f"
             ],
             [
              0.2222222222222222,
              "#7201a8"
             ],
             [
              0.3333333333333333,
              "#9c179e"
             ],
             [
              0.4444444444444444,
              "#bd3786"
             ],
             [
              0.5555555555555556,
              "#d8576b"
             ],
             [
              0.6666666666666666,
              "#ed7953"
             ],
             [
              0.7777777777777778,
              "#fb9f3a"
             ],
             [
              0.8888888888888888,
              "#fdca26"
             ],
             [
              1,
              "#f0f921"
             ]
            ],
            "type": "histogram2d"
           }
          ],
          "histogram2dcontour": [
           {
            "colorbar": {
             "outlinewidth": 0,
             "ticks": ""
            },
            "colorscale": [
             [
              0,
              "#0d0887"
             ],
             [
              0.1111111111111111,
              "#46039f"
             ],
             [
              0.2222222222222222,
              "#7201a8"
             ],
             [
              0.3333333333333333,
              "#9c179e"
             ],
             [
              0.4444444444444444,
              "#bd3786"
             ],
             [
              0.5555555555555556,
              "#d8576b"
             ],
             [
              0.6666666666666666,
              "#ed7953"
             ],
             [
              0.7777777777777778,
              "#fb9f3a"
             ],
             [
              0.8888888888888888,
              "#fdca26"
             ],
             [
              1,
              "#f0f921"
             ]
            ],
            "type": "histogram2dcontour"
           }
          ],
          "mesh3d": [
           {
            "colorbar": {
             "outlinewidth": 0,
             "ticks": ""
            },
            "type": "mesh3d"
           }
          ],
          "parcoords": [
           {
            "line": {
             "colorbar": {
              "outlinewidth": 0,
              "ticks": ""
             }
            },
            "type": "parcoords"
           }
          ],
          "pie": [
           {
            "automargin": true,
            "type": "pie"
           }
          ],
          "scatter": [
           {
            "fillpattern": {
             "fillmode": "overlay",
             "size": 10,
             "solidity": 0.2
            },
            "type": "scatter"
           }
          ],
          "scatter3d": [
           {
            "line": {
             "colorbar": {
              "outlinewidth": 0,
              "ticks": ""
             }
            },
            "marker": {
             "colorbar": {
              "outlinewidth": 0,
              "ticks": ""
             }
            },
            "type": "scatter3d"
           }
          ],
          "scattercarpet": [
           {
            "marker": {
             "colorbar": {
              "outlinewidth": 0,
              "ticks": ""
             }
            },
            "type": "scattercarpet"
           }
          ],
          "scattergeo": [
           {
            "marker": {
             "colorbar": {
              "outlinewidth": 0,
              "ticks": ""
             }
            },
            "type": "scattergeo"
           }
          ],
          "scattergl": [
           {
            "marker": {
             "colorbar": {
              "outlinewidth": 0,
              "ticks": ""
             }
            },
            "type": "scattergl"
           }
          ],
          "scattermapbox": [
           {
            "marker": {
             "colorbar": {
              "outlinewidth": 0,
              "ticks": ""
             }
            },
            "type": "scattermapbox"
           }
          ],
          "scatterpolar": [
           {
            "marker": {
             "colorbar": {
              "outlinewidth": 0,
              "ticks": ""
             }
            },
            "type": "scatterpolar"
           }
          ],
          "scatterpolargl": [
           {
            "marker": {
             "colorbar": {
              "outlinewidth": 0,
              "ticks": ""
             }
            },
            "type": "scatterpolargl"
           }
          ],
          "scatterternary": [
           {
            "marker": {
             "colorbar": {
              "outlinewidth": 0,
              "ticks": ""
             }
            },
            "type": "scatterternary"
           }
          ],
          "surface": [
           {
            "colorbar": {
             "outlinewidth": 0,
             "ticks": ""
            },
            "colorscale": [
             [
              0,
              "#0d0887"
             ],
             [
              0.1111111111111111,
              "#46039f"
             ],
             [
              0.2222222222222222,
              "#7201a8"
             ],
             [
              0.3333333333333333,
              "#9c179e"
             ],
             [
              0.4444444444444444,
              "#bd3786"
             ],
             [
              0.5555555555555556,
              "#d8576b"
             ],
             [
              0.6666666666666666,
              "#ed7953"
             ],
             [
              0.7777777777777778,
              "#fb9f3a"
             ],
             [
              0.8888888888888888,
              "#fdca26"
             ],
             [
              1,
              "#f0f921"
             ]
            ],
            "type": "surface"
           }
          ],
          "table": [
           {
            "cells": {
             "fill": {
              "color": "#EBF0F8"
             },
             "line": {
              "color": "white"
             }
            },
            "header": {
             "fill": {
              "color": "#C8D4E3"
             },
             "line": {
              "color": "white"
             }
            },
            "type": "table"
           }
          ]
         },
         "layout": {
          "annotationdefaults": {
           "arrowcolor": "#2a3f5f",
           "arrowhead": 0,
           "arrowwidth": 1
          },
          "autotypenumbers": "strict",
          "coloraxis": {
           "colorbar": {
            "outlinewidth": 0,
            "ticks": ""
           }
          },
          "colorscale": {
           "diverging": [
            [
             0,
             "#8e0152"
            ],
            [
             0.1,
             "#c51b7d"
            ],
            [
             0.2,
             "#de77ae"
            ],
            [
             0.3,
             "#f1b6da"
            ],
            [
             0.4,
             "#fde0ef"
            ],
            [
             0.5,
             "#f7f7f7"
            ],
            [
             0.6,
             "#e6f5d0"
            ],
            [
             0.7,
             "#b8e186"
            ],
            [
             0.8,
             "#7fbc41"
            ],
            [
             0.9,
             "#4d9221"
            ],
            [
             1,
             "#276419"
            ]
           ],
           "sequential": [
            [
             0,
             "#0d0887"
            ],
            [
             0.1111111111111111,
             "#46039f"
            ],
            [
             0.2222222222222222,
             "#7201a8"
            ],
            [
             0.3333333333333333,
             "#9c179e"
            ],
            [
             0.4444444444444444,
             "#bd3786"
            ],
            [
             0.5555555555555556,
             "#d8576b"
            ],
            [
             0.6666666666666666,
             "#ed7953"
            ],
            [
             0.7777777777777778,
             "#fb9f3a"
            ],
            [
             0.8888888888888888,
             "#fdca26"
            ],
            [
             1,
             "#f0f921"
            ]
           ],
           "sequentialminus": [
            [
             0,
             "#0d0887"
            ],
            [
             0.1111111111111111,
             "#46039f"
            ],
            [
             0.2222222222222222,
             "#7201a8"
            ],
            [
             0.3333333333333333,
             "#9c179e"
            ],
            [
             0.4444444444444444,
             "#bd3786"
            ],
            [
             0.5555555555555556,
             "#d8576b"
            ],
            [
             0.6666666666666666,
             "#ed7953"
            ],
            [
             0.7777777777777778,
             "#fb9f3a"
            ],
            [
             0.8888888888888888,
             "#fdca26"
            ],
            [
             1,
             "#f0f921"
            ]
           ]
          },
          "colorway": [
           "#636efa",
           "#EF553B",
           "#00cc96",
           "#ab63fa",
           "#FFA15A",
           "#19d3f3",
           "#FF6692",
           "#B6E880",
           "#FF97FF",
           "#FECB52"
          ],
          "font": {
           "color": "#2a3f5f"
          },
          "geo": {
           "bgcolor": "white",
           "lakecolor": "white",
           "landcolor": "#E5ECF6",
           "showlakes": true,
           "showland": true,
           "subunitcolor": "white"
          },
          "hoverlabel": {
           "align": "left"
          },
          "hovermode": "closest",
          "mapbox": {
           "style": "light"
          },
          "paper_bgcolor": "white",
          "plot_bgcolor": "#E5ECF6",
          "polar": {
           "angularaxis": {
            "gridcolor": "white",
            "linecolor": "white",
            "ticks": ""
           },
           "bgcolor": "#E5ECF6",
           "radialaxis": {
            "gridcolor": "white",
            "linecolor": "white",
            "ticks": ""
           }
          },
          "scene": {
           "xaxis": {
            "backgroundcolor": "#E5ECF6",
            "gridcolor": "white",
            "gridwidth": 2,
            "linecolor": "white",
            "showbackground": true,
            "ticks": "",
            "zerolinecolor": "white"
           },
           "yaxis": {
            "backgroundcolor": "#E5ECF6",
            "gridcolor": "white",
            "gridwidth": 2,
            "linecolor": "white",
            "showbackground": true,
            "ticks": "",
            "zerolinecolor": "white"
           },
           "zaxis": {
            "backgroundcolor": "#E5ECF6",
            "gridcolor": "white",
            "gridwidth": 2,
            "linecolor": "white",
            "showbackground": true,
            "ticks": "",
            "zerolinecolor": "white"
           }
          },
          "shapedefaults": {
           "line": {
            "color": "#2a3f5f"
           }
          },
          "ternary": {
           "aaxis": {
            "gridcolor": "white",
            "linecolor": "white",
            "ticks": ""
           },
           "baxis": {
            "gridcolor": "white",
            "linecolor": "white",
            "ticks": ""
           },
           "bgcolor": "#E5ECF6",
           "caxis": {
            "gridcolor": "white",
            "linecolor": "white",
            "ticks": ""
           }
          },
          "title": {
           "x": 0.05
          },
          "xaxis": {
           "automargin": true,
           "gridcolor": "white",
           "linecolor": "white",
           "ticks": "",
           "title": {
            "standoff": 15
           },
           "zerolinecolor": "white",
           "zerolinewidth": 2
          },
          "yaxis": {
           "automargin": true,
           "gridcolor": "white",
           "linecolor": "white",
           "ticks": "",
           "title": {
            "standoff": 15
           },
           "zerolinecolor": "white",
           "zerolinewidth": 2
          }
         }
        },
        "title": {
         "text": "3D Chroma Vector Store Visualization"
        },
        "width": 900
       }
      }
     },
     "metadata": {},
     "output_type": "display_data"
    }
   ],
   "source": [
    "tsne = TSNE(n_components=3, random_state=42)\n",
    "reduced_vectors = tsne.fit_transform(vectors)\n",
    "\n",
    "# Create the 3D scatter plot\n",
    "fig = go.Figure(data=[go.Scatter3d(\n",
    "    x=reduced_vectors[:, 0],\n",
    "    y=reduced_vectors[:, 1],\n",
    "    z=reduced_vectors[:, 2],\n",
    "    mode='markers',\n",
    "    marker=dict(size=5, color=colors, opacity=0.8),\n",
    "    text=[f\"Type: {t}<br>Text: {d[:100]}...\" for t, d in zip(doc_types, documents)],\n",
    "    hoverinfo='text'\n",
    ")])\n",
    "\n",
    "fig.update_layout(\n",
    "    title='3D Chroma Vector Store Visualization',\n",
    "    scene=dict(xaxis_title='x', yaxis_title='y', zaxis_title='z'),\n",
    "    width=900,\n",
    "    height=700,\n",
    "    margin=dict(r=20, b=10, l=10, t=40)\n",
    ")\n",
    "\n",
    "fig.show()"
   ]
  },
  {
   "cell_type": "code",
   "execution_count": 16,
   "id": "b53f27fd",
   "metadata": {},
   "outputs": [],
   "source": [
    "from langchain_core.tools import tool\n",
    "from langchain.agents import initialize_agent\n",
    "\n",
    "ranking = { 0.0: \"Yếu\", 2.0: \"Trung bình\", 2.5: \"Khá\", 3.2: \"Giỏi\", 3.6: \"Xuất sắc\"}\n",
    "\n",
    "@tool\n",
    "def get_ranking(grade):\n",
    "    \"\"\"\n",
    "    Trả về xếp loại dựa vào số điểm CPA\n",
    "\n",
    "    Args:\n",
    "        grade (float): Số điểm CPA của sinh viên\n",
    "    \"\"\"\n",
    "    grade = grade.replace(\"'\", \"\\\"\")\n",
    "\n",
    "    grade = json.loads(grade).get('grade')\n",
    "    grade = float(grade)\n",
    "\n",
    "    if grade > 4 or grade < 0:\n",
    "        return \"Số điểm không hợp lệ trên thang điểm 4\"\n",
    "\n",
    "    for key in sorted(ranking.keys(), reverse= True):\n",
    "        if grade >= key:\n",
    "            return ranking[key]\n",
    "\n",
    "    return \"Xuất sắc\" \n"
   ]
  },
  {
   "cell_type": "code",
   "execution_count": 17,
   "id": "7062609e",
   "metadata": {},
   "outputs": [
    {
     "name": "stderr",
     "output_type": "stream",
     "text": [
      "C:\\Users\\HoMinhNhat\\AppData\\Local\\Temp\\ipykernel_20624\\78109912.py:16: LangChainDeprecationWarning:\n",
      "\n",
      "LangChain agents will continue to be supported, but it is recommended for new use cases to be built with LangGraph. LangGraph offers a more flexible and full-featured framework for building agents, including support for tool-calling, persistence of state, and human-in-the-loop workflows. See LangGraph documentation for more details: https://langchain-ai.github.io/langgraph/. Refer here for its pre-built ReAct agent: https://langchain-ai.github.io/langgraph/how-tos/create-react-agent/\n",
      "\n"
     ]
    }
   ],
   "source": [
    "from langchain_openai import ChatOpenAI\n",
    "llm_llama = ChatOpenAI(\n",
    "    api_key=\"ollama\",\n",
    "    model= MODEL_LLAMA,\n",
    "    base_url=\"http://localhost:11434/v1\",\n",
    ")\n",
    "\n",
    "llm_gpt = ChatOpenAI(\n",
    "    model = MODEL_GPT,\n",
    "    temperature= 0.7\n",
    ")\n",
    "\n",
    "tools = [get_ranking]\n",
    "\n",
    "llm_gpt = llm_gpt.bind_tools(tools)\n",
    "agent = initialize_agent(tools, llm_gpt, agent_type=\"zero-shot-react-description\", handle_parsing_errors=True, verbose=True)\n",
    "\n",
    "\n",
    "def handle_get_ranking_tool_call(tool_call):\n",
    "    arguments = tool_call.get('args')\n",
    "    grade = arguments.get('grade')\n",
    "    hint = f\"Lấy xếp loại của sinh viên dựa vào điểm số CPA cung cấp: {grade}\"\n",
    "    ranking = agent.run(hint)\n",
    "    return ranking\n"
   ]
  },
  {
   "cell_type": "code",
   "execution_count": 18,
   "id": "956efe21",
   "metadata": {},
   "outputs": [],
   "source": [
    "retriever = vectorstore.as_retriever()"
   ]
  },
  {
   "cell_type": "code",
   "execution_count": 19,
   "id": "1bd70325",
   "metadata": {},
   "outputs": [],
   "source": [
    "from langchain_core.runnables import RunnableParallel, RunnablePassthrough\n",
    "\n",
    "setup = RunnableParallel(context=retriever, question=RunnablePassthrough())"
   ]
  },
  {
   "cell_type": "code",
   "execution_count": 20,
   "id": "5e5c3eb1",
   "metadata": {},
   "outputs": [],
   "source": [
    "system_message =\"Bạn là một chuyên gia tư vấn về quy chế đào tạo \\\n",
    "                cho một đại học ở Việt Nam, Đại học Bách khoa Hà Nội.\""
   ]
  },
  {
   "cell_type": "code",
   "execution_count": 21,
   "id": "d2eb2c64",
   "metadata": {},
   "outputs": [],
   "source": [
    "parser = StrOutputParser()"
   ]
  },
  {
   "cell_type": "code",
   "execution_count": 22,
   "id": "809420b4",
   "metadata": {},
   "outputs": [],
   "source": [
    "from functools import reduce\n",
    "\n",
    "def chat_word_search(message, history):\n",
    "    inverted_index = build_inverted_index(documents_search)\n",
    "    tf_idf = compute_tf_idf(documents_search, inverted_index)\n",
    "\n",
    "    results = search(message, inverted_index, tf_idf, documents_search)\n",
    "\n",
    "    docs = [doc for doc_id, doc, score in results]\n",
    "    doc_st = reduce(lambda a, b: a + \" \\n\" + b, docs[0:5])\n",
    "\n",
    "    qa_prompt = f\"\"\"\n",
    "                Bạn hãy đưa ra các câu trả lời bằng Tiếng Việt.\n",
    "                Bạn cần tư vấn chính xác những gì bạn biết và trả lời \n",
    "                thành thật những nội dung trong tài liệu bạn được cung cấp phía dưới. \n",
    "                Khi nội dung được hỏi không có thông tin trong tài liệu được \n",
    "                cung cấp, hãy nói không có thông tin trong tài liệu.\n",
    "\n",
    "                Tài liệu: {doc_st}\n",
    "\n",
    "                Câu hỏi: {message}\n",
    "                \"\"\"\n",
    "    \n",
    "    messages =  [{\"role\": \"system\", \"content\": system_message}] + \\\n",
    "                history[-2:] + \\\n",
    "                [{\"role\": \"user\", \"content\": qa_prompt}]\n",
    "\n",
    "    llm_result = llm_gpt.invoke(messages)\n",
    "\n",
    "    if llm_result.tool_calls:\n",
    "        for tool_call in llm_result.tool_calls:\n",
    "            if tool_call.get('name') == 'get_ranking':\n",
    "                result = handle_get_ranking_tool_call(llm_result.tool_calls[0])\n",
    "        return result\n",
    "    \n",
    "    parsed_result = parser.invoke(llm_result)\n",
    "    return parsed_result"
   ]
  },
  {
   "cell_type": "code",
   "execution_count": 23,
   "id": "5c0a65e4-0bfb-4d4d-8b5b-4ebf52a76735",
   "metadata": {},
   "outputs": [],
   "source": [
    "def chat_vector_search(message, history):\n",
    "    setup_result = setup.invoke(message)\n",
    "\n",
    "    qa_prompt = f\"\"\"\n",
    "                Bạn hãy đưa ra các câu trả lời bằng Tiếng Việt.\n",
    "                Bạn cần tư vấn chính xác những gì bạn biết và trả lời \n",
    "                thành thật những nội dung trong tài liệu bạn được cung cấp phía dưới. \n",
    "                Khi nội dung được hỏi không có thông tin trong tài liệu được \n",
    "                cung cấp, hãy nói không có thông tin trong tài liệu.\n",
    "\n",
    "                Tài liệu: {setup_result.get('context')}\n",
    "\n",
    "                Câu hỏi: {setup_result.get('question')}\n",
    "                \"\"\"\n",
    "    \n",
    "    if history:\n",
    "        messages = [{\"role\": \"system\", \"content\": system_message}] + \\\n",
    "                history[-2:] + \\\n",
    "                [{\"role\": \"user\", \"content\": qa_prompt}]\n",
    "    else:\n",
    "        messages = [{\"role\": \"system\", \"content\": system_message}] + \\\n",
    "                [{\"role\": \"user\", \"content\": qa_prompt}]\n",
    "\n",
    "    llm_result = llm_gpt.invoke(messages)\n",
    "\n",
    "    if llm_result.tool_calls:\n",
    "        for tool_call in llm_result.tool_calls:\n",
    "            if tool_call.get('name') == 'get_ranking':\n",
    "                result = handle_get_ranking_tool_call(llm_result.tool_calls[0])\n",
    "        return result\n",
    "    \n",
    "    parsed_result = parser.invoke(llm_result)\n",
    "    return parsed_result\n",
    "    "
   ]
  },
  {
   "cell_type": "code",
   "execution_count": null,
   "id": "93d7c9ec",
   "metadata": {},
   "outputs": [],
   "source": [
    "view = gr.ChatInterface(chat_word_search, type=\"messages\").launch(share = True)"
   ]
  },
  {
   "cell_type": "code",
   "execution_count": 24,
   "id": "6be6ecf8",
   "metadata": {},
   "outputs": [],
   "source": [
    "with open('../test/augment_QA.json', mode= 'r') as file:\n",
    "    datas = json.load(file)\n"
   ]
  },
  {
   "cell_type": "code",
   "execution_count": 35,
   "id": "9b8a4c66",
   "metadata": {},
   "outputs": [],
   "source": [
    "total_point = 0\n",
    "def chat_evaluate(message, question):\n",
    "    eval_system_prompt =\"Bạn là một giảng viên sẽ đưa ra câu hỏi và đánh \\\n",
    "                        giá câu trả lời của sinh viên về quy chế đào tạo\"\n",
    "    \n",
    "    answer_evaluate_prompt = f\"\"\"\n",
    "                Bạn sẽ đánh giá câu trả lời của sinh viên đưa ra dưới đây\n",
    "                so với đáp án được cung cấp với câu hỏi tương ứng.\n",
    "                Nếu câu trả lời giống với đáp án và trả lời bằng tiếng việt,\n",
    "                bạn sẽ cộng thêm 1 điểm vào tổng điểm cho sinh viên.\n",
    "                \n",
    "                Câu hỏi: {question['question']}\n",
    "\n",
    "                Câu trả lời đúng: {question['answer']}\n",
    "\n",
    "                Câu trả lời của sinh viên: {message}\n",
    "                \"\"\"\n",
    "    \n",
    "    messages =  [{\"role\": \"system\", \"content\": eval_system_prompt}] + \\\n",
    "                [{\"role\": \"user\", \"content\": answer_evaluate_prompt}]\n",
    "\n",
    "    llm_result = llm_llama.invoke(messages)\n",
    "    parsed_result = parser.invoke(llm_result)\n",
    "    return parsed_result\n",
    "    "
   ]
  },
  {
   "cell_type": "code",
   "execution_count": 37,
   "id": "03ca88b0",
   "metadata": {},
   "outputs": [
    {
     "data": {
      "text/plain": [
       "'Tôi sẽ đánh giá câu trả lời của sinh viên như sau:\\n\\nCâu trả lời của sinh viên: \"Sinh viên có thể liên lạc qua email ctsv@hust.edu.vn\"\\n\\nĐáp án được cung cấp: \"ctsv@hust.edu.vn\" (tương tự với câu trả lời của sinh viên nhưng thiếu từ \"Sinh viên\")\\n\\nTôi sẽ cộng thêm 1 điểm vào tổng điểm cho sinh viên vì câu trả lời của họ gần giống với đáp án được cung cấp và được viết bằng tiếng Việt. Tuy nhiên, để tránh sự nhầm lẫn về tính chính xác về danh nghĩa, tôi sẽ không bỏ một điểm nữa nếu muốn sinh viên hoàn thiện lại câu trả lời như sau: \"Sinh viên có thể liên lạc qua email ctsv@hust.edu.vn\".'"
      ]
     },
     "execution_count": 37,
     "metadata": {},
     "output_type": "execute_result"
    }
   ],
   "source": [
    "chat_evaluate(\"Sinh viên có thể liên lạc qua email ctsv@hust.edu.vn\", datas[0])"
   ]
  },
  {
   "cell_type": "code",
   "execution_count": 31,
   "id": "b2f8fe65",
   "metadata": {},
   "outputs": [
    {
     "data": {
      "text/plain": [
       "'Địa chỉ văn phòng tiếp nhận thắc mắc của sinh viên thuộc Ban Công tác Sinh viên là tại các phòng 102 – 104 tòa nhà C1.'"
      ]
     },
     "execution_count": 31,
     "metadata": {},
     "output_type": "execute_result"
    }
   ],
   "source": [
    "result"
   ]
  },
  {
   "cell_type": "code",
   "execution_count": 28,
   "id": "e3742d91",
   "metadata": {},
   "outputs": [
    {
     "data": {
      "text/plain": [
       "0"
      ]
     },
     "execution_count": 28,
     "metadata": {},
     "output_type": "execute_result"
    }
   ],
   "source": [
    "total_point"
   ]
  },
  {
   "cell_type": "code",
   "execution_count": null,
   "id": "28a288f0",
   "metadata": {},
   "outputs": [],
   "source": []
  }
 ],
 "metadata": {
  "kernelspec": {
   "display_name": "llms",
   "language": "python",
   "name": "python3"
  },
  "language_info": {
   "codemirror_mode": {
    "name": "ipython",
    "version": 3
   },
   "file_extension": ".py",
   "mimetype": "text/x-python",
   "name": "python",
   "nbconvert_exporter": "python",
   "pygments_lexer": "ipython3",
   "version": "3.11.11"
  }
 },
 "nbformat": 4,
 "nbformat_minor": 5
}
