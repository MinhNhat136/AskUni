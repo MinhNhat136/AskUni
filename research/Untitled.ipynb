{
 "cells": [
  {
   "cell_type": "code",
   "execution_count": 753,
   "id": "8f01e2e0-838b-4cfd-9e0f-9213cb291195",
   "metadata": {},
   "outputs": [],
   "source": [
    "import os\n",
    "import glob\n",
    "from dotenv import load_dotenv\n",
    "import json\n",
    "import gradio as gr\n",
    "from openai import OpenAI"
   ]
  },
  {
   "cell_type": "code",
   "execution_count": 754,
   "id": "d02307d9-cae8-4944-84b4-58550f0ec3dd",
   "metadata": {},
   "outputs": [],
   "source": [
    "from langchain.document_loaders import DirectoryLoader, TextLoader\n",
    "from langchain.text_splitter import CharacterTextSplitter\n",
    "from langchain.schema import Document\n",
    "from langchain_openai import OpenAIEmbeddings, ChatOpenAI\n",
    "from langchain_chroma import Chroma\n",
    "import numpy as np\n",
    "from sklearn.manifold import TSNE\n",
    "import plotly.graph_objects as go\n",
    "from langchain.memory import ConversationBufferMemory\n",
    "from langchain.chains import ConversationalRetrievalChain"
   ]
  },
  {
   "cell_type": "code",
   "execution_count": 755,
   "id": "9d51be20-92a4-4988-befa-6b4bd321cb2d",
   "metadata": {},
   "outputs": [],
   "source": [
    "MODEL_GPT = \"gpt-4o-mini\"\n",
    "MODEL_QWEN3b = 'qwen2.5:3b'\n",
    "db_name = \"..\\\\vector_db\""
   ]
  },
  {
   "cell_type": "code",
   "execution_count": 756,
   "id": "e3b34d66-4e53-4648-9a10-2432f4a44581",
   "metadata": {},
   "outputs": [],
   "source": [
    "load_dotenv()\n",
    "os.environ['OPENAI_API_KEY'] = os.getenv('OPENAI_API_KEY')\n",
    "openai = OpenAI()"
   ]
  },
  {
   "cell_type": "code",
   "execution_count": 757,
   "id": "cf944c2d-e84b-45ae-8971-f5d4f6229b1a",
   "metadata": {},
   "outputs": [],
   "source": [
    "folders = glob.glob(\"../knowledge-base/*\")\n",
    "\n",
    "text_loader_kwargs = {'encoding': 'utf-8'}\n",
    "\n",
    "documents = []\n",
    "for folder in folders:\n",
    "    doc_type = os.path.basename(folder)\n",
    "    loader = DirectoryLoader(folder, glob=\"**/*.md\", loader_cls=TextLoader, loader_kwargs=text_loader_kwargs)\n",
    "    folder_docs = loader.load()\n",
    "    for doc in folder_docs:\n",
    "        doc.metadata[\"doc_type\"] = doc_type\n",
    "        documents.append(doc)"
   ]
  },
  {
   "cell_type": "code",
   "execution_count": 758,
   "id": "9959e7dd-61b2-4252-8417-044c8f8b068c",
   "metadata": {},
   "outputs": [],
   "source": [
    "system_message = \\\n",
    "\"\"\"\n",
    "Bạn sẽ đưa ra các câu trả lời hoàn toàn bằng tiếng việt.\\\n",
    "Bạn là một chuyên gia tư vấn về quy chế đào tạo \\\n",
    "cho một đại học ở Việt Nam, Đại học Bách khoa Hà Nội. \\\n",
    "Bạn cần tư vấn chính xác những gì bạn biết và trả lời thành thật những nội dung trong tài liệu bạn được cung cấp. \\\n",
    "Khi nội dung được hỏi không có thông tin trong tài liệu được cung cấp, hãy nói không có thông tin trong tài liệu.\"\"\""
   ]
  },
  {
   "cell_type": "code",
   "execution_count": 759,
   "id": "53331a54-63a5-447f-ba0d-c62961dde223",
   "metadata": {},
   "outputs": [
    {
     "name": "stderr",
     "output_type": "stream",
     "text": [
      "Created a chunk of size 4436, which is longer than the specified 1000\n",
      "Created a chunk of size 1205, which is longer than the specified 1000\n"
     ]
    }
   ],
   "source": [
    "text_splitter = CharacterTextSplitter(chunk_size=1000, chunk_overlap=200)\n",
    "chunks = text_splitter.split_documents(documents)"
   ]
  },
  {
   "cell_type": "code",
   "execution_count": 760,
   "id": "e4db869a-325c-44f5-9459-9162e5b1d91d",
   "metadata": {},
   "outputs": [],
   "source": [
    "embeddings = OpenAIEmbeddings()"
   ]
  },
  {
   "cell_type": "code",
   "execution_count": 761,
   "id": "7dd98821-36eb-4321-81d4-250aa0e434f1",
   "metadata": {},
   "outputs": [],
   "source": [
    "if os.path.exists(db_name):\n",
    "    Chroma(persist_directory=db_name, embedding_function=embeddings).delete_collection()"
   ]
  },
  {
   "cell_type": "code",
   "execution_count": 762,
   "id": "5efff0c9-b965-4ed9-8d86-5b6f79868ec0",
   "metadata": {},
   "outputs": [
    {
     "name": "stdout",
     "output_type": "stream",
     "text": [
      "Vectorstore: 112 documents\n"
     ]
    }
   ],
   "source": [
    "vectorstore = Chroma.from_documents(documents=chunks, embedding=embeddings, persist_directory=db_name)\n",
    "print(f\"Vectorstore: {vectorstore._collection.count()} documents\")"
   ]
  },
  {
   "cell_type": "code",
   "execution_count": 763,
   "id": "674ac9f1-1ea6-4c5b-9e3a-08e848c5679a",
   "metadata": {},
   "outputs": [
    {
     "name": "stdout",
     "output_type": "stream",
     "text": [
      "The vectors have 1,536 dimensions\n"
     ]
    }
   ],
   "source": [
    "collection = vectorstore._collection\n",
    "sample_embedding = collection.get(limit=1, include=[\"embeddings\"])[\"embeddings\"][0]\n",
    "dimensions = len(sample_embedding)\n",
    "print(f\"The vectors have {dimensions:,} dimensions\")"
   ]
  },
  {
   "cell_type": "code",
   "execution_count": 764,
   "id": "9c4fbea2-51c8-4c50-9a0e-80f11fa29c22",
   "metadata": {},
   "outputs": [],
   "source": [
    "result = collection.get(include=['embeddings', 'documents', 'metadatas'])\n",
    "vectors = np.array(result['embeddings'])\n",
    "documents = result['documents']\n",
    "doc_types = [metadata['doc_type'] for metadata in result['metadatas']]\n",
    "colors = [['blue', 'green'][['document', 'question answer'].index(t)] for t in doc_types]"
   ]
  },
  {
   "cell_type": "code",
   "execution_count": 765,
   "id": "90c60853-bcae-4768-9745-6162dab5893c",
   "metadata": {},
   "outputs": [
    {
     "data": {
      "application/vnd.plotly.v1+json": {
       "config": {
        "plotlyServerURL": "https://plot.ly"
       },
       "data": [
        {
         "hoverinfo": "text",
         "marker": {
          "color": [
           "blue",
           "blue",
           "blue",
           "blue",
           "blue",
           "blue",
           "blue",
           "blue",
           "blue",
           "blue",
           "blue",
           "blue",
           "blue",
           "blue",
           "blue",
           "blue",
           "blue",
           "blue",
           "blue",
           "blue",
           "blue",
           "blue",
           "blue",
           "blue",
           "blue",
           "blue",
           "blue",
           "blue",
           "blue",
           "blue",
           "blue",
           "blue",
           "blue",
           "blue",
           "blue",
           "blue",
           "blue",
           "blue",
           "blue",
           "blue",
           "blue",
           "blue",
           "blue",
           "blue",
           "blue",
           "blue",
           "blue",
           "blue",
           "blue",
           "blue",
           "blue",
           "blue",
           "blue",
           "blue",
           "blue",
           "blue",
           "blue",
           "blue",
           "blue",
           "blue",
           "blue",
           "blue",
           "blue",
           "blue",
           "blue",
           "blue",
           "blue",
           "blue",
           "blue",
           "blue",
           "blue",
           "blue",
           "blue",
           "blue",
           "blue",
           "blue",
           "blue",
           "blue",
           "blue",
           "blue",
           "blue",
           "blue",
           "blue",
           "blue",
           "blue",
           "blue",
           "blue",
           "blue",
           "blue",
           "blue",
           "blue",
           "blue",
           "blue",
           "green",
           "green",
           "green",
           "green",
           "green",
           "green",
           "green",
           "green",
           "green",
           "green",
           "green",
           "green",
           "green",
           "green",
           "green",
           "green",
           "green",
           "green",
           "green"
          ],
          "opacity": 0.8,
          "size": 5
         },
         "mode": "markers",
         "text": [
          "Type: document<br>Text: **BỘ** **GIÁO** **DỤC** **VÀ** **ĐÀO** **TẠO** **ĐẠI** **HỌC**\n**BÁCH** **KHOA** **HÀ** **NỘI**\n\n**Q...",
          "Type: document<br>Text: CHƯƠNG I NHỮNG QUY ĐỊNH\nCHUNG..................................................................1\nĐiề...",
          "Type: document<br>Text: ii...",
          "Type: document<br>Text: Điều 38. Tiểu luận tổng quan và chuyên đề tiến sĩ\n.....................................................",
          "Type: document<br>Text: BỘ GIÁO DỤC VÀ ĐÀO TẠO\n\n**ĐẠI** **HỌC** **BÁCH** **KHOA** **HÀ** **NỘI**\n\n**CỘNG** **HÒA** **XÃ** **...",
          "Type: document<br>Text: 2\\. Quy chế này áp dụng cho sinh viên đại học, học viên của chương\ntrình thạc sĩ và nghiên cứu sinh ...",
          "Type: document<br>Text: 1\\. Ngành đào tạo (sau đây gọi tắt là ngành) là một lĩnh vực chuyên\nmôn rộng, có mã số trong Danh mụ...",
          "Type: document<br>Text: 2 Quy chế tuyển sinh và đào tạo trình độ thạc sĩ, ban hành theo Thông\ntư số 23/2021/TT-BGDĐT ngày 30...",
          "Type: document<br>Text: 4 Danh mục thống kê ngành đào tạo của giáo dục đại học ban hành theo\nThông tư số 09/2022/TT-BGDĐT ng...",
          "Type: document<br>Text: 4\\. Chương trình ELITECH (từ viết tắt của cụm từ Elite Technology\nProgram) là CTĐT chất lượng cao (t...",
          "Type: document<br>Text: 5\\. Thời gian và khối lượng học tập chuẩn đối với các CTĐT theo hình\nthức chính quy không kể các môn...",
          "Type: document<br>Text: 6 Chương trình đào tạo cử nhân-kỹ sư tích hợp là chương trình được\nthiết kế một cách tổng thể, liên ...",
          "Type: document<br>Text: 2\\. Lịch đăng ký học tập, thời khóa biểu, lịch thi và kế hoạch xét\ncông nhận tốt nghiệp trong năm họ...",
          "Type: document<br>Text: b\\) Đối với sinh viên học liên thông đã được miễn trừ khối lượng tín\nchỉ tích lũy, thời gian thiết k...",
          "Type: document<br>Text: d\\) Đối với người học các CTĐT đại học và thuộc diện đối tượng ưu tiên\ntheo quy định tại Quy chế tuy...",
          "Type: document<br>Text: 2\\. Học phần là đơn vị cấu thành chương trình học tập và được thực\nhiện trọn vẹn trong một học kỳ. M...",
          "Type: document<br>Text: 5\\. Học phần tương đương và học phần thay thế\n\na\\) Người học được tùy chọn học một học phần tương đư...",
          "Type: document<br>Text: 2\\. Điểm quá trình được đánh giá qua thi giữa kỳ, kiểm tra thường kỳ,\nkết hợp thi giữa kỳ và kiểm tr...",
          "Type: document<br>Text: 4\\. Hình thức đánh giá trực tuyến được áp dụng khi đảm bảo trung thực,\ncông bằng và khách quan như đ...",
          "Type: document<br>Text: ||\n||\n||\n||\n||\n\n7\\. Người học có thể đăng ký học lại học phần đã có điểm đạt để cải\nthiện điểm trung...",
          "Type: document<br>Text: **Điều** **6.** **Hoãn** **thi,** **miễn** **thi,** **phúc** **tra**\n**và** **khiếu** **nại** **điểm...",
          "Type: document<br>Text: 3\\. Người học không dự thi giữa kỳ do bị ốm, tai nạn hoặc vì lý do\nchính đáng được giảng viên bố trí...",
          "Type: document<br>Text: 1\\. Số TC tích lũy là tổng số TC của các học phần có điểm đạt kể từ\nđầu khóa kể cả các học phần được...",
          "Type: document<br>Text: 2\\. Học viên thạc sĩ không thể tiếp tục học tập tại ĐHBK Hà Nội vì lý\ndo chuyển nơi cư trú hoặc chuy...",
          "Type: document<br>Text: **Điều** **9.** **Học** **phí**\n\n1\\. Người học có nghĩa vụ nộp học phí đầy đủ và đúng thời hạn theo ...",
          "Type: document<br>Text: 4\\. Sinh viên, học viên có đơn đề nghị thôi học, nghỉ học tạm thời\nhoặc chuyển cơ sở đào tạo trong k...",
          "Type: document<br>Text: a\\) Đăng ký học phần: sinh viên chọn đăng ký những học phần dự tính sẽ\nhọc trong học kỳ tiếp. Sinh v...",
          "Type: document<br>Text: 2\\. Số lượng TC đăng ký:\n\na\\) Sinh viên không thuộc diện cảnh báo học tập theo quy định tại\nkhoản 1 ...",
          "Type: document<br>Text: 4\\. Đối với học phần có giờ lên lớp, chỉ mở lớp khi có tối thiểu 20\nsinh viên đăng ký học. Các trườn...",
          "Type: document<br>Text: 1\\. Kết quả học tập của người học đã tích lũy từ một trình độ đào tạo\nkhác, một CTĐT khác hoặc từ mộ...",
          "Type: document<br>Text: 9\n\nCTĐT theo hình thức VLVH tại đơn vị liên kết, việc đánh giá ĐATN được\nphép thực hiện tại đơn vị l...",
          "Type: document<br>Text: 1\\. Kết thúc mỗi học kỳ, sinh viên tham gia khảo sát lấy ý kiến phản\nhồi về các điều kiện bảo đảm ch...",
          "Type: document<br>Text: a\\) Số TC tích lũy (số TCTL).\n\nb\\) Tổng số TC của các học phần đã học nhưng chưa đạt từ đầu khóa (số...",
          "Type: document<br>Text: **Điều** **13.** **Đồ** **án/khóa** **luận** **tốt** **nghiệp**\n**đại** **học**\n\nCác học phần tốt ng...",
          "Type: document<br>Text: 3\\. Kết quả ĐATN được đánh giá như sau:\n\na\\) Điểm quá trình của ĐATN được tính bằng trung bình cộng ...",
          "Type: document<br>Text: e\\) Các điểm của người hướng dẫn, phản biện và thành viên hội đồng\nđánh giá ĐATN được phép cho lẻ tớ...",
          "Type: document<br>Text: b\\) Đạt chuẩn ngoại ngữ đầu ra.\n\nc\\) Điểm trung bình tích lũy toàn khóa (tính theo các học phần đăng...",
          "Type: document<br>Text: 6\\. Sinh viên không tốt nghiệp được quyền đề nghị cấp chứng nhận với\ncác học phần đã tích lũy trong ...",
          "Type: document<br>Text: b\\) Sinh viên bị Hội đồng kỷ luật của ĐHBK Hà Nội đề nghị áp dụng mức\nkỷ luật từ cảnh cáo trở lên.\n\n...",
          "Type: document<br>Text: c\\) Thời gian nghỉ học tạm thời do sinh viên được điều động vào lực\nlượng vũ trang (là thời gian đượ...",
          "Type: document<br>Text: 3\\. Tự nguyện thôi học: Sinh viên thấy không có đủ điều kiện hoặc\nkhông muốn tiếp tục học tại ĐHBK H...",
          "Type: document<br>Text: d\\) Không bị cảnh báo học tập hoặc bị xét thi hành kỷ luật;\n\n2\\. Không cho phép chuyển CTĐT đối với ...",
          "Type: document<br>Text: 5\\. Sinh viên từ trường khác muốn chuyển tới học tại ĐHBK Hà Nội phải\nđáp ứng điều kiện trúng tuyển ...",
          "Type: document<br>Text: 2\\. Sinh viên được đăng ký học chương trình thứ hai sớm nhất khi đã\nđược xếp trình độ năm thứ hai củ...",
          "Type: document<br>Text: 6\\. Sinh viên chỉ được xét tốt nghiệp chương trình thứ hai, nếu có đủ\nđiều kiện tốt nghiệp ở chương ...",
          "Type: document<br>Text: c\\) Áp dụng cảnh báo học tập mức 3 đối với sinh viên có số TC nợ đọng\ntừ đầu khóa lớn hơn 24.\n\nd\\) S...",
          "Type: document<br>Text: 3\\. Buộc thôi học là hình thức áp dụng đối với những sinh viên có kết\nquả học tập rất kém, cụ thể tr...",
          "Type: document<br>Text: 15\n\n2\\. Sinh viên thi hộ hoặc nhờ người thi hộ đều bị kỷ luật ở mức đình\nchỉ học tập 01 năm đối với ...",
          "Type: document<br>Text: 2\\. Quy trình đăng ký học tập thực hiện theo khoản 1 Điều 10 của Quy\nchế này.\n\n3\\. Trong quá trình h...",
          "Type: document<br>Text: 4\\. Việc đánh giá kết quả thực hiện ĐATN KS được thực hiện theo khoản\n3 Điều 13 của Quy chế này. Đồ ...",
          "Type: document<br>Text: b\\) Đã nộp đồ án tốt nghiệp cho thư viện theo quy cách của bản đồ án\ndo ĐHBK Hà Nội quy định.\n\nc\\) Đ...",
          "Type: document<br>Text: **Điều** **24.** **Điểm** **trung** **bình** **toàn** **khóa** **và**\n**hạng** **tốt** **nghiệp** **...",
          "Type: document<br>Text: b\\) Học viên bị Hội đồng kỷ luật của ĐHBK Hà Nội đề nghị áp dụng mức\nkỷ luật từ cảnh cáo trở lên.\n\n*...",
          "Type: document<br>Text: 17\n\nvượt quá 2 học kỳ chính; thời gian nghỉ trên 2 học kỳ được tính vào\nthời gian học chậm tiến độ.\n...",
          "Type: document<br>Text: 6\\. Học viên thấy không có đủ điều kiện hoặc không muốn tiếp tục học\ntại ĐHBK Hà Nội có thể làm đơn ...",
          "Type: document<br>Text: **CHƯƠNG** **IV** **ĐÀO** **TẠO** **THẠC** **SĨ**\n\n**Điều** **27.** **Đăng** **ký** **học** **tập** ...",
          "Type: document<br>Text: 18\n\n3\\. Đối với các học phần được giảng dạy trên lớp, quy mô lớp học phần\ntối thiểu là 20 học viên. ...",
          "Type: document<br>Text: b\\) Danh mục các học phần bổ sung và số TC được xác định khi xét hồ sơ\nđăng ký dự tuyển dựa trên việ...",
          "Type: document<br>Text: c\\) Học viên học chương trình tích hợp Cử nhân - Thạc sĩ khoa học của\nĐHBK Hà Nội được đăng ký học t...",
          "Type: document<br>Text: 19\n\n**Điều** **29.** **Đăng** **ký** **đề** **tài** **luận** **văn**\n**thạc** **sĩ**\n\n1\\. Đăng ký đề...",
          "Type: document<br>Text: **Điều** **30.** **Điều** **kiện** **được** **bảo** **vệ** **luận**\n**văn** **thạc** **sĩ**\n\nHọc viê...",
          "Type: document<br>Text: **Điều** **31.** **Điểm** **luận** **văn** **thạc** **sĩ**\n\n1\\. Điểm luận văn thạc sĩ là điểm bảo vệ...",
          "Type: document<br>Text: 20\n\nnghiệm thu, hoặc đề tài nghiên cứu đã được nghiệm thu do người hướng\ndẫn chủ trì và học viên là ...",
          "Type: document<br>Text: 2\\. Trong trường hợp luận văn bảo vệ lần thứ hai vẫn không đạt yêu\ncầu, nếu học viên có nguyện vọng ...",
          "Type: document<br>Text: 1\\. Học viên có đủ các điều kiện sau đây thì được xét công nhận tốt\nnghiệp:\n\na\\) Luận văn đạt yêu cầ...",
          "Type: document<br>Text: ||\n||\n||\n||\n\n3\\. Học viên đạt đủ điều kiện tốt nghiệp được Giám đốc ĐHBK Hà Nội ra\nquyết định công n...",
          "Type: document<br>Text: 2\\. Học viên bị ốm hoặc tai nạn buộc phải điều trị trong thời gian\ndài, hoặc nghỉ thai sản theo quy ...",
          "Type: document<br>Text: 4\\. Học viên phải nộp đơn đề nghị trở lại học chậm nhất 1 tuần trước\nkhi bắt đầu học kỳ mới. Đối với...",
          "Type: document<br>Text: 3\\. Học viên bị buộc thôi học trong các trường hợp sau đây:\n\na\\) Học viên học chậm tiến độ quá thời ...",
          "Type: document<br>Text: 2\\. Căn cứ kế hoạch học tập chuẩn toàn khóa của CTĐT tiến sĩ, NCS xây\ndựng kế hoạch chi tiết theo từ...",
          "Type: document<br>Text: **Điều** **37.** **Học** **phần** **bổ** **sung** **và** **học**\n**phần** **tiến** **sĩ**\n\n1\\. Các h...",
          "Type: document<br>Text: c\\) NCS đăng ký các học phần bổ sung thuộc chương trình (đại học, thạc\nsĩ) nào thì sẽ học theo lớp h...",
          "Type: document<br>Text: 23\n\nhoàn thành, NCS có thể đề nghị xin gia hạn thời gian thực hiện trong\nkhoảng thời gian 6 tháng kế...",
          "Type: document<br>Text: b\\) NCS phải hoàn thành Tiểu luận tổng quan với kết quả đạt yêu cầu\ntrong vòng 12 tháng kể từ khi có...",
          "Type: document<br>Text: b\\) NCS phải đăng ký thực hiện các chuyên đề tiến sĩ. Tên của chuyên\nđề do NCS đề xuất và phải được ...",
          "Type: document<br>Text: 2\\. Quyển thuyết minh Luận án tiến sĩ phải đáp ứng quy định về hình\nthức, cách trình bày luận án; số...",
          "Type: document<br>Text: c\\) Tuân thủ các quy định khác của Luật sở hữu trí tuệ.\n\n**Điều** **40.** **Điều** **kiện** **được**...",
          "Type: document<br>Text: c\\) Tổng điểm của tất cả các công trình nghiên cứu trong khoản b mục 1\ncủa Điều này phải đạt từ 2,0 ...",
          "Type: document<br>Text: a\\) Luận án của NCS được đơn vị chuyên môn đề nghị được đánh giá ở Hội\nđồng đánh giá luận án cấp Đại...",
          "Type: document<br>Text: b\\) Hội đồng đánh giá luận án cấp cơ sở (sau đây gọi tắt là hội đồng\ncấp cơ sở) do Hiệu trưởng trườn...",
          "Type: document<br>Text: đ) Trong vòng 20 ngày sau khi kết thúc đánh giá luận án cấp cơ sở, NCS\nphải hoàn thành đầy đủ việc s...",
          "Type: document<br>Text: a\\) NCS được bảo vệ luận án cấp Đại học nếu đáp ứng đầy đủ các điều\nkiện quy định tại khoản 2 Điều 4...",
          "Type: document<br>Text: 26\n\nd\\) Luận án được đánh giá bằng hình thức bỏ phiếu (tán thành hoặc\nkhông tán thành), luận án khôn...",
          "Type: document<br>Text: **Điều** **42.** **Đánh** **giá** **lại** **luận** **án** **tiến**\n**sĩ**\n\n1\\. Trong trường hợp Hội ...",
          "Type: document<br>Text: 3\\. Trong trường hợp luận án bảo vệ lần thứ hai vẫn không đạt yêu cầu,\nĐHBK Hà Nội không tổ chức bảo...",
          "Type: document<br>Text: d\\) Đã nộp Thư viện Quốc gia Việt Nam và Thư viện Tạ Quang Bửu của\nĐHBK Hà Nội (cả bản in và file pd...",
          "Type: document<br>Text: 27\n\nbằng tiến sĩ cho nghiên cứu sinh được thực hiện trong thời hạn 30 ngày\nlàm việc kể từ ngày quyết...",
          "Type: document<br>Text: 4\\. Giám đốc ĐHBK Hà Nội xem xét, quyết định cho phép NCS được rút\nngắn thời gian học tập tối đa khô...",
          "Type: document<br>Text: **Điều** **45.** **Công** **nhận** **và** **chuyển** **đổi** **kết**\n**quả** **học** **tập,** **nghi...",
          "Type: document<br>Text: 28\n\nphù hợp với nội dung, yêu cầu của CTĐT, được thực hiện trên cơ sở đề\nxuất của Tiểu ban xét tuyển...",
          "Type: document<br>Text: 2\\. Đối với các khoá tuyển sinh có quyết định công nhận NCS trong\nkhoảng thời gian từ ngày 15 tháng ...",
          "Type: document<br>Text: 3\\. Đối với các khoá tuyển sinh đã có quyết định công nhận NCS trước\nngày 18 tháng 5 năm 2017, ĐHBK ...",
          "Type: document<br>Text: 29\n\nb\\) Khoản 2 Điều 18 (về việc học cùng lúc hai chương trình) được áp\ndụng với các khóa tuyển sinh...",
          "Type: question answer<br>Text: Ban Công tác Sinh viên sẽ tiếp nhận và giải đáp thắc mắc của sinh viên tại địa chỉ nào?: Chỉ tại các...",
          "Type: question answer<br>Text: Một môn học có trọng số KT(0,4)-T(0,6) nghĩa là môn học đó có *: Trọng số của điểm kiểm tra giữa kỳ ...",
          "Type: question answer<br>Text: Phương pháp quản lý chi tiêu 50-20-30 với sinh viên?: 50% Nhu cầu thiết yếu, 20% Tiết kiệm, 30% Sở ...",
          "Type: question answer<br>Text: Sinh viên bắt đầu được xem xét chuyển ngành từ khi nào?: Sau khi hoàn thành năm thứ nhất\n\nTrong các...",
          "Type: question answer<br>Text: Sinh viên sẽ bị xem xét buộc thôi học nếu?: Bị cảnh cáo học tập mức 3 lần thứ hai\n\nĐiều kiện xét tuy...",
          "Type: question answer<br>Text: Khi nào sinh viên phải hoàn toàn tự đăng ký lớp?: Bắt đầu từ học kỳ thứ 3\n\nCách thức đánh giá điểm r...",
          "Type: question answer<br>Text: Các bước đăng ký mới hoặc reset lại mật khẩu bị mất là: *: Truy cập ctt.hust.edu.vn – Chọn “Đăng nhậ...",
          "Type: question answer<br>Text: Đối tượng được xét học bổng Trần Đại Nghĩa là những ai: *: Sinh viên có hoàn cảnh khó khăn, có nghị ...",
          "Type: question answer<br>Text: Điều kiện được xét học bổng loại A là gì: *: GPA từ 3.6, điểm rèn luyện từ 90.\n\nTheo định hướng cu...",
          "Type: question answer<br>Text: Điểm rèn luyện được xếp loại theo cách nào dưới đây?: Xuất sắc, Tốt, Khá, Trung bình, Yếu, Kém\n\nĐiểm...",
          "Type: question answer<br>Text: Một môn học có trọng số KT(0.3)-T(0.7) và có điểm thi giữa kỳ (đã cộng) là 9đ, điểm thi cuối kỳ là 8...",
          "Type: question answer<br>Text: Ưu điểm nào sau đây là đặc trưng của chương trình đào tạo theo tín chỉ?: Sinh viên có thể tự lập kế ...",
          "Type: question answer<br>Text: Điều kiện cần để đạt học bổng loại A là gì?: GPA≥3,6 ĐRL≥90\n\nĐịa chỉ bạn cần đến để được hỗ t...",
          "Type: question answer<br>Text: Sinh viên được xếp hạng trình độ năm thứ nhất căn cứ số tín chỉ tích lũy như thế nào?: Trình độ năm ...",
          "Type: question answer<br>Text: Học đại học có khác gì so với THPT: Cần có kỹ năng làm việc độc lập: Cần có khả năng tự đọc - tự học...",
          "Type: question answer<br>Text: Mục chấm điểm rèn luyện có 2 cột điểm SV chấm và điểm GV chấm, vậy điểm chốt tính theo điểm nào?: Cộ...",
          "Type: question answer<br>Text: Các màu nhãn sách tại Trung tâm truyền thông và tri thức số là:: Màu trắng: sách đọc tại các phòng.:...",
          "Type: question answer<br>Text: Học bổng Trần Đại Nghĩa dành cho sinh viên có hoàn cảnh kinh tế khó khăn, có nghị lực vươn lên trong...",
          "Type: question answer<br>Text: Đâu là trang tra cứu OPAC:: http://libopac.hust.edu.vn/\n\nGPA và CPA có nghĩa là gì ?: GPA là điểm tr..."
         ],
         "type": "scatter3d",
         "x": [
          -5.227845,
          40.207718,
          -27.391413,
          61.83633,
          86.0373,
          32.547344,
          57.673912,
          84.87547,
          -48.032246,
          43.917183,
          30.916075,
          74.90901,
          -20.977812,
          7.1745796,
          15.405187,
          -42.07388,
          -45.96002,
          -20.431284,
          -44.95595,
          -99.381,
          -67.958336,
          -62.538174,
          109.04641,
          38.861053,
          -11.009343,
          7.516975,
          -109.19879,
          -84.892685,
          -6.5170937,
          -88.45595,
          69.189064,
          -32.20005,
          -42.725746,
          57.678608,
          3.0093124,
          -36.15329,
          -32.248047,
          -59.466633,
          30.330261,
          70.39203,
          50.698406,
          -84.172775,
          34.74577,
          110.48322,
          -93.13548,
          -74.81187,
          38.061317,
          -28.413437,
          -71.76457,
          -64.84789,
          -21.990843,
          -53.96313,
          43.774338,
          -77.63477,
          45.08288,
          92.493965,
          51.440773,
          76.41091,
          69.19739,
          66.61637,
          34.193188,
          45.511677,
          18.990904,
          0.16966987,
          71.43498,
          2.877219,
          65.9685,
          39.348587,
          68.469185,
          -3.4739711,
          -3.3887415,
          -5.677334,
          29.133923,
          6.601002,
          -15.135522,
          -14.983291,
          -4.8064857,
          -36.060368,
          -119.089836,
          29.352402,
          18.339695,
          -42.797474,
          70.208244,
          -46.188534,
          87.6769,
          33.39456,
          44.87459,
          -34.28942,
          -95.34131,
          -65.21275,
          77.80845,
          31.24713,
          -76.83098,
          22.473167,
          -22.186106,
          3.9438102,
          44.76574,
          16.099558,
          61.427975,
          -3.3764,
          18.19627,
          -16.149084,
          118.24145,
          -10.835292,
          -3.2892926,
          16.736004,
          22.588585,
          3.2976205,
          -23.263105,
          -55.34644,
          -25.7011,
          -87.53978
         ],
         "y": [
          -54.263798,
          54.208744,
          76.56725,
          -104.86114,
          -0.54408306,
          8.445187,
          17.20318,
          -15.032297,
          -69.36522,
          113.54919,
          75.89184,
          40.524174,
          -15.852217,
          4.3317857,
          36.717834,
          28.612019,
          41.752857,
          15.421059,
          2.707794,
          -12.831883,
          -23.510532,
          68.932594,
          31.16611,
          -21.523777,
          -67.33405,
          -40.33851,
          47.750633,
          24.111467,
          108.45294,
          -25.195147,
          39.171234,
          42.0853,
          32.598812,
          93.01188,
          98.74562,
          26.265764,
          -22.81378,
          66.52033,
          -53.597366,
          -29.660051,
          -1.417689,
          -57.034416,
          -14.981665,
          -61.562447,
          59.762848,
          0.53414166,
          -49.01519,
          -36.383892,
          13.664801,
          32.160316,
          -64.063034,
          99.7527,
          -28.820091,
          -92.831764,
          -17.694998,
          30.74715,
          45.16896,
          -96.579185,
          12.401916,
          51.39582,
          33.18768,
          35.216385,
          53.25245,
          35.552395,
          85.78055,
          -38.319706,
          -52.806297,
          -28.834352,
          -48.865936,
          -92.19511,
          -31.84013,
          -58.647026,
          -110.06944,
          -96.17523,
          -118.813225,
          -11.176462,
          -3.4559164,
          -86.59501,
          12.8780575,
          -72.803024,
          -87.3922,
          -53.50145,
          -38.11673,
          19.588064,
          78.90958,
          -67.17359,
          -80.21883,
          -48.060753,
          -48.74727,
          -46.912983,
          -49.54908,
          -94.83847,
          -18.731037,
          125.41037,
          75.663734,
          -10.785172,
          8.0363655,
          17.63525,
          -176.79526,
          -116.45858,
          27.806387,
          72.005424,
          -2.4024563,
          58.0956,
          52.169895,
          70.760056,
          77.29456,
          24.910236,
          85.101265,
          -110.87316,
          7.849402,
          47.513676
         ],
         "z": [
          -113.954,
          -21.266436,
          -93.75249,
          -61.98291,
          -19.736378,
          -30.710154,
          -40.20191,
          -60.59312,
          -82.04596,
          -42.07017,
          -50.406002,
          -10.751373,
          28.374668,
          28.357155,
          7.2928133,
          119.52123,
          95.062706,
          -10.42302,
          -0.9054033,
          -58.84727,
          -72.439606,
          34.70614,
          -49.022934,
          -62.9786,
          71.59425,
          50.709343,
          36.588146,
          20.193037,
          53.50857,
          -4.3026953,
          83.362724,
          11.878683,
          39.455845,
          6.8723187,
          -15.241922,
          -47.905323,
          -42.64145,
          -12.264627,
          -9.818013,
          15.722338,
          105.216805,
          -28.172337,
          -93.88748,
          14.414686,
          -23.99516,
          38.109913,
          78.8204,
          62.675415,
          -29.391981,
          -53.224586,
          -46.441334,
          -13.975466,
          -13.526168,
          10.947249,
          68.25073,
          30.888924,
          34.29917,
          -3.280986,
          49.041183,
          -72.710335,
          -74.30749,
          -104.97792,
          -102.50406,
          -79.426476,
          56.270157,
          -43.622894,
          -9.525081,
          33.592197,
          55.64099,
          1.7533115,
          -2.5599003,
          13.279551,
          57.890408,
          40.216995,
          43.570946,
          -101.42451,
          -70.710106,
          28.585909,
          -17.072044,
          -90.91416,
          95.24103,
          -14.498669,
          -110.39921,
          -101.17623,
          -36.578953,
          -53.457558,
          27.173538,
          108.26695,
          34.1411,
          26.279465,
          -51.84725,
          -22.874365,
          78.80908,
          16.028425,
          -45.403503,
          91.24598,
          13.477551,
          -133.47502,
          -8.686526,
          -65.748146,
          64.41609,
          78.43224,
          15.970957,
          -22.914156,
          52.7261,
          85.68288,
          35.852222,
          99.510994,
          20.121399,
          -34.94651,
          72.201706,
          81.184975
         ]
        }
       ],
       "layout": {
        "height": 700,
        "margin": {
         "b": 10,
         "l": 10,
         "r": 20,
         "t": 40
        },
        "scene": {
         "xaxis": {
          "title": {
           "text": "x"
          }
         },
         "yaxis": {
          "title": {
           "text": "y"
          }
         },
         "zaxis": {
          "title": {
           "text": "z"
          }
         }
        },
        "template": {
         "data": {
          "bar": [
           {
            "error_x": {
             "color": "#2a3f5f"
            },
            "error_y": {
             "color": "#2a3f5f"
            },
            "marker": {
             "line": {
              "color": "#E5ECF6",
              "width": 0.5
             },
             "pattern": {
              "fillmode": "overlay",
              "size": 10,
              "solidity": 0.2
             }
            },
            "type": "bar"
           }
          ],
          "barpolar": [
           {
            "marker": {
             "line": {
              "color": "#E5ECF6",
              "width": 0.5
             },
             "pattern": {
              "fillmode": "overlay",
              "size": 10,
              "solidity": 0.2
             }
            },
            "type": "barpolar"
           }
          ],
          "carpet": [
           {
            "aaxis": {
             "endlinecolor": "#2a3f5f",
             "gridcolor": "white",
             "linecolor": "white",
             "minorgridcolor": "white",
             "startlinecolor": "#2a3f5f"
            },
            "baxis": {
             "endlinecolor": "#2a3f5f",
             "gridcolor": "white",
             "linecolor": "white",
             "minorgridcolor": "white",
             "startlinecolor": "#2a3f5f"
            },
            "type": "carpet"
           }
          ],
          "choropleth": [
           {
            "colorbar": {
             "outlinewidth": 0,
             "ticks": ""
            },
            "type": "choropleth"
           }
          ],
          "contour": [
           {
            "colorbar": {
             "outlinewidth": 0,
             "ticks": ""
            },
            "colorscale": [
             [
              0,
              "#0d0887"
             ],
             [
              0.1111111111111111,
              "#46039f"
             ],
             [
              0.2222222222222222,
              "#7201a8"
             ],
             [
              0.3333333333333333,
              "#9c179e"
             ],
             [
              0.4444444444444444,
              "#bd3786"
             ],
             [
              0.5555555555555556,
              "#d8576b"
             ],
             [
              0.6666666666666666,
              "#ed7953"
             ],
             [
              0.7777777777777778,
              "#fb9f3a"
             ],
             [
              0.8888888888888888,
              "#fdca26"
             ],
             [
              1,
              "#f0f921"
             ]
            ],
            "type": "contour"
           }
          ],
          "contourcarpet": [
           {
            "colorbar": {
             "outlinewidth": 0,
             "ticks": ""
            },
            "type": "contourcarpet"
           }
          ],
          "heatmap": [
           {
            "colorbar": {
             "outlinewidth": 0,
             "ticks": ""
            },
            "colorscale": [
             [
              0,
              "#0d0887"
             ],
             [
              0.1111111111111111,
              "#46039f"
             ],
             [
              0.2222222222222222,
              "#7201a8"
             ],
             [
              0.3333333333333333,
              "#9c179e"
             ],
             [
              0.4444444444444444,
              "#bd3786"
             ],
             [
              0.5555555555555556,
              "#d8576b"
             ],
             [
              0.6666666666666666,
              "#ed7953"
             ],
             [
              0.7777777777777778,
              "#fb9f3a"
             ],
             [
              0.8888888888888888,
              "#fdca26"
             ],
             [
              1,
              "#f0f921"
             ]
            ],
            "type": "heatmap"
           }
          ],
          "heatmapgl": [
           {
            "colorbar": {
             "outlinewidth": 0,
             "ticks": ""
            },
            "colorscale": [
             [
              0,
              "#0d0887"
             ],
             [
              0.1111111111111111,
              "#46039f"
             ],
             [
              0.2222222222222222,
              "#7201a8"
             ],
             [
              0.3333333333333333,
              "#9c179e"
             ],
             [
              0.4444444444444444,
              "#bd3786"
             ],
             [
              0.5555555555555556,
              "#d8576b"
             ],
             [
              0.6666666666666666,
              "#ed7953"
             ],
             [
              0.7777777777777778,
              "#fb9f3a"
             ],
             [
              0.8888888888888888,
              "#fdca26"
             ],
             [
              1,
              "#f0f921"
             ]
            ],
            "type": "heatmapgl"
           }
          ],
          "histogram": [
           {
            "marker": {
             "pattern": {
              "fillmode": "overlay",
              "size": 10,
              "solidity": 0.2
             }
            },
            "type": "histogram"
           }
          ],
          "histogram2d": [
           {
            "colorbar": {
             "outlinewidth": 0,
             "ticks": ""
            },
            "colorscale": [
             [
              0,
              "#0d0887"
             ],
             [
              0.1111111111111111,
              "#46039f"
             ],
             [
              0.2222222222222222,
              "#7201a8"
             ],
             [
              0.3333333333333333,
              "#9c179e"
             ],
             [
              0.4444444444444444,
              "#bd3786"
             ],
             [
              0.5555555555555556,
              "#d8576b"
             ],
             [
              0.6666666666666666,
              "#ed7953"
             ],
             [
              0.7777777777777778,
              "#fb9f3a"
             ],
             [
              0.8888888888888888,
              "#fdca26"
             ],
             [
              1,
              "#f0f921"
             ]
            ],
            "type": "histogram2d"
           }
          ],
          "histogram2dcontour": [
           {
            "colorbar": {
             "outlinewidth": 0,
             "ticks": ""
            },
            "colorscale": [
             [
              0,
              "#0d0887"
             ],
             [
              0.1111111111111111,
              "#46039f"
             ],
             [
              0.2222222222222222,
              "#7201a8"
             ],
             [
              0.3333333333333333,
              "#9c179e"
             ],
             [
              0.4444444444444444,
              "#bd3786"
             ],
             [
              0.5555555555555556,
              "#d8576b"
             ],
             [
              0.6666666666666666,
              "#ed7953"
             ],
             [
              0.7777777777777778,
              "#fb9f3a"
             ],
             [
              0.8888888888888888,
              "#fdca26"
             ],
             [
              1,
              "#f0f921"
             ]
            ],
            "type": "histogram2dcontour"
           }
          ],
          "mesh3d": [
           {
            "colorbar": {
             "outlinewidth": 0,
             "ticks": ""
            },
            "type": "mesh3d"
           }
          ],
          "parcoords": [
           {
            "line": {
             "colorbar": {
              "outlinewidth": 0,
              "ticks": ""
             }
            },
            "type": "parcoords"
           }
          ],
          "pie": [
           {
            "automargin": true,
            "type": "pie"
           }
          ],
          "scatter": [
           {
            "fillpattern": {
             "fillmode": "overlay",
             "size": 10,
             "solidity": 0.2
            },
            "type": "scatter"
           }
          ],
          "scatter3d": [
           {
            "line": {
             "colorbar": {
              "outlinewidth": 0,
              "ticks": ""
             }
            },
            "marker": {
             "colorbar": {
              "outlinewidth": 0,
              "ticks": ""
             }
            },
            "type": "scatter3d"
           }
          ],
          "scattercarpet": [
           {
            "marker": {
             "colorbar": {
              "outlinewidth": 0,
              "ticks": ""
             }
            },
            "type": "scattercarpet"
           }
          ],
          "scattergeo": [
           {
            "marker": {
             "colorbar": {
              "outlinewidth": 0,
              "ticks": ""
             }
            },
            "type": "scattergeo"
           }
          ],
          "scattergl": [
           {
            "marker": {
             "colorbar": {
              "outlinewidth": 0,
              "ticks": ""
             }
            },
            "type": "scattergl"
           }
          ],
          "scattermapbox": [
           {
            "marker": {
             "colorbar": {
              "outlinewidth": 0,
              "ticks": ""
             }
            },
            "type": "scattermapbox"
           }
          ],
          "scatterpolar": [
           {
            "marker": {
             "colorbar": {
              "outlinewidth": 0,
              "ticks": ""
             }
            },
            "type": "scatterpolar"
           }
          ],
          "scatterpolargl": [
           {
            "marker": {
             "colorbar": {
              "outlinewidth": 0,
              "ticks": ""
             }
            },
            "type": "scatterpolargl"
           }
          ],
          "scatterternary": [
           {
            "marker": {
             "colorbar": {
              "outlinewidth": 0,
              "ticks": ""
             }
            },
            "type": "scatterternary"
           }
          ],
          "surface": [
           {
            "colorbar": {
             "outlinewidth": 0,
             "ticks": ""
            },
            "colorscale": [
             [
              0,
              "#0d0887"
             ],
             [
              0.1111111111111111,
              "#46039f"
             ],
             [
              0.2222222222222222,
              "#7201a8"
             ],
             [
              0.3333333333333333,
              "#9c179e"
             ],
             [
              0.4444444444444444,
              "#bd3786"
             ],
             [
              0.5555555555555556,
              "#d8576b"
             ],
             [
              0.6666666666666666,
              "#ed7953"
             ],
             [
              0.7777777777777778,
              "#fb9f3a"
             ],
             [
              0.8888888888888888,
              "#fdca26"
             ],
             [
              1,
              "#f0f921"
             ]
            ],
            "type": "surface"
           }
          ],
          "table": [
           {
            "cells": {
             "fill": {
              "color": "#EBF0F8"
             },
             "line": {
              "color": "white"
             }
            },
            "header": {
             "fill": {
              "color": "#C8D4E3"
             },
             "line": {
              "color": "white"
             }
            },
            "type": "table"
           }
          ]
         },
         "layout": {
          "annotationdefaults": {
           "arrowcolor": "#2a3f5f",
           "arrowhead": 0,
           "arrowwidth": 1
          },
          "autotypenumbers": "strict",
          "coloraxis": {
           "colorbar": {
            "outlinewidth": 0,
            "ticks": ""
           }
          },
          "colorscale": {
           "diverging": [
            [
             0,
             "#8e0152"
            ],
            [
             0.1,
             "#c51b7d"
            ],
            [
             0.2,
             "#de77ae"
            ],
            [
             0.3,
             "#f1b6da"
            ],
            [
             0.4,
             "#fde0ef"
            ],
            [
             0.5,
             "#f7f7f7"
            ],
            [
             0.6,
             "#e6f5d0"
            ],
            [
             0.7,
             "#b8e186"
            ],
            [
             0.8,
             "#7fbc41"
            ],
            [
             0.9,
             "#4d9221"
            ],
            [
             1,
             "#276419"
            ]
           ],
           "sequential": [
            [
             0,
             "#0d0887"
            ],
            [
             0.1111111111111111,
             "#46039f"
            ],
            [
             0.2222222222222222,
             "#7201a8"
            ],
            [
             0.3333333333333333,
             "#9c179e"
            ],
            [
             0.4444444444444444,
             "#bd3786"
            ],
            [
             0.5555555555555556,
             "#d8576b"
            ],
            [
             0.6666666666666666,
             "#ed7953"
            ],
            [
             0.7777777777777778,
             "#fb9f3a"
            ],
            [
             0.8888888888888888,
             "#fdca26"
            ],
            [
             1,
             "#f0f921"
            ]
           ],
           "sequentialminus": [
            [
             0,
             "#0d0887"
            ],
            [
             0.1111111111111111,
             "#46039f"
            ],
            [
             0.2222222222222222,
             "#7201a8"
            ],
            [
             0.3333333333333333,
             "#9c179e"
            ],
            [
             0.4444444444444444,
             "#bd3786"
            ],
            [
             0.5555555555555556,
             "#d8576b"
            ],
            [
             0.6666666666666666,
             "#ed7953"
            ],
            [
             0.7777777777777778,
             "#fb9f3a"
            ],
            [
             0.8888888888888888,
             "#fdca26"
            ],
            [
             1,
             "#f0f921"
            ]
           ]
          },
          "colorway": [
           "#636efa",
           "#EF553B",
           "#00cc96",
           "#ab63fa",
           "#FFA15A",
           "#19d3f3",
           "#FF6692",
           "#B6E880",
           "#FF97FF",
           "#FECB52"
          ],
          "font": {
           "color": "#2a3f5f"
          },
          "geo": {
           "bgcolor": "white",
           "lakecolor": "white",
           "landcolor": "#E5ECF6",
           "showlakes": true,
           "showland": true,
           "subunitcolor": "white"
          },
          "hoverlabel": {
           "align": "left"
          },
          "hovermode": "closest",
          "mapbox": {
           "style": "light"
          },
          "paper_bgcolor": "white",
          "plot_bgcolor": "#E5ECF6",
          "polar": {
           "angularaxis": {
            "gridcolor": "white",
            "linecolor": "white",
            "ticks": ""
           },
           "bgcolor": "#E5ECF6",
           "radialaxis": {
            "gridcolor": "white",
            "linecolor": "white",
            "ticks": ""
           }
          },
          "scene": {
           "xaxis": {
            "backgroundcolor": "#E5ECF6",
            "gridcolor": "white",
            "gridwidth": 2,
            "linecolor": "white",
            "showbackground": true,
            "ticks": "",
            "zerolinecolor": "white"
           },
           "yaxis": {
            "backgroundcolor": "#E5ECF6",
            "gridcolor": "white",
            "gridwidth": 2,
            "linecolor": "white",
            "showbackground": true,
            "ticks": "",
            "zerolinecolor": "white"
           },
           "zaxis": {
            "backgroundcolor": "#E5ECF6",
            "gridcolor": "white",
            "gridwidth": 2,
            "linecolor": "white",
            "showbackground": true,
            "ticks": "",
            "zerolinecolor": "white"
           }
          },
          "shapedefaults": {
           "line": {
            "color": "#2a3f5f"
           }
          },
          "ternary": {
           "aaxis": {
            "gridcolor": "white",
            "linecolor": "white",
            "ticks": ""
           },
           "baxis": {
            "gridcolor": "white",
            "linecolor": "white",
            "ticks": ""
           },
           "bgcolor": "#E5ECF6",
           "caxis": {
            "gridcolor": "white",
            "linecolor": "white",
            "ticks": ""
           }
          },
          "title": {
           "x": 0.05
          },
          "xaxis": {
           "automargin": true,
           "gridcolor": "white",
           "linecolor": "white",
           "ticks": "",
           "title": {
            "standoff": 15
           },
           "zerolinecolor": "white",
           "zerolinewidth": 2
          },
          "yaxis": {
           "automargin": true,
           "gridcolor": "white",
           "linecolor": "white",
           "ticks": "",
           "title": {
            "standoff": 15
           },
           "zerolinecolor": "white",
           "zerolinewidth": 2
          }
         }
        },
        "title": {
         "text": "3D Chroma Vector Store Visualization"
        },
        "width": 900
       }
      }
     },
     "metadata": {},
     "output_type": "display_data"
    }
   ],
   "source": [
    "tsne = TSNE(n_components=3, random_state=42)\n",
    "reduced_vectors = tsne.fit_transform(vectors)\n",
    "\n",
    "# Create the 3D scatter plot\n",
    "fig = go.Figure(data=[go.Scatter3d(\n",
    "    x=reduced_vectors[:, 0],\n",
    "    y=reduced_vectors[:, 1],\n",
    "    z=reduced_vectors[:, 2],\n",
    "    mode='markers',\n",
    "    marker=dict(size=5, color=colors, opacity=0.8),\n",
    "    text=[f\"Type: {t}<br>Text: {d[:100]}...\" for t, d in zip(doc_types, documents)],\n",
    "    hoverinfo='text'\n",
    ")])\n",
    "\n",
    "fig.update_layout(\n",
    "    title='3D Chroma Vector Store Visualization',\n",
    "    scene=dict(xaxis_title='x', yaxis_title='y', zaxis_title='z'),\n",
    "    width=900,\n",
    "    height=700,\n",
    "    margin=dict(r=20, b=10, l=10, t=40)\n",
    ")\n",
    "\n",
    "fig.show()"
   ]
  },
  {
   "cell_type": "code",
   "execution_count": 766,
   "id": "b53f27fd",
   "metadata": {},
   "outputs": [],
   "source": [
    "from langchain_core.tools import tool\n",
    "import json\n",
    "from langchain.agents import initialize_agent\n",
    "\n",
    "ranking = { 0.0: \"Yếu\", 2.0: \"Trung bình\", 2.5: \"Khá\", 3.2: \"Giỏi\", 3.6: \"Xuất sắc\"}\n",
    "\n",
    "@tool\n",
    "def get_ranking(grade):\n",
    "    \"\"\"\n",
    "    Trả về xếp loại dựa vào số điểm CPA\n",
    "\n",
    "    Args:\n",
    "        grade (float): Số điểm CPA của sinh viên\n",
    "    \"\"\"\n",
    "    grade = grade.replace(\"'\", \"\\\"\")\n",
    "\n",
    "    grade = json.loads(grade).get('grade')\n",
    "    grade = float(grade)\n",
    "\n",
    "    if grade > 4 or grade < 0:\n",
    "        return \"Số điểm không hợp lệ trên thang điểm 4\"\n",
    "\n",
    "    for key in sorted(ranking.keys(), reverse= True):\n",
    "        if grade >= key:\n",
    "            return ranking[key]\n",
    "\n",
    "    return \"Xuất sắc\" \n"
   ]
  },
  {
   "cell_type": "code",
   "execution_count": 767,
   "id": "7062609e",
   "metadata": {},
   "outputs": [],
   "source": [
    "from langchain_community.chat_models import ChatOllama\n",
    "\n",
    "from langchain_openai import ChatOpenAI\n",
    "llm = ChatOpenAI(\n",
    "    api_key=\"ollama\",\n",
    "    model=\"qwen2.5\",\n",
    "    base_url=\"http://localhost:11434/v1\",\n",
    ")\n",
    "\n",
    "tools = [get_ranking]\n",
    "\n",
    "llm = llm.bind_tools(tools)\n",
    "agent = initialize_agent(tools, llm, agent_type=\"zero-shot-react-description\", verbose=True)\n",
    "\n",
    "def handle_get_ranking_tool_call(tool_call):\n",
    "    arguments = tool_call.get('args')\n",
    "    grade = arguments.get('grade')\n",
    "    ranking = agent.run(f\"Lấy xếp loại của sinh viên dựa vào điểm số CPA cung cấp: {grade}\")\n",
    "    return ranking\n"
   ]
  },
  {
   "cell_type": "code",
   "execution_count": 768,
   "id": "956efe21",
   "metadata": {},
   "outputs": [],
   "source": [
    "memory = ConversationBufferMemory(memory_key='chat_history', return_messages=True)\n",
    "retriever = vectorstore.as_retriever()\n",
    "conversation_chain = ConversationalRetrievalChain.from_llm(llm=llm, retriever=retriever, memory=memory)"
   ]
  },
  {
   "cell_type": "code",
   "execution_count": 769,
   "id": "5c0a65e4-0bfb-4d4d-8b5b-4ebf52a76735",
   "metadata": {},
   "outputs": [],
   "source": [
    "\n",
    "def chat(message, history):\n",
    "    response = llm.invoke(message)\n",
    "    if response.tool_calls:\n",
    "        for tool_call in response.tool_calls:\n",
    "            if tool_call.get('name') == 'get_ranking':\n",
    "                result = handle_get_ranking_tool_call(response.tool_calls[0])\n",
    "        return result\n",
    "    else:\n",
    "        result = conversation_chain.invoke({\"question\": message})\n",
    "        return result[\"answer\"]"
   ]
  },
  {
   "cell_type": "code",
   "execution_count": 771,
   "id": "b2a04207-f34a-4631-9d7f-1f91064a26ae",
   "metadata": {},
   "outputs": [
    {
     "name": "stdout",
     "output_type": "stream",
     "text": [
      "* Running on local URL:  http://127.0.0.1:7885\n",
      "* Running on public URL: https://a7c3f29ac519058057.gradio.live\n",
      "\n",
      "This share link expires in 72 hours. For free permanent hosting and GPU upgrades, run `gradio deploy` from the terminal in the working directory to deploy to Hugging Face Spaces (https://huggingface.co/spaces)\n"
     ]
    },
    {
     "data": {
      "text/html": [
       "<div><iframe src=\"https://a7c3f29ac519058057.gradio.live\" width=\"100%\" height=\"500\" allow=\"autoplay; camera; microphone; clipboard-read; clipboard-write;\" frameborder=\"0\" allowfullscreen></iframe></div>"
      ],
      "text/plain": [
       "<IPython.core.display.HTML object>"
      ]
     },
     "metadata": {},
     "output_type": "display_data"
    },
    {
     "name": "stdout",
     "output_type": "stream",
     "text": [
      "\n",
      "\n",
      "\u001b[1m> Entering new AgentExecutor chain...\u001b[0m\n",
      "\u001b[32;1m\u001b[1;3mAction: get_ranking\n",
      "Action Input: {\"grade\": 3.74}\u001b[0m\n",
      "Observation: \u001b[36;1m\u001b[1;3mXuất sắc\u001b[0m\n",
      "Thought:\u001b[32;1m\u001b[1;3mFinal Answer: Sinh viên có điểm số CPA là 3.74 sẽ được xếp loại \"Xuất Sắc\".\u001b[0m\n",
      "\n",
      "\u001b[1m> Finished chain.\u001b[0m\n"
     ]
    }
   ],
   "source": [
    "view = gr.ChatInterface(chat, type=\"messages\").launch(share = True)"
   ]
  },
  {
   "cell_type": "code",
   "execution_count": null,
   "id": "e5c57970",
   "metadata": {},
   "outputs": [],
   "source": []
  }
 ],
 "metadata": {
  "kernelspec": {
   "display_name": "llms",
   "language": "python",
   "name": "python3"
  },
  "language_info": {
   "codemirror_mode": {
    "name": "ipython",
    "version": 3
   },
   "file_extension": ".py",
   "mimetype": "text/x-python",
   "name": "python",
   "nbconvert_exporter": "python",
   "pygments_lexer": "ipython3",
   "version": "3.11.11"
  }
 },
 "nbformat": 4,
 "nbformat_minor": 5
}
