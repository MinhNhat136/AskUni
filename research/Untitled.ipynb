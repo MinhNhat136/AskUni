{
 "cells": [
  {
   "cell_type": "code",
   "execution_count": 20,
   "id": "8f01e2e0-838b-4cfd-9e0f-9213cb291195",
   "metadata": {},
   "outputs": [],
   "source": [
    "import os\n",
    "import glob\n",
    "from dotenv import load_dotenv\n",
    "import json\n",
    "import gradio as gr\n",
    "from openai import OpenAI"
   ]
  },
  {
   "cell_type": "code",
   "execution_count": 21,
   "id": "d02307d9-cae8-4944-84b4-58550f0ec3dd",
   "metadata": {},
   "outputs": [],
   "source": [
    "from langchain.document_loaders import DirectoryLoader, TextLoader\n",
    "from langchain.text_splitter import CharacterTextSplitter\n",
    "from langchain.schema import Document\n",
    "from langchain_openai import OpenAIEmbeddings, ChatOpenAI\n",
    "from langchain_chroma import Chroma\n",
    "import numpy as np\n",
    "from sklearn.manifold import TSNE\n",
    "import plotly.graph_objects as go\n",
    "from langchain.memory import ConversationBufferMemory\n",
    "from langchain.chains import ConversationalRetrievalChain"
   ]
  },
  {
   "cell_type": "code",
   "execution_count": 22,
   "id": "9d51be20-92a4-4988-befa-6b4bd321cb2d",
   "metadata": {},
   "outputs": [],
   "source": [
    "MODEL_GPT = \"gpt-4o\"\n",
    "MODEL_QWEN3b = 'qwen2.5:3b'\n",
    "MODEL_QWEN7b = 'qwen2.5'\n",
    "MODEL_LLAMA = 'llama3.2'\n",
    "db_name = \"..\\\\vector_db\""
   ]
  },
  {
   "cell_type": "code",
   "execution_count": 23,
   "id": "e3b34d66-4e53-4648-9a10-2432f4a44581",
   "metadata": {},
   "outputs": [],
   "source": [
    "load_dotenv()\n",
    "os.environ['OPENAI_API_KEY'] = os.getenv('OPENAI_API_KEY')\n",
    "openai = OpenAI()"
   ]
  },
  {
   "cell_type": "code",
   "execution_count": 24,
   "id": "5413f7a5",
   "metadata": {},
   "outputs": [
    {
     "name": "stdout",
     "output_type": "stream",
     "text": [
      "An error occurred: module 'fitz' has no attribute 'open'\n"
     ]
    }
   ],
   "source": [
    " # PyMuPDF\n",
    "import fitz\n",
    "\n",
    "def pdf_to_md(pdf_path, output_md_path):\n",
    "    \"\"\"\n",
    "    Converts a PDF file to a Markdown (.md) file.\n",
    "\n",
    "    Args:\n",
    "        pdf_path (str): Path to the input PDF file.\n",
    "        output_md_path (str): Path to the output Markdown file.\n",
    "    \"\"\"\n",
    "    header = (\"CHƯƠNG\", \"1.\", \"2.\", \"3.\", \"4.\", \"5.\", \"6.\", \"7.\", \"8.\", \"9.\")#, \"a)\", \"b)\", \"c)\", \"d)\", \"đ)\", \"e)\")\n",
    "    try:\n",
    "        pdf_document = fitz.open(pdf_path)\n",
    "\n",
    "        with open(output_md_path, 'w', encoding='utf-8') as md_file:\n",
    "            for page_number in range(len(pdf_document)):\n",
    "                page = pdf_document.load_page(page_number)  # Load page\n",
    "                text = page.get_text(\"text\")  # Extract text\n",
    "                lines = text.split('\\n')\n",
    "\n",
    "                paragraph = []\n",
    "                prev_line = \"start\"\n",
    "                for i in range(len(lines)):\n",
    "                    line = lines[i].strip()\n",
    "                    if line == \"\" and prev_line == \"\":\n",
    "                        continue\n",
    "                    elif line == \"\" and prev_line != \"\":\n",
    "                        paragraph.append(line)\n",
    "                    elif line.startswith(header):\n",
    "                        paragraph.append(\"\")\n",
    "                        paragraph.append(line)\n",
    "                    else:\n",
    "                        paragraph.append(line)\n",
    "                    prev_line = line\n",
    "\n",
    "                text = \"\\n\".join(paragraph)\n",
    "\n",
    "                md_file.write(text)\n",
    "                md_file.write(\"\\n\\n---\\n\\n\")  \n",
    "\n",
    "        print(f\"Markdown file created at: {output_md_path}\")\n",
    "\n",
    "    except Exception as e:\n",
    "        print(f\"An error occurred: {e}\")\n",
    "\n",
    "pdf_path = \"../knowledge-base/document/qcdt_2023_upload.pdf\" \n",
    "output_md_path = \"../knowledge-base/document/qcdt_2023_upload.md\"  \n",
    "\n",
    "pdf_to_md(pdf_path, output_md_path)\n"
   ]
  },
  {
   "cell_type": "code",
   "execution_count": 25,
   "id": "cf944c2d-e84b-45ae-8971-f5d4f6229b1a",
   "metadata": {},
   "outputs": [],
   "source": [
    "folders = glob.glob(\"../knowledge-base/*\")\n",
    "\n",
    "text_loader_kwargs = {'encoding': 'utf-8'}\n",
    "\n",
    "documents = []\n",
    "for folder in folders:\n",
    "    doc_type = os.path.basename(folder)\n",
    "    loader = DirectoryLoader(folder, glob=\"**/*.md\", loader_cls=TextLoader, loader_kwargs=text_loader_kwargs)\n",
    "    folder_docs = loader.load()\n",
    "    for doc in folder_docs:\n",
    "        doc.metadata[\"doc_type\"] = doc_type\n",
    "        documents.append(doc)"
   ]
  },
  {
   "cell_type": "code",
   "execution_count": 26,
   "id": "9959e7dd-61b2-4252-8417-044c8f8b068c",
   "metadata": {},
   "outputs": [],
   "source": [
    "system_message = \\\n",
    "\"\"\"\n",
    "Bạn sẽ đưa ra các câu trả lời hoàn toàn bằng tiếng việt.\\\n",
    "Bạn là một chuyên gia tư vấn về quy chế đào tạo \\\n",
    "cho một đại học ở Việt Nam, Đại học Bách khoa Hà Nội. \\\n",
    "Bạn cần tư vấn chính xác những gì bạn biết và trả lời thành thật những nội dung trong tài liệu bạn được cung cấp. \\\n",
    "Khi nội dung được hỏi không có thông tin trong tài liệu được cung cấp, hãy nói không có thông tin trong tài liệu.\"\"\""
   ]
  },
  {
   "cell_type": "code",
   "execution_count": 27,
   "id": "53331a54-63a5-447f-ba0d-c62961dde223",
   "metadata": {},
   "outputs": [
    {
     "name": "stderr",
     "output_type": "stream",
     "text": [
      "Created a chunk of size 1120, which is longer than the specified 1000\n",
      "Created a chunk of size 1262, which is longer than the specified 1000\n",
      "Created a chunk of size 1075, which is longer than the specified 1000\n"
     ]
    }
   ],
   "source": [
    "text_splitter = CharacterTextSplitter(chunk_size=1000, chunk_overlap=200)\n",
    "chunks = text_splitter.split_documents(documents)"
   ]
  },
  {
   "cell_type": "code",
   "execution_count": 28,
   "id": "e4db869a-325c-44f5-9459-9162e5b1d91d",
   "metadata": {},
   "outputs": [],
   "source": [
    "embeddings = OpenAIEmbeddings()"
   ]
  },
  {
   "cell_type": "code",
   "execution_count": 29,
   "id": "7dd98821-36eb-4321-81d4-250aa0e434f1",
   "metadata": {},
   "outputs": [],
   "source": [
    "if os.path.exists(db_name):\n",
    "    Chroma(persist_directory=db_name, embedding_function=embeddings).delete_collection()"
   ]
  },
  {
   "cell_type": "code",
   "execution_count": 30,
   "id": "5efff0c9-b965-4ed9-8d86-5b6f79868ec0",
   "metadata": {},
   "outputs": [
    {
     "name": "stdout",
     "output_type": "stream",
     "text": [
      "Vectorstore: 114 documents\n"
     ]
    }
   ],
   "source": [
    "vectorstore = Chroma.from_documents(documents=chunks, embedding=embeddings, persist_directory=db_name)\n",
    "print(f\"Vectorstore: {vectorstore._collection.count()} documents\")"
   ]
  },
  {
   "cell_type": "code",
   "execution_count": 31,
   "id": "674ac9f1-1ea6-4c5b-9e3a-08e848c5679a",
   "metadata": {},
   "outputs": [
    {
     "name": "stdout",
     "output_type": "stream",
     "text": [
      "The vectors have 1,536 dimensions\n"
     ]
    }
   ],
   "source": [
    "collection = vectorstore._collection\n",
    "sample_embedding = collection.get(limit=1, include=[\"embeddings\"])[\"embeddings\"][0]\n",
    "dimensions = len(sample_embedding)\n",
    "print(f\"The vectors have {dimensions:,} dimensions\")"
   ]
  },
  {
   "cell_type": "code",
   "execution_count": 32,
   "id": "9c4fbea2-51c8-4c50-9a0e-80f11fa29c22",
   "metadata": {},
   "outputs": [],
   "source": [
    "result = collection.get(include=['embeddings', 'documents', 'metadatas'])\n",
    "vectors = np.array(result['embeddings'])\n",
    "documents = result['documents']\n",
    "doc_types = [metadata['doc_type'] for metadata in result['metadatas']]\n",
    "colors = [['blue', 'green'][['document', 'question answer'].index(t)] for t in doc_types]"
   ]
  },
  {
   "cell_type": "code",
   "execution_count": 33,
   "id": "90c60853-bcae-4768-9745-6162dab5893c",
   "metadata": {},
   "outputs": [
    {
     "data": {
      "application/vnd.plotly.v1+json": {
       "config": {
        "plotlyServerURL": "https://plot.ly"
       },
       "data": [
        {
         "hoverinfo": "text",
         "marker": {
          "color": [
           "blue",
           "blue",
           "blue",
           "blue",
           "blue",
           "blue",
           "blue",
           "blue",
           "blue",
           "blue",
           "blue",
           "blue",
           "blue",
           "blue",
           "blue",
           "blue",
           "blue",
           "blue",
           "blue",
           "blue",
           "blue",
           "blue",
           "blue",
           "blue",
           "blue",
           "blue",
           "blue",
           "blue",
           "blue",
           "blue",
           "blue",
           "blue",
           "blue",
           "blue",
           "blue",
           "blue",
           "blue",
           "blue",
           "blue",
           "blue",
           "blue",
           "blue",
           "blue",
           "blue",
           "blue",
           "blue",
           "blue",
           "blue",
           "blue",
           "blue",
           "blue",
           "blue",
           "blue",
           "blue",
           "blue",
           "blue",
           "blue",
           "blue",
           "blue",
           "blue",
           "blue",
           "blue",
           "blue",
           "blue",
           "blue",
           "blue",
           "blue",
           "blue",
           "blue",
           "blue",
           "blue",
           "blue",
           "blue",
           "blue",
           "blue",
           "blue",
           "blue",
           "blue",
           "blue",
           "blue",
           "blue",
           "blue",
           "blue",
           "blue",
           "blue",
           "blue",
           "blue",
           "blue",
           "blue",
           "blue",
           "blue",
           "blue",
           "blue",
           "blue",
           "blue",
           "green",
           "green",
           "green",
           "green",
           "green",
           "green",
           "green",
           "green",
           "green",
           "green",
           "green",
           "green",
           "green",
           "green",
           "green",
           "green",
           "green",
           "green",
           "green"
          ],
          "opacity": 0.8,
          "size": 5
         },
         "mode": "markers",
         "text": [
          "Type: document<br>Text: BỘ GIÁO DỤC VÀ ĐÀO TẠO\nĐẠI HỌC BÁCH KHOA HÀ NỘI\n\nQUY CHẾ ĐÀO TẠO\n(Ban hành kèm theo Quyết định số 46...",
          "Type: document<br>Text: CHƯƠNG I NHỮNG QUY ĐỊNH CHUNG .................................................................. 1\nĐ...",
          "Type: document<br>Text: CHƯƠNG II ĐÀO TẠO ĐẠI HỌC .............................................................................",
          "Type: document<br>Text: CHƯƠNG III ĐÀO TẠO KỸ SƯ ..............................................................................",
          "Type: document<br>Text: CHƯƠNG IV ĐÀO TẠO THẠC SĨ .............................................................................",
          "Type: document<br>Text: CHƯƠNG V ĐÀO TẠO TIẾN SĨ ..............................................................................",
          "Type: document<br>Text: ---\n\nii\n\nĐiều 38. Tiểu luận tổng quan và chuyên đề tiến sĩ ............................................",
          "Type: document<br>Text: CHƯƠNG VI TỔ CHỨC THỰC HIỆN ....................................................................... ...",
          "Type: document<br>Text: CHƯƠNG I\nNHỮNG QUY ĐỊNH CHUNG\nĐiều 1. Phạm vi điều chỉnh và đối tượng áp dụng\n\n1. Quy chế này quy đị...",
          "Type: document<br>Text: 1. Ngành đào tạo (sau đây gọi tắt là ngành) là một lĩnh vực chuyên môn rộng, có\nmã số trong Danh mục...",
          "Type: document<br>Text: 1 Quy chế đào tạo trình độ đại học, ban hành theo Thông tư số 08/2021/TT-BGDĐT ngày 18 tháng 3 năm 2...",
          "Type: document<br>Text: ---\n\n2\n\n\n3. CTĐT tích hợp là chương trình được thiết kế tổng thể theo hướng tích hợp\nkiến thức của h...",
          "Type: document<br>Text: 4. Chương trình ELITECH (từ viết tắt của cụm từ Elite Technology Program) là\nCTĐT chất lượng cao (tê...",
          "Type: document<br>Text: 5. Thời gian và khối lượng học tập chuẩn đối với các CTĐT theo hình thức chính\nquy không kể các môn ...",
          "Type: document<br>Text: 7. Các CTĐT cấp bằng cử nhân, kỹ sư, thạc sĩ, tiến sĩ được công bố công khai\ntrước khi tuyển sinh, p...",
          "Type: document<br>Text: ---\n\n3\n\nnăm đó. Những cập nhật liên quan đến CTĐT của một khóa học chỉ được áp dụng khi\nkhông ảnh hư...",
          "Type: document<br>Text: 3. Căn cứ kế hoạch học tập chuẩn toàn khóa của chương trình, người học tự xây\ndựng kế hoạch học tập ...",
          "Type: document<br>Text: c) Thời gian đào tạo chuẩn của trình độ tiến sĩ từ 03 năm đến 04 năm. Nếu NCS\nđăng ký học tập, nghiê...",
          "Type: document<br>Text: 1. Tín chỉ (TC) là đơn vị đo khối lượng học tập. Một TC được tính tương đương\n50 giờ học tập định mứ...",
          "Type: document<br>Text: 3. Mỗi học phần được ấn định một mã số riêng và có thể được sử dụng trong\nnhiều CTĐT.\n\n4. Chương trì...",
          "Type: document<br>Text: b) Người học được phép học một học phần thay thế được chỉ định để lấy kết quả\nthay cho một học phần ...",
          "Type: document<br>Text: 2. Điểm quá trình được đánh giá qua thi giữa kỳ, kiểm tra thường kỳ, kết hợp thi\ngiữa kỳ và kiểm tra...",
          "Type: document<br>Text: 4. Hình thức đánh giá trực tuyến được áp dụng khi đảm bảo trung thực, công\nbằng và khách quan như đá...",
          "Type: document<br>Text: 6. Điểm học phần được tính từ tổng điểm thành phần với trọng số tương ứng, làm\ntròn tới một chữ số t...",
          "Type: document<br>Text: a) Điểm I: điểm học phần chưa hoàn thiện do được hoãn thi đúng quy định.\n\nb) Điểm X: điểm học phần c...",
          "Type: document<br>Text: ---\n\n6\n\n\n2. Đối với hình thức đào tạo vừa làm vừa học (sau đây gọi tắt là VLVH), người\nhọc được thi ...",
          "Type: document<br>Text: 5. Người học có thể đề nghị phúc tra hoặc khiếu nại điểm trong thời hạn 7 ngày\nkể từ khi điểm học ph...",
          "Type: document<br>Text: 1. Sinh viên đại học chuyển đến học tại một cơ sở đào tạo khác phải được sự\nđồng ý của Giám đốc ĐHBK...",
          "Type: document<br>Text: 3. NCS có thời hạn học tập tại ĐHBK Hà Nội còn tối thiểu 12 tháng (theo quyết\nđịnh công nhận NCS) đư...",
          "Type: document<br>Text: 3. Sinh viên, học viên có đơn đề nghị rút học phần trong khoảng thời gian 7 tuần\n(hoặc 3 tuần với cá...",
          "Type: document<br>Text: CHƯƠNG II\nĐÀO TẠO ĐẠI HỌC\nĐiều 10. Đăng ký học tập chương trình đại học\n\n1. Đăng ký học tập là quy t...",
          "Type: document<br>Text: b) Đăng ký lớp chính thức: sinh viên chọn lớp học cho những học phần đã đăng\nký. Đối với các học phầ...",
          "Type: document<br>Text: b) Sinh viên bị cảnh báo học tập hoặc chưa đạt chuẩn ngoại ngữ theo trình độ\nnăm học bị giới hạn khố...",
          "Type: document<br>Text: b) Xem xét mở lớp học phần có từ 5 đến 19 sinh viên đăng ký học theo đề nghị\ncủa sinh viên, áp dụng ...",
          "Type: document<br>Text: a) Công nhận, chuyển đổi theo từng học phần;\n\nb) Công nhận, chuyển đổi theo từng nhóm học phần.\n\n3. ...",
          "Type: document<br>Text: 1. Kết thúc mỗi học kỳ, sinh viên tham gia khảo sát lấy ý kiến phản hồi về các\nđiều kiện bảo đảm chấ...",
          "Type: document<br>Text: a) Số TC tích lũy (số TCTL).\n\nb) Tổng số TC của các học phần đã học nhưng chưa đạt từ đầu khóa (số T...",
          "Type: document<br>Text: ---\n\n10\n\n\n7. Trong trường hợp cần thiết, điểm trung bình học kỳ và điểm trung bình tích\nlũy đạt từ l...",
          "Type: document<br>Text: 2. Đối với loại hình liên thông, sinh viên được giao đề tài ĐATN nếu có tổng số\nTC chưa đạt không vư...",
          "Type: document<br>Text: d) Điểm của người hướng dẫn, điểm của người phản biện hoặc điểm của một\nthành viên hội đồng cho dưới...",
          "Type: document<br>Text: ---\n\n11\n\ntrường hợp ngoại lệ sẽ do Hội đồng xét tốt nghiệp quyết định và trình Giám đốc\nĐHBK Hà Nội ...",
          "Type: document<br>Text: 5. Sinh viên đã hết thời gian học tập tối đa theo quy định tại khoản 3 Điều 3 của\nQuy chế này nhưng ...",
          "Type: document<br>Text: a) Khối lượng của các học phần phải học lại vượt quá 5% so với tổng số TC quy\nđịnh cho toàn CTĐT. Qu...",
          "Type: document<br>Text: c) Thời gian nghỉ học tạm thời do sinh viên được điều động vào lực lượng vũ\ntrang (là thời gian được...",
          "Type: document<br>Text: 3. Tự nguyện thôi học: Sinh viên thấy không có đủ điều kiện hoặc không muốn\ntiếp tục học tại ĐHBK Hà...",
          "Type: document<br>Text: 3. Sinh viên thuộc các trường hợp sau được quyền đề nghị chuyển sang học một\nchương trình thuộc hình...",
          "Type: document<br>Text: 5. Sinh viên từ trường khác muốn chuyển tới học tại ĐHBK Hà Nội phải đáp ứng\nđiều kiện trúng tuyển c...",
          "Type: document<br>Text: 2. Sinh viên được đăng ký học chương trình thứ hai sớm nhất khi đã được xếp\ntrình độ năm thứ hai của...",
          "Type: document<br>Text: 6. Sinh viên chỉ được xét tốt nghiệp chương trình thứ hai, nếu có đủ điều kiện tốt\nnghiệp ở chương t...",
          "Type: document<br>Text: c) Áp dụng cảnh báo học tập mức 3 đối với sinh viên có số TC nợ đọng từ đầu\nkhóa lớn hơn 24.\n\nd) Sin...",
          "Type: document<br>Text: 3. Buộc thôi học là hình thức áp dụng đối với những sinh viên có kết quả học tập\nrất kém, cụ thể tro...",
          "Type: document<br>Text: 3. Sinh viên sử dụng chứng chỉ ngoại ngữ giả hoặc chứng chỉ Giáo dục quốc\nphòng-an ninh giả sẽ bị bu...",
          "Type: document<br>Text: 3. Trong quá trình học tập ở bậc đào tạo cử nhân, học viên được đăng ký học\ntrước tối đa 15 TC các h...",
          "Type: document<br>Text: 1. ĐHBK Hà Nội xét tốt nghiệp nhiều đợt trong năm. Học viên muốn được xét\ntốt nghiệp phải đăng ký th...",
          "Type: document<br>Text: d) Điểm trung bình tích lũy toàn khóa đạt từ 2,0 trở lên.\n\nđ) Không nằm trong danh sách đang bị kỷ l...",
          "Type: document<br>Text: 2. Hạng tốt nghiệp được xếp dựa trên điểm trung bình toàn khóa như xếp loại học\nlực quy định tại kho...",
          "Type: document<br>Text: 2. Học viên bị ốm hoặc tai nạn buộc phải điều trị trong thời gian dài, hoặc nghỉ\nthai sản theo quy đ...",
          "Type: document<br>Text: 5. Chế độ bảo lưu kết quả học tập khi nghỉ học tạm thời: Các học phần đăng ký\nhọc trong học kỳ đã đủ...",
          "Type: document<br>Text: b) Học viên không đăng ký học tập trong hai học kỳ liên tiếp.\n\nc) Học viên bị truy cứu trách nhiệm h...",
          "Type: document<br>Text: 2. Đăng ký lớp chính thức: Dựa trên số lượng học viên đăng ký, ĐHBK Hà Nội\nđưa ra số lượng lớp sẽ mở...",
          "Type: document<br>Text: 1. Học phần bổ sung:\n\na) Học viên tốt nghiệp đại học ngành phù hợp hoặc ngành khác so với ngành\nđăng...",
          "Type: document<br>Text: b) Các học phần miễn học được xác định khi xét hồ sơ đăng ký dự tuyển dựa trên\nviệc đối chiếu CTĐT đ...",
          "Type: document<br>Text: 4. Học viên đã có quyết định cho thôi học hoặc buộc thôi học, nếu tiếp tục dự\ntuyển và trúng tuyển v...",
          "Type: document<br>Text: 3. Căn cứ thông tin đăng ký đề tài của học viên, ĐHBK Hà Nội xem xét và ra\nquyết định giao đề tài và...",
          "Type: document<br>Text: 3. Điểm trung bình tích lũy (CPA) đạt từ 2,0 trở lên; Điểm đạt của từng học phần\ntrong CTĐT đạt từ đ...",
          "Type: document<br>Text: b) Điểm thưởng công bố khoa học đối với học viên có thành tích công bố khoa\nhọc sau đây: có bài báo ...",
          "Type: document<br>Text: 2. Luận văn đạt yêu cầu khi điểm bảo vệ luận văn đạt từ điểm C trở lên và không\ncó điểm của thành vi...",
          "Type: document<br>Text: 1. Học viên có đủ các điều kiện sau đây thì được xét công nhận tốt nghiệp:\n\na) Luận văn đạt yêu cầu....",
          "Type: document<br>Text: 3. Học viên đạt đủ điều kiện tốt nghiệp được Giám đốc ĐHBK Hà Nội ra quyết\nđịnh công nhận tốt nghiệp...",
          "Type: document<br>Text: 2. Học viên bị ốm hoặc tai nạn buộc phải điều trị trong thời gian dài, hoặc nghỉ\nthai sản theo quy đ...",
          "Type: document<br>Text: 4. Học viên phải nộp đơn đề nghị trở lại học chậm nhất 1 tuần trước khi bắt đầu\nhọc kỳ mới. Đối với ...",
          "Type: document<br>Text: 3. Học viên bị buộc thôi học trong các trường hợp sau đây:\n\na) Học viên học chậm tiến độ quá thời gi...",
          "Type: document<br>Text: 2. Căn cứ kế hoạch học tập chuẩn toàn khóa của CTĐT tiến sĩ, NCS xây dựng kế\nhoạch chi tiết theo từn...",
          "Type: document<br>Text: 1. Các học phần bổ sung nhằm hỗ trợ NCS có đủ kiến thức, trình độ chuyên môn\nđể thực hiện đề tài ngh...",
          "Type: document<br>Text: a) Mỗi NCS phải hoàn thành tối thiểu 8 TC tương ứng 3-4 học phần tiến sĩ.\n\nb) NCS phải thực hiện quy...",
          "Type: document<br>Text: 1. Tiểu luận tổng quan yêu cầu NCS thể hiện khả năng phân tích, đánh giá các\ncông trình nghiên cứu t...",
          "Type: document<br>Text: a) NCS phải hoàn thành 3 chuyên đề tiến sĩ tương đương với khối lượng 6 TC\nvới thời hạn chậm nhất là...",
          "Type: document<br>Text: 2. Quyển thuyết minh Luận án tiến sĩ phải đáp ứng quy định về hình thức, cách\ntrình bày luận án; số ...",
          "Type: document<br>Text: 1. NCS có đủ các điều kiện sau đây được đăng ký đánh giá luận án tại đơn vị\nchuyên môn (bảo vệ luận ...",
          "Type: document<br>Text: c) Tổng điểm của tất cả các công trình nghiên cứu trong khoản b mục 1 của Điều\nnày phải đạt từ 2,0 đ...",
          "Type: document<br>Text: a) Luận án của NCS được đơn vị chuyên môn đề nghị được đánh giá ở Hội đồng\nđánh giá luận án cấp Đại ...",
          "Type: document<br>Text: b) Hội đồng đánh giá luận án cấp cơ sở (sau đây gọi tắt là hội đồng cấp cơ sở) do\nHiệu trưởng trường...",
          "Type: document<br>Text: đ) Trong vòng 20 ngày sau khi kết thúc đánh giá luận án cấp cơ sở, NCS phải\nhoàn thành đầy đủ việc s...",
          "Type: document<br>Text: a) NCS được bảo vệ luận án cấp Đại học nếu đáp ứng đầy đủ các điều kiện quy\nđịnh tại khoản 2 Điều 40...",
          "Type: document<br>Text: ---\n\n26\n\n\nd) Luận án được đánh giá bằng hình thức bỏ phiếu (tán thành hoặc không tán\nthành), luận án...",
          "Type: document<br>Text: 1. Trong trường hợp Hội đồng đánh giá luận án cấp Đại học có quyết nghị không\nthông qua luận án và c...",
          "Type: document<br>Text: 3. Trong trường hợp luận án bảo vệ lần thứ hai vẫn không đạt yêu cầu, ĐHBK\nHà Nội không tổ chức bảo ...",
          "Type: document<br>Text: d) Đã nộp Thư viện Quốc gia Việt Nam và Thư viện Tạ Quang Bửu của ĐHBK\nHà Nội (cả bản in và file pdf...",
          "Type: document<br>Text: ---\n\n27\n\nbằng tiến sĩ cho nghiên cứu sinh được thực hiện trong thời hạn 30 ngày làm việc kể từ\nngày ...",
          "Type: document<br>Text: 4. Giám đốc ĐHBK Hà Nội xem xét, quyết định cho phép NCS được rút ngắn\nthời gian học tập tối đa khôn...",
          "Type: document<br>Text: 7. NCS không muốn tiếp tục học tại ĐHBK Hà Nội có thể làm đơn đề nghị thôi\nhọc và được xem xét cho t...",
          "Type: document<br>Text: ---\n\n28\n\nphù hợp với nội dung, yêu cầu của CTĐT, được thực hiện trên cơ sở đề xuất của Tiểu\nban xét ...",
          "Type: document<br>Text: 2. Đối với các khoá tuyển sinh có quyết định công nhận NCS trong khoảng thời\ngian từ ngày 15 tháng 8...",
          "Type: document<br>Text: 3. Đối với các khoá tuyển sinh đã có quyết định công nhận NCS trước ngày 18\ntháng 5 năm 2017, ĐHBK H...",
          "Type: document<br>Text: ---\n\n29\n\n\nb) Khoản 2 Điều 18 (về việc học cùng lúc hai chương trình) được áp dụng với\ncác khóa tuyển...",
          "Type: question answer<br>Text: Ban Công tác Sinh viên sẽ tiếp nhận và giải đáp thắc mắc của sinh viên tại địa chỉ nào?: Chỉ tại các...",
          "Type: question answer<br>Text: Một môn học có trọng số KT(0,4)-T(0,6) nghĩa là môn học đó có *: Trọng số của điểm kiểm tra giữa kỳ ...",
          "Type: question answer<br>Text: Phương pháp quản lý chi tiêu 50-20-30 với sinh viên?: 50% Nhu cầu thiết yếu, 20% Tiết kiệm, 30% Sở ...",
          "Type: question answer<br>Text: Sinh viên bắt đầu được xem xét chuyển ngành từ khi nào?: Sau khi hoàn thành năm thứ nhất\n\nTrong các...",
          "Type: question answer<br>Text: Sinh viên sẽ bị xem xét buộc thôi học nếu?: Bị cảnh cáo học tập mức 3 lần thứ hai\n\nĐiều kiện xét tuy...",
          "Type: question answer<br>Text: Khi nào sinh viên phải hoàn toàn tự đăng ký lớp?: Bắt đầu từ học kỳ thứ 3\n\nCách thức đánh giá điểm r...",
          "Type: question answer<br>Text: Các bước đăng ký mới hoặc reset lại mật khẩu bị mất là: *: Truy cập ctt.hust.edu.vn – Chọn “Đăng nhậ...",
          "Type: question answer<br>Text: Đối tượng được xét học bổng Trần Đại Nghĩa là những ai: *: Sinh viên có hoàn cảnh khó khăn, có nghị ...",
          "Type: question answer<br>Text: Điều kiện được xét học bổng loại A là gì: *: GPA từ 3.6, điểm rèn luyện từ 90.\n\nTheo định hướng cu...",
          "Type: question answer<br>Text: Điểm rèn luyện được xếp loại theo cách nào dưới đây?: Xuất sắc, Tốt, Khá, Trung bình, Yếu, Kém\n\nĐiểm...",
          "Type: question answer<br>Text: Một môn học có trọng số KT(0.3)-T(0.7) và có điểm thi giữa kỳ (đã cộng) là 9đ, điểm thi cuối kỳ là 8...",
          "Type: question answer<br>Text: Ưu điểm nào sau đây là đặc trưng của chương trình đào tạo theo tín chỉ?: Sinh viên có thể tự lập kế ...",
          "Type: question answer<br>Text: Điều kiện cần để đạt học bổng loại A là gì?: GPA≥3,6 ĐRL≥90\n\nĐịa chỉ bạn cần đến để được hỗ t...",
          "Type: question answer<br>Text: Sinh viên được xếp hạng trình độ năm thứ nhất căn cứ số tín chỉ tích lũy như thế nào?: Trình độ năm ...",
          "Type: question answer<br>Text: Học đại học có khác gì so với THPT: Cần có kỹ năng làm việc độc lập: Cần có khả năng tự đọc - tự học...",
          "Type: question answer<br>Text: Mục chấm điểm rèn luyện có 2 cột điểm SV chấm và điểm GV chấm, vậy điểm chốt tính theo điểm nào?: Cộ...",
          "Type: question answer<br>Text: Các màu nhãn sách tại Trung tâm truyền thông và tri thức số là:: Màu trắng: sách đọc tại các phòng.:...",
          "Type: question answer<br>Text: Học bổng Trần Đại Nghĩa dành cho sinh viên có hoàn cảnh kinh tế khó khăn, có nghị lực vươn lên trong...",
          "Type: question answer<br>Text: Đâu là trang tra cứu OPAC:: http://libopac.hust.edu.vn/\n\nGPA và CPA có nghĩa là gì ?: GPA là điểm tr..."
         ],
         "type": "scatter3d",
         "x": [
          5.501373,
          -30.303766,
          -3.6604104,
          7.897367,
          26.22637,
          43.63659,
          60.163857,
          -83.87899,
          6.9226127,
          23.210997,
          -17.76365,
          100.02888,
          -1.2931664,
          -54.814655,
          89.87596,
          -33.728184,
          -46.796734,
          58.377174,
          -5.85521,
          -20.257929,
          4.127302,
          33.402637,
          52.452362,
          -59.310287,
          1.6087351,
          11.42077,
          25.713314,
          8.837919,
          29.7922,
          -63.970333,
          11.504174,
          51.478497,
          -37.557533,
          27.811184,
          30.357609,
          21.977598,
          0.92590785,
          -45.35625,
          60.53862,
          -5.5807986,
          -20.626247,
          -20.844753,
          -45.984028,
          -68.44237,
          -0.40209827,
          32.87676,
          8.54001,
          -8.655876,
          -25.644258,
          91.73515,
          68.64408,
          56.915253,
          4.0682125,
          -4.6783953,
          -49.475803,
          -37.658726,
          -67.87695,
          -12.792572,
          30.531878,
          -4.4945927,
          42.65007,
          14.006026,
          45.413967,
          58.617046,
          56.98685,
          25.63662,
          -55.38574,
          -21.213518,
          -32.26112,
          -73.967606,
          -32.261658,
          38.170773,
          57.018692,
          -111.444626,
          73.87972,
          -98.7802,
          -76.26547,
          -113.39065,
          -103.04213,
          -92.745346,
          -72.14682,
          -88.73651,
          -94.859604,
          -67.02581,
          -50.4684,
          -66.95545,
          -75.41289,
          -103.287796,
          -26.290768,
          15.02035,
          -12.834698,
          -20.831953,
          10.98348,
          -25.036438,
          11.757852,
          20.893429,
          -1.7524191,
          73.79887,
          -22.627342,
          16.705074,
          -2.5615528,
          101.94534,
          39.71233,
          83.39142,
          22.835865,
          14.05652,
          62.154278,
          37.17582,
          36.244766,
          64.51066,
          54.102676,
          93.87564,
          64.023575,
          49.570976
         ],
         "y": [
          102.26102,
          43.14582,
          57.22018,
          36.49279,
          57.660282,
          85.11335,
          57.745018,
          -43.064724,
          -86.890015,
          -107.628006,
          107.912025,
          37.70592,
          -126.13157,
          28.448034,
          48.613518,
          75.652985,
          74.70781,
          57.594448,
          -7.042302,
          -46.519287,
          -39.040096,
          -64.81921,
          -48.654736,
          71.070786,
          -23.008842,
          0.8055368,
          -41.807293,
          37.366405,
          42.319572,
          45.50664,
          53.733685,
          20.81679,
          32.66759,
          -50.00934,
          -21.670855,
          -72.46832,
          -62.152096,
          59.82655,
          -60.304295,
          55.79437,
          -68.31223,
          -46.959812,
          -12.009459,
          6.510563,
          68.82801,
          -0.45884055,
          57.885094,
          19.370016,
          -39.51959,
          -22.66479,
          -6.2001996,
          26.471462,
          1.8873892,
          -55.69577,
          -53.07581,
          -10.945894,
          -11.313008,
          1.1129326,
          28.560207,
          -19.804045,
          -10.832138,
          -25.15187,
          62.86353,
          82.47875,
          14.439403,
          -93.14145,
          15.274371,
          -32.963284,
          -71.29861,
          -27.371193,
          -0.36915278,
          4.922151,
          25.38358,
          17.158293,
          1.5440997,
          28.529333,
          18.144726,
          6.284937,
          20.159063,
          -10.06122,
          -4.35904,
          -30.877165,
          -18.653276,
          -42.550735,
          -25.673216,
          -25.605125,
          -49.905117,
          -47.5905,
          65.6443,
          31.83274,
          37.233402,
          34.67058,
          104.51483,
          -90.026665,
          64.22956,
          -69.46073,
          13.115355,
          -61.920013,
          5.471518,
          99.93246,
          -32.860905,
          -24.109085,
          -52.92698,
          -11.479636,
          -14.473579,
          7.03192,
          -69.32176,
          -35.79244,
          92.11302,
          -37.701912,
          -14.092503,
          -15.929389,
          -40.786137,
          43.57689
         ],
         "z": [
          62.50967,
          16.876543,
          32.62518,
          37.265625,
          42.16881,
          46.63537,
          41.905884,
          -78.88949,
          -10.017248,
          -6.6265187,
          15.695125,
          -38.214653,
          -2.354636,
          -76.97913,
          -9.964476,
          -17.28249,
          -45.135258,
          -68.08779,
          -113.87179,
          -100.91727,
          -103.50477,
          -88.912315,
          -92.00229,
          34.835705,
          -74.10563,
          -58.791218,
          -62.88693,
          -46.16321,
          -62.433197,
          -22.001957,
          5.0136304,
          14.106679,
          -33.20366,
          -14.041697,
          -1.0508987,
          -51.35179,
          -60.461147,
          61.048428,
          -48.85565,
          81.43639,
          36.914375,
          -15.815294,
          -20.833206,
          -31.07941,
          -55.08282,
          -24.857018,
          -28.76861,
          -9.688103,
          -41.342567,
          -18.92658,
          -13.85005,
          -25.253626,
          23.212845,
          21.68553,
          -10.813705,
          8.596663,
          -52.771027,
          -38.827175,
          -5.0080466,
          -1.0501593,
          -64.899,
          -35.05202,
          -5.452967,
          -5.8705893,
          56.38055,
          41.059326,
          81.09829,
          36.452232,
          10.804763,
          -36.307674,
          -53.130947,
          99.97912,
          -89.50797,
          -41.942936,
          100.74601,
          46.445133,
          25.128942,
          30.00572,
          4.6584187,
          9.743369,
          52.05161,
          71.94422,
          45.726433,
          54.463535,
          83.24221,
          28.916464,
          22.06019,
          38.328377,
          -88.28073,
          -84.89426,
          -69.55539,
          -102.307236,
          13.268486,
          -38.568123,
          -115.10197,
          76.30335,
          87.261314,
          34.901077,
          52.070236,
          -26.72331,
          78.10117,
          25.182377,
          40.2337,
          -55.741814,
          51.628086,
          66.40662,
          0.4470437,
          87.4999,
          -53.73309,
          13.297678,
          33.580517,
          62.193993,
          62.92769,
          85.1445
         ]
        }
       ],
       "layout": {
        "height": 700,
        "margin": {
         "b": 10,
         "l": 10,
         "r": 20,
         "t": 40
        },
        "scene": {
         "xaxis": {
          "title": {
           "text": "x"
          }
         },
         "yaxis": {
          "title": {
           "text": "y"
          }
         },
         "zaxis": {
          "title": {
           "text": "z"
          }
         }
        },
        "template": {
         "data": {
          "bar": [
           {
            "error_x": {
             "color": "#2a3f5f"
            },
            "error_y": {
             "color": "#2a3f5f"
            },
            "marker": {
             "line": {
              "color": "#E5ECF6",
              "width": 0.5
             },
             "pattern": {
              "fillmode": "overlay",
              "size": 10,
              "solidity": 0.2
             }
            },
            "type": "bar"
           }
          ],
          "barpolar": [
           {
            "marker": {
             "line": {
              "color": "#E5ECF6",
              "width": 0.5
             },
             "pattern": {
              "fillmode": "overlay",
              "size": 10,
              "solidity": 0.2
             }
            },
            "type": "barpolar"
           }
          ],
          "carpet": [
           {
            "aaxis": {
             "endlinecolor": "#2a3f5f",
             "gridcolor": "white",
             "linecolor": "white",
             "minorgridcolor": "white",
             "startlinecolor": "#2a3f5f"
            },
            "baxis": {
             "endlinecolor": "#2a3f5f",
             "gridcolor": "white",
             "linecolor": "white",
             "minorgridcolor": "white",
             "startlinecolor": "#2a3f5f"
            },
            "type": "carpet"
           }
          ],
          "choropleth": [
           {
            "colorbar": {
             "outlinewidth": 0,
             "ticks": ""
            },
            "type": "choropleth"
           }
          ],
          "contour": [
           {
            "colorbar": {
             "outlinewidth": 0,
             "ticks": ""
            },
            "colorscale": [
             [
              0,
              "#0d0887"
             ],
             [
              0.1111111111111111,
              "#46039f"
             ],
             [
              0.2222222222222222,
              "#7201a8"
             ],
             [
              0.3333333333333333,
              "#9c179e"
             ],
             [
              0.4444444444444444,
              "#bd3786"
             ],
             [
              0.5555555555555556,
              "#d8576b"
             ],
             [
              0.6666666666666666,
              "#ed7953"
             ],
             [
              0.7777777777777778,
              "#fb9f3a"
             ],
             [
              0.8888888888888888,
              "#fdca26"
             ],
             [
              1,
              "#f0f921"
             ]
            ],
            "type": "contour"
           }
          ],
          "contourcarpet": [
           {
            "colorbar": {
             "outlinewidth": 0,
             "ticks": ""
            },
            "type": "contourcarpet"
           }
          ],
          "heatmap": [
           {
            "colorbar": {
             "outlinewidth": 0,
             "ticks": ""
            },
            "colorscale": [
             [
              0,
              "#0d0887"
             ],
             [
              0.1111111111111111,
              "#46039f"
             ],
             [
              0.2222222222222222,
              "#7201a8"
             ],
             [
              0.3333333333333333,
              "#9c179e"
             ],
             [
              0.4444444444444444,
              "#bd3786"
             ],
             [
              0.5555555555555556,
              "#d8576b"
             ],
             [
              0.6666666666666666,
              "#ed7953"
             ],
             [
              0.7777777777777778,
              "#fb9f3a"
             ],
             [
              0.8888888888888888,
              "#fdca26"
             ],
             [
              1,
              "#f0f921"
             ]
            ],
            "type": "heatmap"
           }
          ],
          "heatmapgl": [
           {
            "colorbar": {
             "outlinewidth": 0,
             "ticks": ""
            },
            "colorscale": [
             [
              0,
              "#0d0887"
             ],
             [
              0.1111111111111111,
              "#46039f"
             ],
             [
              0.2222222222222222,
              "#7201a8"
             ],
             [
              0.3333333333333333,
              "#9c179e"
             ],
             [
              0.4444444444444444,
              "#bd3786"
             ],
             [
              0.5555555555555556,
              "#d8576b"
             ],
             [
              0.6666666666666666,
              "#ed7953"
             ],
             [
              0.7777777777777778,
              "#fb9f3a"
             ],
             [
              0.8888888888888888,
              "#fdca26"
             ],
             [
              1,
              "#f0f921"
             ]
            ],
            "type": "heatmapgl"
           }
          ],
          "histogram": [
           {
            "marker": {
             "pattern": {
              "fillmode": "overlay",
              "size": 10,
              "solidity": 0.2
             }
            },
            "type": "histogram"
           }
          ],
          "histogram2d": [
           {
            "colorbar": {
             "outlinewidth": 0,
             "ticks": ""
            },
            "colorscale": [
             [
              0,
              "#0d0887"
             ],
             [
              0.1111111111111111,
              "#46039f"
             ],
             [
              0.2222222222222222,
              "#7201a8"
             ],
             [
              0.3333333333333333,
              "#9c179e"
             ],
             [
              0.4444444444444444,
              "#bd3786"
             ],
             [
              0.5555555555555556,
              "#d8576b"
             ],
             [
              0.6666666666666666,
              "#ed7953"
             ],
             [
              0.7777777777777778,
              "#fb9f3a"
             ],
             [
              0.8888888888888888,
              "#fdca26"
             ],
             [
              1,
              "#f0f921"
             ]
            ],
            "type": "histogram2d"
           }
          ],
          "histogram2dcontour": [
           {
            "colorbar": {
             "outlinewidth": 0,
             "ticks": ""
            },
            "colorscale": [
             [
              0,
              "#0d0887"
             ],
             [
              0.1111111111111111,
              "#46039f"
             ],
             [
              0.2222222222222222,
              "#7201a8"
             ],
             [
              0.3333333333333333,
              "#9c179e"
             ],
             [
              0.4444444444444444,
              "#bd3786"
             ],
             [
              0.5555555555555556,
              "#d8576b"
             ],
             [
              0.6666666666666666,
              "#ed7953"
             ],
             [
              0.7777777777777778,
              "#fb9f3a"
             ],
             [
              0.8888888888888888,
              "#fdca26"
             ],
             [
              1,
              "#f0f921"
             ]
            ],
            "type": "histogram2dcontour"
           }
          ],
          "mesh3d": [
           {
            "colorbar": {
             "outlinewidth": 0,
             "ticks": ""
            },
            "type": "mesh3d"
           }
          ],
          "parcoords": [
           {
            "line": {
             "colorbar": {
              "outlinewidth": 0,
              "ticks": ""
             }
            },
            "type": "parcoords"
           }
          ],
          "pie": [
           {
            "automargin": true,
            "type": "pie"
           }
          ],
          "scatter": [
           {
            "fillpattern": {
             "fillmode": "overlay",
             "size": 10,
             "solidity": 0.2
            },
            "type": "scatter"
           }
          ],
          "scatter3d": [
           {
            "line": {
             "colorbar": {
              "outlinewidth": 0,
              "ticks": ""
             }
            },
            "marker": {
             "colorbar": {
              "outlinewidth": 0,
              "ticks": ""
             }
            },
            "type": "scatter3d"
           }
          ],
          "scattercarpet": [
           {
            "marker": {
             "colorbar": {
              "outlinewidth": 0,
              "ticks": ""
             }
            },
            "type": "scattercarpet"
           }
          ],
          "scattergeo": [
           {
            "marker": {
             "colorbar": {
              "outlinewidth": 0,
              "ticks": ""
             }
            },
            "type": "scattergeo"
           }
          ],
          "scattergl": [
           {
            "marker": {
             "colorbar": {
              "outlinewidth": 0,
              "ticks": ""
             }
            },
            "type": "scattergl"
           }
          ],
          "scattermapbox": [
           {
            "marker": {
             "colorbar": {
              "outlinewidth": 0,
              "ticks": ""
             }
            },
            "type": "scattermapbox"
           }
          ],
          "scatterpolar": [
           {
            "marker": {
             "colorbar": {
              "outlinewidth": 0,
              "ticks": ""
             }
            },
            "type": "scatterpolar"
           }
          ],
          "scatterpolargl": [
           {
            "marker": {
             "colorbar": {
              "outlinewidth": 0,
              "ticks": ""
             }
            },
            "type": "scatterpolargl"
           }
          ],
          "scatterternary": [
           {
            "marker": {
             "colorbar": {
              "outlinewidth": 0,
              "ticks": ""
             }
            },
            "type": "scatterternary"
           }
          ],
          "surface": [
           {
            "colorbar": {
             "outlinewidth": 0,
             "ticks": ""
            },
            "colorscale": [
             [
              0,
              "#0d0887"
             ],
             [
              0.1111111111111111,
              "#46039f"
             ],
             [
              0.2222222222222222,
              "#7201a8"
             ],
             [
              0.3333333333333333,
              "#9c179e"
             ],
             [
              0.4444444444444444,
              "#bd3786"
             ],
             [
              0.5555555555555556,
              "#d8576b"
             ],
             [
              0.6666666666666666,
              "#ed7953"
             ],
             [
              0.7777777777777778,
              "#fb9f3a"
             ],
             [
              0.8888888888888888,
              "#fdca26"
             ],
             [
              1,
              "#f0f921"
             ]
            ],
            "type": "surface"
           }
          ],
          "table": [
           {
            "cells": {
             "fill": {
              "color": "#EBF0F8"
             },
             "line": {
              "color": "white"
             }
            },
            "header": {
             "fill": {
              "color": "#C8D4E3"
             },
             "line": {
              "color": "white"
             }
            },
            "type": "table"
           }
          ]
         },
         "layout": {
          "annotationdefaults": {
           "arrowcolor": "#2a3f5f",
           "arrowhead": 0,
           "arrowwidth": 1
          },
          "autotypenumbers": "strict",
          "coloraxis": {
           "colorbar": {
            "outlinewidth": 0,
            "ticks": ""
           }
          },
          "colorscale": {
           "diverging": [
            [
             0,
             "#8e0152"
            ],
            [
             0.1,
             "#c51b7d"
            ],
            [
             0.2,
             "#de77ae"
            ],
            [
             0.3,
             "#f1b6da"
            ],
            [
             0.4,
             "#fde0ef"
            ],
            [
             0.5,
             "#f7f7f7"
            ],
            [
             0.6,
             "#e6f5d0"
            ],
            [
             0.7,
             "#b8e186"
            ],
            [
             0.8,
             "#7fbc41"
            ],
            [
             0.9,
             "#4d9221"
            ],
            [
             1,
             "#276419"
            ]
           ],
           "sequential": [
            [
             0,
             "#0d0887"
            ],
            [
             0.1111111111111111,
             "#46039f"
            ],
            [
             0.2222222222222222,
             "#7201a8"
            ],
            [
             0.3333333333333333,
             "#9c179e"
            ],
            [
             0.4444444444444444,
             "#bd3786"
            ],
            [
             0.5555555555555556,
             "#d8576b"
            ],
            [
             0.6666666666666666,
             "#ed7953"
            ],
            [
             0.7777777777777778,
             "#fb9f3a"
            ],
            [
             0.8888888888888888,
             "#fdca26"
            ],
            [
             1,
             "#f0f921"
            ]
           ],
           "sequentialminus": [
            [
             0,
             "#0d0887"
            ],
            [
             0.1111111111111111,
             "#46039f"
            ],
            [
             0.2222222222222222,
             "#7201a8"
            ],
            [
             0.3333333333333333,
             "#9c179e"
            ],
            [
             0.4444444444444444,
             "#bd3786"
            ],
            [
             0.5555555555555556,
             "#d8576b"
            ],
            [
             0.6666666666666666,
             "#ed7953"
            ],
            [
             0.7777777777777778,
             "#fb9f3a"
            ],
            [
             0.8888888888888888,
             "#fdca26"
            ],
            [
             1,
             "#f0f921"
            ]
           ]
          },
          "colorway": [
           "#636efa",
           "#EF553B",
           "#00cc96",
           "#ab63fa",
           "#FFA15A",
           "#19d3f3",
           "#FF6692",
           "#B6E880",
           "#FF97FF",
           "#FECB52"
          ],
          "font": {
           "color": "#2a3f5f"
          },
          "geo": {
           "bgcolor": "white",
           "lakecolor": "white",
           "landcolor": "#E5ECF6",
           "showlakes": true,
           "showland": true,
           "subunitcolor": "white"
          },
          "hoverlabel": {
           "align": "left"
          },
          "hovermode": "closest",
          "mapbox": {
           "style": "light"
          },
          "paper_bgcolor": "white",
          "plot_bgcolor": "#E5ECF6",
          "polar": {
           "angularaxis": {
            "gridcolor": "white",
            "linecolor": "white",
            "ticks": ""
           },
           "bgcolor": "#E5ECF6",
           "radialaxis": {
            "gridcolor": "white",
            "linecolor": "white",
            "ticks": ""
           }
          },
          "scene": {
           "xaxis": {
            "backgroundcolor": "#E5ECF6",
            "gridcolor": "white",
            "gridwidth": 2,
            "linecolor": "white",
            "showbackground": true,
            "ticks": "",
            "zerolinecolor": "white"
           },
           "yaxis": {
            "backgroundcolor": "#E5ECF6",
            "gridcolor": "white",
            "gridwidth": 2,
            "linecolor": "white",
            "showbackground": true,
            "ticks": "",
            "zerolinecolor": "white"
           },
           "zaxis": {
            "backgroundcolor": "#E5ECF6",
            "gridcolor": "white",
            "gridwidth": 2,
            "linecolor": "white",
            "showbackground": true,
            "ticks": "",
            "zerolinecolor": "white"
           }
          },
          "shapedefaults": {
           "line": {
            "color": "#2a3f5f"
           }
          },
          "ternary": {
           "aaxis": {
            "gridcolor": "white",
            "linecolor": "white",
            "ticks": ""
           },
           "baxis": {
            "gridcolor": "white",
            "linecolor": "white",
            "ticks": ""
           },
           "bgcolor": "#E5ECF6",
           "caxis": {
            "gridcolor": "white",
            "linecolor": "white",
            "ticks": ""
           }
          },
          "title": {
           "x": 0.05
          },
          "xaxis": {
           "automargin": true,
           "gridcolor": "white",
           "linecolor": "white",
           "ticks": "",
           "title": {
            "standoff": 15
           },
           "zerolinecolor": "white",
           "zerolinewidth": 2
          },
          "yaxis": {
           "automargin": true,
           "gridcolor": "white",
           "linecolor": "white",
           "ticks": "",
           "title": {
            "standoff": 15
           },
           "zerolinecolor": "white",
           "zerolinewidth": 2
          }
         }
        },
        "title": {
         "text": "3D Chroma Vector Store Visualization"
        },
        "width": 900
       }
      }
     },
     "metadata": {},
     "output_type": "display_data"
    }
   ],
   "source": [
    "tsne = TSNE(n_components=3, random_state=42)\n",
    "reduced_vectors = tsne.fit_transform(vectors)\n",
    "\n",
    "# Create the 3D scatter plot\n",
    "fig = go.Figure(data=[go.Scatter3d(\n",
    "    x=reduced_vectors[:, 0],\n",
    "    y=reduced_vectors[:, 1],\n",
    "    z=reduced_vectors[:, 2],\n",
    "    mode='markers',\n",
    "    marker=dict(size=5, color=colors, opacity=0.8),\n",
    "    text=[f\"Type: {t}<br>Text: {d[:100]}...\" for t, d in zip(doc_types, documents)],\n",
    "    hoverinfo='text'\n",
    ")])\n",
    "\n",
    "fig.update_layout(\n",
    "    title='3D Chroma Vector Store Visualization',\n",
    "    scene=dict(xaxis_title='x', yaxis_title='y', zaxis_title='z'),\n",
    "    width=900,\n",
    "    height=700,\n",
    "    margin=dict(r=20, b=10, l=10, t=40)\n",
    ")\n",
    "\n",
    "fig.show()"
   ]
  },
  {
   "cell_type": "code",
   "execution_count": 34,
   "id": "b53f27fd",
   "metadata": {},
   "outputs": [],
   "source": [
    "from langchain_core.tools import tool\n",
    "from langchain.agents import initialize_agent\n",
    "\n",
    "ranking = { 0.0: \"Yếu\", 2.0: \"Trung bình\", 2.5: \"Khá\", 3.2: \"Giỏi\", 3.6: \"Xuất sắc\"}\n",
    "\n",
    "@tool\n",
    "def get_ranking(grade):\n",
    "    \"\"\"\n",
    "    Trả về xếp loại dựa vào số điểm CPA\n",
    "\n",
    "    Args:\n",
    "        grade (float): Số điểm CPA của sinh viên\n",
    "    \"\"\"\n",
    "    grade = grade.replace(\"'\", \"\\\"\")\n",
    "\n",
    "    grade = json.loads(grade).get('grade')\n",
    "    grade = float(grade)\n",
    "\n",
    "    if grade > 4 or grade < 0:\n",
    "        return \"Số điểm không hợp lệ trên thang điểm 4\"\n",
    "\n",
    "    for key in sorted(ranking.keys(), reverse= True):\n",
    "        if grade >= key:\n",
    "            return ranking[key]\n",
    "\n",
    "    return \"Xuất sắc\" \n"
   ]
  },
  {
   "cell_type": "code",
   "execution_count": null,
   "id": "7062609e",
   "metadata": {},
   "outputs": [],
   "source": [
    "from langchain_community.chat_models import ChatOllama\n",
    "\n",
    "from langchain_openai import ChatOpenAI\n",
    "# llm = ChatOpenAI(\n",
    "#     api_key=\"ollama\",\n",
    "#     model= MODEL_QWEN7b,\n",
    "#     base_url=\"http://localhost:11434/v1\",\n",
    "# )\n",
    "\n",
    "llm = ChatOpenAI(\n",
    "    model = MODEL_GPT,\n",
    "    temperature= 0.7\n",
    ")\n",
    "\n",
    "tools = [get_ranking]\n",
    "\n",
    "llm = llm.bind_tools(tools)\n",
    "agent = initialize_agent(tools, llm, agent_type=\"zero-shot-react-description\", verbose=True)\n",
    "\n",
    "def handle_get_ranking_tool_call(tool_call):\n",
    "    arguments = tool_call.get('args')\n",
    "    grade = arguments.get('grade')\n",
    "    ranking = agent.run(f\"Lấy xếp loại của sinh viên dựa vào điểm số CPA cung cấp: {grade}\")\n",
    "    return ranking\n"
   ]
  },
  {
   "cell_type": "code",
   "execution_count": 36,
   "id": "956efe21",
   "metadata": {},
   "outputs": [],
   "source": [
    "memory = ConversationBufferMemory(memory_key='chat_history', return_messages=True)\n",
    "retriever = vectorstore.as_retriever()\n",
    "conversation_chain = ConversationalRetrievalChain.from_llm(llm=llm, retriever=retriever, memory=memory)"
   ]
  },
  {
   "cell_type": "code",
   "execution_count": 37,
   "id": "5c0a65e4-0bfb-4d4d-8b5b-4ebf52a76735",
   "metadata": {},
   "outputs": [],
   "source": [
    "\n",
    "def chat(message, history):\n",
    "    print(history)\n",
    "    response = llm.invoke(message)\n",
    "    if response.tool_calls:\n",
    "        for tool_call in response.tool_calls:\n",
    "            if tool_call.get('name') == 'get_ranking':\n",
    "                result = handle_get_ranking_tool_call(response.tool_calls[0])\n",
    "        return result\n",
    "    else:\n",
    "        result = conversation_chain.invoke({\"question\": message})\n",
    "        return result[\"answer\"]"
   ]
  },
  {
   "cell_type": "code",
   "execution_count": 38,
   "id": "75290ca6",
   "metadata": {},
   "outputs": [
    {
     "name": "stdout",
     "output_type": "stream",
     "text": [
      "haha\n"
     ]
    },
    {
     "name": "stderr",
     "output_type": "stream",
     "text": [
      "C:\\Users\\HoMinhNhat\\AppData\\Local\\Temp\\ipykernel_21532\\1620392391.py:22: LangChainDeprecationWarning:\n",
      "\n",
      "The method `Chain.run` was deprecated in langchain 0.1.0 and will be removed in 1.0. Use :meth:`~invoke` instead.\n",
      "\n"
     ]
    },
    {
     "name": "stdout",
     "output_type": "stream",
     "text": [
      "\n",
      "\n",
      "\u001b[1m> Entering new AgentExecutor chain...\u001b[0m\n",
      "\u001b[32;1m\u001b[1;3mI need to use the get_ranking function with the provided grade to get the ranking.\n",
      "Action: get_ranking\n",
      "Action Input: {\"grade\": 3.4}\u001b[0m\n",
      "Observation: \u001b[36;1m\u001b[1;3mGiỏi\u001b[0m\n",
      "Thought:\u001b[32;1m\u001b[1;3mI now know the final answer\n",
      "Final Answer: Sinh viên có điểm CPA là 3.4 sẽ được xếp loại \"Giỏi\".\u001b[0m\n",
      "\n",
      "\u001b[1m> Finished chain.\u001b[0m\n"
     ]
    },
    {
     "data": {
      "text/plain": [
       "'Sinh viên có điểm CPA là 3.4 sẽ được xếp loại \"Giỏi\".'"
      ]
     },
     "execution_count": 38,
     "metadata": {},
     "output_type": "execute_result"
    }
   ],
   "source": [
    "chat('Xếp loại của sinh viên có số điểm 3.4', 'haha')"
   ]
  },
  {
   "cell_type": "code",
   "execution_count": 39,
   "id": "b2a04207-f34a-4631-9d7f-1f91064a26ae",
   "metadata": {},
   "outputs": [
    {
     "name": "stdout",
     "output_type": "stream",
     "text": [
      "* Running on local URL:  http://127.0.0.1:7860\n",
      "* Running on public URL: https://688e4cce92a97530c2.gradio.live\n",
      "\n",
      "This share link expires in 72 hours. For free permanent hosting and GPU upgrades, run `gradio deploy` from the terminal in the working directory to deploy to Hugging Face Spaces (https://huggingface.co/spaces)\n"
     ]
    },
    {
     "data": {
      "text/html": [
       "<div><iframe src=\"https://688e4cce92a97530c2.gradio.live\" width=\"100%\" height=\"500\" allow=\"autoplay; camera; microphone; clipboard-read; clipboard-write;\" frameborder=\"0\" allowfullscreen></iframe></div>"
      ],
      "text/plain": [
       "<IPython.core.display.HTML object>"
      ]
     },
     "metadata": {},
     "output_type": "display_data"
    }
   ],
   "source": [
    "view = gr.ChatInterface(chat, type=\"messages\").launch(share = True)"
   ]
  },
  {
   "cell_type": "code",
   "execution_count": null,
   "id": "e5c57970",
   "metadata": {},
   "outputs": [],
   "source": []
  }
 ],
 "metadata": {
  "kernelspec": {
   "display_name": "llms",
   "language": "python",
   "name": "python3"
  },
  "language_info": {
   "codemirror_mode": {
    "name": "ipython",
    "version": 3
   },
   "file_extension": ".py",
   "mimetype": "text/x-python",
   "name": "python",
   "nbconvert_exporter": "python",
   "pygments_lexer": "ipython3",
   "version": "3.11.11"
  }
 },
 "nbformat": 4,
 "nbformat_minor": 5
}
