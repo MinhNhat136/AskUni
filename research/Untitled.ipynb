{
 "cells": [
  {
   "cell_type": "code",
   "execution_count": 82,
   "id": "8f01e2e0-838b-4cfd-9e0f-9213cb291195",
   "metadata": {},
   "outputs": [],
   "source": [
    "import os\n",
    "import glob\n",
    "from dotenv import load_dotenv\n",
    "import json\n",
    "import gradio as gr\n",
    "from openai import OpenAI"
   ]
  },
  {
   "cell_type": "code",
   "execution_count": 83,
   "id": "d02307d9-cae8-4944-84b4-58550f0ec3dd",
   "metadata": {},
   "outputs": [],
   "source": [
    "from langchain.document_loaders import DirectoryLoader, TextLoader\n",
    "from langchain.text_splitter import CharacterTextSplitter, RecursiveCharacterTextSplitter\n",
    "from langchain.schema import Document\n",
    "from langchain_openai import OpenAIEmbeddings, ChatOpenAI\n",
    "from langchain_chroma import Chroma\n",
    "import numpy as np\n",
    "from sklearn.manifold import TSNE\n",
    "import plotly.graph_objects as go\n",
    "from langchain.memory import ConversationBufferMemory\n",
    "from langchain.chains import ConversationalRetrievalChain"
   ]
  },
  {
   "cell_type": "code",
   "execution_count": 84,
   "id": "9d51be20-92a4-4988-befa-6b4bd321cb2d",
   "metadata": {},
   "outputs": [],
   "source": [
    "MODEL_GPT = \"gpt-4o\"\n",
    "MODEL_QWEN3b = 'qwen2.5:3b'\n",
    "MODEL_QWEN7b = 'qwen2.5'\n",
    "MODEL_LLAMA  = 'llama3.2'\n",
    "db_name = \"..\\\\vector_db\""
   ]
  },
  {
   "cell_type": "code",
   "execution_count": 85,
   "id": "e3b34d66-4e53-4648-9a10-2432f4a44581",
   "metadata": {},
   "outputs": [],
   "source": [
    "load_dotenv()\n",
    "os.environ['OPENAI_API_KEY'] = os.getenv('OPENAI_API_KEY')\n",
    "openai = OpenAI()"
   ]
  },
  {
   "cell_type": "code",
   "execution_count": 86,
   "id": "5413f7a5",
   "metadata": {},
   "outputs": [
    {
     "name": "stdout",
     "output_type": "stream",
     "text": [
      "An error occurred: module 'fitz' has no attribute 'open'\n"
     ]
    }
   ],
   "source": [
    "import fitz\n",
    "\n",
    "def pdf_to_md(pdf_path, output_md_path):\n",
    "    \"\"\"\n",
    "    Converts a PDF file to a Markdown (.md) file.\n",
    "\n",
    "    Args:\n",
    "        pdf_path (str): Path to the input PDF file.\n",
    "        output_md_path (str): Path to the output Markdown file.\n",
    "    \"\"\"\n",
    "    header = (\"CHƯƠNG\", \"1.\", \"2.\", \"3.\", \"4.\", \"5.\", \"6.\", \"7.\", \"8.\", \"9.\")#, \"a)\", \"b)\", \"c)\", \"d)\", \"đ)\", \"e)\")\n",
    "    try:\n",
    "        pdf_document = fitz.open(pdf_path)\n",
    "\n",
    "        with open(output_md_path, 'w', encoding='utf-8') as md_file:\n",
    "            for page_number in range(len(pdf_document)):\n",
    "                page = pdf_document.load_page(page_number)  # Load page\n",
    "                text = page.get_text(\"text\")  # Extract text\n",
    "                lines = text.split('\\n')\n",
    "\n",
    "                paragraph = []\n",
    "                prev_line = \"start\"\n",
    "                for i in range(len(lines)):\n",
    "                    line = lines[i].strip()\n",
    "                    if line == \"\" and prev_line == \"\":\n",
    "                        continue\n",
    "                    elif line == \"\" and prev_line != \"\":\n",
    "                        paragraph.append(line)\n",
    "                    elif line.startswith(header):\n",
    "                        paragraph.append(\"\")\n",
    "                        paragraph.append(line)\n",
    "                    else:\n",
    "                        paragraph.append(line)\n",
    "                    prev_line = line\n",
    "\n",
    "                text = \"\\n\".join(paragraph)\n",
    "\n",
    "                md_file.write(text)\n",
    "                md_file.write(\"\\n\\n---\\n\\n\")  \n",
    "\n",
    "        print(f\"Markdown file created at: {output_md_path}\")\n",
    "\n",
    "    except Exception as e:\n",
    "        print(f\"An error occurred: {e}\")\n",
    "\n",
    "pdf_path = \"../knowledge-base/document/qcdt_2023_upload.pdf\" \n",
    "output_md_path = \"../knowledge-base/document/qcdt_2023_upload.md\"  \n",
    "\n",
    "pdf_to_md(pdf_path, output_md_path)\n"
   ]
  },
  {
   "cell_type": "code",
   "execution_count": 87,
   "id": "cf944c2d-e84b-45ae-8971-f5d4f6229b1a",
   "metadata": {},
   "outputs": [],
   "source": [
    "folders = glob.glob(\"../knowledge-base/*\")\n",
    "\n",
    "text_loader_kwargs = {'encoding': 'utf-8'}\n",
    "\n",
    "documents = []\n",
    "for folder in folders:\n",
    "    doc_type = os.path.basename(folder)\n",
    "    loader = DirectoryLoader(folder, glob=\"**/*.md\", loader_cls=TextLoader, loader_kwargs=text_loader_kwargs)\n",
    "    folder_docs = loader.load()\n",
    "    for doc in folder_docs:\n",
    "        doc.metadata[\"doc_type\"] = doc_type\n",
    "        documents.append(doc)"
   ]
  },
  {
   "cell_type": "code",
   "execution_count": 89,
   "id": "53331a54-63a5-447f-ba0d-c62961dde223",
   "metadata": {},
   "outputs": [],
   "source": [
    "text_splitter = RecursiveCharacterTextSplitter(chunk_size=1000, chunk_overlap=200)\n",
    "chunks = text_splitter.split_documents(documents)\n"
   ]
  },
  {
   "cell_type": "code",
   "execution_count": 90,
   "id": "e4db869a-325c-44f5-9459-9162e5b1d91d",
   "metadata": {},
   "outputs": [],
   "source": [
    "embeddings = OpenAIEmbeddings()"
   ]
  },
  {
   "cell_type": "code",
   "execution_count": 91,
   "id": "624a050f",
   "metadata": {},
   "outputs": [],
   "source": [
    "import pandas as pd\n",
    "df = pd.DataFrame([d.page_content for d in chunks], columns=[\"text\"])"
   ]
  },
  {
   "cell_type": "code",
   "execution_count": 92,
   "id": "7dd98821-36eb-4321-81d4-250aa0e434f1",
   "metadata": {},
   "outputs": [],
   "source": [
    "if os.path.exists(db_name):\n",
    "    Chroma(persist_directory=db_name, embedding_function=embeddings).delete_collection()"
   ]
  },
  {
   "cell_type": "code",
   "execution_count": 93,
   "id": "5efff0c9-b965-4ed9-8d86-5b6f79868ec0",
   "metadata": {},
   "outputs": [
    {
     "name": "stdout",
     "output_type": "stream",
     "text": [
      "Vectorstore: 118 documents\n"
     ]
    }
   ],
   "source": [
    "vectorstore = Chroma.from_documents(documents=chunks, embedding=embeddings, persist_directory=db_name)\n",
    "print(f\"Vectorstore: {vectorstore._collection.count()} documents\")"
   ]
  },
  {
   "cell_type": "code",
   "execution_count": 94,
   "id": "674ac9f1-1ea6-4c5b-9e3a-08e848c5679a",
   "metadata": {},
   "outputs": [
    {
     "name": "stdout",
     "output_type": "stream",
     "text": [
      "The vectors have 1,536 dimensions\n"
     ]
    }
   ],
   "source": [
    "collection = vectorstore._collection\n",
    "sample_embedding = collection.get(limit=1, include=[\"embeddings\"])[\"embeddings\"][0]\n",
    "dimensions = len(sample_embedding)\n",
    "print(f\"The vectors have {dimensions:,} dimensions\")"
   ]
  },
  {
   "cell_type": "code",
   "execution_count": 95,
   "id": "9c4fbea2-51c8-4c50-9a0e-80f11fa29c22",
   "metadata": {},
   "outputs": [],
   "source": [
    "result = collection.get(include=['embeddings', 'documents', 'metadatas'])\n",
    "vectors = np.array(result['embeddings'])\n",
    "documents = result['documents']\n",
    "doc_types = [metadata['doc_type'] for metadata in result['metadatas']]\n",
    "colors = [['blue', 'green'][['document', 'question answer'].index(t)] for t in doc_types]"
   ]
  },
  {
   "cell_type": "code",
   "execution_count": 96,
   "id": "90c60853-bcae-4768-9745-6162dab5893c",
   "metadata": {},
   "outputs": [
    {
     "data": {
      "application/vnd.plotly.v1+json": {
       "config": {
        "plotlyServerURL": "https://plot.ly"
       },
       "data": [
        {
         "hoverinfo": "text",
         "marker": {
          "color": [
           "blue",
           "blue",
           "blue",
           "blue",
           "blue",
           "blue",
           "blue",
           "blue",
           "blue",
           "blue",
           "blue",
           "blue",
           "blue",
           "blue",
           "blue",
           "blue",
           "blue",
           "blue",
           "blue",
           "blue",
           "blue",
           "blue",
           "blue",
           "blue",
           "blue",
           "blue",
           "blue",
           "blue",
           "blue",
           "blue",
           "blue",
           "blue",
           "blue",
           "blue",
           "blue",
           "blue",
           "blue",
           "blue",
           "blue",
           "blue",
           "blue",
           "blue",
           "blue",
           "blue",
           "blue",
           "blue",
           "blue",
           "blue",
           "blue",
           "blue",
           "blue",
           "blue",
           "blue",
           "blue",
           "blue",
           "blue",
           "blue",
           "blue",
           "blue",
           "blue",
           "blue",
           "blue",
           "blue",
           "blue",
           "blue",
           "blue",
           "blue",
           "blue",
           "blue",
           "blue",
           "blue",
           "blue",
           "blue",
           "blue",
           "blue",
           "blue",
           "blue",
           "blue",
           "blue",
           "blue",
           "blue",
           "blue",
           "blue",
           "blue",
           "blue",
           "blue",
           "blue",
           "blue",
           "blue",
           "blue",
           "blue",
           "blue",
           "blue",
           "blue",
           "blue",
           "blue",
           "blue",
           "blue",
           "blue",
           "green",
           "green",
           "green",
           "green",
           "green",
           "green",
           "green",
           "green",
           "green",
           "green",
           "green",
           "green",
           "green",
           "green",
           "green",
           "green",
           "green",
           "green",
           "green"
          ],
          "opacity": 0.8,
          "size": 5
         },
         "mode": "markers",
         "text": [
          "Type: document<br>Text: **BỘ** **GIÁO** **DỤC** **VÀ** **ĐÀO** **TẠO** **ĐẠI** **HỌC**\n**BÁCH** **KHOA** **HÀ** **NỘI**\n\n**Q...",
          "Type: document<br>Text: CHƯƠNG I NHỮNG QUY ĐỊNH\nCHUNG..................................................................1\nĐiề...",
          "Type: document<br>Text: lũy...................................................6 Điều 8. Chuyển\ncơ sở đào tạo\nkhác..............",
          "Type: document<br>Text: 14. Đăng ký tốt nghiệp đại\nhọc.........................................................................",
          "Type: document<br>Text: Điều 21. Đăng ký học tập chương trình kỹ\nsư............................................................",
          "Type: document<br>Text: sĩ.........................................................17 Điều 28.\nHọc bổ sung, miễn học và công...",
          "Type: document<br>Text: Điều 35. Gia hạn thời gian học tập, thôi\nhọc...........................................................",
          "Type: document<br>Text: ii...",
          "Type: document<br>Text: Điều 38. Tiểu luận tổng quan và chuyên đề tiến sĩ\n.....................................................",
          "Type: document<br>Text: cứu..............................27 CHƯƠNG VI TỔ CHỨC THỰC\nHIỆN........................................",
          "Type: document<br>Text: BỘ GIÁO DỤC VÀ ĐÀO TẠO\n\n**ĐẠI** **HỌC** **BÁCH** **KHOA** **HÀ** **NỘI**\n\n**CỘNG** **HÒA** **XÃ** **...",
          "Type: document<br>Text: 2\\. Quy chế này áp dụng cho sinh viên đại học, học viên của chương\ntrình thạc sĩ và nghiên cứu sinh ...",
          "Type: document<br>Text: 1\\. Ngành đào tạo (sau đây gọi tắt là ngành) là một lĩnh vực chuyên\nmôn rộng, có mã số trong Danh mụ...",
          "Type: document<br>Text: 2 Quy chế tuyển sinh và đào tạo trình độ thạc sĩ, ban hành theo Thông\ntư số 23/2021/TT-BGDĐT ngày 30...",
          "Type: document<br>Text: 4 Danh mục thống kê ngành đào tạo của giáo dục đại học ban hành theo\nThông tư số 09/2022/TT-BGDĐT ng...",
          "Type: document<br>Text: 4\\. Chương trình ELITECH (từ viết tắt của cụm từ Elite Technology\nProgram) là CTĐT chất lượng cao (t...",
          "Type: document<br>Text: 5\\. Thời gian và khối lượng học tập chuẩn đối với các CTĐT theo hình\nthức chính quy không kể các môn...",
          "Type: document<br>Text: 6 Chương trình đào tạo cử nhân-kỹ sư tích hợp là chương trình được\nthiết kế một cách tổng thể, liên ...",
          "Type: document<br>Text: 2\\. Lịch đăng ký học tập, thời khóa biểu, lịch thi và kế hoạch xét\ncông nhận tốt nghiệp trong năm họ...",
          "Type: document<br>Text: b\\) Đối với sinh viên học liên thông đã được miễn trừ khối lượng tín\nchỉ tích lũy, thời gian thiết k...",
          "Type: document<br>Text: d\\) Đối với người học các CTĐT đại học và thuộc diện đối tượng ưu tiên\ntheo quy định tại Quy chế tuy...",
          "Type: document<br>Text: 2\\. Học phần là đơn vị cấu thành chương trình học tập và được thực\nhiện trọn vẹn trong một học kỳ. M...",
          "Type: document<br>Text: 5\\. Học phần tương đương và học phần thay thế\n\na\\) Người học được tùy chọn học một học phần tương đư...",
          "Type: document<br>Text: 2\\. Điểm quá trình được đánh giá qua thi giữa kỳ, kiểm tra thường kỳ,\nkết hợp thi giữa kỳ và kiểm tr...",
          "Type: document<br>Text: 4\\. Hình thức đánh giá trực tuyến được áp dụng khi đảm bảo trung thực,\ncông bằng và khách quan như đ...",
          "Type: document<br>Text: ||\n||\n||\n||\n||\n\n7\\. Người học có thể đăng ký học lại học phần đã có điểm đạt để cải\nthiện điểm trung...",
          "Type: document<br>Text: **Điều** **6.** **Hoãn** **thi,** **miễn** **thi,** **phúc** **tra**\n**và** **khiếu** **nại** **điểm...",
          "Type: document<br>Text: 3\\. Người học không dự thi giữa kỳ do bị ốm, tai nạn hoặc vì lý do\nchính đáng được giảng viên bố trí...",
          "Type: document<br>Text: 1\\. Số TC tích lũy là tổng số TC của các học phần có điểm đạt kể từ\nđầu khóa kể cả các học phần được...",
          "Type: document<br>Text: 2\\. Học viên thạc sĩ không thể tiếp tục học tập tại ĐHBK Hà Nội vì lý\ndo chuyển nơi cư trú hoặc chuy...",
          "Type: document<br>Text: **Điều** **9.** **Học** **phí**\n\n1\\. Người học có nghĩa vụ nộp học phí đầy đủ và đúng thời hạn theo ...",
          "Type: document<br>Text: 4\\. Sinh viên, học viên có đơn đề nghị thôi học, nghỉ học tạm thời\nhoặc chuyển cơ sở đào tạo trong k...",
          "Type: document<br>Text: a\\) Đăng ký học phần: sinh viên chọn đăng ký những học phần dự tính sẽ\nhọc trong học kỳ tiếp. Sinh v...",
          "Type: document<br>Text: 2\\. Số lượng TC đăng ký:\n\na\\) Sinh viên không thuộc diện cảnh báo học tập theo quy định tại\nkhoản 1 ...",
          "Type: document<br>Text: 4\\. Đối với học phần có giờ lên lớp, chỉ mở lớp khi có tối thiểu 20\nsinh viên đăng ký học. Các trườn...",
          "Type: document<br>Text: 1\\. Kết quả học tập của người học đã tích lũy từ một trình độ đào tạo\nkhác, một CTĐT khác hoặc từ mộ...",
          "Type: document<br>Text: 9\n\nCTĐT theo hình thức VLVH tại đơn vị liên kết, việc đánh giá ĐATN được\nphép thực hiện tại đơn vị l...",
          "Type: document<br>Text: 1\\. Kết thúc mỗi học kỳ, sinh viên tham gia khảo sát lấy ý kiến phản\nhồi về các điều kiện bảo đảm ch...",
          "Type: document<br>Text: a\\) Số TC tích lũy (số TCTL).\n\nb\\) Tổng số TC của các học phần đã học nhưng chưa đạt từ đầu khóa (số...",
          "Type: document<br>Text: **Điều** **13.** **Đồ** **án/khóa** **luận** **tốt** **nghiệp**\n**đại** **học**\n\nCác học phần tốt ng...",
          "Type: document<br>Text: 3\\. Kết quả ĐATN được đánh giá như sau:\n\na\\) Điểm quá trình của ĐATN được tính bằng trung bình cộng ...",
          "Type: document<br>Text: e\\) Các điểm của người hướng dẫn, phản biện và thành viên hội đồng\nđánh giá ĐATN được phép cho lẻ tớ...",
          "Type: document<br>Text: b\\) Đạt chuẩn ngoại ngữ đầu ra.\n\nc\\) Điểm trung bình tích lũy toàn khóa (tính theo các học phần đăng...",
          "Type: document<br>Text: 6\\. Sinh viên không tốt nghiệp được quyền đề nghị cấp chứng nhận với\ncác học phần đã tích lũy trong ...",
          "Type: document<br>Text: b\\) Sinh viên bị Hội đồng kỷ luật của ĐHBK Hà Nội đề nghị áp dụng mức\nkỷ luật từ cảnh cáo trở lên.\n\n...",
          "Type: document<br>Text: c\\) Thời gian nghỉ học tạm thời do sinh viên được điều động vào lực\nlượng vũ trang (là thời gian đượ...",
          "Type: document<br>Text: 3\\. Tự nguyện thôi học: Sinh viên thấy không có đủ điều kiện hoặc\nkhông muốn tiếp tục học tại ĐHBK H...",
          "Type: document<br>Text: d\\) Không bị cảnh báo học tập hoặc bị xét thi hành kỷ luật;\n\n2\\. Không cho phép chuyển CTĐT đối với ...",
          "Type: document<br>Text: 5\\. Sinh viên từ trường khác muốn chuyển tới học tại ĐHBK Hà Nội phải\nđáp ứng điều kiện trúng tuyển ...",
          "Type: document<br>Text: 2\\. Sinh viên được đăng ký học chương trình thứ hai sớm nhất khi đã\nđược xếp trình độ năm thứ hai củ...",
          "Type: document<br>Text: 6\\. Sinh viên chỉ được xét tốt nghiệp chương trình thứ hai, nếu có đủ\nđiều kiện tốt nghiệp ở chương ...",
          "Type: document<br>Text: c\\) Áp dụng cảnh báo học tập mức 3 đối với sinh viên có số TC nợ đọng\ntừ đầu khóa lớn hơn 24.\n\nd\\) S...",
          "Type: document<br>Text: 3\\. Buộc thôi học là hình thức áp dụng đối với những sinh viên có kết\nquả học tập rất kém, cụ thể tr...",
          "Type: document<br>Text: 15\n\n2\\. Sinh viên thi hộ hoặc nhờ người thi hộ đều bị kỷ luật ở mức đình\nchỉ học tập 01 năm đối với ...",
          "Type: document<br>Text: 2\\. Quy trình đăng ký học tập thực hiện theo khoản 1 Điều 10 của Quy\nchế này.\n\n3\\. Trong quá trình h...",
          "Type: document<br>Text: 4\\. Việc đánh giá kết quả thực hiện ĐATN KS được thực hiện theo khoản\n3 Điều 13 của Quy chế này. Đồ ...",
          "Type: document<br>Text: b\\) Đã nộp đồ án tốt nghiệp cho thư viện theo quy cách của bản đồ án\ndo ĐHBK Hà Nội quy định.\n\nc\\) Đ...",
          "Type: document<br>Text: **Điều** **24.** **Điểm** **trung** **bình** **toàn** **khóa** **và**\n**hạng** **tốt** **nghiệp** **...",
          "Type: document<br>Text: b\\) Học viên bị Hội đồng kỷ luật của ĐHBK Hà Nội đề nghị áp dụng mức\nkỷ luật từ cảnh cáo trở lên.\n\n*...",
          "Type: document<br>Text: 17\n\nvượt quá 2 học kỳ chính; thời gian nghỉ trên 2 học kỳ được tính vào\nthời gian học chậm tiến độ.\n...",
          "Type: document<br>Text: 6\\. Học viên thấy không có đủ điều kiện hoặc không muốn tiếp tục học\ntại ĐHBK Hà Nội có thể làm đơn ...",
          "Type: document<br>Text: **CHƯƠNG** **IV** **ĐÀO** **TẠO** **THẠC** **SĨ**\n\n**Điều** **27.** **Đăng** **ký** **học** **tập** ...",
          "Type: document<br>Text: 18\n\n3\\. Đối với các học phần được giảng dạy trên lớp, quy mô lớp học phần\ntối thiểu là 20 học viên. ...",
          "Type: document<br>Text: b\\) Danh mục các học phần bổ sung và số TC được xác định khi xét hồ sơ\nđăng ký dự tuyển dựa trên việ...",
          "Type: document<br>Text: c\\) Học viên học chương trình tích hợp Cử nhân - Thạc sĩ khoa học của\nĐHBK Hà Nội được đăng ký học t...",
          "Type: document<br>Text: 19\n\n**Điều** **29.** **Đăng** **ký** **đề** **tài** **luận** **văn**\n**thạc** **sĩ**\n\n1\\. Đăng ký đề...",
          "Type: document<br>Text: **Điều** **30.** **Điều** **kiện** **được** **bảo** **vệ** **luận**\n**văn** **thạc** **sĩ**\n\nHọc viê...",
          "Type: document<br>Text: **Điều** **31.** **Điểm** **luận** **văn** **thạc** **sĩ**\n\n1\\. Điểm luận văn thạc sĩ là điểm bảo vệ...",
          "Type: document<br>Text: 20\n\nnghiệm thu, hoặc đề tài nghiên cứu đã được nghiệm thu do người hướng\ndẫn chủ trì và học viên là ...",
          "Type: document<br>Text: 2\\. Trong trường hợp luận văn bảo vệ lần thứ hai vẫn không đạt yêu\ncầu, nếu học viên có nguyện vọng ...",
          "Type: document<br>Text: 1\\. Học viên có đủ các điều kiện sau đây thì được xét công nhận tốt\nnghiệp:\n\na\\) Luận văn đạt yêu cầ...",
          "Type: document<br>Text: ||\n||\n||\n||\n\n3\\. Học viên đạt đủ điều kiện tốt nghiệp được Giám đốc ĐHBK Hà Nội ra\nquyết định công n...",
          "Type: document<br>Text: 2\\. Học viên bị ốm hoặc tai nạn buộc phải điều trị trong thời gian\ndài, hoặc nghỉ thai sản theo quy ...",
          "Type: document<br>Text: 4\\. Học viên phải nộp đơn đề nghị trở lại học chậm nhất 1 tuần trước\nkhi bắt đầu học kỳ mới. Đối với...",
          "Type: document<br>Text: 3\\. Học viên bị buộc thôi học trong các trường hợp sau đây:\n\na\\) Học viên học chậm tiến độ quá thời ...",
          "Type: document<br>Text: 2\\. Căn cứ kế hoạch học tập chuẩn toàn khóa của CTĐT tiến sĩ, NCS xây\ndựng kế hoạch chi tiết theo từ...",
          "Type: document<br>Text: 1\\. Các học phần bổ sung nhằm hỗ trợ NCS có đủ kiến thức, trình độ\nchuyên môn để thực hiện đề tài ng...",
          "Type: document<br>Text: a\\) Mỗi NCS phải hoàn thành tối thiểu 8 TC tương ứng 3-4 học phần tiến\nsĩ.\n\nb\\) NCS phải thực hiện q...",
          "Type: document<br>Text: **Điều** **38.** **Tiểu** **luận** **tổng** **quan** **và** **chuyên**\n**đề** **tiến** **sĩ**\n\n1\\. T...",
          "Type: document<br>Text: b\\) NCS phải hoàn thành Tiểu luận tổng quan với kết quả đạt yêu cầu\ntrong vòng 12 tháng kể từ khi có...",
          "Type: document<br>Text: b\\) NCS phải đăng ký thực hiện các chuyên đề tiến sĩ. Tên của chuyên\nđề do NCS đề xuất và phải được ...",
          "Type: document<br>Text: 2\\. Quyển thuyết minh Luận án tiến sĩ phải đáp ứng quy định về hình\nthức, cách trình bày luận án; số...",
          "Type: document<br>Text: c\\) Tuân thủ các quy định khác của Luật sở hữu trí tuệ.\n\n**Điều** **40.** **Điều** **kiện** **được**...",
          "Type: document<br>Text: c\\) Tổng điểm của tất cả các công trình nghiên cứu trong khoản b mục 1\ncủa Điều này phải đạt từ 2,0 ...",
          "Type: document<br>Text: 2\\. Điều kiện để NCS được bảo vệ luận án ở Hội đồng đánh giá luận án\ncấp Đại học (bảo vệ luận án cấp...",
          "Type: document<br>Text: b\\) Hội đồng đánh giá luận án cấp cơ sở (sau đây gọi tắt là hội đồng\ncấp cơ sở) do Hiệu trưởng trườn...",
          "Type: document<br>Text: đ) Trong vòng 20 ngày sau khi kết thúc đánh giá luận án cấp cơ sở, NCS\nphải hoàn thành đầy đủ việc s...",
          "Type: document<br>Text: b\\) Hội đồng đánh giá luận án cấp Đại học do Giám đốc ĐHBK Hà Nội ra\nquyết định thành lập có 7 thành...",
          "Type: document<br>Text: 26\n\nd\\) Luận án được đánh giá bằng hình thức bỏ phiếu (tán thành hoặc\nkhông tán thành), luận án khôn...",
          "Type: document<br>Text: **Điều** **42.** **Đánh** **giá** **lại** **luận** **án** **tiến**\n**sĩ**\n\n1\\. Trong trường hợp Hội ...",
          "Type: document<br>Text: 3\\. Trong trường hợp luận án bảo vệ lần thứ hai vẫn không đạt yêu cầu,\nĐHBK Hà Nội không tổ chức bảo...",
          "Type: document<br>Text: d\\) Đã nộp Thư viện Quốc gia Việt Nam và Thư viện Tạ Quang Bửu của\nĐHBK Hà Nội (cả bản in và file pd...",
          "Type: document<br>Text: 27\n\nbằng tiến sĩ cho nghiên cứu sinh được thực hiện trong thời hạn 30 ngày\nlàm việc kể từ ngày quyết...",
          "Type: document<br>Text: 4\\. Giám đốc ĐHBK Hà Nội xem xét, quyết định cho phép NCS được rút\nngắn thời gian học tập tối đa khô...",
          "Type: document<br>Text: **Điều** **45.** **Công** **nhận** **và** **chuyển** **đổi** **kết**\n**quả** **học** **tập,** **nghi...",
          "Type: document<br>Text: 28\n\nphù hợp với nội dung, yêu cầu của CTĐT, được thực hiện trên cơ sở đề\nxuất của Tiểu ban xét tuyển...",
          "Type: document<br>Text: 2\\. Đối với các khoá tuyển sinh có quyết định công nhận NCS trong\nkhoảng thời gian từ ngày 15 tháng ...",
          "Type: document<br>Text: 3\\. Đối với các khoá tuyển sinh đã có quyết định công nhận NCS trước\nngày 18 tháng 5 năm 2017, ĐHBK ...",
          "Type: document<br>Text: 29\n\nb\\) Khoản 2 Điều 18 (về việc học cùng lúc hai chương trình) được áp\ndụng với các khóa tuyển sinh...",
          "Type: question answer<br>Text: Ban Công tác Sinh viên sẽ tiếp nhận và giải đáp thắc mắc của sinh viên tại địa chỉ nào?: Chỉ tại các...",
          "Type: question answer<br>Text: Một môn học có trọng số KT(0,4)-T(0,6) nghĩa là môn học đó có *: Trọng số của điểm kiểm tra giữa kỳ ...",
          "Type: question answer<br>Text: Phương pháp quản lý chi tiêu 50-20-30 với sinh viên?: 50% Nhu cầu thiết yếu, 20% Tiết kiệm, 30% Sở ...",
          "Type: question answer<br>Text: Sinh viên bắt đầu được xem xét chuyển ngành từ khi nào?: Sau khi hoàn thành năm thứ nhất\n\nTrong các...",
          "Type: question answer<br>Text: Sinh viên sẽ bị xem xét buộc thôi học nếu?: Bị cảnh cáo học tập mức 3 lần thứ hai\n\nĐiều kiện xét tuy...",
          "Type: question answer<br>Text: Khi nào sinh viên phải hoàn toàn tự đăng ký lớp?: Bắt đầu từ học kỳ thứ 3\n\nCách thức đánh giá điểm r...",
          "Type: question answer<br>Text: Các bước đăng ký mới hoặc reset lại mật khẩu bị mất là: *: Truy cập ctt.hust.edu.vn – Chọn “Đăng nhậ...",
          "Type: question answer<br>Text: Đối tượng được xét học bổng Trần Đại Nghĩa là những ai: *: Sinh viên có hoàn cảnh khó khăn, có nghị ...",
          "Type: question answer<br>Text: Điều kiện được xét học bổng loại A là gì: *: GPA từ 3.6, điểm rèn luyện từ 90.\n\nTheo định hướng cu...",
          "Type: question answer<br>Text: Điểm rèn luyện được xếp loại theo cách nào dưới đây?: Xuất sắc, Tốt, Khá, Trung bình, Yếu, Kém\n\nĐiểm...",
          "Type: question answer<br>Text: Một môn học có trọng số KT(0.3)-T(0.7) và có điểm thi giữa kỳ (đã cộng) là 9đ, điểm thi cuối kỳ là 8...",
          "Type: question answer<br>Text: Ưu điểm nào sau đây là đặc trưng của chương trình đào tạo theo tín chỉ?: Sinh viên có thể tự lập kế ...",
          "Type: question answer<br>Text: Điều kiện cần để đạt học bổng loại A là gì?: GPA≥3,6 ĐRL≥90\n\nĐịa chỉ bạn cần đến để được hỗ t...",
          "Type: question answer<br>Text: Sinh viên được xếp hạng trình độ năm thứ nhất căn cứ số tín chỉ tích lũy như thế nào?: Trình độ năm ...",
          "Type: question answer<br>Text: Học đại học có khác gì so với THPT: Cần có kỹ năng làm việc độc lập: Cần có khả năng tự đọc - tự học...",
          "Type: question answer<br>Text: Mục chấm điểm rèn luyện có 2 cột điểm SV chấm và điểm GV chấm, vậy điểm chốt tính theo điểm nào?: Cộ...",
          "Type: question answer<br>Text: Các màu nhãn sách tại Trung tâm truyền thông và tri thức số là:: Màu trắng: sách đọc tại các phòng.:...",
          "Type: question answer<br>Text: Học bổng Trần Đại Nghĩa dành cho sinh viên có hoàn cảnh kinh tế khó khăn, có nghị lực vươn lên trong...",
          "Type: question answer<br>Text: Đâu là trang tra cứu OPAC:: http://libopac.hust.edu.vn/\n\nGPA và CPA có nghĩa là gì ?: GPA là điểm tr..."
         ],
         "type": "scatter3d",
         "x": [
          -100.299805,
          90.41785,
          78.21224,
          56.43278,
          44.408073,
          26.140423,
          -59.921078,
          19.231236,
          19.39084,
          47.99719,
          -106.245476,
          1.7784673,
          26.841454,
          42.6359,
          44.565094,
          50.926636,
          76.23089,
          54.769173,
          -28.28112,
          -28.402275,
          -0.8270709,
          90.613266,
          74.890976,
          -42.72159,
          -29.469877,
          -24.080002,
          -3.8079252,
          1.9766022,
          6.5918374,
          -90.74102,
          -100.35312,
          -32.87913,
          -18.511713,
          -5.834647,
          -3.835419,
          -14.681216,
          6.732793,
          -16.593643,
          10.135619,
          38.345062,
          82.67849,
          51.7128,
          -17.315557,
          12.39541,
          -71.85417,
          -36.914803,
          82.55636,
          103.20768,
          82.448204,
          6.711973,
          12.805669,
          -0.7313925,
          42.00258,
          40.63454,
          43.55038,
          43.11495,
          52.27988,
          -10.885218,
          6.5930085,
          -37.58543,
          50.15234,
          30.870052,
          0.7519277,
          5.6130347,
          10.117144,
          2.6874247,
          -16.568972,
          -37.156197,
          -51.411827,
          -32.622375,
          -29.566854,
          -50.461708,
          -45.986145,
          -12.0490675,
          -77.078,
          -55.576717,
          -85.17188,
          -65.15756,
          -11.693334,
          -33.819805,
          -43.93357,
          -14.920368,
          -40.654224,
          -45.45661,
          -193.41425,
          -83.13483,
          -62.3653,
          -71.90284,
          -62.08057,
          -34.429905,
          -75.86477,
          -84.66972,
          -58.671143,
          67.733536,
          7.966991,
          73.67679,
          30.589996,
          47.024822,
          46.516293,
          70.96343,
          -25.995483,
          29.14876,
          8.634823,
          15.266025,
          -79.97006,
          37.119553,
          41.259018,
          -62.683426,
          -44.49016,
          -31.052189,
          18.403898,
          -84.30624,
          61.698452,
          51.183537,
          -62.022324,
          93.259796,
          60.44214,
          94.59995
         ],
         "y": [
          0.7706347,
          -39.99734,
          -32.434853,
          -32.374485,
          -34.640205,
          43.085266,
          -0.0022829773,
          -26.333923,
          69.52371,
          79.33082,
          -4.0043154,
          -35.74461,
          -36.362595,
          0.40521437,
          44.026432,
          -69.19909,
          -57.744637,
          42.36897,
          8.211374,
          21.71717,
          19.16261,
          -42.912292,
          -27.914543,
          -87.79685,
          -109.22444,
          -85.91327,
          -108.18191,
          -95.9407,
          -59.60317,
          -49.21992,
          -8.755748,
          51.707546,
          68.243095,
          70.5752,
          40.579754,
          -33.55203,
          -19.183752,
          -71.44704,
          -66.28401,
          -58.655975,
          -80.00738,
          -83.114876,
          -26.096632,
          -45.3714,
          -41.636173,
          -28.12827,
          10.0380125,
          21.840525,
          1.1067319,
          9.503854,
          -12.437737,
          59.09372,
          3.5140352,
          11.278062,
          -77.2458,
          -91.08527,
          1.4467912,
          -53.156,
          2.0326915,
          -52.381943,
          8.93745,
          -49.116695,
          -65.88087,
          72.2131,
          -67.27135,
          17.742933,
          39.9809,
          48.667522,
          34.32322,
          18.963097,
          -95.48393,
          -43.03178,
          -49.106174,
          -33.11247,
          -121.48356,
          25.387335,
          41.574368,
          29.967304,
          91.47662,
          74.91868,
          94.87876,
          58.159237,
          66.0162,
          43.389843,
          -31.690565,
          76.08342,
          55.191498,
          88.72812,
          -3.475983,
          1.7272377,
          42.046318,
          40.822426,
          -2.2474327,
          -10.715366,
          -4.1006722,
          4.5263667,
          9.453457,
          -5.1959095,
          -33.225243,
          90.56289,
          10.409985,
          51.06538,
          30.053009,
          55.69723,
          -96.51357,
          96.22473,
          68.57426,
          -16.735662,
          -38.00618,
          -14.595498,
          87.75396,
          -6.4953856,
          73.096725,
          44.61231,
          -72.51482,
          61.67631,
          42.98517,
          33.007504
         ],
         "z": [
          -58.9326,
          48.31534,
          25.110312,
          5.109474,
          -14.439891,
          -66.30154,
          -25.66536,
          115.17577,
          -52.98021,
          -59.749092,
          -36.252907,
          -90.86919,
          -86.69814,
          38.898884,
          86.46943,
          -80.81796,
          -27.587154,
          62.406116,
          46.060143,
          76.9487,
          95.68455,
          -67.97989,
          -57.196724,
          43.76692,
          37.510868,
          7.963646,
          -2.4109592,
          18.818981,
          67.71224,
          29.33676,
          55.91942,
          49.20434,
          27.801054,
          59.340992,
          41.082138,
          49.456486,
          50.942947,
          50.59457,
          43.709763,
          25.608315,
          14.872588,
          37.554043,
          87.38452,
          6.2133927,
          -46.93619,
          -46.33313,
          -27.166235,
          -18.723549,
          2.0142114,
          22.321442,
          9.240145,
          84.03502,
          -22.026371,
          2.1122096,
          -10.144806,
          13.494458,
          -86.143265,
          17.989735,
          -105.61969,
          -37.074383,
          -49.004906,
          -45.855717,
          -62.530293,
          -95.20458,
          -30.234016,
          -65.09383,
          -74.81247,
          -94.22758,
          -76.01577,
          -56.52956,
          -44.30308,
          74.8858,
          -69.45058,
          -29.951162,
          -121.85406,
          33.975014,
          39.35783,
          64.440575,
          -37.459553,
          -13.088071,
          -29.048622,
          -39.954006,
          -53.475044,
          -25.235342,
          53.498398,
          -2.9246845,
          -2.6628652,
          17.490238,
          -90.5289,
          -89.395485,
          -47.502575,
          -13.04405,
          74.499535,
          107.579094,
          -33.84858,
          50.75609,
          64.2258,
          73.47732,
          68.88427,
          -2.7651107,
          -2.0206163,
          27.38087,
          -9.75121,
          -1.7599128,
          28.06892,
          41.17571,
          -2.240271,
          27.524557,
          7.8996644,
          5.527645,
          5.5016394,
          10.678242,
          27.00331,
          -22.053394,
          -2.6729004,
          9.0673,
          12.701661,
          80.55243
         ]
        }
       ],
       "layout": {
        "height": 700,
        "margin": {
         "b": 10,
         "l": 10,
         "r": 20,
         "t": 40
        },
        "scene": {
         "xaxis": {
          "title": {
           "text": "x"
          }
         },
         "yaxis": {
          "title": {
           "text": "y"
          }
         },
         "zaxis": {
          "title": {
           "text": "z"
          }
         }
        },
        "template": {
         "data": {
          "bar": [
           {
            "error_x": {
             "color": "#2a3f5f"
            },
            "error_y": {
             "color": "#2a3f5f"
            },
            "marker": {
             "line": {
              "color": "#E5ECF6",
              "width": 0.5
             },
             "pattern": {
              "fillmode": "overlay",
              "size": 10,
              "solidity": 0.2
             }
            },
            "type": "bar"
           }
          ],
          "barpolar": [
           {
            "marker": {
             "line": {
              "color": "#E5ECF6",
              "width": 0.5
             },
             "pattern": {
              "fillmode": "overlay",
              "size": 10,
              "solidity": 0.2
             }
            },
            "type": "barpolar"
           }
          ],
          "carpet": [
           {
            "aaxis": {
             "endlinecolor": "#2a3f5f",
             "gridcolor": "white",
             "linecolor": "white",
             "minorgridcolor": "white",
             "startlinecolor": "#2a3f5f"
            },
            "baxis": {
             "endlinecolor": "#2a3f5f",
             "gridcolor": "white",
             "linecolor": "white",
             "minorgridcolor": "white",
             "startlinecolor": "#2a3f5f"
            },
            "type": "carpet"
           }
          ],
          "choropleth": [
           {
            "colorbar": {
             "outlinewidth": 0,
             "ticks": ""
            },
            "type": "choropleth"
           }
          ],
          "contour": [
           {
            "colorbar": {
             "outlinewidth": 0,
             "ticks": ""
            },
            "colorscale": [
             [
              0,
              "#0d0887"
             ],
             [
              0.1111111111111111,
              "#46039f"
             ],
             [
              0.2222222222222222,
              "#7201a8"
             ],
             [
              0.3333333333333333,
              "#9c179e"
             ],
             [
              0.4444444444444444,
              "#bd3786"
             ],
             [
              0.5555555555555556,
              "#d8576b"
             ],
             [
              0.6666666666666666,
              "#ed7953"
             ],
             [
              0.7777777777777778,
              "#fb9f3a"
             ],
             [
              0.8888888888888888,
              "#fdca26"
             ],
             [
              1,
              "#f0f921"
             ]
            ],
            "type": "contour"
           }
          ],
          "contourcarpet": [
           {
            "colorbar": {
             "outlinewidth": 0,
             "ticks": ""
            },
            "type": "contourcarpet"
           }
          ],
          "heatmap": [
           {
            "colorbar": {
             "outlinewidth": 0,
             "ticks": ""
            },
            "colorscale": [
             [
              0,
              "#0d0887"
             ],
             [
              0.1111111111111111,
              "#46039f"
             ],
             [
              0.2222222222222222,
              "#7201a8"
             ],
             [
              0.3333333333333333,
              "#9c179e"
             ],
             [
              0.4444444444444444,
              "#bd3786"
             ],
             [
              0.5555555555555556,
              "#d8576b"
             ],
             [
              0.6666666666666666,
              "#ed7953"
             ],
             [
              0.7777777777777778,
              "#fb9f3a"
             ],
             [
              0.8888888888888888,
              "#fdca26"
             ],
             [
              1,
              "#f0f921"
             ]
            ],
            "type": "heatmap"
           }
          ],
          "heatmapgl": [
           {
            "colorbar": {
             "outlinewidth": 0,
             "ticks": ""
            },
            "colorscale": [
             [
              0,
              "#0d0887"
             ],
             [
              0.1111111111111111,
              "#46039f"
             ],
             [
              0.2222222222222222,
              "#7201a8"
             ],
             [
              0.3333333333333333,
              "#9c179e"
             ],
             [
              0.4444444444444444,
              "#bd3786"
             ],
             [
              0.5555555555555556,
              "#d8576b"
             ],
             [
              0.6666666666666666,
              "#ed7953"
             ],
             [
              0.7777777777777778,
              "#fb9f3a"
             ],
             [
              0.8888888888888888,
              "#fdca26"
             ],
             [
              1,
              "#f0f921"
             ]
            ],
            "type": "heatmapgl"
           }
          ],
          "histogram": [
           {
            "marker": {
             "pattern": {
              "fillmode": "overlay",
              "size": 10,
              "solidity": 0.2
             }
            },
            "type": "histogram"
           }
          ],
          "histogram2d": [
           {
            "colorbar": {
             "outlinewidth": 0,
             "ticks": ""
            },
            "colorscale": [
             [
              0,
              "#0d0887"
             ],
             [
              0.1111111111111111,
              "#46039f"
             ],
             [
              0.2222222222222222,
              "#7201a8"
             ],
             [
              0.3333333333333333,
              "#9c179e"
             ],
             [
              0.4444444444444444,
              "#bd3786"
             ],
             [
              0.5555555555555556,
              "#d8576b"
             ],
             [
              0.6666666666666666,
              "#ed7953"
             ],
             [
              0.7777777777777778,
              "#fb9f3a"
             ],
             [
              0.8888888888888888,
              "#fdca26"
             ],
             [
              1,
              "#f0f921"
             ]
            ],
            "type": "histogram2d"
           }
          ],
          "histogram2dcontour": [
           {
            "colorbar": {
             "outlinewidth": 0,
             "ticks": ""
            },
            "colorscale": [
             [
              0,
              "#0d0887"
             ],
             [
              0.1111111111111111,
              "#46039f"
             ],
             [
              0.2222222222222222,
              "#7201a8"
             ],
             [
              0.3333333333333333,
              "#9c179e"
             ],
             [
              0.4444444444444444,
              "#bd3786"
             ],
             [
              0.5555555555555556,
              "#d8576b"
             ],
             [
              0.6666666666666666,
              "#ed7953"
             ],
             [
              0.7777777777777778,
              "#fb9f3a"
             ],
             [
              0.8888888888888888,
              "#fdca26"
             ],
             [
              1,
              "#f0f921"
             ]
            ],
            "type": "histogram2dcontour"
           }
          ],
          "mesh3d": [
           {
            "colorbar": {
             "outlinewidth": 0,
             "ticks": ""
            },
            "type": "mesh3d"
           }
          ],
          "parcoords": [
           {
            "line": {
             "colorbar": {
              "outlinewidth": 0,
              "ticks": ""
             }
            },
            "type": "parcoords"
           }
          ],
          "pie": [
           {
            "automargin": true,
            "type": "pie"
           }
          ],
          "scatter": [
           {
            "fillpattern": {
             "fillmode": "overlay",
             "size": 10,
             "solidity": 0.2
            },
            "type": "scatter"
           }
          ],
          "scatter3d": [
           {
            "line": {
             "colorbar": {
              "outlinewidth": 0,
              "ticks": ""
             }
            },
            "marker": {
             "colorbar": {
              "outlinewidth": 0,
              "ticks": ""
             }
            },
            "type": "scatter3d"
           }
          ],
          "scattercarpet": [
           {
            "marker": {
             "colorbar": {
              "outlinewidth": 0,
              "ticks": ""
             }
            },
            "type": "scattercarpet"
           }
          ],
          "scattergeo": [
           {
            "marker": {
             "colorbar": {
              "outlinewidth": 0,
              "ticks": ""
             }
            },
            "type": "scattergeo"
           }
          ],
          "scattergl": [
           {
            "marker": {
             "colorbar": {
              "outlinewidth": 0,
              "ticks": ""
             }
            },
            "type": "scattergl"
           }
          ],
          "scattermapbox": [
           {
            "marker": {
             "colorbar": {
              "outlinewidth": 0,
              "ticks": ""
             }
            },
            "type": "scattermapbox"
           }
          ],
          "scatterpolar": [
           {
            "marker": {
             "colorbar": {
              "outlinewidth": 0,
              "ticks": ""
             }
            },
            "type": "scatterpolar"
           }
          ],
          "scatterpolargl": [
           {
            "marker": {
             "colorbar": {
              "outlinewidth": 0,
              "ticks": ""
             }
            },
            "type": "scatterpolargl"
           }
          ],
          "scatterternary": [
           {
            "marker": {
             "colorbar": {
              "outlinewidth": 0,
              "ticks": ""
             }
            },
            "type": "scatterternary"
           }
          ],
          "surface": [
           {
            "colorbar": {
             "outlinewidth": 0,
             "ticks": ""
            },
            "colorscale": [
             [
              0,
              "#0d0887"
             ],
             [
              0.1111111111111111,
              "#46039f"
             ],
             [
              0.2222222222222222,
              "#7201a8"
             ],
             [
              0.3333333333333333,
              "#9c179e"
             ],
             [
              0.4444444444444444,
              "#bd3786"
             ],
             [
              0.5555555555555556,
              "#d8576b"
             ],
             [
              0.6666666666666666,
              "#ed7953"
             ],
             [
              0.7777777777777778,
              "#fb9f3a"
             ],
             [
              0.8888888888888888,
              "#fdca26"
             ],
             [
              1,
              "#f0f921"
             ]
            ],
            "type": "surface"
           }
          ],
          "table": [
           {
            "cells": {
             "fill": {
              "color": "#EBF0F8"
             },
             "line": {
              "color": "white"
             }
            },
            "header": {
             "fill": {
              "color": "#C8D4E3"
             },
             "line": {
              "color": "white"
             }
            },
            "type": "table"
           }
          ]
         },
         "layout": {
          "annotationdefaults": {
           "arrowcolor": "#2a3f5f",
           "arrowhead": 0,
           "arrowwidth": 1
          },
          "autotypenumbers": "strict",
          "coloraxis": {
           "colorbar": {
            "outlinewidth": 0,
            "ticks": ""
           }
          },
          "colorscale": {
           "diverging": [
            [
             0,
             "#8e0152"
            ],
            [
             0.1,
             "#c51b7d"
            ],
            [
             0.2,
             "#de77ae"
            ],
            [
             0.3,
             "#f1b6da"
            ],
            [
             0.4,
             "#fde0ef"
            ],
            [
             0.5,
             "#f7f7f7"
            ],
            [
             0.6,
             "#e6f5d0"
            ],
            [
             0.7,
             "#b8e186"
            ],
            [
             0.8,
             "#7fbc41"
            ],
            [
             0.9,
             "#4d9221"
            ],
            [
             1,
             "#276419"
            ]
           ],
           "sequential": [
            [
             0,
             "#0d0887"
            ],
            [
             0.1111111111111111,
             "#46039f"
            ],
            [
             0.2222222222222222,
             "#7201a8"
            ],
            [
             0.3333333333333333,
             "#9c179e"
            ],
            [
             0.4444444444444444,
             "#bd3786"
            ],
            [
             0.5555555555555556,
             "#d8576b"
            ],
            [
             0.6666666666666666,
             "#ed7953"
            ],
            [
             0.7777777777777778,
             "#fb9f3a"
            ],
            [
             0.8888888888888888,
             "#fdca26"
            ],
            [
             1,
             "#f0f921"
            ]
           ],
           "sequentialminus": [
            [
             0,
             "#0d0887"
            ],
            [
             0.1111111111111111,
             "#46039f"
            ],
            [
             0.2222222222222222,
             "#7201a8"
            ],
            [
             0.3333333333333333,
             "#9c179e"
            ],
            [
             0.4444444444444444,
             "#bd3786"
            ],
            [
             0.5555555555555556,
             "#d8576b"
            ],
            [
             0.6666666666666666,
             "#ed7953"
            ],
            [
             0.7777777777777778,
             "#fb9f3a"
            ],
            [
             0.8888888888888888,
             "#fdca26"
            ],
            [
             1,
             "#f0f921"
            ]
           ]
          },
          "colorway": [
           "#636efa",
           "#EF553B",
           "#00cc96",
           "#ab63fa",
           "#FFA15A",
           "#19d3f3",
           "#FF6692",
           "#B6E880",
           "#FF97FF",
           "#FECB52"
          ],
          "font": {
           "color": "#2a3f5f"
          },
          "geo": {
           "bgcolor": "white",
           "lakecolor": "white",
           "landcolor": "#E5ECF6",
           "showlakes": true,
           "showland": true,
           "subunitcolor": "white"
          },
          "hoverlabel": {
           "align": "left"
          },
          "hovermode": "closest",
          "mapbox": {
           "style": "light"
          },
          "paper_bgcolor": "white",
          "plot_bgcolor": "#E5ECF6",
          "polar": {
           "angularaxis": {
            "gridcolor": "white",
            "linecolor": "white",
            "ticks": ""
           },
           "bgcolor": "#E5ECF6",
           "radialaxis": {
            "gridcolor": "white",
            "linecolor": "white",
            "ticks": ""
           }
          },
          "scene": {
           "xaxis": {
            "backgroundcolor": "#E5ECF6",
            "gridcolor": "white",
            "gridwidth": 2,
            "linecolor": "white",
            "showbackground": true,
            "ticks": "",
            "zerolinecolor": "white"
           },
           "yaxis": {
            "backgroundcolor": "#E5ECF6",
            "gridcolor": "white",
            "gridwidth": 2,
            "linecolor": "white",
            "showbackground": true,
            "ticks": "",
            "zerolinecolor": "white"
           },
           "zaxis": {
            "backgroundcolor": "#E5ECF6",
            "gridcolor": "white",
            "gridwidth": 2,
            "linecolor": "white",
            "showbackground": true,
            "ticks": "",
            "zerolinecolor": "white"
           }
          },
          "shapedefaults": {
           "line": {
            "color": "#2a3f5f"
           }
          },
          "ternary": {
           "aaxis": {
            "gridcolor": "white",
            "linecolor": "white",
            "ticks": ""
           },
           "baxis": {
            "gridcolor": "white",
            "linecolor": "white",
            "ticks": ""
           },
           "bgcolor": "#E5ECF6",
           "caxis": {
            "gridcolor": "white",
            "linecolor": "white",
            "ticks": ""
           }
          },
          "title": {
           "x": 0.05
          },
          "xaxis": {
           "automargin": true,
           "gridcolor": "white",
           "linecolor": "white",
           "ticks": "",
           "title": {
            "standoff": 15
           },
           "zerolinecolor": "white",
           "zerolinewidth": 2
          },
          "yaxis": {
           "automargin": true,
           "gridcolor": "white",
           "linecolor": "white",
           "ticks": "",
           "title": {
            "standoff": 15
           },
           "zerolinecolor": "white",
           "zerolinewidth": 2
          }
         }
        },
        "title": {
         "text": "3D Chroma Vector Store Visualization"
        },
        "width": 900
       }
      }
     },
     "metadata": {},
     "output_type": "display_data"
    }
   ],
   "source": [
    "tsne = TSNE(n_components=3, random_state=42)\n",
    "reduced_vectors = tsne.fit_transform(vectors)\n",
    "\n",
    "# Create the 3D scatter plot\n",
    "fig = go.Figure(data=[go.Scatter3d(\n",
    "    x=reduced_vectors[:, 0],\n",
    "    y=reduced_vectors[:, 1],\n",
    "    z=reduced_vectors[:, 2],\n",
    "    mode='markers',\n",
    "    marker=dict(size=5, color=colors, opacity=0.8),\n",
    "    text=[f\"Type: {t}<br>Text: {d[:100]}...\" for t, d in zip(doc_types, documents)],\n",
    "    hoverinfo='text'\n",
    ")])\n",
    "\n",
    "fig.update_layout(\n",
    "    title='3D Chroma Vector Store Visualization',\n",
    "    scene=dict(xaxis_title='x', yaxis_title='y', zaxis_title='z'),\n",
    "    width=900,\n",
    "    height=700,\n",
    "    margin=dict(r=20, b=10, l=10, t=40)\n",
    ")\n",
    "\n",
    "fig.show()"
   ]
  },
  {
   "cell_type": "code",
   "execution_count": 97,
   "id": "b53f27fd",
   "metadata": {},
   "outputs": [],
   "source": [
    "from langchain_core.tools import tool\n",
    "from langchain.agents import initialize_agent\n",
    "\n",
    "ranking = { 0.0: \"Yếu\", 2.0: \"Trung bình\", 2.5: \"Khá\", 3.2: \"Giỏi\", 3.6: \"Xuất sắc\"}\n",
    "\n",
    "@tool\n",
    "def get_ranking(grade):\n",
    "    \"\"\"\n",
    "    Trả về xếp loại dựa vào số điểm CPA\n",
    "\n",
    "    Args:\n",
    "        grade (float): Số điểm CPA của sinh viên\n",
    "    \"\"\"\n",
    "    grade = grade.replace(\"'\", \"\\\"\")\n",
    "\n",
    "    grade = json.loads(grade).get('grade')\n",
    "    grade = float(grade)\n",
    "\n",
    "    if grade > 4 or grade < 0:\n",
    "        return \"Số điểm không hợp lệ trên thang điểm 4\"\n",
    "\n",
    "    for key in sorted(ranking.keys(), reverse= True):\n",
    "        if grade >= key:\n",
    "            return ranking[key]\n",
    "\n",
    "    return \"Xuất sắc\" \n"
   ]
  },
  {
   "cell_type": "code",
   "execution_count": 98,
   "id": "7062609e",
   "metadata": {},
   "outputs": [],
   "source": [
    "from langchain_community.chat_models import ChatOllama\n",
    "\n",
    "from langchain_openai import ChatOpenAI\n",
    "# llm = ChatOpenAI(\n",
    "#     api_key=\"ollama\",\n",
    "#     model= MODEL_QWEN7b,\n",
    "#     base_url=\"http://localhost:11434/v1\",\n",
    "# )\n",
    "\n",
    "llm = ChatOpenAI(\n",
    "    model = MODEL_GPT,\n",
    "    temperature= 0.7\n",
    ")\n",
    "\n",
    "tools = [get_ranking]\n",
    "\n",
    "llm = llm.bind_tools(tools)\n",
    "agent = initialize_agent(tools, llm, agent_type=\"zero-shot-react-description\", handle_parsing_errors=True, verbose=True)\n",
    "\n",
    "def handle_get_ranking_tool_call(tool_call):\n",
    "    arguments = tool_call.get('args')\n",
    "    grade = arguments.get('grade')\n",
    "    hint = f\"Lấy xếp loại của sinh viên dựa vào điểm số CPA cung cấp: {grade}\"\n",
    "    ranking = agent.run(hint)\n",
    "    return ranking\n"
   ]
  },
  {
   "cell_type": "code",
   "execution_count": 99,
   "id": "956efe21",
   "metadata": {},
   "outputs": [],
   "source": [
    "memory = ConversationBufferMemory(memory_key='chat_history', return_messages=True)\n",
    "retriever = vectorstore.as_retriever()"
   ]
  },
  {
   "cell_type": "code",
   "execution_count": 100,
   "id": "1bd70325",
   "metadata": {},
   "outputs": [],
   "source": [
    "from langchain_core.runnables import RunnableParallel, RunnablePassthrough\n",
    "\n",
    "setup = RunnableParallel(context=retriever, question=RunnablePassthrough())"
   ]
  },
  {
   "cell_type": "code",
   "execution_count": 101,
   "id": "5e5c3eb1",
   "metadata": {},
   "outputs": [],
   "source": [
    "from langchain.prompts import ChatPromptTemplate\n",
    "\n",
    "template = \"\"\"\n",
    "Bạn hãy đưa ra các câu trả lời bằng Tiếng Việt. \n",
    "Bạn là một chuyên gia tư vấn về quy chế đào tạo\n",
    "cho một đại học ở Việt Nam, Đại học Bách khoa Hà Nội.\n",
    "Bạn cần tư vấn chính xác những gì bạn biết và trả lời \n",
    "thành thật những nội dung trong tài liệu bạn được cung cấp. \n",
    "Khi nội dung được hỏi không có thông tin trong tài liệu được \n",
    "cung cấp, hãy nói không có thông tin trong tài liệu.\n",
    "\n",
    "Context: {context}\n",
    "\n",
    "Question: {question}\n",
    "\"\"\"\n",
    "\n",
    "prompt = ChatPromptTemplate.from_template(template)"
   ]
  },
  {
   "cell_type": "code",
   "execution_count": 102,
   "id": "d2eb2c64",
   "metadata": {},
   "outputs": [],
   "source": [
    "from langchain_core.output_parsers import StrOutputParser\n",
    "\n",
    "parser = StrOutputParser()"
   ]
  },
  {
   "cell_type": "code",
   "execution_count": 103,
   "id": "5dcf4b08",
   "metadata": {},
   "outputs": [],
   "source": [
    "chain = setup | prompt | llm | parser"
   ]
  },
  {
   "cell_type": "code",
   "execution_count": 105,
   "id": "5c0a65e4-0bfb-4d4d-8b5b-4ebf52a76735",
   "metadata": {},
   "outputs": [],
   "source": [
    "def chat(message, history):\n",
    "    response = llm.invoke(message)\n",
    "    if response.tool_calls:\n",
    "        for tool_call in response.tool_calls:\n",
    "            if tool_call.get('name') == 'get_ranking':\n",
    "                result = handle_get_ranking_tool_call(response.tool_calls[0])\n",
    "        return result\n",
    "    else:\n",
    "        result = chain.invoke()\n",
    "        return result.content"
   ]
  },
  {
   "cell_type": "code",
   "execution_count": 106,
   "id": "426f40b7",
   "metadata": {},
   "outputs": [
    {
     "name": "stdout",
     "output_type": "stream",
     "text": [
      "\n",
      "\n",
      "\u001b[1m> Entering new AgentExecutor chain...\u001b[0m\n",
      "\u001b[32;1m\u001b[1;3m\u001b[0m\n",
      "Observation: Invalid Format: Missing 'Action:' after 'Thought:\n",
      "Thought:\u001b[32;1m\u001b[1;3mAction: get_ranking\n",
      "Action Input: { \"grade\": 3.7 }\u001b[0m\n",
      "Observation: \u001b[36;1m\u001b[1;3mXuất sắc\u001b[0m\n",
      "Thought:\u001b[32;1m\u001b[1;3mI now know the final answer.\n",
      "\n",
      "Final Answer: Xếp loại của sinh viên với điểm CPA 3.7 là \"Xuất sắc\".\u001b[0m\n",
      "\n",
      "\u001b[1m> Finished chain.\u001b[0m\n"
     ]
    },
    {
     "data": {
      "text/plain": [
       "'Xếp loại của sinh viên với điểm CPA 3.7 là \"Xuất sắc\".'"
      ]
     },
     "execution_count": 106,
     "metadata": {},
     "output_type": "execute_result"
    }
   ],
   "source": [
    "chat(\"xếp hạng của tôi khi đạt cpa 3.7\", \"haha\")"
   ]
  },
  {
   "cell_type": "code",
   "execution_count": 107,
   "id": "b2a04207-f34a-4631-9d7f-1f91064a26ae",
   "metadata": {},
   "outputs": [],
   "source": [
    "# view = gr.ChatInterface(chat, type=\"messages\").launch(share = True)"
   ]
  }
 ],
 "metadata": {
  "kernelspec": {
   "display_name": "llms",
   "language": "python",
   "name": "python3"
  },
  "language_info": {
   "codemirror_mode": {
    "name": "ipython",
    "version": 3
   },
   "file_extension": ".py",
   "mimetype": "text/x-python",
   "name": "python",
   "nbconvert_exporter": "python",
   "pygments_lexer": "ipython3",
   "version": "3.11.11"
  }
 },
 "nbformat": 4,
 "nbformat_minor": 5
}
