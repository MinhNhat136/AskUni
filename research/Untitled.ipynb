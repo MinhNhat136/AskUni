{
 "cells": [
  {
   "cell_type": "code",
   "execution_count": 34,
   "id": "8f01e2e0-838b-4cfd-9e0f-9213cb291195",
   "metadata": {},
   "outputs": [],
   "source": [
    "import os\n",
    "import glob\n",
    "from dotenv import load_dotenv\n",
    "import json\n",
    "import gradio as gr\n",
    "from openai import OpenAI"
   ]
  },
  {
   "cell_type": "code",
   "execution_count": 35,
   "id": "d02307d9-cae8-4944-84b4-58550f0ec3dd",
   "metadata": {},
   "outputs": [],
   "source": [
    "from langchain.document_loaders import DirectoryLoader, TextLoader\n",
    "from langchain.text_splitter import RecursiveCharacterTextSplitter\n",
    "from langchain_openai import OpenAIEmbeddings, ChatOpenAI\n",
    "from langchain_chroma import Chroma\n",
    "from langchain_core.output_parsers import StrOutputParser\n",
    "from langchain.memory import ConversationBufferMemory\n",
    "\n",
    "import numpy as np\n",
    "from sklearn.manifold import TSNE\n",
    "import plotly.graph_objects as go"
   ]
  },
  {
   "cell_type": "code",
   "execution_count": 36,
   "id": "9d51be20-92a4-4988-befa-6b4bd321cb2d",
   "metadata": {},
   "outputs": [],
   "source": [
    "MODEL_GPT = \"gpt-4o\"\n",
    "MODEL_QWEN3b = 'qwen2.5:3b'\n",
    "MODEL_QWEN7b = 'qwen2.5'\n",
    "MODEL_LLAMA  = 'llama3.2'\n",
    "db_name = \"..\\\\vector_db\""
   ]
  },
  {
   "cell_type": "code",
   "execution_count": 37,
   "id": "e3b34d66-4e53-4648-9a10-2432f4a44581",
   "metadata": {},
   "outputs": [],
   "source": [
    "load_dotenv()\n",
    "os.environ['OPENAI_API_KEY'] = os.getenv('OPENAI_API_KEY')\n",
    "openai = OpenAI()"
   ]
  },
  {
   "cell_type": "code",
   "execution_count": 38,
   "id": "5413f7a5",
   "metadata": {},
   "outputs": [
    {
     "name": "stdout",
     "output_type": "stream",
     "text": [
      "An error occurred: module 'fitz' has no attribute 'open'\n"
     ]
    }
   ],
   "source": [
    "import fitz\n",
    "\n",
    "def pdf_to_md(pdf_path, output_md_path):\n",
    "    \"\"\"\n",
    "    Converts a PDF file to a Markdown (.md) file.\n",
    "\n",
    "    Args:\n",
    "        pdf_path (str): Path to the input PDF file.\n",
    "        output_md_path (str): Path to the output Markdown file.\n",
    "    \"\"\"\n",
    "    header = (\"CHƯƠNG\", \"1.\", \"2.\", \"3.\", \"4.\", \"5.\", \"6.\", \"7.\", \"8.\", \"9.\")#, \"a)\", \"b)\", \"c)\", \"d)\", \"đ)\", \"e)\")\n",
    "    try:\n",
    "        pdf_document = fitz.open(pdf_path)\n",
    "\n",
    "        with open(output_md_path, 'w', encoding='utf-8') as md_file:\n",
    "            for page_number in range(len(pdf_document)):\n",
    "                page = pdf_document.load_page(page_number)  # Load page\n",
    "                text = page.get_text(\"text\")  # Extract text\n",
    "                lines = text.split('\\n')\n",
    "\n",
    "                paragraph = []\n",
    "                prev_line = \"start\"\n",
    "                for i in range(len(lines)):\n",
    "                    line = lines[i].strip()\n",
    "                    if line == \"\" and prev_line == \"\":\n",
    "                        continue\n",
    "                    elif line == \"\" and prev_line != \"\":\n",
    "                        paragraph.append(line)\n",
    "                    elif line.startswith(header):\n",
    "                        paragraph.append(\"\")\n",
    "                        paragraph.append(line)\n",
    "                    else:\n",
    "                        paragraph.append(line)\n",
    "                    prev_line = line\n",
    "\n",
    "                text = \"\\n\".join(paragraph)\n",
    "\n",
    "                md_file.write(text)\n",
    "                md_file.write(\"\\n\\n---\\n\\n\")  \n",
    "\n",
    "        print(f\"Markdown file created at: {output_md_path}\")\n",
    "\n",
    "    except Exception as e:\n",
    "        print(f\"An error occurred: {e}\")\n",
    "\n",
    "pdf_path = \"../knowledge-base/document/qcdt_2023_upload.pdf\" \n",
    "output_md_path = \"../knowledge-base/document/qcdt_2023_upload.md\"  \n",
    "\n",
    "pdf_to_md(pdf_path, output_md_path)\n"
   ]
  },
  {
   "cell_type": "code",
   "execution_count": 39,
   "id": "cf944c2d-e84b-45ae-8971-f5d4f6229b1a",
   "metadata": {},
   "outputs": [],
   "source": [
    "folders = glob.glob(\"../knowledge-base/*\")\n",
    "\n",
    "text_loader_kwargs = {'encoding': 'utf-8'}\n",
    "\n",
    "documents = []\n",
    "for folder in folders:\n",
    "    doc_type = os.path.basename(folder)\n",
    "    loader = DirectoryLoader(folder, glob=\"**/*.md\", loader_cls=TextLoader, loader_kwargs=text_loader_kwargs)\n",
    "    folder_docs = loader.load()\n",
    "    for doc in folder_docs:\n",
    "        doc.metadata[\"doc_type\"] = doc_type\n",
    "        documents.append(doc)"
   ]
  },
  {
   "cell_type": "code",
   "execution_count": 40,
   "id": "53331a54-63a5-447f-ba0d-c62961dde223",
   "metadata": {},
   "outputs": [],
   "source": [
    "text_splitter = RecursiveCharacterTextSplitter(chunk_size=1000, chunk_overlap=200)\n",
    "chunks = text_splitter.split_documents(documents)\n"
   ]
  },
  {
   "cell_type": "code",
   "execution_count": 41,
   "id": "e4db869a-325c-44f5-9459-9162e5b1d91d",
   "metadata": {},
   "outputs": [],
   "source": [
    "embeddings = OpenAIEmbeddings()"
   ]
  },
  {
   "cell_type": "code",
   "execution_count": 42,
   "id": "624a050f",
   "metadata": {},
   "outputs": [],
   "source": [
    "import pandas as pd\n",
    "df = pd.DataFrame([d.page_content for d in chunks], columns=[\"text\"])"
   ]
  },
  {
   "cell_type": "code",
   "execution_count": 43,
   "id": "7dd98821-36eb-4321-81d4-250aa0e434f1",
   "metadata": {},
   "outputs": [],
   "source": [
    "if os.path.exists(db_name):\n",
    "    Chroma(persist_directory=db_name, embedding_function=embeddings).delete_collection()"
   ]
  },
  {
   "cell_type": "code",
   "execution_count": 44,
   "id": "5efff0c9-b965-4ed9-8d86-5b6f79868ec0",
   "metadata": {},
   "outputs": [
    {
     "name": "stdout",
     "output_type": "stream",
     "text": [
      "Vectorstore: 118 documents\n"
     ]
    }
   ],
   "source": [
    "vectorstore = Chroma.from_documents(documents=chunks, embedding=embeddings, persist_directory=db_name)\n",
    "print(f\"Vectorstore: {vectorstore._collection.count()} documents\")"
   ]
  },
  {
   "cell_type": "code",
   "execution_count": 45,
   "id": "674ac9f1-1ea6-4c5b-9e3a-08e848c5679a",
   "metadata": {},
   "outputs": [
    {
     "name": "stdout",
     "output_type": "stream",
     "text": [
      "The vectors have 1,536 dimensions\n"
     ]
    }
   ],
   "source": [
    "collection = vectorstore._collection\n",
    "sample_embedding = collection.get(limit=1, include=[\"embeddings\"])[\"embeddings\"][0]\n",
    "dimensions = len(sample_embedding)\n",
    "print(f\"The vectors have {dimensions:,} dimensions\")"
   ]
  },
  {
   "cell_type": "code",
   "execution_count": 46,
   "id": "9c4fbea2-51c8-4c50-9a0e-80f11fa29c22",
   "metadata": {},
   "outputs": [],
   "source": [
    "result = collection.get(include=['embeddings', 'documents', 'metadatas'])\n",
    "vectors = np.array(result['embeddings'])\n",
    "documents = result['documents']\n",
    "doc_types = [metadata['doc_type'] for metadata in result['metadatas']]\n",
    "colors = [['blue', 'green'][['document', 'question answer'].index(t)] for t in doc_types]"
   ]
  },
  {
   "cell_type": "code",
   "execution_count": 47,
   "id": "90c60853-bcae-4768-9745-6162dab5893c",
   "metadata": {},
   "outputs": [
    {
     "data": {
      "application/vnd.plotly.v1+json": {
       "config": {
        "plotlyServerURL": "https://plot.ly"
       },
       "data": [
        {
         "hoverinfo": "text",
         "marker": {
          "color": [
           "blue",
           "blue",
           "blue",
           "blue",
           "blue",
           "blue",
           "blue",
           "blue",
           "blue",
           "blue",
           "blue",
           "blue",
           "blue",
           "blue",
           "blue",
           "blue",
           "blue",
           "blue",
           "blue",
           "blue",
           "blue",
           "blue",
           "blue",
           "blue",
           "blue",
           "blue",
           "blue",
           "blue",
           "blue",
           "blue",
           "blue",
           "blue",
           "blue",
           "blue",
           "blue",
           "blue",
           "blue",
           "blue",
           "blue",
           "blue",
           "blue",
           "blue",
           "blue",
           "blue",
           "blue",
           "blue",
           "blue",
           "blue",
           "blue",
           "blue",
           "blue",
           "blue",
           "blue",
           "blue",
           "blue",
           "blue",
           "blue",
           "blue",
           "blue",
           "blue",
           "blue",
           "blue",
           "blue",
           "blue",
           "blue",
           "blue",
           "blue",
           "blue",
           "blue",
           "blue",
           "blue",
           "blue",
           "blue",
           "blue",
           "blue",
           "blue",
           "blue",
           "blue",
           "blue",
           "blue",
           "blue",
           "blue",
           "blue",
           "blue",
           "blue",
           "blue",
           "blue",
           "blue",
           "blue",
           "blue",
           "blue",
           "blue",
           "blue",
           "blue",
           "blue",
           "blue",
           "blue",
           "blue",
           "blue",
           "green",
           "green",
           "green",
           "green",
           "green",
           "green",
           "green",
           "green",
           "green",
           "green",
           "green",
           "green",
           "green",
           "green",
           "green",
           "green",
           "green",
           "green",
           "green"
          ],
          "opacity": 0.8,
          "size": 5
         },
         "mode": "markers",
         "text": [
          "Type: document<br>Text: **BỘ** **GIÁO** **DỤC** **VÀ** **ĐÀO** **TẠO** **ĐẠI** **HỌC**\n**BÁCH** **KHOA** **HÀ** **NỘI**\n\n**Q...",
          "Type: document<br>Text: CHƯƠNG I NHỮNG QUY ĐỊNH\nCHUNG..................................................................1\nĐiề...",
          "Type: document<br>Text: lũy...................................................6 Điều 8. Chuyển\ncơ sở đào tạo\nkhác..............",
          "Type: document<br>Text: 14. Đăng ký tốt nghiệp đại\nhọc.........................................................................",
          "Type: document<br>Text: Điều 21. Đăng ký học tập chương trình kỹ\nsư............................................................",
          "Type: document<br>Text: sĩ.........................................................17 Điều 28.\nHọc bổ sung, miễn học và công...",
          "Type: document<br>Text: Điều 35. Gia hạn thời gian học tập, thôi\nhọc...........................................................",
          "Type: document<br>Text: ii...",
          "Type: document<br>Text: Điều 38. Tiểu luận tổng quan và chuyên đề tiến sĩ\n.....................................................",
          "Type: document<br>Text: cứu..............................27 CHƯƠNG VI TỔ CHỨC THỰC\nHIỆN........................................",
          "Type: document<br>Text: BỘ GIÁO DỤC VÀ ĐÀO TẠO\n\n**ĐẠI** **HỌC** **BÁCH** **KHOA** **HÀ** **NỘI**\n\n**CỘNG** **HÒA** **XÃ** **...",
          "Type: document<br>Text: 2\\. Quy chế này áp dụng cho sinh viên đại học, học viên của chương\ntrình thạc sĩ và nghiên cứu sinh ...",
          "Type: document<br>Text: 1\\. Ngành đào tạo (sau đây gọi tắt là ngành) là một lĩnh vực chuyên\nmôn rộng, có mã số trong Danh mụ...",
          "Type: document<br>Text: 2 Quy chế tuyển sinh và đào tạo trình độ thạc sĩ, ban hành theo Thông\ntư số 23/2021/TT-BGDĐT ngày 30...",
          "Type: document<br>Text: 4 Danh mục thống kê ngành đào tạo của giáo dục đại học ban hành theo\nThông tư số 09/2022/TT-BGDĐT ng...",
          "Type: document<br>Text: 4\\. Chương trình ELITECH (từ viết tắt của cụm từ Elite Technology\nProgram) là CTĐT chất lượng cao (t...",
          "Type: document<br>Text: 5\\. Thời gian và khối lượng học tập chuẩn đối với các CTĐT theo hình\nthức chính quy không kể các môn...",
          "Type: document<br>Text: 6 Chương trình đào tạo cử nhân-kỹ sư tích hợp là chương trình được\nthiết kế một cách tổng thể, liên ...",
          "Type: document<br>Text: 2\\. Lịch đăng ký học tập, thời khóa biểu, lịch thi và kế hoạch xét\ncông nhận tốt nghiệp trong năm họ...",
          "Type: document<br>Text: b\\) Đối với sinh viên học liên thông đã được miễn trừ khối lượng tín\nchỉ tích lũy, thời gian thiết k...",
          "Type: document<br>Text: d\\) Đối với người học các CTĐT đại học và thuộc diện đối tượng ưu tiên\ntheo quy định tại Quy chế tuy...",
          "Type: document<br>Text: 2\\. Học phần là đơn vị cấu thành chương trình học tập và được thực\nhiện trọn vẹn trong một học kỳ. M...",
          "Type: document<br>Text: 5\\. Học phần tương đương và học phần thay thế\n\na\\) Người học được tùy chọn học một học phần tương đư...",
          "Type: document<br>Text: 2\\. Điểm quá trình được đánh giá qua thi giữa kỳ, kiểm tra thường kỳ,\nkết hợp thi giữa kỳ và kiểm tr...",
          "Type: document<br>Text: 4\\. Hình thức đánh giá trực tuyến được áp dụng khi đảm bảo trung thực,\ncông bằng và khách quan như đ...",
          "Type: document<br>Text: ||\n||\n||\n||\n||\n\n7\\. Người học có thể đăng ký học lại học phần đã có điểm đạt để cải\nthiện điểm trung...",
          "Type: document<br>Text: **Điều** **6.** **Hoãn** **thi,** **miễn** **thi,** **phúc** **tra**\n**và** **khiếu** **nại** **điểm...",
          "Type: document<br>Text: 3\\. Người học không dự thi giữa kỳ do bị ốm, tai nạn hoặc vì lý do\nchính đáng được giảng viên bố trí...",
          "Type: document<br>Text: 1\\. Số TC tích lũy là tổng số TC của các học phần có điểm đạt kể từ\nđầu khóa kể cả các học phần được...",
          "Type: document<br>Text: 2\\. Học viên thạc sĩ không thể tiếp tục học tập tại ĐHBK Hà Nội vì lý\ndo chuyển nơi cư trú hoặc chuy...",
          "Type: document<br>Text: **Điều** **9.** **Học** **phí**\n\n1\\. Người học có nghĩa vụ nộp học phí đầy đủ và đúng thời hạn theo ...",
          "Type: document<br>Text: 4\\. Sinh viên, học viên có đơn đề nghị thôi học, nghỉ học tạm thời\nhoặc chuyển cơ sở đào tạo trong k...",
          "Type: document<br>Text: a\\) Đăng ký học phần: sinh viên chọn đăng ký những học phần dự tính sẽ\nhọc trong học kỳ tiếp. Sinh v...",
          "Type: document<br>Text: 2\\. Số lượng TC đăng ký:\n\na\\) Sinh viên không thuộc diện cảnh báo học tập theo quy định tại\nkhoản 1 ...",
          "Type: document<br>Text: 4\\. Đối với học phần có giờ lên lớp, chỉ mở lớp khi có tối thiểu 20\nsinh viên đăng ký học. Các trườn...",
          "Type: document<br>Text: 1\\. Kết quả học tập của người học đã tích lũy từ một trình độ đào tạo\nkhác, một CTĐT khác hoặc từ mộ...",
          "Type: document<br>Text: 9\n\nCTĐT theo hình thức VLVH tại đơn vị liên kết, việc đánh giá ĐATN được\nphép thực hiện tại đơn vị l...",
          "Type: document<br>Text: 1\\. Kết thúc mỗi học kỳ, sinh viên tham gia khảo sát lấy ý kiến phản\nhồi về các điều kiện bảo đảm ch...",
          "Type: document<br>Text: a\\) Số TC tích lũy (số TCTL).\n\nb\\) Tổng số TC của các học phần đã học nhưng chưa đạt từ đầu khóa (số...",
          "Type: document<br>Text: **Điều** **13.** **Đồ** **án/khóa** **luận** **tốt** **nghiệp**\n**đại** **học**\n\nCác học phần tốt ng...",
          "Type: document<br>Text: 3\\. Kết quả ĐATN được đánh giá như sau:\n\na\\) Điểm quá trình của ĐATN được tính bằng trung bình cộng ...",
          "Type: document<br>Text: e\\) Các điểm của người hướng dẫn, phản biện và thành viên hội đồng\nđánh giá ĐATN được phép cho lẻ tớ...",
          "Type: document<br>Text: b\\) Đạt chuẩn ngoại ngữ đầu ra.\n\nc\\) Điểm trung bình tích lũy toàn khóa (tính theo các học phần đăng...",
          "Type: document<br>Text: 6\\. Sinh viên không tốt nghiệp được quyền đề nghị cấp chứng nhận với\ncác học phần đã tích lũy trong ...",
          "Type: document<br>Text: b\\) Sinh viên bị Hội đồng kỷ luật của ĐHBK Hà Nội đề nghị áp dụng mức\nkỷ luật từ cảnh cáo trở lên.\n\n...",
          "Type: document<br>Text: c\\) Thời gian nghỉ học tạm thời do sinh viên được điều động vào lực\nlượng vũ trang (là thời gian đượ...",
          "Type: document<br>Text: 3\\. Tự nguyện thôi học: Sinh viên thấy không có đủ điều kiện hoặc\nkhông muốn tiếp tục học tại ĐHBK H...",
          "Type: document<br>Text: d\\) Không bị cảnh báo học tập hoặc bị xét thi hành kỷ luật;\n\n2\\. Không cho phép chuyển CTĐT đối với ...",
          "Type: document<br>Text: 5\\. Sinh viên từ trường khác muốn chuyển tới học tại ĐHBK Hà Nội phải\nđáp ứng điều kiện trúng tuyển ...",
          "Type: document<br>Text: 2\\. Sinh viên được đăng ký học chương trình thứ hai sớm nhất khi đã\nđược xếp trình độ năm thứ hai củ...",
          "Type: document<br>Text: 6\\. Sinh viên chỉ được xét tốt nghiệp chương trình thứ hai, nếu có đủ\nđiều kiện tốt nghiệp ở chương ...",
          "Type: document<br>Text: c\\) Áp dụng cảnh báo học tập mức 3 đối với sinh viên có số TC nợ đọng\ntừ đầu khóa lớn hơn 24.\n\nd\\) S...",
          "Type: document<br>Text: 3\\. Buộc thôi học là hình thức áp dụng đối với những sinh viên có kết\nquả học tập rất kém, cụ thể tr...",
          "Type: document<br>Text: 15\n\n2\\. Sinh viên thi hộ hoặc nhờ người thi hộ đều bị kỷ luật ở mức đình\nchỉ học tập 01 năm đối với ...",
          "Type: document<br>Text: 2\\. Quy trình đăng ký học tập thực hiện theo khoản 1 Điều 10 của Quy\nchế này.\n\n3\\. Trong quá trình h...",
          "Type: document<br>Text: 4\\. Việc đánh giá kết quả thực hiện ĐATN KS được thực hiện theo khoản\n3 Điều 13 của Quy chế này. Đồ ...",
          "Type: document<br>Text: b\\) Đã nộp đồ án tốt nghiệp cho thư viện theo quy cách của bản đồ án\ndo ĐHBK Hà Nội quy định.\n\nc\\) Đ...",
          "Type: document<br>Text: **Điều** **24.** **Điểm** **trung** **bình** **toàn** **khóa** **và**\n**hạng** **tốt** **nghiệp** **...",
          "Type: document<br>Text: b\\) Học viên bị Hội đồng kỷ luật của ĐHBK Hà Nội đề nghị áp dụng mức\nkỷ luật từ cảnh cáo trở lên.\n\n*...",
          "Type: document<br>Text: 17\n\nvượt quá 2 học kỳ chính; thời gian nghỉ trên 2 học kỳ được tính vào\nthời gian học chậm tiến độ.\n...",
          "Type: document<br>Text: 6\\. Học viên thấy không có đủ điều kiện hoặc không muốn tiếp tục học\ntại ĐHBK Hà Nội có thể làm đơn ...",
          "Type: document<br>Text: **CHƯƠNG** **IV** **ĐÀO** **TẠO** **THẠC** **SĨ**\n\n**Điều** **27.** **Đăng** **ký** **học** **tập** ...",
          "Type: document<br>Text: 18\n\n3\\. Đối với các học phần được giảng dạy trên lớp, quy mô lớp học phần\ntối thiểu là 20 học viên. ...",
          "Type: document<br>Text: b\\) Danh mục các học phần bổ sung và số TC được xác định khi xét hồ sơ\nđăng ký dự tuyển dựa trên việ...",
          "Type: document<br>Text: c\\) Học viên học chương trình tích hợp Cử nhân - Thạc sĩ khoa học của\nĐHBK Hà Nội được đăng ký học t...",
          "Type: document<br>Text: 19\n\n**Điều** **29.** **Đăng** **ký** **đề** **tài** **luận** **văn**\n**thạc** **sĩ**\n\n1\\. Đăng ký đề...",
          "Type: document<br>Text: **Điều** **30.** **Điều** **kiện** **được** **bảo** **vệ** **luận**\n**văn** **thạc** **sĩ**\n\nHọc viê...",
          "Type: document<br>Text: **Điều** **31.** **Điểm** **luận** **văn** **thạc** **sĩ**\n\n1\\. Điểm luận văn thạc sĩ là điểm bảo vệ...",
          "Type: document<br>Text: 20\n\nnghiệm thu, hoặc đề tài nghiên cứu đã được nghiệm thu do người hướng\ndẫn chủ trì và học viên là ...",
          "Type: document<br>Text: 2\\. Trong trường hợp luận văn bảo vệ lần thứ hai vẫn không đạt yêu\ncầu, nếu học viên có nguyện vọng ...",
          "Type: document<br>Text: 1\\. Học viên có đủ các điều kiện sau đây thì được xét công nhận tốt\nnghiệp:\n\na\\) Luận văn đạt yêu cầ...",
          "Type: document<br>Text: ||\n||\n||\n||\n\n3\\. Học viên đạt đủ điều kiện tốt nghiệp được Giám đốc ĐHBK Hà Nội ra\nquyết định công n...",
          "Type: document<br>Text: 2\\. Học viên bị ốm hoặc tai nạn buộc phải điều trị trong thời gian\ndài, hoặc nghỉ thai sản theo quy ...",
          "Type: document<br>Text: 4\\. Học viên phải nộp đơn đề nghị trở lại học chậm nhất 1 tuần trước\nkhi bắt đầu học kỳ mới. Đối với...",
          "Type: document<br>Text: 3\\. Học viên bị buộc thôi học trong các trường hợp sau đây:\n\na\\) Học viên học chậm tiến độ quá thời ...",
          "Type: document<br>Text: 2\\. Căn cứ kế hoạch học tập chuẩn toàn khóa của CTĐT tiến sĩ, NCS xây\ndựng kế hoạch chi tiết theo từ...",
          "Type: document<br>Text: 1\\. Các học phần bổ sung nhằm hỗ trợ NCS có đủ kiến thức, trình độ\nchuyên môn để thực hiện đề tài ng...",
          "Type: document<br>Text: a\\) Mỗi NCS phải hoàn thành tối thiểu 8 TC tương ứng 3-4 học phần tiến\nsĩ.\n\nb\\) NCS phải thực hiện q...",
          "Type: document<br>Text: **Điều** **38.** **Tiểu** **luận** **tổng** **quan** **và** **chuyên**\n**đề** **tiến** **sĩ**\n\n1\\. T...",
          "Type: document<br>Text: b\\) NCS phải hoàn thành Tiểu luận tổng quan với kết quả đạt yêu cầu\ntrong vòng 12 tháng kể từ khi có...",
          "Type: document<br>Text: b\\) NCS phải đăng ký thực hiện các chuyên đề tiến sĩ. Tên của chuyên\nđề do NCS đề xuất và phải được ...",
          "Type: document<br>Text: 2\\. Quyển thuyết minh Luận án tiến sĩ phải đáp ứng quy định về hình\nthức, cách trình bày luận án; số...",
          "Type: document<br>Text: c\\) Tuân thủ các quy định khác của Luật sở hữu trí tuệ.\n\n**Điều** **40.** **Điều** **kiện** **được**...",
          "Type: document<br>Text: c\\) Tổng điểm của tất cả các công trình nghiên cứu trong khoản b mục 1\ncủa Điều này phải đạt từ 2,0 ...",
          "Type: document<br>Text: 2\\. Điều kiện để NCS được bảo vệ luận án ở Hội đồng đánh giá luận án\ncấp Đại học (bảo vệ luận án cấp...",
          "Type: document<br>Text: b\\) Hội đồng đánh giá luận án cấp cơ sở (sau đây gọi tắt là hội đồng\ncấp cơ sở) do Hiệu trưởng trườn...",
          "Type: document<br>Text: đ) Trong vòng 20 ngày sau khi kết thúc đánh giá luận án cấp cơ sở, NCS\nphải hoàn thành đầy đủ việc s...",
          "Type: document<br>Text: b\\) Hội đồng đánh giá luận án cấp Đại học do Giám đốc ĐHBK Hà Nội ra\nquyết định thành lập có 7 thành...",
          "Type: document<br>Text: 26\n\nd\\) Luận án được đánh giá bằng hình thức bỏ phiếu (tán thành hoặc\nkhông tán thành), luận án khôn...",
          "Type: document<br>Text: **Điều** **42.** **Đánh** **giá** **lại** **luận** **án** **tiến**\n**sĩ**\n\n1\\. Trong trường hợp Hội ...",
          "Type: document<br>Text: 3\\. Trong trường hợp luận án bảo vệ lần thứ hai vẫn không đạt yêu cầu,\nĐHBK Hà Nội không tổ chức bảo...",
          "Type: document<br>Text: d\\) Đã nộp Thư viện Quốc gia Việt Nam và Thư viện Tạ Quang Bửu của\nĐHBK Hà Nội (cả bản in và file pd...",
          "Type: document<br>Text: 27\n\nbằng tiến sĩ cho nghiên cứu sinh được thực hiện trong thời hạn 30 ngày\nlàm việc kể từ ngày quyết...",
          "Type: document<br>Text: 4\\. Giám đốc ĐHBK Hà Nội xem xét, quyết định cho phép NCS được rút\nngắn thời gian học tập tối đa khô...",
          "Type: document<br>Text: **Điều** **45.** **Công** **nhận** **và** **chuyển** **đổi** **kết**\n**quả** **học** **tập,** **nghi...",
          "Type: document<br>Text: 28\n\nphù hợp với nội dung, yêu cầu của CTĐT, được thực hiện trên cơ sở đề\nxuất của Tiểu ban xét tuyển...",
          "Type: document<br>Text: 2\\. Đối với các khoá tuyển sinh có quyết định công nhận NCS trong\nkhoảng thời gian từ ngày 15 tháng ...",
          "Type: document<br>Text: 3\\. Đối với các khoá tuyển sinh đã có quyết định công nhận NCS trước\nngày 18 tháng 5 năm 2017, ĐHBK ...",
          "Type: document<br>Text: 29\n\nb\\) Khoản 2 Điều 18 (về việc học cùng lúc hai chương trình) được áp\ndụng với các khóa tuyển sinh...",
          "Type: question answer<br>Text: Ban Công tác Sinh viên sẽ tiếp nhận và giải đáp thắc mắc của sinh viên tại địa chỉ nào?: Chỉ tại các...",
          "Type: question answer<br>Text: Một môn học có trọng số KT(0,4)-T(0,6) nghĩa là môn học đó có *: Trọng số của điểm kiểm tra giữa kỳ ...",
          "Type: question answer<br>Text: Phương pháp quản lý chi tiêu 50-20-30 với sinh viên?: 50% Nhu cầu thiết yếu, 20% Tiết kiệm, 30% Sở ...",
          "Type: question answer<br>Text: Sinh viên bắt đầu được xem xét chuyển ngành từ khi nào?: Sau khi hoàn thành năm thứ nhất\n\nTrong các...",
          "Type: question answer<br>Text: Sinh viên sẽ bị xem xét buộc thôi học nếu?: Bị cảnh cáo học tập mức 3 lần thứ hai\n\nĐiều kiện xét tuy...",
          "Type: question answer<br>Text: Khi nào sinh viên phải hoàn toàn tự đăng ký lớp?: Bắt đầu từ học kỳ thứ 3\n\nCách thức đánh giá điểm r...",
          "Type: question answer<br>Text: Các bước đăng ký mới hoặc reset lại mật khẩu bị mất là: *: Truy cập ctt.hust.edu.vn – Chọn “Đăng nhậ...",
          "Type: question answer<br>Text: Đối tượng được xét học bổng Trần Đại Nghĩa là những ai: *: Sinh viên có hoàn cảnh khó khăn, có nghị ...",
          "Type: question answer<br>Text: Điều kiện được xét học bổng loại A là gì: *: GPA từ 3.6, điểm rèn luyện từ 90.\n\nTheo định hướng cu...",
          "Type: question answer<br>Text: Điểm rèn luyện được xếp loại theo cách nào dưới đây?: Xuất sắc, Tốt, Khá, Trung bình, Yếu, Kém\n\nĐiểm...",
          "Type: question answer<br>Text: Một môn học có trọng số KT(0.3)-T(0.7) và có điểm thi giữa kỳ (đã cộng) là 9đ, điểm thi cuối kỳ là 8...",
          "Type: question answer<br>Text: Ưu điểm nào sau đây là đặc trưng của chương trình đào tạo theo tín chỉ?: Sinh viên có thể tự lập kế ...",
          "Type: question answer<br>Text: Điều kiện cần để đạt học bổng loại A là gì?: GPA≥3,6 ĐRL≥90\n\nĐịa chỉ bạn cần đến để được hỗ t...",
          "Type: question answer<br>Text: Sinh viên được xếp hạng trình độ năm thứ nhất căn cứ số tín chỉ tích lũy như thế nào?: Trình độ năm ...",
          "Type: question answer<br>Text: Học đại học có khác gì so với THPT: Cần có kỹ năng làm việc độc lập: Cần có khả năng tự đọc - tự học...",
          "Type: question answer<br>Text: Mục chấm điểm rèn luyện có 2 cột điểm SV chấm và điểm GV chấm, vậy điểm chốt tính theo điểm nào?: Cộ...",
          "Type: question answer<br>Text: Các màu nhãn sách tại Trung tâm truyền thông và tri thức số là:: Màu trắng: sách đọc tại các phòng.:...",
          "Type: question answer<br>Text: Học bổng Trần Đại Nghĩa dành cho sinh viên có hoàn cảnh kinh tế khó khăn, có nghị lực vươn lên trong...",
          "Type: question answer<br>Text: Đâu là trang tra cứu OPAC:: http://libopac.hust.edu.vn/\n\nGPA và CPA có nghĩa là gì ?: GPA là điểm tr..."
         ],
         "type": "scatter3d",
         "x": [
          -76.64206,
          -14.3931465,
          -31.271778,
          -48.44789,
          -46.02403,
          -66.28466,
          52.264034,
          -38.504982,
          -73.12335,
          -75.69331,
          -65.03196,
          -50.35937,
          -64.341484,
          -87.65499,
          -59.299294,
          91.21691,
          92.1289,
          -74.52002,
          2.7124214,
          29.381056,
          57.816906,
          100.43554,
          85.0928,
          54.32409,
          63.44326,
          60.409683,
          34.439262,
          37.700222,
          14.566427,
          85.38591,
          35.898903,
          83.79803,
          67.03805,
          36.21987,
          58.266308,
          67.923035,
          54.77921,
          47.035976,
          49.84333,
          -27.236492,
          78.79224,
          -24.71414,
          1.0078222,
          0.10597484,
          30.095896,
          38.58276,
          92.76899,
          75.35766,
          75.73071,
          7.2542706,
          3.9768627,
          31.091612,
          19.797606,
          32.62419,
          -19.525003,
          -32.09835,
          1.881821,
          0.4227945,
          9.18413,
          18.614521,
          43.604733,
          -27.52867,
          71.28644,
          37.14231,
          51.643665,
          -36.70351,
          -25.304598,
          10.260442,
          -17.94001,
          -7.887565,
          -17.339281,
          -5.572455,
          17.503181,
          29.633463,
          27.498901,
          20.730434,
          14.354361,
          3.5605338,
          -76.58053,
          -4.3009915,
          -70.99153,
          13.197275,
          -46.77756,
          -39.26438,
          -36.268097,
          -15.82732,
          -25.052832,
          -31.372961,
          -52.963066,
          -37.64781,
          -14.345288,
          -0.33320987,
          -29.161419,
          72.48441,
          -32.73347,
          -49.34457,
          -71.03765,
          27.056705,
          28.83112,
          1.8091228,
          -91.97595,
          -13.506899,
          -25.41012,
          -16.283926,
          -19.376638,
          -7.427679,
          9.108399,
          -94.2941,
          -78.472694,
          -92.29893,
          2.9443667,
          31.335062,
          -56.05339,
          6.9725723,
          -30.701515,
          -2.3239202,
          14.180785,
          33.421383
         ],
         "y": [
          22.282244,
          -60.24799,
          -44.635456,
          -41.494476,
          24.322239,
          -59.57095,
          91.19241,
          -85.90025,
          -59.84518,
          -86.80157,
          13.838991,
          14.952725,
          15.881493,
          -3.699616,
          50.676052,
          44.342678,
          5.3710375,
          41.72884,
          36.341217,
          48.765583,
          49.176205,
          -13.03528,
          -25.468803,
          -28.254358,
          -46.523556,
          -52.79143,
          -49.213642,
          -39.354595,
          53.883118,
          24.024237,
          27.433418,
          -73.045975,
          2.9257333,
          -5.40027,
          -17.657158,
          44.884457,
          64.68801,
          -4.6774797,
          21.000824,
          55.50202,
          -9.291229,
          25.786142,
          25.34754,
          21.613428,
          -26.761812,
          4.7285485,
          47.969208,
          63.004135,
          33.11142,
          -20.233393,
          -3.350263,
          -1.7395784,
          -18.513012,
          -38.03301,
          52.811596,
          35.390205,
          44.207367,
          46.248398,
          -15.314621,
          16.418673,
          -9.142289,
          -15.217651,
          -24.836946,
          41.902584,
          23.781225,
          -22.619192,
          -48.191483,
          -77.75794,
          -74.43771,
          -47.69241,
          4.234777,
          6.1832056,
          -11.772624,
          7.130125,
          31.49724,
          54.913166,
          83.52139,
          71.78602,
          -47.334396,
          -91.444046,
          -24.810833,
          -76.42761,
          -48.90925,
          -28.236464,
          -51.64516,
          -91.89355,
          -71.819115,
          -109.11285,
          -90.85828,
          -73.22264,
          -53.529438,
          -63.677967,
          77.547134,
          8.780057,
          95.057365,
          79.80984,
          -20.533638,
          -84.73722,
          86.96174,
          -27.327765,
          1.8291744,
          21.562914,
          -9.646643,
          -7.305999,
          14.083879,
          0.9391564,
          -6.8150296,
          58.99672,
          40.373024,
          21.824244,
          -28.805897,
          -1.0598994,
          4.4288044,
          4.733134,
          46.103657,
          47.05391,
          22.725077,
          57.908276
         ],
         "z": [
          82.35794,
          38.034748,
          29.587404,
          50.15599,
          -52.40651,
          25.75237,
          -52.213596,
          44.33456,
          -0.5703063,
          7.437462,
          66.301636,
          40.965736,
          23.425688,
          37.677612,
          26.111393,
          51.25505,
          -15.6734495,
          41.65314,
          -49.93487,
          -69.74525,
          -52.69653,
          24.702333,
          34.888123,
          66.12745,
          56.42363,
          23.574602,
          12.733197,
          33.056026,
          56.258175,
          -48.828583,
          28.335815,
          50.561054,
          15.700961,
          10.615018,
          -1.9781103,
          19.722212,
          16.768154,
          48.584892,
          57.283787,
          9.937018,
          74.86771,
          3.8844936,
          -12.403286,
          19.720366,
          -78.0192,
          -90.00486,
          -10.714514,
          -9.128292,
          -26.098362,
          17.476828,
          1.3646889,
          -13.716356,
          -33.508797,
          -26.573318,
          -27.299095,
          -16.150982,
          -2.4887953,
          30.63166,
          -80.02635,
          -94.162025,
          -45.574093,
          6.506319,
          -21.216639,
          -5.106781,
          -7.258619,
          -79.38009,
          -81.89944,
          65.635445,
          -68.78461,
          -59.795364,
          -28.469067,
          -62.442833,
          -103.86695,
          -63.55015,
          -41.258442,
          -39.5157,
          -29.1504,
          -57.395145,
          -31.784147,
          8.225197,
          -52.137184,
          -46.11029,
          -53.863777,
          -32.61406,
          -17.854576,
          -23.631094,
          -7.4867573,
          -19.205462,
          -47.339314,
          -36.071964,
          -33.70779,
          -9.874741,
          -52.183273,
          -64.47037,
          -13.655271,
          -24.21867,
          24.074736,
          27.526855,
          37.370216,
          108.87343,
          -10.3745365,
          62.44001,
          51.34121,
          75.70426,
          97.60962,
          112.7552,
          79.886505,
          7.764791,
          -15.430313,
          -24.538643,
          64.38768,
          100.42156,
          -10.773495,
          51.651363,
          65.0047,
          101.36455,
          81.19315,
          72.02492
         ]
        }
       ],
       "layout": {
        "height": 700,
        "margin": {
         "b": 10,
         "l": 10,
         "r": 20,
         "t": 40
        },
        "scene": {
         "xaxis": {
          "title": {
           "text": "x"
          }
         },
         "yaxis": {
          "title": {
           "text": "y"
          }
         },
         "zaxis": {
          "title": {
           "text": "z"
          }
         }
        },
        "template": {
         "data": {
          "bar": [
           {
            "error_x": {
             "color": "#2a3f5f"
            },
            "error_y": {
             "color": "#2a3f5f"
            },
            "marker": {
             "line": {
              "color": "#E5ECF6",
              "width": 0.5
             },
             "pattern": {
              "fillmode": "overlay",
              "size": 10,
              "solidity": 0.2
             }
            },
            "type": "bar"
           }
          ],
          "barpolar": [
           {
            "marker": {
             "line": {
              "color": "#E5ECF6",
              "width": 0.5
             },
             "pattern": {
              "fillmode": "overlay",
              "size": 10,
              "solidity": 0.2
             }
            },
            "type": "barpolar"
           }
          ],
          "carpet": [
           {
            "aaxis": {
             "endlinecolor": "#2a3f5f",
             "gridcolor": "white",
             "linecolor": "white",
             "minorgridcolor": "white",
             "startlinecolor": "#2a3f5f"
            },
            "baxis": {
             "endlinecolor": "#2a3f5f",
             "gridcolor": "white",
             "linecolor": "white",
             "minorgridcolor": "white",
             "startlinecolor": "#2a3f5f"
            },
            "type": "carpet"
           }
          ],
          "choropleth": [
           {
            "colorbar": {
             "outlinewidth": 0,
             "ticks": ""
            },
            "type": "choropleth"
           }
          ],
          "contour": [
           {
            "colorbar": {
             "outlinewidth": 0,
             "ticks": ""
            },
            "colorscale": [
             [
              0,
              "#0d0887"
             ],
             [
              0.1111111111111111,
              "#46039f"
             ],
             [
              0.2222222222222222,
              "#7201a8"
             ],
             [
              0.3333333333333333,
              "#9c179e"
             ],
             [
              0.4444444444444444,
              "#bd3786"
             ],
             [
              0.5555555555555556,
              "#d8576b"
             ],
             [
              0.6666666666666666,
              "#ed7953"
             ],
             [
              0.7777777777777778,
              "#fb9f3a"
             ],
             [
              0.8888888888888888,
              "#fdca26"
             ],
             [
              1,
              "#f0f921"
             ]
            ],
            "type": "contour"
           }
          ],
          "contourcarpet": [
           {
            "colorbar": {
             "outlinewidth": 0,
             "ticks": ""
            },
            "type": "contourcarpet"
           }
          ],
          "heatmap": [
           {
            "colorbar": {
             "outlinewidth": 0,
             "ticks": ""
            },
            "colorscale": [
             [
              0,
              "#0d0887"
             ],
             [
              0.1111111111111111,
              "#46039f"
             ],
             [
              0.2222222222222222,
              "#7201a8"
             ],
             [
              0.3333333333333333,
              "#9c179e"
             ],
             [
              0.4444444444444444,
              "#bd3786"
             ],
             [
              0.5555555555555556,
              "#d8576b"
             ],
             [
              0.6666666666666666,
              "#ed7953"
             ],
             [
              0.7777777777777778,
              "#fb9f3a"
             ],
             [
              0.8888888888888888,
              "#fdca26"
             ],
             [
              1,
              "#f0f921"
             ]
            ],
            "type": "heatmap"
           }
          ],
          "heatmapgl": [
           {
            "colorbar": {
             "outlinewidth": 0,
             "ticks": ""
            },
            "colorscale": [
             [
              0,
              "#0d0887"
             ],
             [
              0.1111111111111111,
              "#46039f"
             ],
             [
              0.2222222222222222,
              "#7201a8"
             ],
             [
              0.3333333333333333,
              "#9c179e"
             ],
             [
              0.4444444444444444,
              "#bd3786"
             ],
             [
              0.5555555555555556,
              "#d8576b"
             ],
             [
              0.6666666666666666,
              "#ed7953"
             ],
             [
              0.7777777777777778,
              "#fb9f3a"
             ],
             [
              0.8888888888888888,
              "#fdca26"
             ],
             [
              1,
              "#f0f921"
             ]
            ],
            "type": "heatmapgl"
           }
          ],
          "histogram": [
           {
            "marker": {
             "pattern": {
              "fillmode": "overlay",
              "size": 10,
              "solidity": 0.2
             }
            },
            "type": "histogram"
           }
          ],
          "histogram2d": [
           {
            "colorbar": {
             "outlinewidth": 0,
             "ticks": ""
            },
            "colorscale": [
             [
              0,
              "#0d0887"
             ],
             [
              0.1111111111111111,
              "#46039f"
             ],
             [
              0.2222222222222222,
              "#7201a8"
             ],
             [
              0.3333333333333333,
              "#9c179e"
             ],
             [
              0.4444444444444444,
              "#bd3786"
             ],
             [
              0.5555555555555556,
              "#d8576b"
             ],
             [
              0.6666666666666666,
              "#ed7953"
             ],
             [
              0.7777777777777778,
              "#fb9f3a"
             ],
             [
              0.8888888888888888,
              "#fdca26"
             ],
             [
              1,
              "#f0f921"
             ]
            ],
            "type": "histogram2d"
           }
          ],
          "histogram2dcontour": [
           {
            "colorbar": {
             "outlinewidth": 0,
             "ticks": ""
            },
            "colorscale": [
             [
              0,
              "#0d0887"
             ],
             [
              0.1111111111111111,
              "#46039f"
             ],
             [
              0.2222222222222222,
              "#7201a8"
             ],
             [
              0.3333333333333333,
              "#9c179e"
             ],
             [
              0.4444444444444444,
              "#bd3786"
             ],
             [
              0.5555555555555556,
              "#d8576b"
             ],
             [
              0.6666666666666666,
              "#ed7953"
             ],
             [
              0.7777777777777778,
              "#fb9f3a"
             ],
             [
              0.8888888888888888,
              "#fdca26"
             ],
             [
              1,
              "#f0f921"
             ]
            ],
            "type": "histogram2dcontour"
           }
          ],
          "mesh3d": [
           {
            "colorbar": {
             "outlinewidth": 0,
             "ticks": ""
            },
            "type": "mesh3d"
           }
          ],
          "parcoords": [
           {
            "line": {
             "colorbar": {
              "outlinewidth": 0,
              "ticks": ""
             }
            },
            "type": "parcoords"
           }
          ],
          "pie": [
           {
            "automargin": true,
            "type": "pie"
           }
          ],
          "scatter": [
           {
            "fillpattern": {
             "fillmode": "overlay",
             "size": 10,
             "solidity": 0.2
            },
            "type": "scatter"
           }
          ],
          "scatter3d": [
           {
            "line": {
             "colorbar": {
              "outlinewidth": 0,
              "ticks": ""
             }
            },
            "marker": {
             "colorbar": {
              "outlinewidth": 0,
              "ticks": ""
             }
            },
            "type": "scatter3d"
           }
          ],
          "scattercarpet": [
           {
            "marker": {
             "colorbar": {
              "outlinewidth": 0,
              "ticks": ""
             }
            },
            "type": "scattercarpet"
           }
          ],
          "scattergeo": [
           {
            "marker": {
             "colorbar": {
              "outlinewidth": 0,
              "ticks": ""
             }
            },
            "type": "scattergeo"
           }
          ],
          "scattergl": [
           {
            "marker": {
             "colorbar": {
              "outlinewidth": 0,
              "ticks": ""
             }
            },
            "type": "scattergl"
           }
          ],
          "scattermapbox": [
           {
            "marker": {
             "colorbar": {
              "outlinewidth": 0,
              "ticks": ""
             }
            },
            "type": "scattermapbox"
           }
          ],
          "scatterpolar": [
           {
            "marker": {
             "colorbar": {
              "outlinewidth": 0,
              "ticks": ""
             }
            },
            "type": "scatterpolar"
           }
          ],
          "scatterpolargl": [
           {
            "marker": {
             "colorbar": {
              "outlinewidth": 0,
              "ticks": ""
             }
            },
            "type": "scatterpolargl"
           }
          ],
          "scatterternary": [
           {
            "marker": {
             "colorbar": {
              "outlinewidth": 0,
              "ticks": ""
             }
            },
            "type": "scatterternary"
           }
          ],
          "surface": [
           {
            "colorbar": {
             "outlinewidth": 0,
             "ticks": ""
            },
            "colorscale": [
             [
              0,
              "#0d0887"
             ],
             [
              0.1111111111111111,
              "#46039f"
             ],
             [
              0.2222222222222222,
              "#7201a8"
             ],
             [
              0.3333333333333333,
              "#9c179e"
             ],
             [
              0.4444444444444444,
              "#bd3786"
             ],
             [
              0.5555555555555556,
              "#d8576b"
             ],
             [
              0.6666666666666666,
              "#ed7953"
             ],
             [
              0.7777777777777778,
              "#fb9f3a"
             ],
             [
              0.8888888888888888,
              "#fdca26"
             ],
             [
              1,
              "#f0f921"
             ]
            ],
            "type": "surface"
           }
          ],
          "table": [
           {
            "cells": {
             "fill": {
              "color": "#EBF0F8"
             },
             "line": {
              "color": "white"
             }
            },
            "header": {
             "fill": {
              "color": "#C8D4E3"
             },
             "line": {
              "color": "white"
             }
            },
            "type": "table"
           }
          ]
         },
         "layout": {
          "annotationdefaults": {
           "arrowcolor": "#2a3f5f",
           "arrowhead": 0,
           "arrowwidth": 1
          },
          "autotypenumbers": "strict",
          "coloraxis": {
           "colorbar": {
            "outlinewidth": 0,
            "ticks": ""
           }
          },
          "colorscale": {
           "diverging": [
            [
             0,
             "#8e0152"
            ],
            [
             0.1,
             "#c51b7d"
            ],
            [
             0.2,
             "#de77ae"
            ],
            [
             0.3,
             "#f1b6da"
            ],
            [
             0.4,
             "#fde0ef"
            ],
            [
             0.5,
             "#f7f7f7"
            ],
            [
             0.6,
             "#e6f5d0"
            ],
            [
             0.7,
             "#b8e186"
            ],
            [
             0.8,
             "#7fbc41"
            ],
            [
             0.9,
             "#4d9221"
            ],
            [
             1,
             "#276419"
            ]
           ],
           "sequential": [
            [
             0,
             "#0d0887"
            ],
            [
             0.1111111111111111,
             "#46039f"
            ],
            [
             0.2222222222222222,
             "#7201a8"
            ],
            [
             0.3333333333333333,
             "#9c179e"
            ],
            [
             0.4444444444444444,
             "#bd3786"
            ],
            [
             0.5555555555555556,
             "#d8576b"
            ],
            [
             0.6666666666666666,
             "#ed7953"
            ],
            [
             0.7777777777777778,
             "#fb9f3a"
            ],
            [
             0.8888888888888888,
             "#fdca26"
            ],
            [
             1,
             "#f0f921"
            ]
           ],
           "sequentialminus": [
            [
             0,
             "#0d0887"
            ],
            [
             0.1111111111111111,
             "#46039f"
            ],
            [
             0.2222222222222222,
             "#7201a8"
            ],
            [
             0.3333333333333333,
             "#9c179e"
            ],
            [
             0.4444444444444444,
             "#bd3786"
            ],
            [
             0.5555555555555556,
             "#d8576b"
            ],
            [
             0.6666666666666666,
             "#ed7953"
            ],
            [
             0.7777777777777778,
             "#fb9f3a"
            ],
            [
             0.8888888888888888,
             "#fdca26"
            ],
            [
             1,
             "#f0f921"
            ]
           ]
          },
          "colorway": [
           "#636efa",
           "#EF553B",
           "#00cc96",
           "#ab63fa",
           "#FFA15A",
           "#19d3f3",
           "#FF6692",
           "#B6E880",
           "#FF97FF",
           "#FECB52"
          ],
          "font": {
           "color": "#2a3f5f"
          },
          "geo": {
           "bgcolor": "white",
           "lakecolor": "white",
           "landcolor": "#E5ECF6",
           "showlakes": true,
           "showland": true,
           "subunitcolor": "white"
          },
          "hoverlabel": {
           "align": "left"
          },
          "hovermode": "closest",
          "mapbox": {
           "style": "light"
          },
          "paper_bgcolor": "white",
          "plot_bgcolor": "#E5ECF6",
          "polar": {
           "angularaxis": {
            "gridcolor": "white",
            "linecolor": "white",
            "ticks": ""
           },
           "bgcolor": "#E5ECF6",
           "radialaxis": {
            "gridcolor": "white",
            "linecolor": "white",
            "ticks": ""
           }
          },
          "scene": {
           "xaxis": {
            "backgroundcolor": "#E5ECF6",
            "gridcolor": "white",
            "gridwidth": 2,
            "linecolor": "white",
            "showbackground": true,
            "ticks": "",
            "zerolinecolor": "white"
           },
           "yaxis": {
            "backgroundcolor": "#E5ECF6",
            "gridcolor": "white",
            "gridwidth": 2,
            "linecolor": "white",
            "showbackground": true,
            "ticks": "",
            "zerolinecolor": "white"
           },
           "zaxis": {
            "backgroundcolor": "#E5ECF6",
            "gridcolor": "white",
            "gridwidth": 2,
            "linecolor": "white",
            "showbackground": true,
            "ticks": "",
            "zerolinecolor": "white"
           }
          },
          "shapedefaults": {
           "line": {
            "color": "#2a3f5f"
           }
          },
          "ternary": {
           "aaxis": {
            "gridcolor": "white",
            "linecolor": "white",
            "ticks": ""
           },
           "baxis": {
            "gridcolor": "white",
            "linecolor": "white",
            "ticks": ""
           },
           "bgcolor": "#E5ECF6",
           "caxis": {
            "gridcolor": "white",
            "linecolor": "white",
            "ticks": ""
           }
          },
          "title": {
           "x": 0.05
          },
          "xaxis": {
           "automargin": true,
           "gridcolor": "white",
           "linecolor": "white",
           "ticks": "",
           "title": {
            "standoff": 15
           },
           "zerolinecolor": "white",
           "zerolinewidth": 2
          },
          "yaxis": {
           "automargin": true,
           "gridcolor": "white",
           "linecolor": "white",
           "ticks": "",
           "title": {
            "standoff": 15
           },
           "zerolinecolor": "white",
           "zerolinewidth": 2
          }
         }
        },
        "title": {
         "text": "3D Chroma Vector Store Visualization"
        },
        "width": 900
       }
      }
     },
     "metadata": {},
     "output_type": "display_data"
    }
   ],
   "source": [
    "tsne = TSNE(n_components=3, random_state=42)\n",
    "reduced_vectors = tsne.fit_transform(vectors)\n",
    "\n",
    "# Create the 3D scatter plot\n",
    "fig = go.Figure(data=[go.Scatter3d(\n",
    "    x=reduced_vectors[:, 0],\n",
    "    y=reduced_vectors[:, 1],\n",
    "    z=reduced_vectors[:, 2],\n",
    "    mode='markers',\n",
    "    marker=dict(size=5, color=colors, opacity=0.8),\n",
    "    text=[f\"Type: {t}<br>Text: {d[:100]}...\" for t, d in zip(doc_types, documents)],\n",
    "    hoverinfo='text'\n",
    ")])\n",
    "\n",
    "fig.update_layout(\n",
    "    title='3D Chroma Vector Store Visualization',\n",
    "    scene=dict(xaxis_title='x', yaxis_title='y', zaxis_title='z'),\n",
    "    width=900,\n",
    "    height=700,\n",
    "    margin=dict(r=20, b=10, l=10, t=40)\n",
    ")\n",
    "\n",
    "fig.show()"
   ]
  },
  {
   "cell_type": "code",
   "execution_count": 48,
   "id": "b53f27fd",
   "metadata": {},
   "outputs": [],
   "source": [
    "from langchain_core.tools import tool\n",
    "from langchain.agents import initialize_agent\n",
    "\n",
    "ranking = { 0.0: \"Yếu\", 2.0: \"Trung bình\", 2.5: \"Khá\", 3.2: \"Giỏi\", 3.6: \"Xuất sắc\"}\n",
    "\n",
    "@tool\n",
    "def get_ranking(grade):\n",
    "    \"\"\"\n",
    "    Trả về xếp loại dựa vào số điểm CPA\n",
    "\n",
    "    Args:\n",
    "        grade (float): Số điểm CPA của sinh viên\n",
    "    \"\"\"\n",
    "    grade = grade.replace(\"'\", \"\\\"\")\n",
    "\n",
    "    grade = json.loads(grade).get('grade')\n",
    "    grade = float(grade)\n",
    "\n",
    "    if grade > 4 or grade < 0:\n",
    "        return \"Số điểm không hợp lệ trên thang điểm 4\"\n",
    "\n",
    "    for key in sorted(ranking.keys(), reverse= True):\n",
    "        if grade >= key:\n",
    "            return ranking[key]\n",
    "\n",
    "    return \"Xuất sắc\" \n"
   ]
  },
  {
   "cell_type": "code",
   "execution_count": 49,
   "id": "7062609e",
   "metadata": {},
   "outputs": [],
   "source": [
    "from langchain_community.chat_models import ChatOllama\n",
    "\n",
    "from langchain_openai import ChatOpenAI\n",
    "# llm = ChatOpenAI(\n",
    "#     api_key=\"ollama\",\n",
    "#     model= MODEL_QWEN7b,\n",
    "#     base_url=\"http://localhost:11434/v1\",\n",
    "# )\n",
    "\n",
    "llm = ChatOpenAI(\n",
    "    model = MODEL_GPT,\n",
    "    temperature= 0.7\n",
    ")\n",
    "\n",
    "tools = [get_ranking]\n",
    "\n",
    "llm = llm.bind_tools(tools)\n",
    "agent = initialize_agent(tools, llm, agent_type=\"zero-shot-react-description\", handle_parsing_errors=True, verbose=True)\n",
    "\n",
    "def handle_get_ranking_tool_call(tool_call):\n",
    "    arguments = tool_call.get('args')\n",
    "    grade = arguments.get('grade')\n",
    "    hint = f\"Lấy xếp loại của sinh viên dựa vào điểm số CPA cung cấp: {grade}\"\n",
    "    ranking = agent.run(hint)\n",
    "    return ranking\n"
   ]
  },
  {
   "cell_type": "code",
   "execution_count": 50,
   "id": "956efe21",
   "metadata": {},
   "outputs": [],
   "source": [
    "memory = ConversationBufferMemory(memory_key='chat_history', return_messages=True)\n",
    "retriever = vectorstore.as_retriever()"
   ]
  },
  {
   "cell_type": "code",
   "execution_count": 57,
   "id": "1bd70325",
   "metadata": {},
   "outputs": [],
   "source": [
    "from langchain_core.runnables import RunnableParallel, RunnablePassthrough\n",
    "\n",
    "setup = RunnableParallel(context=retriever, question=RunnablePassthrough())"
   ]
  },
  {
   "cell_type": "code",
   "execution_count": 60,
   "id": "5e5c3eb1",
   "metadata": {},
   "outputs": [
    {
     "ename": "TypeError",
     "evalue": "expected str, got list",
     "output_type": "error",
     "traceback": [
      "\u001b[1;31m---------------------------------------------------------------------------\u001b[0m",
      "\u001b[1;31mTypeError\u001b[0m                                 Traceback (most recent call last)",
      "Cell \u001b[1;32mIn[60], line 33\u001b[0m\n\u001b[0;32m      3\u001b[0m template1  \u001b[38;5;241m=\u001b[39m [\n\u001b[0;32m      4\u001b[0m         (\u001b[38;5;124m\"\u001b[39m\u001b[38;5;124msystem\u001b[39m\u001b[38;5;124m\"\u001b[39m,  \u001b[38;5;124m\"\"\"\u001b[39m\u001b[38;5;124mBạn hãy đưa ra các câu trả lời bằng Tiếng Việt. \u001b[39m\n\u001b[0;32m      5\u001b[0m \u001b[38;5;124m                    Bạn là một chuyên gia tư vấn về quy chế đào tạo\u001b[39m\n\u001b[1;32m   (...)\u001b[0m\n\u001b[0;32m     16\u001b[0m         (\u001b[38;5;124m\"\u001b[39m\u001b[38;5;124mhistory\u001b[39m\u001b[38;5;124m\"\u001b[39m, \u001b[38;5;124m\"\u001b[39m\u001b[38;5;132;01m{history}\u001b[39;00m\u001b[38;5;124m\"\u001b[39m)\n\u001b[0;32m     17\u001b[0m ]\n\u001b[0;32m     19\u001b[0m template \u001b[38;5;241m=\u001b[39m \u001b[38;5;124m\"\"\"\u001b[39m\n\u001b[0;32m     20\u001b[0m \u001b[38;5;124mBạn hãy đưa ra các câu trả lời bằng Tiếng Việt. \u001b[39m\n\u001b[0;32m     21\u001b[0m \u001b[38;5;124mBạn là một chuyên gia tư vấn về quy chế đào tạo\u001b[39m\n\u001b[1;32m   (...)\u001b[0m\n\u001b[0;32m     30\u001b[0m \u001b[38;5;124mCâu hỏi: \u001b[39m\u001b[38;5;132;01m{question}\u001b[39;00m\n\u001b[0;32m     31\u001b[0m \u001b[38;5;124m\"\"\"\u001b[39m\n\u001b[1;32m---> 33\u001b[0m prompt \u001b[38;5;241m=\u001b[39m \u001b[43mChatPromptTemplate\u001b[49m\u001b[38;5;241;43m.\u001b[39;49m\u001b[43mfrom_template\u001b[49m\u001b[43m(\u001b[49m\u001b[43mtemplate1\u001b[49m\u001b[43m)\u001b[49m\n",
      "File \u001b[1;32me:\\Tools\\Anaconda\\envs\\llms\\Lib\\site-packages\\langchain_core\\prompts\\chat.py:1128\u001b[0m, in \u001b[0;36mChatPromptTemplate.from_template\u001b[1;34m(cls, template, **kwargs)\u001b[0m\n\u001b[0;32m   1114\u001b[0m \u001b[38;5;129m@classmethod\u001b[39m\n\u001b[0;32m   1115\u001b[0m \u001b[38;5;28;01mdef\u001b[39;00m \u001b[38;5;21mfrom_template\u001b[39m(\u001b[38;5;28mcls\u001b[39m, template: \u001b[38;5;28mstr\u001b[39m, \u001b[38;5;241m*\u001b[39m\u001b[38;5;241m*\u001b[39mkwargs: Any) \u001b[38;5;241m-\u001b[39m\u001b[38;5;241m>\u001b[39m ChatPromptTemplate:\n\u001b[0;32m   1116\u001b[0m \u001b[38;5;250m    \u001b[39m\u001b[38;5;124;03m\"\"\"Create a chat prompt template from a template string.\u001b[39;00m\n\u001b[0;32m   1117\u001b[0m \n\u001b[0;32m   1118\u001b[0m \u001b[38;5;124;03m    Creates a chat template consisting of a single message assumed to be from\u001b[39;00m\n\u001b[1;32m   (...)\u001b[0m\n\u001b[0;32m   1126\u001b[0m \u001b[38;5;124;03m        A new instance of this class.\u001b[39;00m\n\u001b[0;32m   1127\u001b[0m \u001b[38;5;124;03m    \"\"\"\u001b[39;00m\n\u001b[1;32m-> 1128\u001b[0m     prompt_template \u001b[38;5;241m=\u001b[39m \u001b[43mPromptTemplate\u001b[49m\u001b[38;5;241;43m.\u001b[39;49m\u001b[43mfrom_template\u001b[49m\u001b[43m(\u001b[49m\u001b[43mtemplate\u001b[49m\u001b[43m,\u001b[49m\u001b[43m \u001b[49m\u001b[38;5;241;43m*\u001b[39;49m\u001b[38;5;241;43m*\u001b[39;49m\u001b[43mkwargs\u001b[49m\u001b[43m)\u001b[49m\n\u001b[0;32m   1129\u001b[0m     message \u001b[38;5;241m=\u001b[39m HumanMessagePromptTemplate(prompt\u001b[38;5;241m=\u001b[39mprompt_template)\n\u001b[0;32m   1130\u001b[0m     \u001b[38;5;28;01mreturn\u001b[39;00m \u001b[38;5;28mcls\u001b[39m\u001b[38;5;241m.\u001b[39mfrom_messages([message])\n",
      "File \u001b[1;32me:\\Tools\\Anaconda\\envs\\llms\\Lib\\site-packages\\langchain_core\\prompts\\prompt.py:288\u001b[0m, in \u001b[0;36mPromptTemplate.from_template\u001b[1;34m(cls, template, template_format, partial_variables, **kwargs)\u001b[0m\n\u001b[0;32m    248\u001b[0m \u001b[38;5;129m@classmethod\u001b[39m\n\u001b[0;32m    249\u001b[0m \u001b[38;5;28;01mdef\u001b[39;00m \u001b[38;5;21mfrom_template\u001b[39m(\n\u001b[0;32m    250\u001b[0m     \u001b[38;5;28mcls\u001b[39m,\n\u001b[1;32m   (...)\u001b[0m\n\u001b[0;32m    255\u001b[0m     \u001b[38;5;241m*\u001b[39m\u001b[38;5;241m*\u001b[39mkwargs: Any,\n\u001b[0;32m    256\u001b[0m ) \u001b[38;5;241m-\u001b[39m\u001b[38;5;241m>\u001b[39m PromptTemplate:\n\u001b[0;32m    257\u001b[0m \u001b[38;5;250m    \u001b[39m\u001b[38;5;124;03m\"\"\"Load a prompt template from a template.\u001b[39;00m\n\u001b[0;32m    258\u001b[0m \n\u001b[0;32m    259\u001b[0m \u001b[38;5;124;03m    *Security warning*:\u001b[39;00m\n\u001b[1;32m   (...)\u001b[0m\n\u001b[0;32m    285\u001b[0m \u001b[38;5;124;03m        The prompt template loaded from the template.\u001b[39;00m\n\u001b[0;32m    286\u001b[0m \u001b[38;5;124;03m    \"\"\"\u001b[39;00m\n\u001b[1;32m--> 288\u001b[0m     input_variables \u001b[38;5;241m=\u001b[39m \u001b[43mget_template_variables\u001b[49m\u001b[43m(\u001b[49m\u001b[43mtemplate\u001b[49m\u001b[43m,\u001b[49m\u001b[43m \u001b[49m\u001b[43mtemplate_format\u001b[49m\u001b[43m)\u001b[49m\n\u001b[0;32m    289\u001b[0m     _partial_variables \u001b[38;5;241m=\u001b[39m partial_variables \u001b[38;5;129;01mor\u001b[39;00m {}\n\u001b[0;32m    291\u001b[0m     \u001b[38;5;28;01mif\u001b[39;00m _partial_variables:\n",
      "File \u001b[1;32me:\\Tools\\Anaconda\\envs\\llms\\Lib\\site-packages\\langchain_core\\prompts\\string.py:258\u001b[0m, in \u001b[0;36mget_template_variables\u001b[1;34m(template, template_format)\u001b[0m\n\u001b[0;32m    255\u001b[0m     input_variables \u001b[38;5;241m=\u001b[39m _get_jinja2_variables_from_template(template)\n\u001b[0;32m    256\u001b[0m \u001b[38;5;28;01melif\u001b[39;00m template_format \u001b[38;5;241m==\u001b[39m \u001b[38;5;124m\"\u001b[39m\u001b[38;5;124mf-string\u001b[39m\u001b[38;5;124m\"\u001b[39m:\n\u001b[0;32m    257\u001b[0m     input_variables \u001b[38;5;241m=\u001b[39m {\n\u001b[1;32m--> 258\u001b[0m         v \u001b[38;5;28;01mfor\u001b[39;00m _, v, _, _ \u001b[38;5;129;01min\u001b[39;00m \u001b[43mFormatter\u001b[49m\u001b[43m(\u001b[49m\u001b[43m)\u001b[49m\u001b[38;5;241;43m.\u001b[39;49m\u001b[43mparse\u001b[49m\u001b[43m(\u001b[49m\u001b[43mtemplate\u001b[49m\u001b[43m)\u001b[49m \u001b[38;5;28;01mif\u001b[39;00m v \u001b[38;5;129;01mis\u001b[39;00m \u001b[38;5;129;01mnot\u001b[39;00m \u001b[38;5;28;01mNone\u001b[39;00m\n\u001b[0;32m    259\u001b[0m     }\n\u001b[0;32m    260\u001b[0m \u001b[38;5;28;01melif\u001b[39;00m template_format \u001b[38;5;241m==\u001b[39m \u001b[38;5;124m\"\u001b[39m\u001b[38;5;124mmustache\u001b[39m\u001b[38;5;124m\"\u001b[39m:\n\u001b[0;32m    261\u001b[0m     input_variables \u001b[38;5;241m=\u001b[39m mustache_template_vars(template)\n",
      "File \u001b[1;32me:\\Tools\\Anaconda\\envs\\llms\\Lib\\string.py:288\u001b[0m, in \u001b[0;36mFormatter.parse\u001b[1;34m(self, format_string)\u001b[0m\n\u001b[0;32m    287\u001b[0m \u001b[38;5;28;01mdef\u001b[39;00m \u001b[38;5;21mparse\u001b[39m(\u001b[38;5;28mself\u001b[39m, format_string):\n\u001b[1;32m--> 288\u001b[0m     \u001b[38;5;28;01mreturn\u001b[39;00m _string\u001b[38;5;241m.\u001b[39mformatter_parser(format_string)\n",
      "\u001b[1;31mTypeError\u001b[0m: expected str, got list"
     ]
    }
   ],
   "source": [
    "from langchain.prompts import ChatPromptTemplate\n",
    "system_message = \"\"\"Bạn là một chuyên gia tư vấn về quy chế đào tạo\n",
    "                    cho một đại học ở Việt Nam, Đại học Bách khoa Hà Nội.\n",
    "                    \"\"\"\n",
    "\n",
    "template = \"\"\"\n",
    "Bạn hãy đưa ra các câu trả lời bằng Tiếng Việt.\n",
    "Bạn cần tư vấn chính xác những gì bạn biết và trả lời \n",
    "thành thật những nội dung trong tài liệu bạn được cung cấp phía dưới. \n",
    "Khi nội dung được hỏi không có thông tin trong tài liệu được \n",
    "cung cấp, hãy nói không có thông tin trong tài liệu.\n",
    "\n",
    "Tài liệu: {context}\n",
    "\n",
    "Câu hỏi: {question}\n",
    "\"\"\"\n",
    "\n",
    "prompt = ChatPromptTemplate.from_template(template1)"
   ]
  },
  {
   "cell_type": "code",
   "execution_count": 53,
   "id": "d2eb2c64",
   "metadata": {},
   "outputs": [],
   "source": [
    "parser = StrOutputParser()"
   ]
  },
  {
   "cell_type": "code",
   "execution_count": 54,
   "id": "5dcf4b08",
   "metadata": {},
   "outputs": [],
   "source": [
    "chain = setup |  prompt | [{\"role\": \"system\", \"content\": sys}] + history + [{\"role\": \"user\", \"content\": message}] | llm | parser"
   ]
  },
  {
   "cell_type": "code",
   "execution_count": 55,
   "id": "5c0a65e4-0bfb-4d4d-8b5b-4ebf52a76735",
   "metadata": {},
   "outputs": [],
   "source": [
    "def chat(message, history):\n",
    "    response = llm.invoke(message, history)\n",
    "    if response.tool_calls:\n",
    "        for tool_call in response.tool_calls:\n",
    "            if tool_call.get('name') == 'get_ranking':\n",
    "                result = handle_get_ranking_tool_call(response.tool_calls[0])\n",
    "        return result\n",
    "    else:\n",
    "        result = chain.invoke(message)\n",
    "        return result"
   ]
  },
  {
   "cell_type": "code",
   "execution_count": 56,
   "id": "b2a04207-f34a-4631-9d7f-1f91064a26ae",
   "metadata": {},
   "outputs": [
    {
     "name": "stdout",
     "output_type": "stream",
     "text": [
      "* Running on local URL:  http://127.0.0.1:7860\n",
      "* Running on public URL: https://9911af50f7314cbf50.gradio.live\n",
      "\n",
      "This share link expires in 72 hours. For free permanent hosting and GPU upgrades, run `gradio deploy` from the terminal in the working directory to deploy to Hugging Face Spaces (https://huggingface.co/spaces)\n"
     ]
    },
    {
     "data": {
      "text/html": [
       "<div><iframe src=\"https://9911af50f7314cbf50.gradio.live\" width=\"100%\" height=\"500\" allow=\"autoplay; camera; microphone; clipboard-read; clipboard-write;\" frameborder=\"0\" allowfullscreen></iframe></div>"
      ],
      "text/plain": [
       "<IPython.core.display.HTML object>"
      ]
     },
     "metadata": {},
     "output_type": "display_data"
    },
    {
     "name": "stderr",
     "output_type": "stream",
     "text": [
      "Traceback (most recent call last):\n",
      "  File \"e:\\Tools\\Anaconda\\envs\\llms\\Lib\\site-packages\\gradio\\queueing.py\", line 625, in process_events\n",
      "    response = await route_utils.call_process_api(\n",
      "               ^^^^^^^^^^^^^^^^^^^^^^^^^^^^^^^^^^^\n",
      "  File \"e:\\Tools\\Anaconda\\envs\\llms\\Lib\\site-packages\\gradio\\route_utils.py\", line 322, in call_process_api\n",
      "    output = await app.get_blocks().process_api(\n",
      "             ^^^^^^^^^^^^^^^^^^^^^^^^^^^^^^^^^^^\n",
      "  File \"e:\\Tools\\Anaconda\\envs\\llms\\Lib\\site-packages\\gradio\\blocks.py\", line 2047, in process_api\n",
      "    result = await self.call_function(\n",
      "             ^^^^^^^^^^^^^^^^^^^^^^^^^\n",
      "  File \"e:\\Tools\\Anaconda\\envs\\llms\\Lib\\site-packages\\gradio\\blocks.py\", line 1592, in call_function\n",
      "    prediction = await fn(*processed_input)\n",
      "                 ^^^^^^^^^^^^^^^^^^^^^^^^^^\n",
      "  File \"e:\\Tools\\Anaconda\\envs\\llms\\Lib\\site-packages\\gradio\\utils.py\", line 836, in async_wrapper\n",
      "    response = await f(*args, **kwargs)\n",
      "               ^^^^^^^^^^^^^^^^^^^^^^^^\n",
      "  File \"e:\\Tools\\Anaconda\\envs\\llms\\Lib\\site-packages\\gradio\\chat_interface.py\", line 618, in _submit_fn\n",
      "    response = await anyio.to_thread.run_sync(\n",
      "               ^^^^^^^^^^^^^^^^^^^^^^^^^^^^^^^\n",
      "  File \"e:\\Tools\\Anaconda\\envs\\llms\\Lib\\site-packages\\anyio\\to_thread.py\", line 56, in run_sync\n",
      "    return await get_async_backend().run_sync_in_worker_thread(\n",
      "           ^^^^^^^^^^^^^^^^^^^^^^^^^^^^^^^^^^^^^^^^^^^^^^^^^^^^\n",
      "  File \"e:\\Tools\\Anaconda\\envs\\llms\\Lib\\site-packages\\anyio\\_backends\\_asyncio.py\", line 2505, in run_sync_in_worker_thread\n",
      "    return await future\n",
      "           ^^^^^^^^^^^^\n",
      "  File \"e:\\Tools\\Anaconda\\envs\\llms\\Lib\\site-packages\\anyio\\_backends\\_asyncio.py\", line 1005, in run\n",
      "    result = context.run(func, *args)\n",
      "             ^^^^^^^^^^^^^^^^^^^^^^^^\n",
      "  File \"C:\\Users\\HoMinhNhat\\AppData\\Local\\Temp\\ipykernel_3164\\2331141017.py\", line 2, in chat\n",
      "    response = llm.invoke(message, history)\n",
      "               ^^^^^^^^^^^^^^^^^^^^^^^^^^^^\n",
      "  File \"e:\\Tools\\Anaconda\\envs\\llms\\Lib\\site-packages\\langchain_core\\runnables\\base.py\", line 5356, in invoke\n",
      "    self._merge_configs(config),\n",
      "    ^^^^^^^^^^^^^^^^^^^^^^^^^^^\n",
      "  File \"e:\\Tools\\Anaconda\\envs\\llms\\Lib\\site-packages\\langchain_core\\runnables\\base.py\", line 5345, in _merge_configs\n",
      "    config = merge_configs(self.config, *configs)\n",
      "             ^^^^^^^^^^^^^^^^^^^^^^^^^^^^^^^^^^^^\n",
      "  File \"e:\\Tools\\Anaconda\\envs\\llms\\Lib\\site-packages\\langchain_core\\runnables\\config.py\", line 307, in merge_configs\n",
      "    for config in (ensure_config(c) for c in configs if c is not None):\n",
      "  File \"e:\\Tools\\Anaconda\\envs\\llms\\Lib\\site-packages\\langchain_core\\runnables\\config.py\", line 307, in <genexpr>\n",
      "    for config in (ensure_config(c) for c in configs if c is not None):\n",
      "                   ^^^^^^^^^^^^^^^^\n",
      "  File \"e:\\Tools\\Anaconda\\envs\\llms\\Lib\\site-packages\\langchain_core\\runnables\\config.py\", line 183, in ensure_config\n",
      "    for k, v in config.items()\n",
      "                ^^^^^^^^^^^^\n",
      "AttributeError: 'list' object has no attribute 'items'\n"
     ]
    }
   ],
   "source": [
    "view = gr.ChatInterface(chat, type=\"messages\").launch(share = True)"
   ]
  }
 ],
 "metadata": {
  "kernelspec": {
   "display_name": "llms",
   "language": "python",
   "name": "python3"
  },
  "language_info": {
   "codemirror_mode": {
    "name": "ipython",
    "version": 3
   },
   "file_extension": ".py",
   "mimetype": "text/x-python",
   "name": "python",
   "nbconvert_exporter": "python",
   "pygments_lexer": "ipython3",
   "version": "3.11.11"
  }
 },
 "nbformat": 4,
 "nbformat_minor": 5
}
