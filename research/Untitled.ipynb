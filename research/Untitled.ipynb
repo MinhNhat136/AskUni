{
 "cells": [
  {
   "cell_type": "markdown",
   "id": "f5531054",
   "metadata": {},
   "source": [
    "### IMPORT LIBRARY"
   ]
  },
  {
   "cell_type": "code",
   "execution_count": 1,
   "id": "8f01e2e0-838b-4cfd-9e0f-9213cb291195",
   "metadata": {},
   "outputs": [],
   "source": [
    "import os\n",
    "import glob\n",
    "from dotenv import load_dotenv\n",
    "import json\n",
    "import gradio as gr\n",
    "from openai import OpenAI"
   ]
  },
  {
   "cell_type": "code",
   "execution_count": 2,
   "id": "d02307d9-cae8-4944-84b4-58550f0ec3dd",
   "metadata": {},
   "outputs": [],
   "source": [
    "from langchain.document_loaders import DirectoryLoader, TextLoader\n",
    "from langchain.text_splitter import RecursiveCharacterTextSplitter\n",
    "from langchain_openai import OpenAIEmbeddings, ChatOpenAI\n",
    "from langchain_chroma import Chroma\n",
    "from langchain_core.output_parsers import StrOutputParser\n",
    "\n",
    "import numpy as np\n",
    "from sklearn.manifold import TSNE\n",
    "import plotly.graph_objects as go"
   ]
  },
  {
   "cell_type": "markdown",
   "id": "d7a7de56",
   "metadata": {},
   "source": [
    "### DEFINE CONSTANT"
   ]
  },
  {
   "cell_type": "code",
   "execution_count": 3,
   "id": "9d51be20-92a4-4988-befa-6b4bd321cb2d",
   "metadata": {},
   "outputs": [],
   "source": [
    "MODEL_GPT = \"gpt-4o\"\n",
    "MODEL_QWEN3b = 'qwen2.5:3b'\n",
    "MODEL_QWEN7b = 'qwen2.5'\n",
    "MODEL_LLAMA  = 'llama3.2'\n",
    "db_name = \"..\\\\vector_db\""
   ]
  },
  {
   "cell_type": "code",
   "execution_count": 4,
   "id": "e3b34d66-4e53-4648-9a10-2432f4a44581",
   "metadata": {},
   "outputs": [],
   "source": [
    "load_dotenv()\n",
    "os.environ['OPENAI_API_KEY'] = os.getenv('OPENAI_API_KEY')\n",
    "openai = OpenAI()"
   ]
  },
  {
   "cell_type": "markdown",
   "id": "c8beaba1",
   "metadata": {},
   "source": [
    "### HANDLE KNOWLEDGE-BASE"
   ]
  },
  {
   "cell_type": "code",
   "execution_count": 5,
   "id": "5413f7a5",
   "metadata": {},
   "outputs": [
    {
     "name": "stdout",
     "output_type": "stream",
     "text": [
      "An error occurred: module 'fitz' has no attribute 'open'\n"
     ]
    }
   ],
   "source": [
    "import fitz\n",
    "\n",
    "def pdf_to_md(pdf_path, output_md_path):\n",
    "    \"\"\"\n",
    "    Converts a PDF file to a Markdown (.md) file.\n",
    "\n",
    "    Args:\n",
    "        pdf_path (str): Path to the input PDF file.\n",
    "        output_md_path (str): Path to the output Markdown file.\n",
    "    \"\"\"\n",
    "    header = (\"CHƯƠNG\", \"1.\", \"2.\", \"3.\", \"4.\", \"5.\", \"6.\", \"7.\", \"8.\", \"9.\")#, \"a)\", \"b)\", \"c)\", \"d)\", \"đ)\", \"e)\")\n",
    "    try:\n",
    "        pdf_document = fitz.open(pdf_path)\n",
    "\n",
    "        with open(output_md_path, 'w', encoding='utf-8') as md_file:\n",
    "            for page_number in range(len(pdf_document)):\n",
    "                page = pdf_document.load_page(page_number)  # Load page\n",
    "                text = page.get_text(\"text\")  # Extract text\n",
    "                lines = text.split('\\n')\n",
    "\n",
    "                paragraph = []\n",
    "                prev_line = \"start\"\n",
    "                for i in range(len(lines)):\n",
    "                    line = lines[i].strip()\n",
    "                    if line == \"\" and prev_line == \"\":\n",
    "                        continue\n",
    "                    elif line == \"\" and prev_line != \"\":\n",
    "                        paragraph.append(line)\n",
    "                    elif line.startswith(header):\n",
    "                        paragraph.append(\"\")\n",
    "                        paragraph.append(line)\n",
    "                    else:\n",
    "                        paragraph.append(line)\n",
    "                    prev_line = line\n",
    "\n",
    "                text = \"\\n\".join(paragraph)\n",
    "\n",
    "                md_file.write(text)\n",
    "                md_file.write(\"\\n\\n---\\n\\n\")  \n",
    "\n",
    "        print(f\"Markdown file created at: {output_md_path}\")\n",
    "\n",
    "    except Exception as e:\n",
    "        print(f\"An error occurred: {e}\")\n",
    "\n",
    "pdf_path = \"../knowledge-base/document/qcdt_2023_upload.pdf\" \n",
    "output_md_path = \"../knowledge-base/document/qcdt_2023_upload.md\"  \n",
    "\n",
    "pdf_to_md(pdf_path, output_md_path)\n"
   ]
  },
  {
   "cell_type": "code",
   "execution_count": 6,
   "id": "cf944c2d-e84b-45ae-8971-f5d4f6229b1a",
   "metadata": {},
   "outputs": [],
   "source": [
    "folders = glob.glob(\"../knowledge-base/*\")\n",
    "\n",
    "text_loader_kwargs = {'encoding': 'utf-8'}\n",
    "\n",
    "documents = []\n",
    "for folder in folders:\n",
    "    doc_type = os.path.basename(folder)\n",
    "    loader = DirectoryLoader(folder, glob=\"**/*.md\", loader_cls=TextLoader, loader_kwargs=text_loader_kwargs)\n",
    "    folder_docs = loader.load()\n",
    "    for doc in folder_docs:\n",
    "        doc.metadata[\"doc_type\"] = doc_type\n",
    "        documents.append(doc)"
   ]
  },
  {
   "cell_type": "markdown",
   "id": "72fda462",
   "metadata": {},
   "source": [
    "### CHUNK DOCUMENTS"
   ]
  },
  {
   "cell_type": "code",
   "execution_count": 7,
   "id": "53331a54-63a5-447f-ba0d-c62961dde223",
   "metadata": {},
   "outputs": [],
   "source": [
    "text_splitter = RecursiveCharacterTextSplitter(chunk_size=1000, chunk_overlap=200)\n",
    "chunks = text_splitter.split_documents(documents)"
   ]
  },
  {
   "cell_type": "markdown",
   "id": "cfdb4e61",
   "metadata": {},
   "source": [
    "### VECTOR EMBEDDING AND STORE"
   ]
  },
  {
   "cell_type": "code",
   "execution_count": 8,
   "id": "e4db869a-325c-44f5-9459-9162e5b1d91d",
   "metadata": {},
   "outputs": [],
   "source": [
    "embeddings = OpenAIEmbeddings()"
   ]
  },
  {
   "cell_type": "code",
   "execution_count": 9,
   "id": "624a050f",
   "metadata": {},
   "outputs": [],
   "source": [
    "import pandas as pd\n",
    "df = pd.DataFrame([d.page_content for d in chunks], columns=[\"text\"])"
   ]
  },
  {
   "cell_type": "code",
   "execution_count": 10,
   "id": "7dd98821-36eb-4321-81d4-250aa0e434f1",
   "metadata": {},
   "outputs": [],
   "source": [
    "if os.path.exists(db_name):\n",
    "    Chroma(persist_directory=db_name, embedding_function=embeddings).delete_collection()"
   ]
  },
  {
   "cell_type": "code",
   "execution_count": null,
   "id": "8393084a",
   "metadata": {},
   "outputs": [],
   "source": [
    "vectorstore = Chroma.from_documents(documents=chunks, embedding=embeddings, persist_directory=db_name)\n",
    "print(f\"Vectorstore: {vectorstore._collection.count()} documents\")"
   ]
  },
  {
   "cell_type": "code",
   "execution_count": null,
   "id": "1a3ab32c",
   "metadata": {},
   "outputs": [],
   "source": [
    "collection = vectorstore._collection\n",
    "sample_embedding = collection.get(limit=1, include=[\"embeddings\"])[\"embeddings\"][0]\n",
    "dimensions = len(sample_embedding)\n",
    "print(f\"The vectors have {dimensions:,} dimensions\")"
   ]
  },
  {
   "cell_type": "code",
   "execution_count": 16,
   "id": "9c4fbea2-51c8-4c50-9a0e-80f11fa29c22",
   "metadata": {},
   "outputs": [],
   "source": [
    "result = collection.get(include=['embeddings', 'documents', 'metadatas'])\n",
    "vectors = np.array(result['embeddings'])\n",
    "documents = result['documents']\n",
    "doc_types = [metadata['doc_type'] for metadata in result['metadatas']]\n",
    "colors = [['blue', 'green'][['document', 'question answer'].index(t)] for t in doc_types]"
   ]
  },
  {
   "cell_type": "code",
   "execution_count": 17,
   "id": "90c60853-bcae-4768-9745-6162dab5893c",
   "metadata": {},
   "outputs": [
    {
     "data": {
      "application/vnd.plotly.v1+json": {
       "config": {
        "plotlyServerURL": "https://plot.ly"
       },
       "data": [
        {
         "hoverinfo": "text",
         "marker": {
          "color": [
           "blue",
           "blue",
           "blue",
           "blue",
           "blue",
           "blue",
           "blue",
           "blue",
           "blue",
           "blue",
           "blue",
           "blue",
           "blue",
           "blue",
           "blue",
           "blue",
           "blue",
           "blue",
           "blue",
           "blue",
           "blue",
           "blue",
           "blue",
           "blue",
           "blue",
           "blue",
           "blue",
           "blue",
           "blue",
           "blue",
           "blue",
           "blue",
           "blue",
           "blue",
           "blue",
           "blue",
           "blue",
           "blue",
           "blue",
           "blue",
           "blue",
           "blue",
           "blue",
           "blue",
           "blue",
           "blue",
           "blue",
           "blue",
           "blue",
           "blue",
           "blue",
           "blue",
           "blue",
           "blue",
           "blue",
           "blue",
           "blue",
           "blue",
           "blue",
           "blue",
           "blue",
           "blue",
           "blue",
           "blue",
           "blue",
           "blue",
           "blue",
           "blue",
           "blue",
           "blue",
           "blue",
           "blue",
           "blue",
           "blue",
           "blue",
           "blue",
           "blue",
           "blue",
           "blue",
           "blue",
           "blue",
           "blue",
           "blue",
           "blue",
           "blue",
           "blue",
           "blue",
           "blue",
           "blue",
           "blue",
           "blue",
           "blue",
           "blue",
           "blue",
           "blue",
           "blue",
           "blue",
           "blue",
           "blue",
           "green",
           "green",
           "green",
           "green",
           "green",
           "green",
           "green",
           "green",
           "green",
           "green",
           "green",
           "green",
           "green",
           "green",
           "green",
           "green",
           "green",
           "green",
           "green"
          ],
          "opacity": 0.8,
          "size": 5
         },
         "mode": "markers",
         "text": [
          "Type: document<br>Text: **BỘ** **GIÁO** **DỤC** **VÀ** **ĐÀO** **TẠO** **ĐẠI** **HỌC**\n**BÁCH** **KHOA** **HÀ** **NỘI**\n\n**Q...",
          "Type: document<br>Text: CHƯƠNG I NHỮNG QUY ĐỊNH\nCHUNG..................................................................1\nĐiề...",
          "Type: document<br>Text: lũy...................................................6 Điều 8. Chuyển\ncơ sở đào tạo\nkhác..............",
          "Type: document<br>Text: 14. Đăng ký tốt nghiệp đại\nhọc.........................................................................",
          "Type: document<br>Text: Điều 21. Đăng ký học tập chương trình kỹ\nsư............................................................",
          "Type: document<br>Text: sĩ.........................................................17 Điều 28.\nHọc bổ sung, miễn học và công...",
          "Type: document<br>Text: Điều 35. Gia hạn thời gian học tập, thôi\nhọc...........................................................",
          "Type: document<br>Text: ii...",
          "Type: document<br>Text: Điều 38. Tiểu luận tổng quan và chuyên đề tiến sĩ\n.....................................................",
          "Type: document<br>Text: cứu..............................27 CHƯƠNG VI TỔ CHỨC THỰC\nHIỆN........................................",
          "Type: document<br>Text: BỘ GIÁO DỤC VÀ ĐÀO TẠO\n\n**ĐẠI** **HỌC** **BÁCH** **KHOA** **HÀ** **NỘI**\n\n**CỘNG** **HÒA** **XÃ** **...",
          "Type: document<br>Text: 2\\. Quy chế này áp dụng cho sinh viên đại học, học viên của chương\ntrình thạc sĩ và nghiên cứu sinh ...",
          "Type: document<br>Text: 1\\. Ngành đào tạo (sau đây gọi tắt là ngành) là một lĩnh vực chuyên\nmôn rộng, có mã số trong Danh mụ...",
          "Type: document<br>Text: 2 Quy chế tuyển sinh và đào tạo trình độ thạc sĩ, ban hành theo Thông\ntư số 23/2021/TT-BGDĐT ngày 30...",
          "Type: document<br>Text: 4 Danh mục thống kê ngành đào tạo của giáo dục đại học ban hành theo\nThông tư số 09/2022/TT-BGDĐT ng...",
          "Type: document<br>Text: 4\\. Chương trình ELITECH (từ viết tắt của cụm từ Elite Technology\nProgram) là CTĐT chất lượng cao (t...",
          "Type: document<br>Text: 5\\. Thời gian và khối lượng học tập chuẩn đối với các CTĐT theo hình\nthức chính quy không kể các môn...",
          "Type: document<br>Text: 6 Chương trình đào tạo cử nhân-kỹ sư tích hợp là chương trình được\nthiết kế một cách tổng thể, liên ...",
          "Type: document<br>Text: 2\\. Lịch đăng ký học tập, thời khóa biểu, lịch thi và kế hoạch xét\ncông nhận tốt nghiệp trong năm họ...",
          "Type: document<br>Text: b\\) Đối với sinh viên học liên thông đã được miễn trừ khối lượng tín\nchỉ tích lũy, thời gian thiết k...",
          "Type: document<br>Text: d\\) Đối với người học các CTĐT đại học và thuộc diện đối tượng ưu tiên\ntheo quy định tại Quy chế tuy...",
          "Type: document<br>Text: 2\\. Học phần là đơn vị cấu thành chương trình học tập và được thực\nhiện trọn vẹn trong một học kỳ. M...",
          "Type: document<br>Text: 5\\. Học phần tương đương và học phần thay thế\n\na\\) Người học được tùy chọn học một học phần tương đư...",
          "Type: document<br>Text: 2\\. Điểm quá trình được đánh giá qua thi giữa kỳ, kiểm tra thường kỳ,\nkết hợp thi giữa kỳ và kiểm tr...",
          "Type: document<br>Text: 4\\. Hình thức đánh giá trực tuyến được áp dụng khi đảm bảo trung thực,\ncông bằng và khách quan như đ...",
          "Type: document<br>Text: ||\n||\n||\n||\n||\n\n7\\. Người học có thể đăng ký học lại học phần đã có điểm đạt để cải\nthiện điểm trung...",
          "Type: document<br>Text: **Điều** **6.** **Hoãn** **thi,** **miễn** **thi,** **phúc** **tra**\n**và** **khiếu** **nại** **điểm...",
          "Type: document<br>Text: 3\\. Người học không dự thi giữa kỳ do bị ốm, tai nạn hoặc vì lý do\nchính đáng được giảng viên bố trí...",
          "Type: document<br>Text: 1\\. Số TC tích lũy là tổng số TC của các học phần có điểm đạt kể từ\nđầu khóa kể cả các học phần được...",
          "Type: document<br>Text: 2\\. Học viên thạc sĩ không thể tiếp tục học tập tại ĐHBK Hà Nội vì lý\ndo chuyển nơi cư trú hoặc chuy...",
          "Type: document<br>Text: **Điều** **9.** **Học** **phí**\n\n1\\. Người học có nghĩa vụ nộp học phí đầy đủ và đúng thời hạn theo ...",
          "Type: document<br>Text: 4\\. Sinh viên, học viên có đơn đề nghị thôi học, nghỉ học tạm thời\nhoặc chuyển cơ sở đào tạo trong k...",
          "Type: document<br>Text: a\\) Đăng ký học phần: sinh viên chọn đăng ký những học phần dự tính sẽ\nhọc trong học kỳ tiếp. Sinh v...",
          "Type: document<br>Text: 2\\. Số lượng TC đăng ký:\n\na\\) Sinh viên không thuộc diện cảnh báo học tập theo quy định tại\nkhoản 1 ...",
          "Type: document<br>Text: 4\\. Đối với học phần có giờ lên lớp, chỉ mở lớp khi có tối thiểu 20\nsinh viên đăng ký học. Các trườn...",
          "Type: document<br>Text: 1\\. Kết quả học tập của người học đã tích lũy từ một trình độ đào tạo\nkhác, một CTĐT khác hoặc từ mộ...",
          "Type: document<br>Text: 9\n\nCTĐT theo hình thức VLVH tại đơn vị liên kết, việc đánh giá ĐATN được\nphép thực hiện tại đơn vị l...",
          "Type: document<br>Text: 1\\. Kết thúc mỗi học kỳ, sinh viên tham gia khảo sát lấy ý kiến phản\nhồi về các điều kiện bảo đảm ch...",
          "Type: document<br>Text: a\\) Số TC tích lũy (số TCTL).\n\nb\\) Tổng số TC của các học phần đã học nhưng chưa đạt từ đầu khóa (số...",
          "Type: document<br>Text: **Điều** **13.** **Đồ** **án/khóa** **luận** **tốt** **nghiệp**\n**đại** **học**\n\nCác học phần tốt ng...",
          "Type: document<br>Text: 3\\. Kết quả ĐATN được đánh giá như sau:\n\na\\) Điểm quá trình của ĐATN được tính bằng trung bình cộng ...",
          "Type: document<br>Text: e\\) Các điểm của người hướng dẫn, phản biện và thành viên hội đồng\nđánh giá ĐATN được phép cho lẻ tớ...",
          "Type: document<br>Text: b\\) Đạt chuẩn ngoại ngữ đầu ra.\n\nc\\) Điểm trung bình tích lũy toàn khóa (tính theo các học phần đăng...",
          "Type: document<br>Text: 6\\. Sinh viên không tốt nghiệp được quyền đề nghị cấp chứng nhận với\ncác học phần đã tích lũy trong ...",
          "Type: document<br>Text: b\\) Sinh viên bị Hội đồng kỷ luật của ĐHBK Hà Nội đề nghị áp dụng mức\nkỷ luật từ cảnh cáo trở lên.\n\n...",
          "Type: document<br>Text: c\\) Thời gian nghỉ học tạm thời do sinh viên được điều động vào lực\nlượng vũ trang (là thời gian đượ...",
          "Type: document<br>Text: 3\\. Tự nguyện thôi học: Sinh viên thấy không có đủ điều kiện hoặc\nkhông muốn tiếp tục học tại ĐHBK H...",
          "Type: document<br>Text: d\\) Không bị cảnh báo học tập hoặc bị xét thi hành kỷ luật;\n\n2\\. Không cho phép chuyển CTĐT đối với ...",
          "Type: document<br>Text: 5\\. Sinh viên từ trường khác muốn chuyển tới học tại ĐHBK Hà Nội phải\nđáp ứng điều kiện trúng tuyển ...",
          "Type: document<br>Text: 2\\. Sinh viên được đăng ký học chương trình thứ hai sớm nhất khi đã\nđược xếp trình độ năm thứ hai củ...",
          "Type: document<br>Text: 6\\. Sinh viên chỉ được xét tốt nghiệp chương trình thứ hai, nếu có đủ\nđiều kiện tốt nghiệp ở chương ...",
          "Type: document<br>Text: c\\) Áp dụng cảnh báo học tập mức 3 đối với sinh viên có số TC nợ đọng\ntừ đầu khóa lớn hơn 24.\n\nd\\) S...",
          "Type: document<br>Text: 3\\. Buộc thôi học là hình thức áp dụng đối với những sinh viên có kết\nquả học tập rất kém, cụ thể tr...",
          "Type: document<br>Text: 15\n\n2\\. Sinh viên thi hộ hoặc nhờ người thi hộ đều bị kỷ luật ở mức đình\nchỉ học tập 01 năm đối với ...",
          "Type: document<br>Text: 2\\. Quy trình đăng ký học tập thực hiện theo khoản 1 Điều 10 của Quy\nchế này.\n\n3\\. Trong quá trình h...",
          "Type: document<br>Text: 4\\. Việc đánh giá kết quả thực hiện ĐATN KS được thực hiện theo khoản\n3 Điều 13 của Quy chế này. Đồ ...",
          "Type: document<br>Text: b\\) Đã nộp đồ án tốt nghiệp cho thư viện theo quy cách của bản đồ án\ndo ĐHBK Hà Nội quy định.\n\nc\\) Đ...",
          "Type: document<br>Text: **Điều** **24.** **Điểm** **trung** **bình** **toàn** **khóa** **và**\n**hạng** **tốt** **nghiệp** **...",
          "Type: document<br>Text: b\\) Học viên bị Hội đồng kỷ luật của ĐHBK Hà Nội đề nghị áp dụng mức\nkỷ luật từ cảnh cáo trở lên.\n\n*...",
          "Type: document<br>Text: 17\n\nvượt quá 2 học kỳ chính; thời gian nghỉ trên 2 học kỳ được tính vào\nthời gian học chậm tiến độ.\n...",
          "Type: document<br>Text: 6\\. Học viên thấy không có đủ điều kiện hoặc không muốn tiếp tục học\ntại ĐHBK Hà Nội có thể làm đơn ...",
          "Type: document<br>Text: **CHƯƠNG** **IV** **ĐÀO** **TẠO** **THẠC** **SĨ**\n\n**Điều** **27.** **Đăng** **ký** **học** **tập** ...",
          "Type: document<br>Text: 18\n\n3\\. Đối với các học phần được giảng dạy trên lớp, quy mô lớp học phần\ntối thiểu là 20 học viên. ...",
          "Type: document<br>Text: b\\) Danh mục các học phần bổ sung và số TC được xác định khi xét hồ sơ\nđăng ký dự tuyển dựa trên việ...",
          "Type: document<br>Text: c\\) Học viên học chương trình tích hợp Cử nhân - Thạc sĩ khoa học của\nĐHBK Hà Nội được đăng ký học t...",
          "Type: document<br>Text: 19\n\n**Điều** **29.** **Đăng** **ký** **đề** **tài** **luận** **văn**\n**thạc** **sĩ**\n\n1\\. Đăng ký đề...",
          "Type: document<br>Text: **Điều** **30.** **Điều** **kiện** **được** **bảo** **vệ** **luận**\n**văn** **thạc** **sĩ**\n\nHọc viê...",
          "Type: document<br>Text: **Điều** **31.** **Điểm** **luận** **văn** **thạc** **sĩ**\n\n1\\. Điểm luận văn thạc sĩ là điểm bảo vệ...",
          "Type: document<br>Text: 20\n\nnghiệm thu, hoặc đề tài nghiên cứu đã được nghiệm thu do người hướng\ndẫn chủ trì và học viên là ...",
          "Type: document<br>Text: 2\\. Trong trường hợp luận văn bảo vệ lần thứ hai vẫn không đạt yêu\ncầu, nếu học viên có nguyện vọng ...",
          "Type: document<br>Text: 1\\. Học viên có đủ các điều kiện sau đây thì được xét công nhận tốt\nnghiệp:\n\na\\) Luận văn đạt yêu cầ...",
          "Type: document<br>Text: ||\n||\n||\n||\n\n3\\. Học viên đạt đủ điều kiện tốt nghiệp được Giám đốc ĐHBK Hà Nội ra\nquyết định công n...",
          "Type: document<br>Text: 2\\. Học viên bị ốm hoặc tai nạn buộc phải điều trị trong thời gian\ndài, hoặc nghỉ thai sản theo quy ...",
          "Type: document<br>Text: 4\\. Học viên phải nộp đơn đề nghị trở lại học chậm nhất 1 tuần trước\nkhi bắt đầu học kỳ mới. Đối với...",
          "Type: document<br>Text: 3\\. Học viên bị buộc thôi học trong các trường hợp sau đây:\n\na\\) Học viên học chậm tiến độ quá thời ...",
          "Type: document<br>Text: 2\\. Căn cứ kế hoạch học tập chuẩn toàn khóa của CTĐT tiến sĩ, NCS xây\ndựng kế hoạch chi tiết theo từ...",
          "Type: document<br>Text: 1\\. Các học phần bổ sung nhằm hỗ trợ NCS có đủ kiến thức, trình độ\nchuyên môn để thực hiện đề tài ng...",
          "Type: document<br>Text: a\\) Mỗi NCS phải hoàn thành tối thiểu 8 TC tương ứng 3-4 học phần tiến\nsĩ.\n\nb\\) NCS phải thực hiện q...",
          "Type: document<br>Text: **Điều** **38.** **Tiểu** **luận** **tổng** **quan** **và** **chuyên**\n**đề** **tiến** **sĩ**\n\n1\\. T...",
          "Type: document<br>Text: b\\) NCS phải hoàn thành Tiểu luận tổng quan với kết quả đạt yêu cầu\ntrong vòng 12 tháng kể từ khi có...",
          "Type: document<br>Text: b\\) NCS phải đăng ký thực hiện các chuyên đề tiến sĩ. Tên của chuyên\nđề do NCS đề xuất và phải được ...",
          "Type: document<br>Text: 2\\. Quyển thuyết minh Luận án tiến sĩ phải đáp ứng quy định về hình\nthức, cách trình bày luận án; số...",
          "Type: document<br>Text: c\\) Tuân thủ các quy định khác của Luật sở hữu trí tuệ.\n\n**Điều** **40.** **Điều** **kiện** **được**...",
          "Type: document<br>Text: c\\) Tổng điểm của tất cả các công trình nghiên cứu trong khoản b mục 1\ncủa Điều này phải đạt từ 2,0 ...",
          "Type: document<br>Text: 2\\. Điều kiện để NCS được bảo vệ luận án ở Hội đồng đánh giá luận án\ncấp Đại học (bảo vệ luận án cấp...",
          "Type: document<br>Text: b\\) Hội đồng đánh giá luận án cấp cơ sở (sau đây gọi tắt là hội đồng\ncấp cơ sở) do Hiệu trưởng trườn...",
          "Type: document<br>Text: đ) Trong vòng 20 ngày sau khi kết thúc đánh giá luận án cấp cơ sở, NCS\nphải hoàn thành đầy đủ việc s...",
          "Type: document<br>Text: b\\) Hội đồng đánh giá luận án cấp Đại học do Giám đốc ĐHBK Hà Nội ra\nquyết định thành lập có 7 thành...",
          "Type: document<br>Text: 26\n\nd\\) Luận án được đánh giá bằng hình thức bỏ phiếu (tán thành hoặc\nkhông tán thành), luận án khôn...",
          "Type: document<br>Text: **Điều** **42.** **Đánh** **giá** **lại** **luận** **án** **tiến**\n**sĩ**\n\n1\\. Trong trường hợp Hội ...",
          "Type: document<br>Text: 3\\. Trong trường hợp luận án bảo vệ lần thứ hai vẫn không đạt yêu cầu,\nĐHBK Hà Nội không tổ chức bảo...",
          "Type: document<br>Text: d\\) Đã nộp Thư viện Quốc gia Việt Nam và Thư viện Tạ Quang Bửu của\nĐHBK Hà Nội (cả bản in và file pd...",
          "Type: document<br>Text: 27\n\nbằng tiến sĩ cho nghiên cứu sinh được thực hiện trong thời hạn 30 ngày\nlàm việc kể từ ngày quyết...",
          "Type: document<br>Text: 4\\. Giám đốc ĐHBK Hà Nội xem xét, quyết định cho phép NCS được rút\nngắn thời gian học tập tối đa khô...",
          "Type: document<br>Text: **Điều** **45.** **Công** **nhận** **và** **chuyển** **đổi** **kết**\n**quả** **học** **tập,** **nghi...",
          "Type: document<br>Text: 28\n\nphù hợp với nội dung, yêu cầu của CTĐT, được thực hiện trên cơ sở đề\nxuất của Tiểu ban xét tuyển...",
          "Type: document<br>Text: 2\\. Đối với các khoá tuyển sinh có quyết định công nhận NCS trong\nkhoảng thời gian từ ngày 15 tháng ...",
          "Type: document<br>Text: 3\\. Đối với các khoá tuyển sinh đã có quyết định công nhận NCS trước\nngày 18 tháng 5 năm 2017, ĐHBK ...",
          "Type: document<br>Text: 29\n\nb\\) Khoản 2 Điều 18 (về việc học cùng lúc hai chương trình) được áp\ndụng với các khóa tuyển sinh...",
          "Type: question answer<br>Text: Ban Công tác Sinh viên sẽ tiếp nhận và giải đáp thắc mắc của sinh viên tại địa chỉ nào?: Chỉ tại các...",
          "Type: question answer<br>Text: Một môn học có trọng số KT(0,4)-T(0,6) nghĩa là môn học đó có *: Trọng số của điểm kiểm tra giữa kỳ ...",
          "Type: question answer<br>Text: Phương pháp quản lý chi tiêu 50-20-30 với sinh viên?: 50% Nhu cầu thiết yếu, 20% Tiết kiệm, 30% Sở ...",
          "Type: question answer<br>Text: Sinh viên bắt đầu được xem xét chuyển ngành từ khi nào?: Sau khi hoàn thành năm thứ nhất\n\nTrong các...",
          "Type: question answer<br>Text: Sinh viên sẽ bị xem xét buộc thôi học nếu?: Bị cảnh cáo học tập mức 3 lần thứ hai\n\nĐiều kiện xét tuy...",
          "Type: question answer<br>Text: Khi nào sinh viên phải hoàn toàn tự đăng ký lớp?: Bắt đầu từ học kỳ thứ 3\n\nCách thức đánh giá điểm r...",
          "Type: question answer<br>Text: Các bước đăng ký mới hoặc reset lại mật khẩu bị mất là: *: Truy cập ctt.hust.edu.vn – Chọn “Đăng nhậ...",
          "Type: question answer<br>Text: Đối tượng được xét học bổng Trần Đại Nghĩa là những ai: *: Sinh viên có hoàn cảnh khó khăn, có nghị ...",
          "Type: question answer<br>Text: Điều kiện được xét học bổng loại A là gì: *: GPA từ 3.6, điểm rèn luyện từ 90.\n\nTheo định hướng cu...",
          "Type: question answer<br>Text: Điểm rèn luyện được xếp loại theo cách nào dưới đây?: Xuất sắc, Tốt, Khá, Trung bình, Yếu, Kém\n\nĐiểm...",
          "Type: question answer<br>Text: Một môn học có trọng số KT(0.3)-T(0.7) và có điểm thi giữa kỳ (đã cộng) là 9đ, điểm thi cuối kỳ là 8...",
          "Type: question answer<br>Text: Ưu điểm nào sau đây là đặc trưng của chương trình đào tạo theo tín chỉ?: Sinh viên có thể tự lập kế ...",
          "Type: question answer<br>Text: Điều kiện cần để đạt học bổng loại A là gì?: GPA≥3,6 ĐRL≥90\n\nĐịa chỉ bạn cần đến để được hỗ t...",
          "Type: question answer<br>Text: Sinh viên được xếp hạng trình độ năm thứ nhất căn cứ số tín chỉ tích lũy như thế nào?: Trình độ năm ...",
          "Type: question answer<br>Text: Học đại học có khác gì so với THPT: Cần có kỹ năng làm việc độc lập: Cần có khả năng tự đọc - tự học...",
          "Type: question answer<br>Text: Mục chấm điểm rèn luyện có 2 cột điểm SV chấm và điểm GV chấm, vậy điểm chốt tính theo điểm nào?: Cộ...",
          "Type: question answer<br>Text: Các màu nhãn sách tại Trung tâm truyền thông và tri thức số là:: Màu trắng: sách đọc tại các phòng.:...",
          "Type: question answer<br>Text: Học bổng Trần Đại Nghĩa dành cho sinh viên có hoàn cảnh kinh tế khó khăn, có nghị lực vươn lên trong...",
          "Type: question answer<br>Text: Đâu là trang tra cứu OPAC:: http://libopac.hust.edu.vn/\n\nGPA và CPA có nghĩa là gì ?: GPA là điểm tr..."
         ],
         "type": "scatter3d",
         "x": [
          -1.0852776,
          -58.297382,
          -31.815592,
          -12.309815,
          11.937834,
          19.900135,
          -15.859337,
          -69.45459,
          -88.29802,
          -58.05704,
          -14.354599,
          -42.183434,
          -47.371407,
          46.20448,
          54.721024,
          2.6006088,
          -25.807411,
          -31.517815,
          -69.20995,
          -55.132656,
          -29.81616,
          101.38039,
          35.35,
          -22.4214,
          -20.41965,
          16.06174,
          3.333894,
          14.921313,
          107.643265,
          -17.357935,
          25.77175,
          11.347607,
          50.52018,
          55.636097,
          5.353669,
          80.99605,
          -62.59817,
          -9.413462,
          96.408035,
          90.188896,
          -31.613283,
          62.62586,
          39.44713,
          70.83253,
          12.141489,
          7.305347,
          5.880261,
          16.656244,
          35.89461,
          90.690216,
          -111.97063,
          73.11433,
          -1.6158731,
          53.03115,
          2.627227,
          -48.234344,
          53.34922,
          97.57456,
          35.967968,
          12.443058,
          8.46365,
          13.871946,
          -26.528217,
          -30.037283,
          -42.62081,
          -26.078894,
          -44.787308,
          -66.855804,
          -43.066254,
          -26.242908,
          32.720387,
          61.239136,
          32.737907,
          42.1457,
          -90.67897,
          -93.15115,
          34.418728,
          -78.21385,
          -70.34673,
          -58.731384,
          -62.595222,
          58.19092,
          39.880314,
          -59.942936,
          75.498,
          47.196747,
          -35.84077,
          74.710724,
          -77.11558,
          -58.954014,
          -31.125275,
          -30.488201,
          -100.1315,
          -25.211077,
          -103.45851,
          -82.85731,
          28.515957,
          87.72841,
          76.094406,
          -27.810854,
          -52.888542,
          48.19423,
          57.004677,
          -97.56687,
          13.70477,
          9.196007,
          48.610283,
          -16.663292,
          -7.7385535,
          -34.80363,
          83.56989,
          -13.184355,
          26.875711,
          28.05137,
          24.743778,
          -1.0469075,
          -7.470396,
          -63.622055
         ],
         "y": [
          117.65798,
          -96.95367,
          -104.76187,
          -101.151566,
          17.867998,
          -111.82089,
          56.872295,
          -102.486626,
          78.5929,
          47.242172,
          103.26978,
          96.85531,
          94.67394,
          29.2505,
          91.067726,
          7.140066,
          -41.50263,
          -12.043372,
          -31.967876,
          -59.198574,
          -57.969837,
          61.940784,
          -88.195854,
          -63.67367,
          -103.050705,
          -52.65899,
          -70.667076,
          99.975136,
          -2.7233343,
          -0.46686795,
          81.60153,
          -62.56375,
          49.94692,
          19.204216,
          -56.780872,
          12.395107,
          -54.224655,
          -31.36868,
          17.707987,
          -5.695157,
          -35.393974,
          13.737039,
          14.102894,
          21.19038,
          -20.731115,
          -31.828165,
          -8.63712,
          -19.059984,
          84.620995,
          41.277855,
          36.597794,
          -3.059765,
          40.783806,
          -80.19737,
          13.601107,
          81.08585,
          -6.3196454,
          8.972714,
          -10.354635,
          -7.5339155,
          50.107124,
          -72.0096,
          -69.563995,
          -4.3787513,
          -27.60494,
          79.97403,
          58.894512,
          43.766953,
          30.620575,
          32.424164,
          -13.713733,
          -11.960563,
          -32.559685,
          -48.681156,
          -42.037575,
          -21.851128,
          -87.236145,
          -0.25933552,
          -56.640686,
          -21.682405,
          -31.169407,
          -38.798416,
          -15.327209,
          5.9035115,
          -47.49596,
          -54.81805,
          5.5527205,
          55.255512,
          51.41589,
          32.565784,
          41.541718,
          25.398615,
          -4.007482,
          -38.47869,
          2.1837614,
          -13.175323,
          23.211805,
          -44.93283,
          81.68078,
          -37.93915,
          18.727558,
          -28.635439,
          -29.312195,
          18.468348,
          36.752743,
          57.696606,
          46.30098,
          38.73199,
          3.1362996,
          3.6434162,
          -44.99829,
          67.74825,
          58.411964,
          57.49817,
          26.487032,
          -62.62987,
          56.863655,
          48.464584
         ],
         "z": [
          6.834506,
          -21.06334,
          -28.40655,
          -4.7417727,
          33.294254,
          13.7191725,
          96.32521,
          17.24591,
          -0.54916507,
          98.96303,
          -8.0443325,
          -24.582245,
          -49.904457,
          107.26359,
          -28.052153,
          131.41547,
          2.6179187,
          3.449629,
          -0.6795249,
          5.386131,
          -19.79422,
          -13.777038,
          -69.25652,
          -78.941536,
          37.751194,
          -79.584366,
          -52.494682,
          -50.56263,
          10.765551,
          88.87687,
          63.349407,
          27.554462,
          52.760403,
          37.537125,
          59.922676,
          76.170265,
          -55.465557,
          -61.11008,
          -0.49564087,
          -70.4537,
          -101.191154,
          -66.41607,
          -39.54056,
          -27.436031,
          22.12864,
          -18.425629,
          61.96765,
          83.11069,
          21.105377,
          38.33276,
          13.230007,
          36.809395,
          -113.24141,
          3.0802681,
          -40.77506,
          62.56732,
          -39.734943,
          -34.181,
          14.857774,
          -10.525592,
          56.465164,
          -9.444579,
          66.12976,
          -34.959682,
          -35.930344,
          27.249136,
          2.8256068,
          -12.077767,
          -17.533016,
          7.9092393,
          -61.59947,
          -8.191427,
          -2.8429422,
          25.465006,
          17.319944,
          34.403805,
          69.56345,
          18.037903,
          51.362865,
          46.392857,
          72.743744,
          -97.653915,
          -107.368355,
          68.239075,
          -53.012444,
          -37.07867,
          42.74329,
          -57.654648,
          42.282368,
          29.554543,
          36.523396,
          64.00871,
          -7.814917,
          43.146362,
          -47.133728,
          -36.9106,
          83.129364,
          6.3505273,
          26.099167,
          109.41722,
          -92.33033,
          59.215965,
          96.37044,
          68.143486,
          -4.6011047,
          10.757924,
          1.812296,
          -67.53502,
          -86.10615,
          -77.9592,
          52.61016,
          -64.55743,
          -26.678656,
          -67.761856,
          -84.456024,
          106.35607,
          -28.450966,
          -60.874474
         ]
        }
       ],
       "layout": {
        "height": 700,
        "margin": {
         "b": 10,
         "l": 10,
         "r": 20,
         "t": 40
        },
        "scene": {
         "xaxis": {
          "title": {
           "text": "x"
          }
         },
         "yaxis": {
          "title": {
           "text": "y"
          }
         },
         "zaxis": {
          "title": {
           "text": "z"
          }
         }
        },
        "template": {
         "data": {
          "bar": [
           {
            "error_x": {
             "color": "#2a3f5f"
            },
            "error_y": {
             "color": "#2a3f5f"
            },
            "marker": {
             "line": {
              "color": "#E5ECF6",
              "width": 0.5
             },
             "pattern": {
              "fillmode": "overlay",
              "size": 10,
              "solidity": 0.2
             }
            },
            "type": "bar"
           }
          ],
          "barpolar": [
           {
            "marker": {
             "line": {
              "color": "#E5ECF6",
              "width": 0.5
             },
             "pattern": {
              "fillmode": "overlay",
              "size": 10,
              "solidity": 0.2
             }
            },
            "type": "barpolar"
           }
          ],
          "carpet": [
           {
            "aaxis": {
             "endlinecolor": "#2a3f5f",
             "gridcolor": "white",
             "linecolor": "white",
             "minorgridcolor": "white",
             "startlinecolor": "#2a3f5f"
            },
            "baxis": {
             "endlinecolor": "#2a3f5f",
             "gridcolor": "white",
             "linecolor": "white",
             "minorgridcolor": "white",
             "startlinecolor": "#2a3f5f"
            },
            "type": "carpet"
           }
          ],
          "choropleth": [
           {
            "colorbar": {
             "outlinewidth": 0,
             "ticks": ""
            },
            "type": "choropleth"
           }
          ],
          "contour": [
           {
            "colorbar": {
             "outlinewidth": 0,
             "ticks": ""
            },
            "colorscale": [
             [
              0,
              "#0d0887"
             ],
             [
              0.1111111111111111,
              "#46039f"
             ],
             [
              0.2222222222222222,
              "#7201a8"
             ],
             [
              0.3333333333333333,
              "#9c179e"
             ],
             [
              0.4444444444444444,
              "#bd3786"
             ],
             [
              0.5555555555555556,
              "#d8576b"
             ],
             [
              0.6666666666666666,
              "#ed7953"
             ],
             [
              0.7777777777777778,
              "#fb9f3a"
             ],
             [
              0.8888888888888888,
              "#fdca26"
             ],
             [
              1,
              "#f0f921"
             ]
            ],
            "type": "contour"
           }
          ],
          "contourcarpet": [
           {
            "colorbar": {
             "outlinewidth": 0,
             "ticks": ""
            },
            "type": "contourcarpet"
           }
          ],
          "heatmap": [
           {
            "colorbar": {
             "outlinewidth": 0,
             "ticks": ""
            },
            "colorscale": [
             [
              0,
              "#0d0887"
             ],
             [
              0.1111111111111111,
              "#46039f"
             ],
             [
              0.2222222222222222,
              "#7201a8"
             ],
             [
              0.3333333333333333,
              "#9c179e"
             ],
             [
              0.4444444444444444,
              "#bd3786"
             ],
             [
              0.5555555555555556,
              "#d8576b"
             ],
             [
              0.6666666666666666,
              "#ed7953"
             ],
             [
              0.7777777777777778,
              "#fb9f3a"
             ],
             [
              0.8888888888888888,
              "#fdca26"
             ],
             [
              1,
              "#f0f921"
             ]
            ],
            "type": "heatmap"
           }
          ],
          "heatmapgl": [
           {
            "colorbar": {
             "outlinewidth": 0,
             "ticks": ""
            },
            "colorscale": [
             [
              0,
              "#0d0887"
             ],
             [
              0.1111111111111111,
              "#46039f"
             ],
             [
              0.2222222222222222,
              "#7201a8"
             ],
             [
              0.3333333333333333,
              "#9c179e"
             ],
             [
              0.4444444444444444,
              "#bd3786"
             ],
             [
              0.5555555555555556,
              "#d8576b"
             ],
             [
              0.6666666666666666,
              "#ed7953"
             ],
             [
              0.7777777777777778,
              "#fb9f3a"
             ],
             [
              0.8888888888888888,
              "#fdca26"
             ],
             [
              1,
              "#f0f921"
             ]
            ],
            "type": "heatmapgl"
           }
          ],
          "histogram": [
           {
            "marker": {
             "pattern": {
              "fillmode": "overlay",
              "size": 10,
              "solidity": 0.2
             }
            },
            "type": "histogram"
           }
          ],
          "histogram2d": [
           {
            "colorbar": {
             "outlinewidth": 0,
             "ticks": ""
            },
            "colorscale": [
             [
              0,
              "#0d0887"
             ],
             [
              0.1111111111111111,
              "#46039f"
             ],
             [
              0.2222222222222222,
              "#7201a8"
             ],
             [
              0.3333333333333333,
              "#9c179e"
             ],
             [
              0.4444444444444444,
              "#bd3786"
             ],
             [
              0.5555555555555556,
              "#d8576b"
             ],
             [
              0.6666666666666666,
              "#ed7953"
             ],
             [
              0.7777777777777778,
              "#fb9f3a"
             ],
             [
              0.8888888888888888,
              "#fdca26"
             ],
             [
              1,
              "#f0f921"
             ]
            ],
            "type": "histogram2d"
           }
          ],
          "histogram2dcontour": [
           {
            "colorbar": {
             "outlinewidth": 0,
             "ticks": ""
            },
            "colorscale": [
             [
              0,
              "#0d0887"
             ],
             [
              0.1111111111111111,
              "#46039f"
             ],
             [
              0.2222222222222222,
              "#7201a8"
             ],
             [
              0.3333333333333333,
              "#9c179e"
             ],
             [
              0.4444444444444444,
              "#bd3786"
             ],
             [
              0.5555555555555556,
              "#d8576b"
             ],
             [
              0.6666666666666666,
              "#ed7953"
             ],
             [
              0.7777777777777778,
              "#fb9f3a"
             ],
             [
              0.8888888888888888,
              "#fdca26"
             ],
             [
              1,
              "#f0f921"
             ]
            ],
            "type": "histogram2dcontour"
           }
          ],
          "mesh3d": [
           {
            "colorbar": {
             "outlinewidth": 0,
             "ticks": ""
            },
            "type": "mesh3d"
           }
          ],
          "parcoords": [
           {
            "line": {
             "colorbar": {
              "outlinewidth": 0,
              "ticks": ""
             }
            },
            "type": "parcoords"
           }
          ],
          "pie": [
           {
            "automargin": true,
            "type": "pie"
           }
          ],
          "scatter": [
           {
            "fillpattern": {
             "fillmode": "overlay",
             "size": 10,
             "solidity": 0.2
            },
            "type": "scatter"
           }
          ],
          "scatter3d": [
           {
            "line": {
             "colorbar": {
              "outlinewidth": 0,
              "ticks": ""
             }
            },
            "marker": {
             "colorbar": {
              "outlinewidth": 0,
              "ticks": ""
             }
            },
            "type": "scatter3d"
           }
          ],
          "scattercarpet": [
           {
            "marker": {
             "colorbar": {
              "outlinewidth": 0,
              "ticks": ""
             }
            },
            "type": "scattercarpet"
           }
          ],
          "scattergeo": [
           {
            "marker": {
             "colorbar": {
              "outlinewidth": 0,
              "ticks": ""
             }
            },
            "type": "scattergeo"
           }
          ],
          "scattergl": [
           {
            "marker": {
             "colorbar": {
              "outlinewidth": 0,
              "ticks": ""
             }
            },
            "type": "scattergl"
           }
          ],
          "scattermapbox": [
           {
            "marker": {
             "colorbar": {
              "outlinewidth": 0,
              "ticks": ""
             }
            },
            "type": "scattermapbox"
           }
          ],
          "scatterpolar": [
           {
            "marker": {
             "colorbar": {
              "outlinewidth": 0,
              "ticks": ""
             }
            },
            "type": "scatterpolar"
           }
          ],
          "scatterpolargl": [
           {
            "marker": {
             "colorbar": {
              "outlinewidth": 0,
              "ticks": ""
             }
            },
            "type": "scatterpolargl"
           }
          ],
          "scatterternary": [
           {
            "marker": {
             "colorbar": {
              "outlinewidth": 0,
              "ticks": ""
             }
            },
            "type": "scatterternary"
           }
          ],
          "surface": [
           {
            "colorbar": {
             "outlinewidth": 0,
             "ticks": ""
            },
            "colorscale": [
             [
              0,
              "#0d0887"
             ],
             [
              0.1111111111111111,
              "#46039f"
             ],
             [
              0.2222222222222222,
              "#7201a8"
             ],
             [
              0.3333333333333333,
              "#9c179e"
             ],
             [
              0.4444444444444444,
              "#bd3786"
             ],
             [
              0.5555555555555556,
              "#d8576b"
             ],
             [
              0.6666666666666666,
              "#ed7953"
             ],
             [
              0.7777777777777778,
              "#fb9f3a"
             ],
             [
              0.8888888888888888,
              "#fdca26"
             ],
             [
              1,
              "#f0f921"
             ]
            ],
            "type": "surface"
           }
          ],
          "table": [
           {
            "cells": {
             "fill": {
              "color": "#EBF0F8"
             },
             "line": {
              "color": "white"
             }
            },
            "header": {
             "fill": {
              "color": "#C8D4E3"
             },
             "line": {
              "color": "white"
             }
            },
            "type": "table"
           }
          ]
         },
         "layout": {
          "annotationdefaults": {
           "arrowcolor": "#2a3f5f",
           "arrowhead": 0,
           "arrowwidth": 1
          },
          "autotypenumbers": "strict",
          "coloraxis": {
           "colorbar": {
            "outlinewidth": 0,
            "ticks": ""
           }
          },
          "colorscale": {
           "diverging": [
            [
             0,
             "#8e0152"
            ],
            [
             0.1,
             "#c51b7d"
            ],
            [
             0.2,
             "#de77ae"
            ],
            [
             0.3,
             "#f1b6da"
            ],
            [
             0.4,
             "#fde0ef"
            ],
            [
             0.5,
             "#f7f7f7"
            ],
            [
             0.6,
             "#e6f5d0"
            ],
            [
             0.7,
             "#b8e186"
            ],
            [
             0.8,
             "#7fbc41"
            ],
            [
             0.9,
             "#4d9221"
            ],
            [
             1,
             "#276419"
            ]
           ],
           "sequential": [
            [
             0,
             "#0d0887"
            ],
            [
             0.1111111111111111,
             "#46039f"
            ],
            [
             0.2222222222222222,
             "#7201a8"
            ],
            [
             0.3333333333333333,
             "#9c179e"
            ],
            [
             0.4444444444444444,
             "#bd3786"
            ],
            [
             0.5555555555555556,
             "#d8576b"
            ],
            [
             0.6666666666666666,
             "#ed7953"
            ],
            [
             0.7777777777777778,
             "#fb9f3a"
            ],
            [
             0.8888888888888888,
             "#fdca26"
            ],
            [
             1,
             "#f0f921"
            ]
           ],
           "sequentialminus": [
            [
             0,
             "#0d0887"
            ],
            [
             0.1111111111111111,
             "#46039f"
            ],
            [
             0.2222222222222222,
             "#7201a8"
            ],
            [
             0.3333333333333333,
             "#9c179e"
            ],
            [
             0.4444444444444444,
             "#bd3786"
            ],
            [
             0.5555555555555556,
             "#d8576b"
            ],
            [
             0.6666666666666666,
             "#ed7953"
            ],
            [
             0.7777777777777778,
             "#fb9f3a"
            ],
            [
             0.8888888888888888,
             "#fdca26"
            ],
            [
             1,
             "#f0f921"
            ]
           ]
          },
          "colorway": [
           "#636efa",
           "#EF553B",
           "#00cc96",
           "#ab63fa",
           "#FFA15A",
           "#19d3f3",
           "#FF6692",
           "#B6E880",
           "#FF97FF",
           "#FECB52"
          ],
          "font": {
           "color": "#2a3f5f"
          },
          "geo": {
           "bgcolor": "white",
           "lakecolor": "white",
           "landcolor": "#E5ECF6",
           "showlakes": true,
           "showland": true,
           "subunitcolor": "white"
          },
          "hoverlabel": {
           "align": "left"
          },
          "hovermode": "closest",
          "mapbox": {
           "style": "light"
          },
          "paper_bgcolor": "white",
          "plot_bgcolor": "#E5ECF6",
          "polar": {
           "angularaxis": {
            "gridcolor": "white",
            "linecolor": "white",
            "ticks": ""
           },
           "bgcolor": "#E5ECF6",
           "radialaxis": {
            "gridcolor": "white",
            "linecolor": "white",
            "ticks": ""
           }
          },
          "scene": {
           "xaxis": {
            "backgroundcolor": "#E5ECF6",
            "gridcolor": "white",
            "gridwidth": 2,
            "linecolor": "white",
            "showbackground": true,
            "ticks": "",
            "zerolinecolor": "white"
           },
           "yaxis": {
            "backgroundcolor": "#E5ECF6",
            "gridcolor": "white",
            "gridwidth": 2,
            "linecolor": "white",
            "showbackground": true,
            "ticks": "",
            "zerolinecolor": "white"
           },
           "zaxis": {
            "backgroundcolor": "#E5ECF6",
            "gridcolor": "white",
            "gridwidth": 2,
            "linecolor": "white",
            "showbackground": true,
            "ticks": "",
            "zerolinecolor": "white"
           }
          },
          "shapedefaults": {
           "line": {
            "color": "#2a3f5f"
           }
          },
          "ternary": {
           "aaxis": {
            "gridcolor": "white",
            "linecolor": "white",
            "ticks": ""
           },
           "baxis": {
            "gridcolor": "white",
            "linecolor": "white",
            "ticks": ""
           },
           "bgcolor": "#E5ECF6",
           "caxis": {
            "gridcolor": "white",
            "linecolor": "white",
            "ticks": ""
           }
          },
          "title": {
           "x": 0.05
          },
          "xaxis": {
           "automargin": true,
           "gridcolor": "white",
           "linecolor": "white",
           "ticks": "",
           "title": {
            "standoff": 15
           },
           "zerolinecolor": "white",
           "zerolinewidth": 2
          },
          "yaxis": {
           "automargin": true,
           "gridcolor": "white",
           "linecolor": "white",
           "ticks": "",
           "title": {
            "standoff": 15
           },
           "zerolinecolor": "white",
           "zerolinewidth": 2
          }
         }
        },
        "title": {
         "text": "3D Chroma Vector Store Visualization"
        },
        "width": 900
       }
      }
     },
     "metadata": {},
     "output_type": "display_data"
    }
   ],
   "source": [
    "tsne = TSNE(n_components=3, random_state=42)\n",
    "reduced_vectors = tsne.fit_transform(vectors)\n",
    "\n",
    "# Create the 3D scatter plot\n",
    "fig = go.Figure(data=[go.Scatter3d(\n",
    "    x=reduced_vectors[:, 0],\n",
    "    y=reduced_vectors[:, 1],\n",
    "    z=reduced_vectors[:, 2],\n",
    "    mode='markers',\n",
    "    marker=dict(size=5, color=colors, opacity=0.8),\n",
    "    text=[f\"Type: {t}<br>Text: {d[:100]}...\" for t, d in zip(doc_types, documents)],\n",
    "    hoverinfo='text'\n",
    ")])\n",
    "\n",
    "fig.update_layout(\n",
    "    title='3D Chroma Vector Store Visualization',\n",
    "    scene=dict(xaxis_title='x', yaxis_title='y', zaxis_title='z'),\n",
    "    width=900,\n",
    "    height=700,\n",
    "    margin=dict(r=20, b=10, l=10, t=40)\n",
    ")\n",
    "\n",
    "fig.show()"
   ]
  },
  {
   "cell_type": "markdown",
   "id": "56373d16",
   "metadata": {},
   "source": [
    "### BUILD INVERTED INDEXING AND TF-IDF"
   ]
  },
  {
   "cell_type": "code",
   "execution_count": 11,
   "id": "c028a60c",
   "metadata": {},
   "outputs": [],
   "source": [
    "import string\n",
    "from collections import defaultdict\n",
    "import math\n",
    "\n",
    "def preprocess(text):\n",
    "    text = text.lower()\n",
    "    text = text.translate(str.maketrans('', '', string.punctuation))\n",
    "    return text.split()\n",
    "\n",
    "def build_inverted_index(documents):\n",
    "    inverted_index = defaultdict(list)\n",
    "    for doc_id, doc in enumerate(documents):\n",
    "        words = preprocess(doc)\n",
    "        for word in set(words):  \n",
    "            inverted_index[word].append(doc_id)\n",
    "    return inverted_index\n",
    "\n",
    "def compute_tf_idf(documents, inverted_index):\n",
    "    tf_idf = defaultdict(lambda: defaultdict(float))\n",
    "    total_documents = len(documents)\n",
    "    \n",
    "    for doc_id, doc in enumerate(documents):\n",
    "        words = preprocess(doc)\n",
    "        word_count = len(words)\n",
    "        word_freq = defaultdict(int)\n",
    "        for word in words:\n",
    "            word_freq[word] += 1\n",
    "        \n",
    "        for word, count in word_freq.items():\n",
    "            tf = count / word_count\n",
    "            idf = math.log(total_documents / (1 + len(inverted_index[word])))  \n",
    "            tf_idf[doc_id][word] = tf * idf\n",
    "    return tf_idf\n",
    "\n",
    "def search(query, inverted_index, tf_idf, documents):\n",
    "    query_words = preprocess(query)\n",
    "    doc_scores = defaultdict(float)\n",
    "    \n",
    "    for word in query_words:\n",
    "        if word in inverted_index:\n",
    "            for doc_id in inverted_index[word]:\n",
    "                doc_scores[doc_id] += tf_idf[doc_id].get(word, 0)\n",
    "    \n",
    "    sorted_docs = sorted(doc_scores.items(), key=lambda x: x[1], reverse=True)\n",
    "    \n",
    "    return [(doc_id, documents[doc_id], score) for doc_id, score in sorted_docs]\n"
   ]
  },
  {
   "cell_type": "code",
   "execution_count": 32,
   "id": "a2c40233",
   "metadata": {},
   "outputs": [
    {
     "data": {
      "text/plain": [
       "0.06786823272705078"
      ]
     },
     "execution_count": 32,
     "metadata": {},
     "output_type": "execute_result"
    }
   ],
   "source": [
    "import time\n",
    "\n",
    "time_start = time.time()\n",
    "\n",
    "documents_search = [doc.page_content for doc in chunks]\n",
    "inverted_index = build_inverted_index(documents_search)\n",
    "tf_idf = compute_tf_idf(documents_search, inverted_index)\n",
    "result = search('Hãy cho tôi biết về thông tin tính điểm GPA', inverted_index, tf_idf, documents_search)\n",
    "time_end = time.time()\n",
    "time_execute = time_end - time_start\n",
    "time_execute"
   ]
  },
  {
   "cell_type": "markdown",
   "id": "36561e42",
   "metadata": {},
   "source": [
    "### AI AGENTS"
   ]
  },
  {
   "cell_type": "code",
   "execution_count": 18,
   "id": "b53f27fd",
   "metadata": {},
   "outputs": [],
   "source": [
    "from langchain_core.tools import tool\n",
    "from langchain.agents import initialize_agent\n",
    "\n",
    "ranking = { 0.0: \"Yếu\", 2.0: \"Trung bình\", 2.5: \"Khá\", 3.2: \"Giỏi\", 3.6: \"Xuất sắc\"}\n",
    "\n",
    "@tool\n",
    "def get_ranking(grade):\n",
    "    \"\"\"\n",
    "    Trả về xếp loại dựa vào số điểm CPA\n",
    "\n",
    "    Args:\n",
    "        grade (float): Số điểm CPA của sinh viên\n",
    "    \"\"\"\n",
    "    grade = grade.replace(\"'\", \"\\\"\")\n",
    "\n",
    "    grade = json.loads(grade).get('grade')\n",
    "    grade = float(grade)\n",
    "\n",
    "    if grade > 4 or grade < 0:\n",
    "        return \"Số điểm không hợp lệ trên thang điểm 4\"\n",
    "\n",
    "    for key in sorted(ranking.keys(), reverse= True):\n",
    "        if grade >= key:\n",
    "            return ranking[key]\n",
    "\n",
    "    return \"Xuất sắc\" \n"
   ]
  },
  {
   "cell_type": "markdown",
   "id": "7262647e",
   "metadata": {},
   "source": [
    "### LLMs"
   ]
  },
  {
   "cell_type": "code",
   "execution_count": 19,
   "id": "7062609e",
   "metadata": {},
   "outputs": [
    {
     "name": "stderr",
     "output_type": "stream",
     "text": [
      "C:\\Users\\HoMinhNhat\\AppData\\Local\\Temp\\ipykernel_10924\\78109912.py:16: LangChainDeprecationWarning:\n",
      "\n",
      "LangChain agents will continue to be supported, but it is recommended for new use cases to be built with LangGraph. LangGraph offers a more flexible and full-featured framework for building agents, including support for tool-calling, persistence of state, and human-in-the-loop workflows. See LangGraph documentation for more details: https://langchain-ai.github.io/langgraph/. Refer here for its pre-built ReAct agent: https://langchain-ai.github.io/langgraph/how-tos/create-react-agent/\n",
      "\n"
     ]
    }
   ],
   "source": [
    "from langchain_openai import ChatOpenAI\n",
    "llm_llama = ChatOpenAI(\n",
    "    api_key=\"ollama\",\n",
    "    model= MODEL_LLAMA,\n",
    "    base_url=\"http://localhost:11434/v1\",\n",
    ")\n",
    "\n",
    "llm_gpt = ChatOpenAI(\n",
    "    model = MODEL_GPT,\n",
    "    temperature= 0.7\n",
    ")\n",
    "\n",
    "tools = [get_ranking]\n",
    "\n",
    "llm_gpt = llm_gpt.bind_tools(tools)\n",
    "agent = initialize_agent(tools, llm_gpt, agent_type=\"zero-shot-react-description\", handle_parsing_errors=True, verbose=True)\n",
    "\n",
    "\n",
    "def handle_get_ranking_tool_call(tool_call):\n",
    "    arguments = tool_call.get('args')\n",
    "    grade = arguments.get('grade')\n",
    "    hint = f\"Lấy xếp loại của sinh viên dựa vào điểm số CPA cung cấp: {grade}\"\n",
    "    ranking = agent.run(hint)\n",
    "    return ranking\n"
   ]
  },
  {
   "cell_type": "code",
   "execution_count": 20,
   "id": "956efe21",
   "metadata": {},
   "outputs": [],
   "source": [
    "retriever = vectorstore.as_retriever()"
   ]
  },
  {
   "cell_type": "code",
   "execution_count": 34,
   "id": "4d81cca2",
   "metadata": {},
   "outputs": [],
   "source": [
    "time_start = time.time()\n",
    "result = retriever.invoke('Hãy cho tôi biết về thông tin tính điểm GPA')\n",
    "time_end = time.time()"
   ]
  },
  {
   "cell_type": "code",
   "execution_count": 35,
   "id": "873e65f7",
   "metadata": {},
   "outputs": [
    {
     "data": {
      "text/plain": [
       "[Document(metadata={'doc_type': 'question answer', 'source': '..\\\\knowledge-base\\\\question answer\\\\qa_output.md'}, page_content='Điều kiện được xét học bổng loại A là gì: *: GPA từ 3.6, điểm rèn luyện từ 90.\\n\\nTheo định hướng của Ban Giám đốc Đại học với sinh viên NĂM THỨ TƯ, bạn nên làm gì?!: Hoàn thiện kỹ năng mềm và chuyên môn, ngoại ngữ, Đồ án tốt nghiệp, Tìm việc/ học bổng ĐH/Quỹ đầu tư…\\n\\nNộp hồ sơ chế độ chính sách miễn giảm học phí tại đâu?: Ban Công tác sinh viên\\n\\nĐâu là quy trình đánh giá kết quả điểm rèn luyện của sinh viên?: Thu thập, xác nhận tham gia hoạt động – Đánh giá kết quả điểm rèn luyện - Sử dụng kết quả điểm rèn luyện - Tự đánh giá kết quả điểm rèn luyện\\n\\nChính sách hỗ trợ vay vốn ngân hàng cho sinh viên là gì: *: Mức vay tối đa: 4 triệu đồng/ tháng x 10 tháng/năm học.: Mức vay tối đa: 4 triệu đồng/ tháng x 10 tháng/năm học.\\n\\nQuy đổi theo thang 10, điểm A là bao nhiêu điểm?: 8.5-9.4\\n\\nĐiểm rèn luyện được xếp loại theo cách nào dưới đây?: Xuất sắc, Tốt, Khá, Trung bình, Yếu, Kém\\n\\nĐiểm của học phần được tính dựa trên những yếu tố nào?: Điểm quá trình và điểm thi cuối kỳ'),\n",
       " Document(metadata={'doc_type': 'question answer', 'source': '..\\\\knowledge-base\\\\question answer\\\\qa_output.md'}, page_content='Điều kiện cần để đạt học bổng loại A là gì?: GPA≥3,6 ĐRL≥90\\n\\nĐịa chỉ bạn cần đến để được hỗ trợ, tư vấn về học tập và tâm lý khi gặp khó khăn là?: D8-403\\n\\nBạn hãy cho biết để đạt được Danh hiệu Sinh viên 5 tốt, bạn cần đáp ứng đủ những tiêu chí nào sau đây?: Đạo đức tốt, Học tập tốt, Tình nguyện tốt, Thể lực tốt, Hội nhập tốt\\n\\nChính sách của Đại học Bách Khoa Hà Nội khi hỗ trợ sinh viên khó khăn, rủi do đột xuất là gì: *: Sinh viên được hỗ trợ 5-10 triệu đồng.\\n\\nKết quả học tập sẽ được cập nhật sau bao lâu: *: 4-5 tuần sau khi kết thúc thi cuối kì.\\n\\nSau khi kết thúc kỳ học, sinh viên cần thực hiện nhiệm vụ nào sau đây?: Đăng ký lớp cho các môn đã chọn trong kỳ tới\\n\\nĐịa chỉ email ssu@hust.edu.vn là địa chỉ tiếp nhận thông tin của đơn vị nào dưới đây?: Tổ Tư vấn và hỗ trợ sinh viên\\n\\nSinh viên được xếp hạng trình độ năm thứ nhất căn cứ số tín chỉ tích lũy như thế nào?: Trình độ năm thứ nhất nếu số tín chỉ tích lũy <32'),\n",
       " Document(metadata={'doc_type': 'question answer', 'source': '..\\\\knowledge-base\\\\question answer\\\\qa_output.md'}, page_content='Mục chấm điểm rèn luyện có 2 cột điểm SV chấm và điểm GV chấm, vậy điểm chốt tính theo điểm nào?: Cột điểm GV chấm.\\n\\nTrong các buổi nói chuyện của Ban Giám đốc đại học,hình ảnh chú CÁ MẬP minh hoa cho định hướng phát triển sau tốt nghiệp: Trở thành nhà sáng lập doanh nghiệp\\n\\nNếu muốn thể hiện tình trạng của email bạn nên dung cú pháp nào?: [Tình trạng] Tiêu đề email.\\n\\nĐể một học phần không bị điểm liệt, điều kiện nào sau đây phải được đáp ứng?: Cả điểm quá trình và điểm thi cuối kỳ đều lớn hơn 3.0\\n\\nChính sách mượn tài liệu của Thư viện là:: Số lượng tài liệu mượn tối đa: 8 cuốn (phòng 111); 5 cuốn (phòng 102). Thời gian mượn: 60 ngày (phòng 111); 30 ngày (phòng 102). Gia hạn: 30 ngày (phòng 111); 7 ngày (phòng 102).'),\n",
       " Document(metadata={'doc_type': 'question answer', 'source': '..\\\\knowledge-base\\\\question answer\\\\qa_output.md'}, page_content='Một môn học có trọng số KT(0.3)-T(0.7) và có điểm thi giữa kỳ (đã cộng) là 9đ, điểm thi cuối kỳ là 8đ. Hỏi điểm tổng kết là bao nhiêu?: 8.3\\n\\nKhi nào sinh viên cần đăng ký kế hoạch học tập cho kỳ tới?: Thường vào 2 tuần 5-6 của học kỳ hiện tại\\n\\nMột môn học có thể có các điều kiện học phần nào: Học phần học trước, Học phần song hành, Học phần tiên quyết\\n\\nNhững công việc sinh viên BẮT BUỘC phải làm trong học kỳ?: Đăng ký học tập: Đóng học phí: Kiểm tra giữa kỳ: Thi học kỳ\\n\\nĐâu là nơi cung cấp kết quả GPA, điểm Ngoại Ngữ, mức cảnh báo học tập: *: Ban Đào tạo\\n\\nCho hai học phần MI1010 3(3-2-0-6) và MI1110 4(3-2-0-8) với số điểm lần lượt là B+ và D. Hỏi GPA của 2 học phần này là bao nhiêu?: 2.07\\n\\n“Trường Đại học Bách Khoa Hà Nội” được mang tên mới là “Đại học Bách Khoa Hà Nội” từ ngày nào?: 2/12/2022\\n\\nƯu điểm nào sau đây là đặc trưng của chương trình đào tạo theo tín chỉ?: Sinh viên có thể tự lập kế hoạch học tập dựa trên \"Kế hoạch học tập chuẩn\"')]"
      ]
     },
     "execution_count": 35,
     "metadata": {},
     "output_type": "execute_result"
    }
   ],
   "source": [
    "result"
   ]
  },
  {
   "cell_type": "code",
   "execution_count": 23,
   "id": "e80234d5",
   "metadata": {},
   "outputs": [
    {
     "data": {
      "text/plain": [
       "[Document(metadata={'doc_type': 'question answer', 'source': '..\\\\knowledge-base\\\\question answer\\\\qa_output.md'}, page_content='Học bổng Trần Đại Nghĩa dành cho sinh viên có hoàn cảnh kinh tế khó khăn, có nghị lực vươn lên trong cuộc sống có 2 mức học bổng, đó là những mức nào?: 50% và 100%\\n\\nHãy chọn các học bổng cho sinh viên của Đại học Bách khoa Hà Nội:: Học bổng Khuyến khích học tập: Học bổng Trần Đại Nghĩa: Học bổng Gắn kết Quê hương\\n\\nThời gian đào tạo chuẩn của bậc Cử nhân là bao lâu?: 4 năm\\n\\nQuy tắc sắp xếp thời gian Khoa học: Toàn diện: Hợp lý: Nổi bật trọng điểm: Dành khoảng thời gian trống\\n\\nNếu một sinh viên bị ốm nặng và phải nhập viện trong thời gian thi cuối kỳ, sinh viên đó nên làm gì?: Báo với giảng viên và làm thủ tục xin hoãn thi\\n\\nQuy định về trang phục đối với sinh viên tại Đại học Bách Khoa Hà Nội ?: Sinh viên không cần mặc đồng phục mọi lúc nhưng trang phục phù phải hợp với môi trường học tập; đồng thời yêu cầu sinh viên đeo thẻ sinh viên/học viên khi đi học và tới khu vực làm việc của nhà trường.\\n\\nĐâu là trang tra cứu OPAC:: http://libopac.hust.edu.vn/'),\n",
       " Document(metadata={'doc_type': 'question answer', 'source': '..\\\\knowledge-base\\\\question answer\\\\qa_output.md'}, page_content='Sinh viên được xếp hạng trình độ năm thứ nhất căn cứ số tín chỉ tích lũy như thế nào?: Trình độ năm thứ nhất nếu số tín chỉ tích lũy <32\\n\\nMô hình đào tạo của Đại học Bách Khoa Hà Nội là gì: *: Đào tạo cử nhân 4 năm, đào tạo và cấp bằng kỹ sư.: Đào tạo cử nhân 4 năm, đào tạo và cấp bằng thạc sỹ.\\n\\nĐịa chỉ fanpage của Đại học Bách khoa Hà Nội là?: https://www.facebook.com/dhbkhanoi\\n\\nDựa trên đánh giá kết quả học tập, quy định về điểm liệt như nào: *: Điểm quá trình < 3.0, Điểm cuối kỳ < 3.0.\\n\\nĐịa chỉ email của Văn phòng Đoàn Thanh niên là? *: dtn@hust.edu.vn\\n\\nHSSV nào sau đây thuộc một trong các đối tượng được vay vốn?: HSSV có hoàn cảnh khó khăn sống trong hộ gia đình cư trú hợp pháp tại địa phương nơi cho vay.\\n\\nCổng thông tin Trung tâm Truyền thông và Tri thức số là: *: https://library.hust.edu.vn/\\n\\nHọc đại học có khác gì so với THPT: Cần có kỹ năng làm việc độc lập: Cần có khả năng tự đọc - tự học: Cần có khả năng làm chủ bản thân'),\n",
       " Document(metadata={'doc_type': 'document', 'source': '..\\\\knowledge-base\\\\document\\\\qcdt 2023.md'}, page_content='**BỘ** **GIÁO** **DỤC** **VÀ** **ĐÀO** **TẠO** **ĐẠI** **HỌC**\\n**BÁCH** **KHOA** **HÀ** **NỘI**\\n\\n**QUY** **CHẾ** **ĐÀO** **TẠO**\\n\\n*(Ban* *hành* *kèm* *theo* *Quyết* *định* *số* *4600/QĐ–ĐHBK* *ngày*\\n*09* *tháng* *6* *năm* *2023* *của* *Giám* *đốc* *Đại* *học* *Bách*\\n*khoa* *Hà* *Nội)*\\n\\n**HÀ** **NỘI,** **06**-**2023**\\n\\n**MỤC** **LỤC**'),\n",
       " Document(metadata={'doc_type': 'question answer', 'source': '..\\\\knowledge-base\\\\question answer\\\\qa_output.md'}, page_content='Các màu nhãn sách tại Trung tâm truyền thông và tri thức số là:: Màu trắng: sách đọc tại các phòng.: Màu vàng: sách tại các phòng mượn tham khảo.: Màu tím: sách tại phòng mượn giáo trình.: Màu xanh: sách tại phòng mượn giáo trình.: Màu hồng: sách tra cứu/ từ điển tại các phòng đọc.\\n\\nĐại học Bách Khoa Hà Nội có ___ Viện/Trung tâm nghiên cứu, ___ Trường/Khoa và ___ Khoa đào tạo cơ bản: 10 – 6 – 3\\n\\nMức cho vay tối đa đối với HSSV là: *: 4.000.000đ/tháng/sinh viên\\n\\nSinh viên sau khi đăng ký học phần sẽ được gì dưới đây?: Được đăng ký học tập trong cả 2 đợt: chính thức và điều chỉnh\\n\\nMột số dịch vụ CNTT khi theo học tại Đại học Bách Khoa Hà Nội?: Miễn phí Wifi tốc độ cao trong khuôn viên cho toàn sinh viên: Cổng thông tin sinh viên eHUST cho tất cả sinh viên có thể được cài đặt trên điện thoại thông minh: Miễn phí dịch vụ Office 365 cho tất cả sinh viên')]"
      ]
     },
     "execution_count": 23,
     "metadata": {},
     "output_type": "execute_result"
    }
   ],
   "source": [
    "result[:5]"
   ]
  },
  {
   "cell_type": "code",
   "execution_count": 24,
   "id": "5e5c3eb1",
   "metadata": {},
   "outputs": [],
   "source": [
    "system_message =\"Bạn là một chuyên gia tư vấn về quy chế đào tạo \\\n",
    "                cho một đại học ở Việt Nam, Đại học Bách khoa Hà Nội.\""
   ]
  },
  {
   "cell_type": "code",
   "execution_count": 25,
   "id": "d2eb2c64",
   "metadata": {},
   "outputs": [],
   "source": [
    "parser = StrOutputParser()"
   ]
  },
  {
   "cell_type": "code",
   "execution_count": 26,
   "id": "809420b4",
   "metadata": {},
   "outputs": [],
   "source": [
    "from functools import reduce\n",
    "\n",
    "def chat_word_search(message, history):\n",
    "    inverted_index = build_inverted_index(documents_search)\n",
    "    tf_idf = compute_tf_idf(documents_search, inverted_index)\n",
    "\n",
    "    results = search(message, inverted_index, tf_idf, documents_search)\n",
    "\n",
    "    docs = [doc for doc_id, doc, score in results]\n",
    "    doc_st = reduce(lambda a, b: a + \" \\n\" + b, docs[0:5])\n",
    "\n",
    "    qa_prompt = f\"\"\"\n",
    "                Bạn hãy đưa ra các câu trả lời bằng Tiếng Việt.\n",
    "                Bạn cần tư vấn chính xác những gì bạn biết và trả lời \n",
    "                thành thật những nội dung trong tài liệu bạn được cung cấp phía dưới. \n",
    "                Khi nội dung được hỏi không có thông tin trong tài liệu được \n",
    "                cung cấp, hãy nói không có thông tin trong tài liệu.\n",
    "\n",
    "                Tài liệu: {doc_st}\n",
    "\n",
    "                Câu hỏi: {message}\n",
    "                \"\"\"\n",
    "    \n",
    "    messages =  [{\"role\": \"system\", \"content\": system_message}] + \\\n",
    "                history[-2:] + \\\n",
    "                [{\"role\": \"user\", \"content\": qa_prompt}]\n",
    "\n",
    "    llm_result = llm_gpt.invoke(messages)\n",
    "\n",
    "    if llm_result.tool_calls:\n",
    "        for tool_call in llm_result.tool_calls:\n",
    "            if tool_call.get('name') == 'get_ranking':\n",
    "                result = handle_get_ranking_tool_call(llm_result.tool_calls[0])\n",
    "        return result\n",
    "    \n",
    "    parsed_result = parser.invoke(llm_result)\n",
    "    return parsed_result"
   ]
  },
  {
   "cell_type": "code",
   "execution_count": 27,
   "id": "5c0a65e4-0bfb-4d4d-8b5b-4ebf52a76735",
   "metadata": {},
   "outputs": [],
   "source": [
    "def chat_vector_search(message, history):\n",
    "    context = retriever.invoke(message)\n",
    "    print(context)\n",
    "    qa_prompt = f\"\"\"\n",
    "                Bạn hãy đưa ra các câu trả lời bằng Tiếng Việt.\n",
    "                Bạn cần tư vấn chính xác những gì bạn biết và trả lời \n",
    "                thành thật những nội dung trong tài liệu bạn được cung cấp phía dưới. \n",
    "                Khi nội dung được hỏi không có thông tin trong tài liệu được \n",
    "                cung cấp, hãy nói không có thông tin trong tài liệu.\n",
    "\n",
    "                Tài liệu: {context}\n",
    "\n",
    "                Câu hỏi: {message}\n",
    "                \"\"\"\n",
    "    \n",
    "    if history:\n",
    "        messages = [{\"role\": \"system\", \"content\": system_message}] + \\\n",
    "                history[-2:] + \\\n",
    "                [{\"role\": \"user\", \"content\": qa_prompt}]\n",
    "    else:\n",
    "        messages = [{\"role\": \"system\", \"content\": system_message}] + \\\n",
    "                [{\"role\": \"user\", \"content\": qa_prompt}]\n",
    "\n",
    "    llm_result = llm_gpt.invoke(messages)\n",
    "\n",
    "    if llm_result.tool_calls:\n",
    "        for tool_call in llm_result.tool_calls:\n",
    "            if tool_call.get('name') == 'get_ranking':\n",
    "                result = handle_get_ranking_tool_call(llm_result.tool_calls[0])\n",
    "        return result\n",
    "    \n",
    "    parsed_result = parser.invoke(llm_result)\n",
    "    return parsed_result\n",
    "    "
   ]
  },
  {
   "cell_type": "code",
   "execution_count": 38,
   "id": "93d7c9ec",
   "metadata": {},
   "outputs": [
    {
     "name": "stdout",
     "output_type": "stream",
     "text": [
      "* Running on local URL:  http://127.0.0.1:7863\n",
      "* Running on public URL: https://6d18194182995d44d1.gradio.live\n",
      "\n",
      "This share link expires in 72 hours. For free permanent hosting and GPU upgrades, run `gradio deploy` from the terminal in the working directory to deploy to Hugging Face Spaces (https://huggingface.co/spaces)\n"
     ]
    },
    {
     "data": {
      "text/html": [
       "<div><iframe src=\"https://6d18194182995d44d1.gradio.live\" width=\"100%\" height=\"500\" allow=\"autoplay; camera; microphone; clipboard-read; clipboard-write;\" frameborder=\"0\" allowfullscreen></iframe></div>"
      ],
      "text/plain": [
       "<IPython.core.display.HTML object>"
      ]
     },
     "metadata": {},
     "output_type": "display_data"
    },
    {
     "name": "stderr",
     "output_type": "stream",
     "text": [
      "C:\\Users\\HoMinhNhat\\AppData\\Local\\Temp\\ipykernel_10924\\78109912.py:23: LangChainDeprecationWarning:\n",
      "\n",
      "The method `Chain.run` was deprecated in langchain 0.1.0 and will be removed in 1.0. Use :meth:`~invoke` instead.\n",
      "\n"
     ]
    },
    {
     "name": "stdout",
     "output_type": "stream",
     "text": [
      "\n",
      "\n",
      "\u001b[1m> Entering new AgentExecutor chain...\u001b[0m\n",
      "\u001b[32;1m\u001b[1;3m\u001b[0m\n",
      "Observation: Invalid Format: Missing 'Action:' after 'Thought:\n",
      "Thought:\u001b[32;1m\u001b[1;3mI should use the get_ranking function to determine the ranking based on the provided CPA score of 3.7. \n",
      "\n",
      "Action: get_ranking\n",
      "Action Input: { \"grade\": 3.7 }\u001b[0m\n",
      "Observation: \u001b[36;1m\u001b[1;3mXuất sắc\u001b[0m\n",
      "Thought:\u001b[32;1m\u001b[1;3mI now know the final answer.\n",
      "\n",
      "Final Answer: Với điểm số CPA 3.7, xếp loại của sinh viên là \"Xuất sắc\".\u001b[0m\n",
      "\n",
      "\u001b[1m> Finished chain.\u001b[0m\n"
     ]
    }
   ],
   "source": [
    "view = gr.ChatInterface(chat_word_search, type=\"messages\").launch(share = True)"
   ]
  },
  {
   "cell_type": "markdown",
   "id": "93b4e66a",
   "metadata": {},
   "source": [
    "### EVALUATE"
   ]
  },
  {
   "cell_type": "code",
   "execution_count": 29,
   "id": "6be6ecf8",
   "metadata": {},
   "outputs": [],
   "source": [
    "with open('../test/augment_QA.json', mode= 'r') as file:\n",
    "    datas = json.load(file)\n"
   ]
  },
  {
   "cell_type": "code",
   "execution_count": 30,
   "id": "9b8a4c66",
   "metadata": {},
   "outputs": [],
   "source": [
    "total_point = 0\n",
    "def chat_evaluate(message, question):\n",
    "    eval_system_prompt =\"Bạn là một giảng viên sẽ đưa ra câu hỏi và đánh \\\n",
    "                        giá câu trả lời của sinh viên về quy chế đào tạo\"\n",
    "    \n",
    "    answer_evaluate_prompt = f\"\"\"\n",
    "                Bạn sẽ đánh giá câu trả lời của sinh viên đưa ra dưới đây\n",
    "                so với đáp án được cung cấp với câu hỏi tương ứng.\n",
    "                Nếu câu trả lời giống với đáp án và trả lời bằng tiếng việt,\n",
    "                bạn sẽ cộng thêm 1 điểm vào tổng điểm cho sinh viên.\n",
    "                \n",
    "                Câu hỏi: {question['question']}\n",
    "\n",
    "                Câu trả lời đúng: {question['answer']}\n",
    "\n",
    "                Câu trả lời của sinh viên: {message}\n",
    "                \"\"\"\n",
    "    \n",
    "    messages =  [{\"role\": \"system\", \"content\": eval_system_prompt}] + \\\n",
    "                [{\"role\": \"user\", \"content\": answer_evaluate_prompt}]\n",
    "\n",
    "    llm_result = llm_llama.invoke(messages)\n",
    "    parsed_result = parser.invoke(llm_result)\n",
    "    return parsed_result\n",
    "    "
   ]
  },
  {
   "cell_type": "code",
   "execution_count": 39,
   "id": "03ca88b0",
   "metadata": {},
   "outputs": [
    {
     "data": {
      "text/plain": [
       "'Tôi sẽ đánh giá câu trả lời của sinh viên như sau:\\n\\nCâu trả lời của sinh viên đã giống với đáp án được cung cấp. Tuy nhiên, họ đã viết lại câu trả lời bằng tiếng Việt hoàn toàn giống với đáp án, không có bất kỳ sự thay đổi nào.\\n\\nDo đó, tôi sẽ cộng thêm 1 điểm vào tổng điểm cho sinh viên vì câu trả lời của họ chính xác và đầy đủ.'"
      ]
     },
     "execution_count": 39,
     "metadata": {},
     "output_type": "execute_result"
    }
   ],
   "source": [
    "result = chat_word_search(\"Sinh viên có thể liên hệ Ban Công tác Sinh viên qua email nào?\", [])\n",
    "chat_evaluate(result, datas[0])"
   ]
  },
  {
   "cell_type": "code",
   "execution_count": 40,
   "id": "28a288f0",
   "metadata": {},
   "outputs": [
    {
     "data": {
      "text/plain": [
       "'Sinh viên có thể liên hệ Ban Công tác Sinh viên qua email: ctsv@hust.edu.vn.'"
      ]
     },
     "execution_count": 40,
     "metadata": {},
     "output_type": "execute_result"
    }
   ],
   "source": [
    "result"
   ]
  },
  {
   "cell_type": "code",
   "execution_count": null,
   "id": "20d090db",
   "metadata": {},
   "outputs": [],
   "source": []
  }
 ],
 "metadata": {
  "kernelspec": {
   "display_name": "llms",
   "language": "python",
   "name": "python3"
  },
  "language_info": {
   "codemirror_mode": {
    "name": "ipython",
    "version": 3
   },
   "file_extension": ".py",
   "mimetype": "text/x-python",
   "name": "python",
   "nbconvert_exporter": "python",
   "pygments_lexer": "ipython3",
   "version": "3.11.11"
  }
 },
 "nbformat": 4,
 "nbformat_minor": 5
}
